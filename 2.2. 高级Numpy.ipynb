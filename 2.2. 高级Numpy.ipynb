{
 "cells": [
  {
   "cell_type": "code",
   "execution_count": 1,
   "metadata": {
    "collapsed": false
   },
   "outputs": [],
   "source": [
    "%matplotlib inline"
   ]
  },
  {
   "cell_type": "markdown",
   "metadata": {},
   "source": [
    "---\n",
    "**作者**:\tPauli Virtanen\n",
    "\n",
    "---\n",
    "\n",
    "Numpy是Python科学工具栈的基础。它的目的很简单：在一个内存块上实现针对多个物品的高效操作。了解它的工作细节有助于有效的使用它的灵活性，使用有用的快捷键，基于它构建新的工作。\n",
    "\n",
    "这个指南的目的包括：\n",
    "- 剖析Numpy数组，以及它的重要性。提示与技巧。\n",
    "- 通用函数：什么是、为什么以及如果你需要一个全新的该做什么。\n",
    "- 与其他工具整合：Numpy提供了一些方式将任意数据封装为ndarray，而不需要不必要的复制。\n",
    "- 新近增加的功能，对我来说他们包含什么：PEP 3118 buffers、广义ufuncs, ...\n",
    "\n",
    "\n",
    "---\n",
    "先决条件\n",
    "- Numpy (>= 1.2; 越新越好...)\n",
    "- Cython (>= 0.12, 对于Ufunc例子)\n",
    "- PIL (在一些例子中使用)\n",
    "\n",
    "---\n",
    "\n",
    "在这个部分，numpy将被如下引入："
   ]
  },
  {
   "cell_type": "code",
   "execution_count": 2,
   "metadata": {
    "collapsed": true
   },
   "outputs": [],
   "source": [
    "import numpy as np"
   ]
  },
  {
   "cell_type": "markdown",
   "metadata": {},
   "source": [
    "章节内容\n",
    "- ndarry的一生\n",
    "    - 它是...\n",
    "    - 内存块\n",
    "    - 数据类型\n",
    "    - 索引体系：strides\n",
    "    - 剖析中的发现\n",
    "- 通用函数\n",
    "    - 他们是什么？\n",
    "    - 练习：从零开始构建一个ufunc\n",
    "    - 答案：从零开始构建一个ufunc\n",
    "    - 广义ufuncs\n",
    "- 协同工作功能\n",
    "    - 共享多维度，类型数据\n",
    "    - 旧的buffer协议\n",
    "    - 旧的buffer协议\n",
    "    - 数组接口协议\n",
    "- 数组切片：`chararray`、`maskedarray`、`matrix`\n",
    "    - `chararray`：向量化字符操作\n",
    "    - `masked_array` 缺失值\n",
    "    - recarray：纯便利\n",
    "    - `matrix`：便利？\n",
    "\n",
    "Summary\n",
    "Contributing to Numpy/Scipy\n",
    "Why\n",
    "Reporting bugs\n",
    "Contributing to documentation\n",
    "Contributing features\n",
    "How to help, in general\n"
   ]
  },
  {
   "cell_type": "code",
   "execution_count": null,
   "metadata": {
    "collapsed": true
   },
   "outputs": [],
   "source": []
  },
  {
   "cell_type": "code",
   "execution_count": null,
   "metadata": {
    "collapsed": true
   },
   "outputs": [],
   "source": []
  },
  {
   "cell_type": "markdown",
   "metadata": {},
   "source": [
    "[ROP__ARM](#ROP_ARM1)"
   ]
  },
  {
   "cell_type": "code",
   "execution_count": null,
   "metadata": {
    "collapsed": true
   },
   "outputs": [],
   "source": []
  },
  {
   "cell_type": "code",
   "execution_count": null,
   "metadata": {
    "collapsed": true
   },
   "outputs": [],
   "source": []
  },
  {
   "cell_type": "code",
   "execution_count": null,
   "metadata": {
    "collapsed": true
   },
   "outputs": [],
   "source": []
  }
 ],
 "metadata": {
  "kernelspec": {
   "display_name": "Python 2",
   "language": "python",
   "name": "python2"
  },
  "language_info": {
   "codemirror_mode": {
    "name": "ipython",
    "version": 2
   },
   "file_extension": ".py",
   "mimetype": "text/x-python",
   "name": "python",
   "nbconvert_exporter": "python",
   "pygments_lexer": "ipython2",
   "version": "2.7.9"
  }
 },
 "nbformat": 4,
 "nbformat_minor": 0
}
