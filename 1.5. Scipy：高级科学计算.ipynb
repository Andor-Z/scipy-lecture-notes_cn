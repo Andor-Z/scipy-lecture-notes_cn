{
 "metadata": {
  "name": "",
  "signature": "sha256:82d2aebf8c0189304ec1b9d0272b67d532500abdd2724ab4301be93c4025d044"
 },
 "nbformat": 3,
 "nbformat_minor": 0,
 "worksheets": [
  {
   "cells": [
    {
     "cell_type": "markdown",
     "metadata": {},
     "source": [
      "---\n",
      "\u4f5c\u8005\uff1aAdrien Chauve, Andre Espaze, Emmanuelle Gouillart, Ga\u00ebl Varoquaux, Ralf Gommers\n",
      "\n",
      "---\n",
      "\n",
      "**Scipy**\n",
      "\n",
      "`scipy`\u5305\u5305\u542b\u8bb8\u591a\u4e13\u6ce8\u4e8e\u79d1\u5b66\u8ba1\u7b97\u4e2d\u7684\u5e38\u89c1\u95ee\u9898\u7684\u5de5\u5177\u7bb1\u3002\u5b83\u7684\u5b50\u6a21\u5757\u5bf9\u5e94\u4e8e\u4e0d\u540c\u7684\u5e94\u7528\uff0c\u6bd4\u5982\u63d2\u503c\u3001\u79ef\u5206\u3001\u4f18\u5316\u3001\u56fe\u50cf\u5904\u7406\u3001\u7edf\u8ba1\u548c\u7279\u6b8a\u529f\u80fd\u7b49\u3002\n",
      "\n",
      "`scipy`\u53ef\u4ee5\u4e0e\u5176\u4ed6\u6807\u51c6\u79d1\u5b66\u8ba1\u7b97\u5305\u76f8\u5bf9\u6bd4\uff0c\u6bd4\u5982GSL (C\u548cC++\u7684GNU\u79d1\u5b66\u8ba1\u7b97\u5305), \u6216\u8005Matlab\u7684\u5de5\u5177\u7bb1\u3002`scipy`\u662fPython\u4e2d\u79d1\u5b66\u7a0b\u5e8f\u7684\u6838\u5fc3\u7a0b\u5e8f\u5305\uff1b\u8fd9\u610f\u5473\u7740\u6709\u6548\u7684\u64cd\u4f5c`numpy`\u6570\u7ec4\uff0c\u56e0\u6b64\uff0cnumpy\u548cscipy\u53ef\u4ee5\u4e00\u8d77\u5de5\u4f5c\u3002\n",
      "\n",
      "\u5728\u5b9e\u73b0\u4e00\u4e2a\u7a0b\u5e8f\u524d\uff0c\u6709\u5fc5\u8981\u786e\u8ba4\u4e00\u4e0b\u9700\u8981\u7684\u6570\u636e\u5904\u7406\u65f6\u5019\u5df2\u7ecf\u5728scipy\u4e2d\u5b9e\u73b0\u3002\u4f5c\u4e3a\u975e\u4e13\u4e1a\u7a0b\u5e8f\u5458\uff0c\u79d1\u5b66\u5bb6\u901a\u5e38\u503e\u5411\u4e8e**\u91cd\u65b0\u53d1\u660e\u8f6e\u5b50**\uff0c\u8fd9\u4ea7\u751f\u4e86\u5c0f\u73a9\u5177\u3001\u4e0d\u4f18\u5316\u3001\u5f88\u96be\u5206\u4eab\u4ee5\u53ca\u4e0d\u53ef\u4ee5\u7ef4\u62a4\u7684\u4ee3\u7801\u3002\u76f8\u53cd\uff0cscipy\u7684\u7a0b\u5e8f\u662f\u4f18\u5316\u5e76\u4e14\u6d4b\u8bd5\u8fc7\u7684\uff0c\u56e0\u6b64\u5e94\u8be5\u5c3d\u53ef\u80fd\u4f7f\u7528\u3002\n",
      "\n",
      "\n",
      "**\u8b66\u544a** \u8fd9\u4e2a\u6559\u7a0b\u6839\u672c\u4e0d\u662f\u6570\u503c\u8ba1\u7b97\u7684\u4ecb\u7ecd\u3002\u56e0\u4e3a\u5217\u4e3escipy\u7684\u4e0d\u540c\u5b50\u6a21\u5757\u548c\u529f\u80fd\u5c06\u4f1a\u662f\u975e\u5e38\u67af\u71e5\u7684\uff0c\u76f8\u53cd\u6211\u4eec\u5c06\u805a\u7126\u4e8e\u5217\u51fa\u4e00\u4e9b\u4f8b\u5b50\uff0c\u7ed9\u51fa\u5982\u4f55\u7528scipy\u8fdb\u884c\u79d1\u5b66\u8ba1\u7b97\u7684\u5927\u6982\u601d\u8def\u3002\n",
      "\n",
      "scipy\u662f\u7531\u9488\u5bf9\u7279\u5b9a\u4efb\u52a1\u7684\u5b50\u6a21\u5757\u7ec4\u6210\u7684\uff1a\n",
      "\n",
      "<table border=\"1\" class=\"docutils\">\n",
      "<colgroup>\n",
      "<col width=\"36%\">\n",
      "<col width=\"64%\">\n",
      "</colgroup>\n",
      "<tbody valign=\"top\">\n",
      "<tr class=\"row-odd\"><td><a class=\"reference external\" href=\"http://docs.scipy.org/doc/scipy/reference/cluster.html#scipy.cluster\" title=\"(in SciPy v0.13.0)\"><tt class=\"xref py py-mod docutils literal\"><span class=\"pre\">scipy.cluster</span></tt></a></td>\n",
      "<td>\u5411\u91cf\u8ba1\u7b97 / Kmeans</td>\n",
      "</tr>\n",
      "<tr class=\"row-even\"><td><a class=\"reference external\" href=\"http://docs.scipy.org/doc/scipy/reference/constants.html#scipy.constants\" title=\"(in SciPy v0.13.0)\"><tt class=\"xref py py-mod docutils literal\"><span class=\"pre\">scipy.constants</span></tt></a></td>\n",
      "<td>\u7269\u7406\u548c\u6570\u5b66\u5e38\u91cf</td>\n",
      "</tr>\n",
      "<tr class=\"row-odd\"><td><a class=\"reference external\" href=\"http://docs.scipy.org/doc/scipy/reference/fftpack.html#scipy.fftpack\" title=\"(in SciPy v0.13.0)\"><tt class=\"xref py py-mod docutils literal\"><span class=\"pre\">scipy.fftpack</span></tt></a></td>\n",
      "<td>\u5085\u91cc\u53f6\u53d8\u6362</td>\n",
      "</tr>\n",
      "<tr class=\"row-even\"><td><a class=\"reference external\" href=\"http://docs.scipy.org/doc/scipy/reference/integrate.html#scipy.integrate\" title=\"(in SciPy v0.13.0)\"><tt class=\"xref py py-mod docutils literal\"><span class=\"pre\">scipy.integrate</span></tt></a></td>\n",
      "<td>\u79ef\u5206\u7a0b\u5e8f</td>\n",
      "</tr>\n",
      "<tr class=\"row-odd\"><td><a class=\"reference external\" href=\"http://docs.scipy.org/doc/scipy/reference/interpolate.html#scipy.interpolate\" title=\"(in SciPy v0.13.0)\"><tt class=\"xref py py-mod docutils literal\"><span class=\"pre\">scipy.interpolate</span></tt></a></td>\n",
      "<td>\u63d2\u503c</td>\n",
      "</tr>\n",
      "<tr class=\"row-even\"><td><a class=\"reference external\" href=\"http://docs.scipy.org/doc/scipy/reference/io.html#scipy.io\" title=\"(in SciPy v0.13.0)\"><tt class=\"xref py py-mod docutils literal\"><span class=\"pre\">scipy.io</span></tt></a></td>\n",
      "<td>\u6570\u636e\u8f93\u5165\u548c\u8f93\u51fa</td>\n",
      "</tr>\n",
      "<tr class=\"row-odd\"><td><a class=\"reference external\" href=\"http://docs.scipy.org/doc/scipy/reference/linalg.html#scipy.linalg\" title=\"(in SciPy v0.13.0)\"><tt class=\"xref py py-mod docutils literal\"><span class=\"pre\">scipy.linalg</span></tt></a></td>\n",
      "<td>\u7ebf\u6027\u4ee3\u6570\u7a0b\u5e8f</td>\n",
      "</tr>\n",
      "<tr class=\"row-even\"><td><a class=\"reference external\" href=\"http://docs.scipy.org/doc/scipy/reference/ndimage.html#scipy.ndimage\" title=\"(in SciPy v0.13.0)\"><tt class=\"xref py py-mod docutils literal\"><span class=\"pre\">scipy.ndimage</span></tt></a></td>\n",
      "<td>n-\u7ef4\u56fe\u50cf\u5305</td>\n",
      "</tr>\n",
      "<tr class=\"row-odd\"><td><a class=\"reference external\" href=\"http://docs.scipy.org/doc/scipy/reference/odr.html#scipy.odr\" title=\"(in SciPy v0.13.0)\"><tt class=\"xref py py-mod docutils literal\"><span class=\"pre\">scipy.odr</span></tt></a></td>\n",
      "<td>\u6b63\u4ea4\u8ddd\u79bb\u56de\u5f52</td>\n",
      "</tr>\n",
      "<tr class=\"row-even\"><td><a class=\"reference external\" href=\"http://docs.scipy.org/doc/scipy/reference/optimize.html#scipy.optimize\" title=\"(in SciPy v0.13.0)\"><tt class=\"xref py py-mod docutils literal\"><span class=\"pre\">scipy.optimize</span></tt></a></td>\n",
      "<td>\u4f18\u5316</td>\n",
      "</tr>\n",
      "<tr class=\"row-odd\"><td><a class=\"reference external\" href=\"http://docs.scipy.org/doc/scipy/reference/signal.html#scipy.signal\" title=\"(in SciPy v0.13.0)\"><tt class=\"xref py py-mod docutils literal\"><span class=\"pre\">scipy.signal</span></tt></a></td>\n",
      "<td>\u4fe1\u53f7\u5904\u7406</td>\n",
      "</tr>\n",
      "<tr class=\"row-even\"><td><a class=\"reference external\" href=\"http://docs.scipy.org/doc/scipy/reference/sparse.html#scipy.sparse\" title=\"(in SciPy v0.13.0)\"><tt class=\"xref py py-mod docutils literal\"><span class=\"pre\">scipy.sparse</span></tt></a></td>\n",
      "<td>\u7a00\u758f\u77e9\u9635</td>\n",
      "</tr>\n",
      "<tr class=\"row-odd\"><td><a class=\"reference external\" href=\"http://docs.scipy.org/doc/scipy/reference/spatial.html#scipy.spatial\" title=\"(in SciPy v0.13.0)\"><tt class=\"xref py py-mod docutils literal\"><span class=\"pre\">scipy.spatial</span></tt></a></td>\n",
      "<td>\u7a7a\u95f4\u6570\u636e\u7ed3\u6784\u548c\u7b97\u6cd5</td>\n",
      "</tr>\n",
      "<tr class=\"row-even\"><td><a class=\"reference external\" href=\"http://docs.scipy.org/doc/scipy/reference/special.html#scipy.special\" title=\"(in SciPy v0.13.0)\"><tt class=\"xref py py-mod docutils literal\"><span class=\"pre\">scipy.special</span></tt></a></td>\n",
      "<td>\u4e00\u4e9b\u7279\u6b8a\u6570\u5b66\u51fd\u6570</td>\n",
      "</tr>\n",
      "<tr class=\"row-odd\"><td><a class=\"reference external\" href=\"http://docs.scipy.org/doc/scipy/reference/stats.html#scipy.stats\" title=\"(in SciPy v0.13.0)\"><tt class=\"xref py py-mod docutils literal\"><span class=\"pre\">scipy.stats</span></tt></a></td>\n",
      "<td>\u7edf\u8ba1</td>\n",
      "</tr>\n",
      "</tbody>\n",
      "</table>\n",
      "\n",
      "\u4ed6\u4eec\u5168\u90fd\u4f9d\u8d56\u4e8e[numpy](http://docs.scipy.org/doc/numpy/reference/index.html#numpy), \u4f46\u662f\u5927\u591a\u6570\u662f\u5f7c\u6b64\u72ec\u7acb\u7684\u3002\u5bfc\u5165Numpy\u548cScipy\u7684\u6807\u51c6\u65b9\u5f0f\uff1a"
     ]
    },
    {
     "cell_type": "code",
     "collapsed": false,
     "input": [
      "import numpy as np\n",
      "from scipy import stats  # \u5176\u4ed6\u7684\u5b50\u6a21\u5757\u7c7b\u4f3c"
     ],
     "language": "python",
     "metadata": {},
     "outputs": [],
     "prompt_number": 1
    },
    {
     "cell_type": "markdown",
     "metadata": {},
     "source": [
      "`scipy`\u7684\u4e3b\u8981\u547d\u540d\u7a7a\u95f4\u901a\u5e38\u5305\u542b\u7684\u51fd\u6570\u5176\u5b9e\u662fnumpy\uff08\u8bd5\u4e00\u4e0b`scipy.cos`\u5176\u5b9e\u662f`np.cos`) \u3002\u8fd9\u4e9b\u51fd\u6570\u7684\u66b4\u9732\u53ea\u662f\u56e0\u4e3a\u5386\u53f2\u539f\u56e0\uff1b\u901a\u5e38\u6ca1\u6709\u5fc5\u8981\u5728\u4f60\u7684\u4ee3\u7801\u4e2d\u4f7f\u7528`import scipy`\u3002\n",
      "\n",
      "## 1.5.1 \u6587\u4ef6\u8f93\u5165/\u8f93\u51fa\uff1a[scipy.io](http://docs.scipy.org/doc/scipy/reference/io.html#scipy.io)\n",
      "\n",
      "\u8f7d\u5165\u548c\u4fdd\u5b58matlab\u6587\u4ef6\uff1a"
     ]
    },
    {
     "cell_type": "code",
     "collapsed": false,
     "input": [
      "from scipy import io as spio\n",
      "a = np.ones((3, 3))\n",
      "spio.savemat('file.mat', {'a': a}) # savemat expects a dictionary\n",
      "data = spio.loadmat('file.mat', struct_as_record=True)\n",
      "data['a']"
     ],
     "language": "python",
     "metadata": {},
     "outputs": [
      {
       "metadata": {},
       "output_type": "pyout",
       "prompt_number": 2,
       "text": [
        "array([[ 1.,  1.,  1.],\n",
        "       [ 1.,  1.,  1.],\n",
        "       [ 1.,  1.,  1.]])"
       ]
      }
     ],
     "prompt_number": 2
    },
    {
     "cell_type": "markdown",
     "metadata": {},
     "source": [
      "```python\n",
      "from scipy import misc\n",
      "misc.imread('fname.png')\n",
      "# Matplotlib\u4e5f\u6709\u7c7b\u4f3c\u7684\u65b9\u6cd5\n",
      "import matplotlib.pyplot as plt\n",
      "plt.imread('fname.png')\n",
      "```\n",
      "\u66f4\u591a\u8bf7\u89c1\uff1a\n",
      "\n",
      "* \u52a0\u8f7d\u6587\u672c\u6587\u4ef6\uff1a[numpy.loadtxt()](http://docs.scipy.org/doc/numpy/reference/generated/numpy.loadtxt.html#numpy.loadtxt)/[numpy.savetxt()](http://docs.scipy.org/doc/numpy/reference/generated/numpy.savetxt.html#numpy.savetxt)\n",
      "* \u667a\u80fd\u52a0\u8f7d\u6587\u672c/csv\u6587\u4ef6\uff1a[numpy.genfromtxt()](http://docs.scipy.org/doc/numpy/reference/generated/numpy.genfromtxt.html#numpy.genfromtxt)/numpy.recfromcsv()\n",
      "* \u5feb\u901f\u6709\u6548\uff0c\u4f46\u662f\u9488\u5bf9numpy\u7684\u4e8c\u8fdb\u5236\u683c\u5f0f\uff1a[numpy.save()](http://docs.scipy.org/doc/numpy/reference/generated/numpy.save.html#numpy.save)/[numpy.load()](http://docs.scipy.org/doc/numpy/reference/generated/numpy.load.html#numpy.load)\n",
      "\n",
      "## 1.5.2 \u7279\u6b8a\u51fd\u6570\uff1a[scipy.special](http://docs.scipy.org/doc/scipy/reference/special.html#scipy.special)\n",
      "\n",
      "\u7279\u6b8a\u51fd\u6570\u662f\u8d85\u9a8c\u51fd\u6570\u3002[scipy.special](http://docs.scipy.org/doc/scipy/reference/special.html#scipy.special)\u6a21\u5757\u7684\u6587\u6863\u5b57\u7b26\u4e32\u5199\u7684\u5f88\u8be6\u7ec6\uff0c\u56e0\u6b64\u6211\u4eec\u4e0d\u4f1a\u5728\u8fd9\u91cc\u5217\u51fa\u6240\u6709\u7684\u51fd\u6570\u3002\u5e38\u7528\u7684\u4e00\u4e9b\u51fd\u6570\u5982\u4e0b\uff1a\n",
      "\n",
      "* \u8d1d\u585e\u5c14\u51fd\u6570\uff0c\u6bd4\u5982`scipy.special.jn()` (\u7b2cn\u4e2a\u6574\u578b\u987a\u5e8f\u7684\u8d1d\u585e\u5c14\u51fd\u6570)\n",
      "* \u692d\u5706\u51fd\u6570 (`scipy.special.ellipj()` Jacobian\u692d\u5706\u51fd\u6570, ...)\n",
      "* Gamma \u51fd\u6570: scipy.special.gamma(), \u4e5f\u8981\u6ce8\u610f `scipy.special.gammaln()` \u5c06\u7ed9\u51fa\u66f4\u9ad8\u51c6\u786e\u6570\u503c\u7684 Gamma\u7684log\u3002\n",
      "* Erf, \u9ad8\u65af\u66f2\u7ebf\u7684\u9762\u79ef\uff1ascipy.special.erf()\n",
      "\n",
      "## 1.5.3 \u7ebf\u6027\u4ee3\u6570\u64cd\u4f5c\uff1a[scipy.linalg](http://docs.scipy.org/doc/scipy/reference/linalg.html#scipy.linalg)\n",
      "\n",
      "[scipy.linalg](http://docs.scipy.org/doc/scipy/reference/linalg.html#scipy.linalg) \u6a21\u5757\u63d0\u4f9b\u4e86\u6807\u51c6\u7684\u7ebf\u6027\u4ee3\u6570\u64cd\u4f5c\uff0c\u8fd9\u4f9d\u8d56\u4e8e\u5e95\u5c42\u7684\u9ad8\u6548\u5b9e\u73b0\uff08BLAS\u3001LAPACK\uff09\u3002\n",
      "* [scipy.linalg.det()](http://docs.scipy.org/doc/scipy/reference/generated/scipy.linalg.det.html#scipy.linalg.det) \u51fd\u6570\u8ba1\u7b97\u65b9\u9635\u7684\u884c\u5217\u5f0f\uff1a"
     ]
    },
    {
     "cell_type": "code",
     "collapsed": false,
     "input": [
      "from scipy import linalg\n",
      "arr = np.array([[1, 2],\n",
      "                [3, 4]])\n",
      "linalg.det(arr)"
     ],
     "language": "python",
     "metadata": {},
     "outputs": [
      {
       "metadata": {},
       "output_type": "pyout",
       "prompt_number": 3,
       "text": [
        "-2.0"
       ]
      }
     ],
     "prompt_number": 3
    },
    {
     "cell_type": "code",
     "collapsed": false,
     "input": [
      "arr = np.array([[3, 2],\n",
      "                 [6, 4]])\n",
      "linalg.det(arr)"
     ],
     "language": "python",
     "metadata": {},
     "outputs": [
      {
       "metadata": {},
       "output_type": "pyout",
       "prompt_number": 4,
       "text": [
        "0.0"
       ]
      }
     ],
     "prompt_number": 4
    },
    {
     "cell_type": "code",
     "collapsed": false,
     "input": [
      "linalg.det(np.ones((3, 4)))"
     ],
     "language": "python",
     "metadata": {},
     "outputs": [
      {
       "ename": "ValueError",
       "evalue": "expected square matrix",
       "output_type": "pyerr",
       "traceback": [
        "\u001b[0;31m---------------------------------------------------------------------------\u001b[0m\n\u001b[0;31mValueError\u001b[0m                                Traceback (most recent call last)",
        "\u001b[0;32m<ipython-input-5-4d4672bd00a7>\u001b[0m in \u001b[0;36m<module>\u001b[0;34m()\u001b[0m\n\u001b[0;32m----> 1\u001b[0;31m \u001b[0mlinalg\u001b[0m\u001b[0;34m.\u001b[0m\u001b[0mdet\u001b[0m\u001b[0;34m(\u001b[0m\u001b[0mnp\u001b[0m\u001b[0;34m.\u001b[0m\u001b[0mones\u001b[0m\u001b[0;34m(\u001b[0m\u001b[0;34m(\u001b[0m\u001b[0;36m3\u001b[0m\u001b[0;34m,\u001b[0m \u001b[0;36m4\u001b[0m\u001b[0;34m)\u001b[0m\u001b[0;34m)\u001b[0m\u001b[0;34m)\u001b[0m\u001b[0;34m\u001b[0m\u001b[0m\n\u001b[0m",
        "\u001b[0;32m/Library/Python/2.7/site-packages/scipy/linalg/basic.pyc\u001b[0m in \u001b[0;36mdet\u001b[0;34m(a, overwrite_a, check_finite)\u001b[0m\n\u001b[1;32m    440\u001b[0m         \u001b[0ma1\u001b[0m \u001b[0;34m=\u001b[0m \u001b[0mnp\u001b[0m\u001b[0;34m.\u001b[0m\u001b[0masarray\u001b[0m\u001b[0;34m(\u001b[0m\u001b[0ma\u001b[0m\u001b[0;34m)\u001b[0m\u001b[0;34m\u001b[0m\u001b[0m\n\u001b[1;32m    441\u001b[0m     \u001b[0;32mif\u001b[0m \u001b[0mlen\u001b[0m\u001b[0;34m(\u001b[0m\u001b[0ma1\u001b[0m\u001b[0;34m.\u001b[0m\u001b[0mshape\u001b[0m\u001b[0;34m)\u001b[0m \u001b[0;34m!=\u001b[0m \u001b[0;36m2\u001b[0m \u001b[0;32mor\u001b[0m \u001b[0ma1\u001b[0m\u001b[0;34m.\u001b[0m\u001b[0mshape\u001b[0m\u001b[0;34m[\u001b[0m\u001b[0;36m0\u001b[0m\u001b[0;34m]\u001b[0m \u001b[0;34m!=\u001b[0m \u001b[0ma1\u001b[0m\u001b[0;34m.\u001b[0m\u001b[0mshape\u001b[0m\u001b[0;34m[\u001b[0m\u001b[0;36m1\u001b[0m\u001b[0;34m]\u001b[0m\u001b[0;34m:\u001b[0m\u001b[0;34m\u001b[0m\u001b[0m\n\u001b[0;32m--> 442\u001b[0;31m         \u001b[0;32mraise\u001b[0m \u001b[0mValueError\u001b[0m\u001b[0;34m(\u001b[0m\u001b[0;34m'expected square matrix'\u001b[0m\u001b[0;34m)\u001b[0m\u001b[0;34m\u001b[0m\u001b[0m\n\u001b[0m\u001b[1;32m    443\u001b[0m     \u001b[0moverwrite_a\u001b[0m \u001b[0;34m=\u001b[0m \u001b[0moverwrite_a\u001b[0m \u001b[0;32mor\u001b[0m \u001b[0m_datacopied\u001b[0m\u001b[0;34m(\u001b[0m\u001b[0ma1\u001b[0m\u001b[0;34m,\u001b[0m \u001b[0ma\u001b[0m\u001b[0;34m)\u001b[0m\u001b[0;34m\u001b[0m\u001b[0m\n\u001b[1;32m    444\u001b[0m     \u001b[0mfdet\u001b[0m\u001b[0;34m,\u001b[0m \u001b[0;34m=\u001b[0m \u001b[0mget_flinalg_funcs\u001b[0m\u001b[0;34m(\u001b[0m\u001b[0;34m(\u001b[0m\u001b[0;34m'det'\u001b[0m\u001b[0;34m,\u001b[0m\u001b[0;34m)\u001b[0m\u001b[0;34m,\u001b[0m \u001b[0;34m(\u001b[0m\u001b[0ma1\u001b[0m\u001b[0;34m,\u001b[0m\u001b[0;34m)\u001b[0m\u001b[0;34m)\u001b[0m\u001b[0;34m\u001b[0m\u001b[0m\n",
        "\u001b[0;31mValueError\u001b[0m: expected square matrix"
       ]
      }
     ],
     "prompt_number": 5
    },
    {
     "cell_type": "markdown",
     "metadata": {},
     "source": [
      "* [scipy.linalg.inv()](http://docs.scipy.org/doc/scipy/reference/generated/scipy.linalg.inv.html#scipy.linalg.inv) \u51fd\u6570\u8ba1\u7b97\u9006\u65b9\u9635\uff1a"
     ]
    },
    {
     "cell_type": "code",
     "collapsed": false,
     "input": [
      "arr = np.array([[1, 2],\n",
      "                 [3, 4]])\n",
      "iarr = linalg.inv(arr)\n",
      "iarr"
     ],
     "language": "python",
     "metadata": {},
     "outputs": [
      {
       "metadata": {},
       "output_type": "pyout",
       "prompt_number": 6,
       "text": [
        "array([[-2. ,  1. ],\n",
        "       [ 1.5, -0.5]])"
       ]
      }
     ],
     "prompt_number": 6
    },
    {
     "cell_type": "code",
     "collapsed": false,
     "input": [
      "np.allclose(np.dot(arr, iarr), np.eye(2))"
     ],
     "language": "python",
     "metadata": {},
     "outputs": [
      {
       "metadata": {},
       "output_type": "pyout",
       "prompt_number": 7,
       "text": [
        "True"
       ]
      }
     ],
     "prompt_number": 7
    },
    {
     "cell_type": "markdown",
     "metadata": {},
     "source": [
      "\u6700\u540e\u8ba1\u7b97\u9006\u5947\u5f02\u77e9\u9635\uff08\u884c\u5217\u5f0f\u4e3a0\uff09\u5c06\u629b\u51fa`LinAlgError` :"
     ]
    },
    {
     "cell_type": "code",
     "collapsed": false,
     "input": [
      "arr = np.array([[3, 2],\n",
      "                 [6, 4]])\n",
      "linalg.inv(arr)"
     ],
     "language": "python",
     "metadata": {},
     "outputs": [
      {
       "ename": "LinAlgError",
       "evalue": "singular matrix",
       "output_type": "pyerr",
       "traceback": [
        "\u001b[0;31m---------------------------------------------------------------------------\u001b[0m\n\u001b[0;31mLinAlgError\u001b[0m                               Traceback (most recent call last)",
        "\u001b[0;32m<ipython-input-8-e8078a9a17b2>\u001b[0m in \u001b[0;36m<module>\u001b[0;34m()\u001b[0m\n\u001b[1;32m      1\u001b[0m arr = np.array([[3, 2],\n\u001b[1;32m      2\u001b[0m                  [6, 4]])\n\u001b[0;32m----> 3\u001b[0;31m \u001b[0mlinalg\u001b[0m\u001b[0;34m.\u001b[0m\u001b[0minv\u001b[0m\u001b[0;34m(\u001b[0m\u001b[0marr\u001b[0m\u001b[0;34m)\u001b[0m\u001b[0;34m\u001b[0m\u001b[0m\n\u001b[0m",
        "\u001b[0;32m/Library/Python/2.7/site-packages/scipy/linalg/basic.pyc\u001b[0m in \u001b[0;36minv\u001b[0;34m(a, overwrite_a, check_finite)\u001b[0m\n\u001b[1;32m    381\u001b[0m         \u001b[0minv_a\u001b[0m\u001b[0;34m,\u001b[0m \u001b[0minfo\u001b[0m \u001b[0;34m=\u001b[0m \u001b[0mgetri\u001b[0m\u001b[0;34m(\u001b[0m\u001b[0mlu\u001b[0m\u001b[0;34m,\u001b[0m \u001b[0mpiv\u001b[0m\u001b[0;34m,\u001b[0m \u001b[0mlwork\u001b[0m\u001b[0;34m=\u001b[0m\u001b[0mlwork\u001b[0m\u001b[0;34m,\u001b[0m \u001b[0moverwrite_lu\u001b[0m\u001b[0;34m=\u001b[0m\u001b[0;36m1\u001b[0m\u001b[0;34m)\u001b[0m\u001b[0;34m\u001b[0m\u001b[0m\n\u001b[1;32m    382\u001b[0m     \u001b[0;32mif\u001b[0m \u001b[0minfo\u001b[0m \u001b[0;34m>\u001b[0m \u001b[0;36m0\u001b[0m\u001b[0;34m:\u001b[0m\u001b[0;34m\u001b[0m\u001b[0m\n\u001b[0;32m--> 383\u001b[0;31m         \u001b[0;32mraise\u001b[0m \u001b[0mLinAlgError\u001b[0m\u001b[0;34m(\u001b[0m\u001b[0;34m\"singular matrix\"\u001b[0m\u001b[0;34m)\u001b[0m\u001b[0;34m\u001b[0m\u001b[0m\n\u001b[0m\u001b[1;32m    384\u001b[0m     \u001b[0;32mif\u001b[0m \u001b[0minfo\u001b[0m \u001b[0;34m<\u001b[0m \u001b[0;36m0\u001b[0m\u001b[0;34m:\u001b[0m\u001b[0;34m\u001b[0m\u001b[0m\n\u001b[1;32m    385\u001b[0m         raise ValueError('illegal value in %d-th argument of internal '\n",
        "\u001b[0;31mLinAlgError\u001b[0m: singular matrix"
       ]
      }
     ],
     "prompt_number": 8
    },
    {
     "cell_type": "markdown",
     "metadata": {},
     "source": [
      "* \u8fd8\u6709\u66f4\u591a\u9ad8\u7ea7\u7684\u64cd\u4f5c\uff0c\u5947\u5f02\u503c\u5206\u89e3\uff08SVD\uff09\uff1a"
     ]
    },
    {
     "cell_type": "code",
     "collapsed": false,
     "input": [
      "arr = np.arange(9).reshape((3, 3)) + np.diag([1, 0, 1])\n",
      "uarr, spec, vharr = linalg.svd(arr)"
     ],
     "language": "python",
     "metadata": {},
     "outputs": [],
     "prompt_number": 9
    },
    {
     "cell_type": "markdown",
     "metadata": {},
     "source": [
      "\u7ed3\u679c\u7684\u6570\u7ec4\u9891\u8c31\u662f\uff1a"
     ]
    },
    {
     "cell_type": "code",
     "collapsed": false,
     "input": [
      "spec    "
     ],
     "language": "python",
     "metadata": {},
     "outputs": [
      {
       "metadata": {},
       "output_type": "pyout",
       "prompt_number": 10,
       "text": [
        "array([ 14.88982544,   0.45294236,   0.29654967])"
       ]
      }
     ],
     "prompt_number": 10
    },
    {
     "cell_type": "markdown",
     "metadata": {},
     "source": [
      "\u539f\u59cb\u77e9\u9635\u53ef\u4ee5\u7528`svd`\u548c`np.dot`\u77e9\u9635\u76f8\u4e58\u7684\u7ed3\u679c\u91cd\u65b0\u83b7\u5f97\uff1a"
     ]
    },
    {
     "cell_type": "code",
     "collapsed": false,
     "input": [
      "sarr = np.diag(spec)\n",
      "svd_mat = uarr.dot(sarr).dot(vharr)\n",
      "np.allclose(svd_mat, arr)"
     ],
     "language": "python",
     "metadata": {},
     "outputs": [
      {
       "metadata": {},
       "output_type": "pyout",
       "prompt_number": 11,
       "text": [
        "True"
       ]
      }
     ],
     "prompt_number": 11
    },
    {
     "cell_type": "markdown",
     "metadata": {},
     "source": [
      "SVD\u5e38\u88ab\u7528\u4e8e\u7edf\u8ba1\u548c\u4fe1\u53f7\u5904\u7406\u3002\u5176\u4ed6\u6807\u51c6\u5206\u89e3 (QR, LU, Cholesky, Schur), \u4ee5\u53ca\u7ebf\u6027\u7cfb\u7edf\u7684\u6c42\u89e3\u5668\uff0c\u4e5f\u53ef\u4ee5\u5728[scipy.linalg](http://docs.scipy.org/doc/scipy/reference/linalg.html#scipy.linalg)\u4e2d\u627e\u5230\u3002\n",
      "\n",
      "## 1.5.4 \u5feb\u901f\u5085\u7acb\u53f6\u53d8\u6362\uff1a[scipy.fftpack](http://docs.scipy.org/doc/scipy/reference/fftpack.html#scipy.fftpack)\n",
      "\n",
      "[scipy.fftpack](http://docs.scipy.org/doc/scipy/reference/fftpack.html#scipy.fftpack) \u6a21\u5757\u5141\u8bb8\u8ba1\u7b97\u5feb\u901f\u5085\u7acb\u53f6\u53d8\u6362\u3002\u4f8b\u5b50\uff0c\u4e00\u4e2a\uff08\u6709\u566a\u97f3\uff09\u7684\u4fe1\u53f7\u8f93\u5165\u662f\u8fd9\u6837\uff1a"
     ]
    },
    {
     "cell_type": "code",
     "collapsed": false,
     "input": [
      "time_step = 0.02\n",
      "period = 5.\n",
      "time_vec = np.arange(0, 20, time_step)\n",
      "sig = np.sin(2 * np.pi / period * time_vec) + \\\n",
      "       0.5 * np.random.randn(time_vec.size)"
     ],
     "language": "python",
     "metadata": {},
     "outputs": [],
     "prompt_number": 12
    },
    {
     "cell_type": "markdown",
     "metadata": {},
     "source": [
      "\u89c2\u5bdf\u8005\u5e76\u4e0d\u77e5\u9053\u4fe1\u53f7\u7684\u9891\u7387\uff0c\u53ea\u77e5\u9053\u62bd\u6837\u65f6\u95f4\u6b65\u9aa4\u7684\u4fe1\u53f7`sig`\u3002\u5047\u8bbe\u4fe1\u53f7\u6765\u81ea\u771f\u5b9e\u7684\u51fd\u6570\uff0c\u56e0\u6b64\u5085\u7acb\u53f6\u53d8\u6362\u5c06\u662f\u5bf9\u79f0\u7684\u3002[scipy.fftpack.fftfreq()](http://docs.scipy.org/doc/scipy/reference/generated/scipy.fftpack.fftfreq.html#scipy.fftpack.fftfreq) \u51fd\u6570\u5c06\u751f\u6210\u6837\u672c\u5e8f\u5217\uff0c\u800c[scipy.fftpack.fft()]()\u5c06\u8ba1\u7b97\u5feb\u901f\u5085\u7acb\u53f6\u53d8\u6362\uff1a"
     ]
    },
    {
     "cell_type": "code",
     "collapsed": false,
     "input": [
      "from scipy import fftpack\n",
      "sample_freq = fftpack.fftfreq(sig.size, d=time_step)\n",
      "sig_fft = fftpack.fft(sig)"
     ],
     "language": "python",
     "metadata": {},
     "outputs": [],
     "prompt_number": 13
    },
    {
     "cell_type": "markdown",
     "metadata": {},
     "source": [
      "\u56e0\u4e3a\u751f\u6210\u7684\u5e42\u662f\u5bf9\u79f0\u7684\uff0c\u5bfb\u627e\u9891\u7387\u53ea\u9700\u8981\u4f7f\u7528\u9891\u8c31\u4e3a\u6b63\u7684\u90e8\u5206\uff1a"
     ]
    },
    {
     "cell_type": "code",
     "collapsed": false,
     "input": [
      "pidxs = np.where(sample_freq > 0)\n",
      "freqs = sample_freq[pidxs]\n",
      "power = np.abs(sig_fft)[pidxs]"
     ],
     "language": "python",
     "metadata": {},
     "outputs": [],
     "prompt_number": 14
    },
    {
     "cell_type": "markdown",
     "metadata": {},
     "source": [
      "[![png](http://scipy-lectures.github.io/_images/fftpack_frequency.png)](http://scipy-lectures.github.io/plot_directive/pyplots/fftpack_frequency.py)"
     ]
    },
    {
     "cell_type": "markdown",
     "metadata": {},
     "source": [
      "\u5bfb\u627e\u4fe1\u53f7\u9891\u7387\uff1a"
     ]
    },
    {
     "cell_type": "code",
     "collapsed": false,
     "input": [
      "freq = freqs[power.argmax()]\n",
      "np.allclose(freq, 1./period)  # \u68c0\u67e5\u662f\u5426\u627e\u5230\u4e86\u6b63\u786e\u7684\u9891\u7387"
     ],
     "language": "python",
     "metadata": {},
     "outputs": [
      {
       "metadata": {},
       "output_type": "pyout",
       "prompt_number": 15,
       "text": [
        "True"
       ]
      }
     ],
     "prompt_number": 15
    },
    {
     "cell_type": "markdown",
     "metadata": {},
     "source": [
      "\u73b0\u5728\u9ad8\u9891\u566a\u97f3\u5c06\u4ece\u5085\u7acb\u53f6\u8f6c\u6362\u8fc7\u7684\u4fe1\u53f7\u79fb\u9664\uff1a"
     ]
    },
    {
     "cell_type": "code",
     "collapsed": false,
     "input": [
      "sig_fft[np.abs(sample_freq) > freq] = 0"
     ],
     "language": "python",
     "metadata": {},
     "outputs": [],
     "prompt_number": 16
    },
    {
     "cell_type": "markdown",
     "metadata": {},
     "source": [
      "\u751f\u6210\u7684\u8fc7\u6ee4\u8fc7\u7684\u4fe1\u53f7\u53ef\u4ee5\u7528[scipy.fftpack.ifft()](http://docs.scipy.org/doc/scipy/reference/generated/scipy.fftpack.ifft.html#scipy.fftpack.ifft)\u51fd\u6570\uff1a"
     ]
    },
    {
     "cell_type": "code",
     "collapsed": false,
     "input": [
      "main_sig = fftpack.ifft(sig_fft)"
     ],
     "language": "python",
     "metadata": {},
     "outputs": [],
     "prompt_number": 17
    },
    {
     "cell_type": "markdown",
     "metadata": {},
     "source": [
      "\u67e5\u770b\u7ed3\u679c\uff1a"
     ]
    },
    {
     "cell_type": "code",
     "collapsed": false,
     "input": [
      "import pylab as plt\n",
      "plt.figure()\n",
      "plt.plot(time_vec, sig)\n",
      "plt.plot(time_vec, main_sig, linewidth=3)\n",
      "plt.xlabel('Time [s]')\n",
      "plt.ylabel('Amplitude')"
     ],
     "language": "python",
     "metadata": {},
     "outputs": [
      {
       "output_type": "stream",
       "stream": "stderr",
       "text": [
        "/Library/Frameworks/Python.framework/Versions/2.7/lib/python2.7/site-packages/numpy/core/numeric.py:462: ComplexWarning: Casting complex values to real discards the imaginary part\n",
        "  return array(a, dtype, copy=False, order=order)\n"
       ]
      },
      {
       "metadata": {},
       "output_type": "pyout",
       "prompt_number": 18,
       "text": [
        "<matplotlib.text.Text at 0x107484b10>"
       ]
      },
      {
       "metadata": {},
       "output_type": "display_data",
       "png": "[encoded data removed]",
       "text": [
        "<matplotlib.figure.Figure at 0x107434450>"
       ]
      }
     ],
     "prompt_number": 18
    },
    {
     "cell_type": "markdown",
     "metadata": {},
     "source": [
      "---\n",
      "\n",
      "[numpy.fft](http://docs.scipy.org/doc/numpy/reference/routines.fft.html#numpy.fft)\n",
      "\n",
      "Numpy\u4e5f\u6709\u4e00\u4e2aFFT(numpy.fft)\u5b9e\u73b0\u3002\u4f46\u662f\uff0c\u901a\u5e38scipy\u7684\u5b9e\u73b0\u66f4\u53d7\u6b22\u8fce\uff0c\u56e0\u4e3a\uff0c\u4ed6\u4f7f\u7528\u66f4\u9ad8\u6548\u7684\u5e95\u5c42\u5b9e\u73b0\u3002 \n",
      "\n",
      "---\n",
      "\n",
      "---\n",
      "\n",
      "**\u5b9e\u4f8b\uff1a\u5bfb\u627e\u7c97\u7565\u5468\u671f**\n",
      "\n",
      "[![](http://scipy-lectures.github.io/_images/periodicity_finder_00.png)](http://scipy-lectures.github.io/plot_directive/intro/solutions/periodicity_finder.py)\n",
      "\n",
      "[![](http://scipy-lectures.github.io/_images/periodicity_finder_01.png)](http://scipy-lectures.github.io/plot_directive/intro/solutions/periodicity_finder.py)\n",
      "\n",
      "---\n",
      "\n",
      "---\n",
      "\n",
      "**\u5b9e\u4f8b\uff1a\u9ad8\u65af\u56fe\u7247\u6a21\u7cca**\n",
      "\n",
      "\u5f2f\u66f2:\n",
      "\n",
      "$f_1(t) = \\int dt'\\, K(t-t') f_0(t')$\n",
      "\n",
      "$\\tilde{f}_1(\\omega) = \\tilde{K}(\\omega) \\tilde{f}_0(\\omega)$\n",
      "\n",
      "[![](http://scipy-lectures.github.io/_images/image_blur.png)](http://scipy-lectures.github.io/plot_directive/intro/solutions/image_blur.py)\n",
      "\n",
      "---\n",
      "\n",
      "**\u7ec3\u4e60\uff1a\u6708\u7403\u767b\u9646\u56fe\u7247\u964d\u566a**\n",
      "\n",
      "![](http://scipy-lectures.github.io/_images/moonlanding.png)\n",
      "\n",
      "1. \u68c0\u67e5\u63d0\u4f9b\u7684\u56fe\u7247moonlanding.png\uff0c\u56fe\u7247\u88ab\u5468\u671f\u566a\u97f3\u6c61\u67d3\u4e86\u3002\u5728\u8fd9\u4e2a\u7ec3\u4e60\u4e2d\uff0c\u6211\u4eec\u7684\u76ee\u7684\u662f\u7528\u5feb\u901f\u5085\u7acb\u53f6\u53d8\u6362\u6e05\u9664\u566a\u97f3\u3002\n",
      "\n",
      "2. \u7528`pylab.imread()`\u52a0\u8f7d\u56fe\u7247\u3002\n",
      "\n",
      "3. \u5bfb\u627e\u5e76\u4f7f\u7528\u5728[scipy.fftpack](http://docs.scipy.org/doc/scipy/reference/fftpack.html#scipy.fftpack)\u4e2d\u76842-D FFT\u51fd\u6570\uff0c\u7ed8\u5236\u56fe\u50cf\u7684\u9891\u8c31\uff08\u5085\u7acb\u53f6\u53d8\u6362\uff09\u3002\u5728\u53ef\u89c6\u5316\u9891\u8c31\u65f6\u662f\u5426\u9047\u5230\u4e86\u9ebb\u70e6\uff1f\u5982\u679c\u6709\u7684\u8bdd\uff0c\u4e3a\u4ec0\u4e48\uff1f\n",
      "\n",
      "4. \u9891\u8c31\u7531\u9ad8\u9891\u548c\u4f4e\u9891\u6210\u5206\u6784\u6210\u3002\u566a\u97f3\u88ab\u5305\u542b\u5728\u9891\u8c31\u7684\u9ad8\u9891\u90e8\u5206\uff0c\u56e0\u6b64\u5c06\u90a3\u4e9b\u90e8\u5206\u8bbe\u7f6e\u4e3a0\uff08\u4f7f\u7528\u6570\u7ec4\u5207\u7247\uff09\u3002\n",
      "\n",
      "5. \u5e94\u7528\u9006\u5085\u7acb\u53f6\u53d8\u6362\u6765\u770b\u4e00\u4e0b\u7ed3\u679c\u56fe\u7247\u3002\n",
      "\n",
      "## 1.5.5 \u4f18\u5316\u53ca\u62df\u5408\uff1a[scipy.optimize](http://docs.scipy.org/doc/scipy/reference/optimize.html#scipy.optimize)\n",
      "\n",
      "\u4f18\u5316\u662f\u5bfb\u627e\u6700\u5c0f\u5316\u6216\u7b49\u5f0f\u7684\u6570\u503c\u89e3\u7684\u95ee\u9898\u3002\n",
      "\n",
      "[scipy.optimize](http://docs.scipy.org/doc/scipy/reference/optimize.html#scipy.optimize) \u6a21\u5757\u63d0\u4f9b\u4e86\u51fd\u6570\u6700\u5c0f\u5316\uff08\u6807\u91cf\u6216\u591a\u7ef4\u5ea6\uff09\u3001\u66f2\u7ebf\u62df\u5408\u548c\u6c42\u6839\u7684\u6709\u7528\u7b97\u6cd5\u3002"
     ]
    },
    {
     "cell_type": "code",
     "collapsed": false,
     "input": [
      "from scipy import optimize"
     ],
     "language": "python",
     "metadata": {},
     "outputs": [],
     "prompt_number": 19
    },
    {
     "cell_type": "markdown",
     "metadata": {},
     "source": [
      "**\u5bfb\u627e\u6807\u91cf\u51fd\u6570\u7684\u6700\u5c0f\u503c**\n",
      "\n",
      "\u8ba9\u6211\u4eec\u5b9a\u4e49\u4e0b\u9762\u7684\u51fd\u6570\uff1a"
     ]
    },
    {
     "cell_type": "code",
     "collapsed": false,
     "input": [
      "def f(x):\n",
      "    return x**2 + 10*np.sin(x)"
     ],
     "language": "python",
     "metadata": {},
     "outputs": [],
     "prompt_number": 20
    },
    {
     "cell_type": "markdown",
     "metadata": {},
     "source": [
      "\u7ed8\u5236\u5b83\uff1a"
     ]
    },
    {
     "cell_type": "code",
     "collapsed": false,
     "input": [
      "x = np.arange(-10, 10, 0.1)\n",
      "plt.plot(x, f(x)) \n",
      "plt.show() "
     ],
     "language": "python",
     "metadata": {},
     "outputs": [
      {
       "metadata": {},
       "output_type": "display_data",
       "png": "[encoded data removed]",
       "text": [
        "<matplotlib.figure.Figure at 0x1074af110>"
       ]
      }
     ],
     "prompt_number": 21
    },
    {
     "cell_type": "markdown",
     "metadata": {},
     "source": [
      "\u8fd9\u4e2a\u51fd\u6570\u5728-1.3\u9644\u8fd1\u6709\u4e00\u4e2a\u5168\u5c40\u6700\u5c0f\u5e76\u4e14\u57283.8\u6709\u4e00\u4e2a\u5c40\u90e8\u6700\u5c0f\u3002\n",
      "\n",
      "\u627e\u5230\u8fd9\u4e2a\u51fd\u6570\u7684\u6700\u5c0f\u503c\u7684\u5e38\u7528\u6709\u6548\u65b9\u5f0f\u662f\u4ece\u7ed9\u5b9a\u7684\u521d\u59cb\u70b9\u5f00\u59cb\u8fdb\u884c\u4e00\u4e2a\u68af\u5ea6\u4e0b\u964d\u3002BFGS\u7b97\u6cd5\u662f\u8fd9\u6837\u505a\u7684\u8f83\u597d\u65b9\u5f0f\uff1a"
     ]
    },
    {
     "cell_type": "code",
     "collapsed": false,
     "input": [
      "optimize.fmin_bfgs(f, 0)"
     ],
     "language": "python",
     "metadata": {},
     "outputs": [
      {
       "output_type": "stream",
       "stream": "stdout",
       "text": [
        "Optimization terminated successfully.\n",
        "         Current function value: -7.945823\n",
        "         Iterations: 5\n",
        "         Function evaluations: 24\n",
        "         Gradient evaluations: 8\n"
       ]
      },
      {
       "metadata": {},
       "output_type": "pyout",
       "prompt_number": 22,
       "text": [
        "array([-1.30644003])"
       ]
      }
     ],
     "prompt_number": 22
    },
    {
     "cell_type": "markdown",
     "metadata": {},
     "source": [
      "\u8fd9\u4e2a\u65b9\u6cd5\u7684\u4e00\u4e2a\u53ef\u80fd\u95ee\u9898\u662f\uff0c\u5982\u679c\u8fd9\u4e2a\u51fd\u6570\u6709\u4e00\u4e9b\u5c40\u90e8\u6700\u4f4e\u70b9\uff0c\u7b97\u6cd5\u53ef\u80fd\u627e\u5230\u8fd9\u4e9b\u5c40\u90e8\u6700\u4f4e\u70b9\u800c\u4e0d\u662f\u5168\u5c40\u6700\u4f4e\u70b9\uff0c\u8fd9\u53d6\u51b3\u4e8e\u521d\u59cb\u70b9\uff1a"
     ]
    },
    {
     "cell_type": "code",
     "collapsed": false,
     "input": [
      "optimize.fmin_bfgs(f, 3, disp=0)"
     ],
     "language": "python",
     "metadata": {},
     "outputs": [
      {
       "metadata": {},
       "output_type": "pyout",
       "prompt_number": 23,
       "text": [
        "array([ 3.83746663])"
       ]
      }
     ],
     "prompt_number": 23
    },
    {
     "cell_type": "markdown",
     "metadata": {},
     "source": [
      "\u5982\u679c\u6211\u4eec\u4e0d\u77e5\u9053\u5168\u5c40\u6700\u4f4e\u70b9\uff0c\u5e76\u4e14\u4f7f\u7528\u5176\u4e34\u8fd1\u70b9\u6765\u4f5c\u4e3a\u521d\u59cb\u70b9\uff0c\u90a3\u4e48\u6211\u4eec\u9700\u8981\u4ed8\u51fa\u6602\u8d35\u7684\u4ee3\u4ef7\u6765\u83b7\u5f97\u5168\u5c40\u6700\u4f18\u3002\u8981\u627e\u5230\u5168\u5c40\u6700\u4f18\u70b9\uff0c\u6700\u7b80\u5355\u7684\u7b97\u6cd5\u662f\u66b4\u529b\u7b97\u6cd5\uff0c\u7b97\u6cd5\u4e2d\u4f1a\u8bc4\u4f30\u7ed9\u5b9a\u7f51\u683c\u5185\u7684\u6bcf\u4e00\u4e2a\u70b9\uff1a"
     ]
    },
    {
     "cell_type": "code",
     "collapsed": false,
     "input": [
      "grid = (-10, 10, 0.1)\n",
      "xmin_global = optimize.brute(f, (grid,))\n",
      "xmin_global"
     ],
     "language": "python",
     "metadata": {},
     "outputs": [
      {
       "metadata": {},
       "output_type": "pyout",
       "prompt_number": 24,
       "text": [
        "array([-1.30641113])"
       ]
      }
     ],
     "prompt_number": 24
    },
    {
     "cell_type": "markdown",
     "metadata": {},
     "source": [
      "\u5bf9\u4e8e\u66f4\u5927\u7684\u7f51\u683c\uff0c[scipy.optimize.brute()](http://docs.scipy.org/doc/scipy/reference/generated/scipy.optimize.brute.html#scipy.optimize.brute) \u53d8\u5f97\u975e\u5e38\u6162\u3002[scipy.optimize.anneal()](http://docs.scipy.org/doc/scipy/reference/generated/scipy.optimize.anneal.html#scipy.optimize.anneal) \u63d0\u4f9b\u4e86\u4e00\u4e2a\u66ff\u4ee3\u7684\u7b97\u6cd5\uff0c\u4f7f\u7528\u6a21\u62df\u9000\u706b\u3002\u5bf9\u4e8e\u4e0d\u540c\u7c7b\u578b\u7684\u5168\u5c40\u4f18\u5316\u95ee\u9898\u5b58\u5728\u66f4\u591a\u7684\u9ad8\u6548\u7b97\u6cd5\uff0c\u4f46\u662f\u8fd9\u8d85\u51fa\u4e86`scipy`\u7684\u8303\u7574\u3002[OpenOpt](http://openopt.org/Welcome)\u3001[IPOPT](https://github.com/xuy/pyipopt)\u3001[PyGMO](http://pagmo.sourceforge.net/pygmo/index.html)\u548c[PyEvolve](http://pyevolve.sourceforge.net/)\u662f\u5173\u4e8e\u5168\u5c40\u4f18\u5316\u7684\u4e00\u4e9b\u6709\u7528\u7684\u5305\u3002\n",
      "\n",
      "\u8981\u627e\u51fa\u5c40\u90e8\u6700\u4f4e\u70b9\uff0c\u8ba9\u6211\u4eec\u7528[scipy.optimize.fminbound](http://docs.scipy.org/doc/scipy/reference/generated/scipy.optimize.fminbound.html#scipy.optimize.fminbound)\u5c06\u53d8\u91cf\u9650\u5236\u5728(0,10)\u533a\u95f4\uff1a"
     ]
    },
    {
     "cell_type": "code",
     "collapsed": false,
     "input": [
      "xmin_local = optimize.fminbound(f, 0, 10)    \n",
      "xmin_local"
     ],
     "language": "python",
     "metadata": {},
     "outputs": [
      {
       "metadata": {},
       "output_type": "pyout",
       "prompt_number": 25,
       "text": [
        "3.8374671194983834"
       ]
      }
     ],
     "prompt_number": 25
    },
    {
     "cell_type": "markdown",
     "metadata": {},
     "source": [
      "---\n",
      "\n",
      "**\u6ce8**\uff1a\u5bfb\u627e\u51fd\u6570\u7684\u6700\u4f18\u89e3\u5c06\u5728\u9ad8\u7ea7\u7ae0\u8282\u4e2d\uff1a[\u6570\u5b66\u4f18\u5316\uff1a\u5bfb\u627e\u51fd\u6570\u7684\u6700\u4f18\u89e3](http://scipy-lectures.github.io/advanced/mathematical_optimization/index.html#mathematical-optimization)\u8be6\u7ec6\u8ba8\u8bba\u3002\n",
      "\n",
      "---\n",
      "\n",
      "**\u5bfb\u627e\u6807\u91cf\u51fd\u6570\u7684\u6839**\n",
      "\n",
      "\u8981\u5bfb\u627e\u4e0a\u9762\u51fd\u6570f\u7684\u6839\uff0c\u6bd4\u5982`f(x)=0`\u7684\u4e00\u4e2a\u70b9\uff0c\u6211\u4eec\u53ef\u4ee5\u7528\u6bd4\u5982[scipy.optimize.fsolve()](http://docs.scipy.org/doc/scipy/reference/generated/scipy.optimize.fsolve.html#scipy.optimize.fsolve)\uff1a"
     ]
    },
    {
     "cell_type": "code",
     "collapsed": false,
     "input": [
      "root = optimize.fsolve(f, 1)  # \u6211\u4eec\u7684\u6700\u521d\u731c\u60f3\u662f1\n",
      "root"
     ],
     "language": "python",
     "metadata": {},
     "outputs": [
      {
       "metadata": {},
       "output_type": "pyout",
       "prompt_number": 26,
       "text": [
        "array([ 0.])"
       ]
      }
     ],
     "prompt_number": 26
    },
    {
     "cell_type": "markdown",
     "metadata": {},
     "source": [
      "\u6ce8\u610f\u53ea\u627e\u5230\u4e00\u4e2a\u6839\u3002\u68c0\u67e5`f`\u7684\u56fe\u53d1\u73b0\u5728-2.5\u5de6\u53f3\u8fd8\u6709\u5e94\u8be5\u6709\u7b2c\u4e8c\u4e2a\u6839\u3002\u901a\u8fc7\u8c03\u6574\u6211\u4eec\u6700\u521d\u7684\u731c\u60f3\uff0c\u6211\u4eec\u53ef\u4ee5\u53d1\u73b0\u6b63\u786e\u7684\u503c\uff1a"
     ]
    },
    {
     "cell_type": "code",
     "collapsed": false,
     "input": [
      "root2 = optimize.fsolve(f, -2.5)\n",
      "root2"
     ],
     "language": "python",
     "metadata": {},
     "outputs": [
      {
       "metadata": {},
       "output_type": "pyout",
       "prompt_number": 27,
       "text": [
        "array([-2.47948183])"
       ]
      }
     ],
     "prompt_number": 27
    },
    {
     "cell_type": "markdown",
     "metadata": {},
     "source": [
      "**\u66f2\u7ebf\u62df\u5408**\n",
      "\n",
      "\u5047\u8bbe\u6211\u4eec\u6709\u6765\u81ea`f`\u7684\u6837\u4f8b\u6570\u636e\uff0c\u5e26\u6709\u4e00\u4e9b\u566a\u97f3\uff1a"
     ]
    },
    {
     "cell_type": "code",
     "collapsed": false,
     "input": [
      "xdata = np.linspace(-10, 10, num=20)\n",
      "ydata = f(xdata) + np.random.randn(xdata.size)"
     ],
     "language": "python",
     "metadata": {},
     "outputs": [],
     "prompt_number": 28
    },
    {
     "cell_type": "markdown",
     "metadata": {},
     "source": [
      "\u73b0\u5728\uff0c\u5982\u679c\u6211\u4eec\u77e5\u9053\u8fd9\u4e9bsample\u6570\u636e\u6765\u81ea\u7684\u51fd\u6570\uff08\u8fd9\u4e2a\u6848\u4f8b\u4e2d\u662f$x^2 + sin(x)$\uff09\u7684\u51fd\u6570\u5f62\u5f0f\uff0c\u800c\u4e0d\u77e5\u9053\u6bcf\u4e2a\u6570\u636e\u9879\u7684\u7cfb\u6570\uff0c\u90a3\u4e48\u6211\u4eec\u53ef\u4ee5\u7528\u6700\u5c0f\u4e8c\u4e58\u66f2\u7ebf\u62df\u5408\u5728\u627e\u5230\u8fd9\u4e9b\u7cfb\u6570\u3002\u9996\u5148\uff0c\u6211\u4eec\u9700\u8981\u5b9a\u4e49\u51fd\u6570\u6765\u62df\u5408\uff1a"
     ]
    },
    {
     "cell_type": "code",
     "collapsed": false,
     "input": [
      "def f2(x, a, b):\n",
      "    return a*x**2 + b*np.sin(x)"
     ],
     "language": "python",
     "metadata": {},
     "outputs": [],
     "prompt_number": 29
    },
    {
     "cell_type": "markdown",
     "metadata": {},
     "source": [
      "\u7136\u540e\u6211\u4eec\u53ef\u4ee5\u4f7f\u7528[scipy.optimize.curve_fit()](http://docs.scipy.org/doc/scipy/reference/generated/scipy.optimize.curve_fit.html#scipy.optimize.curve_fit)\u6765\u627e\u5230`a`\u548c`b`\uff1a"
     ]
    },
    {
     "cell_type": "code",
     "collapsed": false,
     "input": [
      "guess = [2, 2]\n",
      "params, params_covariance = optimize.curve_fit(f2, xdata, ydata, guess)\n",
      "params"
     ],
     "language": "python",
     "metadata": {},
     "outputs": [
      {
       "metadata": {},
       "output_type": "pyout",
       "prompt_number": 30,
       "text": [
        "array([  0.99719019,  10.27381534])"
       ]
      }
     ],
     "prompt_number": 30
    },
    {
     "cell_type": "markdown",
     "metadata": {},
     "source": [
      "\u73b0\u5728\u6211\u4eec\u627e\u5230\u4e86`f`\u7684\u6700\u4f18\u89e3\u548c\u6839\uff0c\u5e76\u4e14\u7528\u66f2\u7ebf\u53bb\u62df\u5408\u5b83\uff0c\u6211\u4eec\u5c06\u8fd9\u4e9b\u7ed3\u679c\u6574\u5408\u5728\u4e00\u4e2a\u56fe\u4e2d\uff1a"
     ]
    },
    {
     "cell_type": "markdown",
     "metadata": {},
     "source": [
      "[![](http://scipy-lectures.github.io/_images/scipy_optimize_example2.png)](http://scipy-lectures.github.io/plot_directive/pyplots/scipy_optimize_example2.py)"
     ]
    },
    {
     "cell_type": "markdown",
     "metadata": {},
     "source": [
      "---\n",
      "\n",
      "**\u6ce8**\uff1a\u5728Scipy >= 0.11\u4e2d\uff0c\u5305\u542b\u6240\u6709\u6700\u5c0f\u503c\u548c\u5bfb\u627e\u6839\u7684\u7b97\u6cd5\u7684\u7edf\u4e00\u63a5\u53e3\uff1a[scipy.optimize.minimize()](http://docs.scipy.org/doc/scipy/reference/generated/scipy.optimize.minimize.html#scipy.optimize.minimize)\u3001 [scipy.optimize.minimize_scalar()](http://docs.scipy.org/doc/scipy/reference/generated/scipy.optimize.minimize_scalar.html#scipy.optimize.minimize_scalar)\u548c [scipy.optimize.root()](http://docs.scipy.org/doc/scipy/reference/generated/scipy.optimize.root.html#scipy.optimize.root)\u3002\u4ed6\u4eec\u5141\u8bb8\u901a\u8fc7`method`\u5173\u952e\u8bcd\u5bb9\u6613\u7684\u6bd4\u8f83\u591a\u79cd\u7b97\u6cd5\u3002\n",
      "\n",
      "---\n",
      "\n",
      "\u4f60\u53ef\u4ee5\u5728[scipy.optimize](http://docs.scipy.org/doc/scipy/reference/optimize.html#scipy.optimize)\u4e2d\u627e\u5230\u5bf9\u4e8e\u591a\u7ef4\u5ea6\u95ee\u9898\u6709\u76f8\u540c\u529f\u80fd\u7684\u7b97\u6cd5\u3002\n",
      "\n",
      "---\n",
      "\n",
      "**\u7ec3\u4e60\uff1a\u6e29\u5ea6\u6570\u636e\u7684\u66f2\u7ebf\u62df\u5408**\n",
      "\n",
      "\u4e0b\u9762\u662f\u4ece1\u6708\u5f00\u59cb\u963f\u62c9\u65af\u52a0\u6bcf\u4e2a\u6708\u7684\u6e29\u5ea6\u6781\u503c\uff08\u6444\u6c0f\u5ea6\uff09\uff1a\n",
      "\n",
      "\u6700\u5927\u503c:  17,  19,  21,  28,  33,  38, 37,  37,  31,  23,  19,  18\n",
      "\n",
      "\u6700\u5c0f\u503c: -62, -59, -56, -46, -32, -18, -9, -13, -25, -46, -52, -58\n",
      "\n",
      "1. \u7ed8\u5236\u8fd9\u4e9b\u6e29\u5ea6\u6781\u503c\u3002\n",
      "2. \u5b9a\u4e49\u4e00\u4e2a\u51fd\u6570\uff0c\u53ef\u4ee5\u63cf\u8ff0\u6e29\u5ea6\u7684\u6700\u5927\u503c\u548c\u6700\u5c0f\u503c\u3002\u63d0\u793a\uff1a\u8fd9\u4e2a\u51fd\u6570\u7684\u5468\u671f\u662f\u4e00\u5e74\u3002\u63d0\u793a\uff1a\u5305\u542b\u65f6\u95f4\u504f\u79fb\u3002\n",
      "3. \u7528[scipy.optimize.curve_fit()](http://docs.scipy.org/doc/scipy/reference/generated/scipy.optimize.curve_fit.html#scipy.optimize.curve_fit)\u62df\u5408\u8fd9\u4e2a\u51fd\u6570\u4e0e\u6570\u636e\u3002\n",
      "4. \u7ed8\u5236\u7ed3\u679c\u3002\u8fd9\u4e2a\u62df\u5408\u5408\u7406\u5417\uff1f\u5982\u679c\u4e0d\u5408\u7406\uff0c\u4e3a\u4ec0\u4e48\uff1f\n",
      "5. \u6700\u4f4e\u6e29\u5ea6\u548c\u6700\u9ad8\u6e29\u5ea6\u7684\u65f6\u95f4\u504f\u79fb\u662f\u5426\u4e0e\u62df\u5408\u4e00\u6837\u7cbe\u786e\uff1f\n",
      "\n",
      "---\n",
      "\n",
      "---\n",
      "**\u7ec3\u4e60\uff1a2-D \u6700\u5c0f\u503c**\n",
      "\n",
      "[![](http://scipy-lectures.github.io/_images/scipy_optimize_sixhump.png)](http://scipy-lectures.github.io/plot_directive/pyplots/scipy_optimize_sixhump.py)\n",
      "\n",
      "\u516d\u5cf0\u9a7c\u80cc\u51fd\u6570\uff1a\n",
      "![](http://scipy-lectures.github.io/_images/math/a15fd87c4934c2530d57ccae635f1e53791a5187.png)\n",
      "\n",
      "\u6709\u591a\u4e2a\u5168\u5c40\u548c\u5c40\u90e8\u6700\u4f4e\u70b9\u3002\u627e\u5230\u8fd9\u4e2a\u51fd\u6570\u7684\u5168\u5c40\u6700\u4f4e\u70b9\u3002\n",
      "\n",
      "\u63d0\u793a\uff1a\n",
      "\n",
      "* \u53d8\u91cf\u53ef\u4ee5\u88ab\u9650\u5b9a\u5728-2 < x < 2 \u548c -1 < y < 1\u3002\n",
      "* \u7528[numpy.meshgrid()](http://docs.scipy.org/doc/numpy/reference/generated/numpy.meshgrid.html#numpy.meshgrid) \u548c pylab.imshow() \u6765\u4ece\u89c6\u89c9\u4e0a\u6765\u5bfb\u627e\u533a\u57df\u3002\n",
      "* [scipy.optimize.fmin_bfgs()](http://docs.scipy.org/doc/scipy/reference/generated/scipy.optimize.fmin_bfgs.html#scipy.optimize.fmin_bfgs) \u6216\u8005\u53e6\u4e00\u4e2a\u591a\u7ef4\u6700\u5c0f\u5316\u3002\n",
      "\u591a\u51e0\u4e2a\u5168\u5c40\u6700\u5c0f\u503c\uff0c\u90a3\u4e9b\u70b9\u4e0a\u7684\u51fd\u6570\u503c\u5341\u591a\u5c11\uff1f\u5982\u679c\u6700\u521d\u7684\u731c\u6d4b\u662f$(x, y) = (0, 0)$\u4f1a\u600e\u6837?\n",
      "\n",
      "---\n",
      "\n",
      "\u770b\u4e00\u4e0b[\u975e\u7ebf\u6027\u6700\u5c0f\u4e8c\u4e58\u66f2\u7ebf\u62df\u5408\uff1a\u5730\u5f62\u673a\u8f7d\u6fc0\u5149\u96f7\u8fbe\u6570\u636e\u4e2d\u7684\u70b9\u62bd\u53d6](http://scipy-lectures.github.io/intro/summary-exercises/optimize-fit.html#summary-exercise-optimize)\u7ec3\u4e60\u7684\u603b\u7ed3\uff0c\u4ee5\u53ca\u66f4\u9ad8\u53ca\u7684\u4f8b\u5b50\u3002\n",
      "\n",
      "## 1.5.6. \u7edf\u8ba1\u548c\u968f\u673a\u6570\uff1a[scipy.stats](http://docs.scipy.org/doc/scipy/reference/stats.html#scipy.stats)\n",
      "\n",
      "[scipy.stats](http://docs.scipy.org/doc/scipy/reference/stats.html#scipy.stats)\u6a21\u5757\u5305\u542b\u7edf\u8ba1\u5de5\u5177\u548c\u968f\u673a\u8fc7\u7a0b\u7684\u6982\u7387\u63cf\u8ff0\u3002\u5728`numpy.random`\u4e2d\u53ef\u4ee5\u627e\u5230\u591a\u4e2a\u968f\u673a\u6570\u751f\u6210\u5668\u3002\n",
      "\n",
      "### 1.5.6.1 \u76f4\u65b9\u56fe\u548c\u6982\u7387\u5bc6\u5ea6\u51fd\u6570\n",
      "\n",
      "\u7ed9\u5b9a\u968f\u673a\u8fc7\u7a0b\u7684\u89c2\u5bdf\u503c\uff0c\u5b83\u4eec\u7684\u76f4\u65b9\u56fe\u662f\u968f\u673a\u8fc7\u7a0b\u7684PDF\uff08\u6982\u7387\u5bc6\u5ea6\u51fd\u6570\uff09\u7684\u4f30\u8ba1\u503c\uff1a"
     ]
    },
    {
     "cell_type": "code",
     "collapsed": false,
     "input": [
      "a = np.random.normal(size=1000)\n",
      "bins = np.arange(-4, 5)\n",
      "bins"
     ],
     "language": "python",
     "metadata": {},
     "outputs": [
      {
       "metadata": {},
       "output_type": "pyout",
       "prompt_number": 31,
       "text": [
        "array([-4, -3, -2, -1,  0,  1,  2,  3,  4])"
       ]
      }
     ],
     "prompt_number": 31
    },
    {
     "cell_type": "code",
     "collapsed": false,
     "input": [
      "histogram = np.histogram(a, bins=bins, normed=True)[0]\n",
      "bins = 0.5*(bins[1:] + bins[:-1])\n",
      "bins"
     ],
     "language": "python",
     "metadata": {},
     "outputs": [
      {
       "metadata": {},
       "output_type": "pyout",
       "prompt_number": 32,
       "text": [
        "array([-3.5, -2.5, -1.5, -0.5,  0.5,  1.5,  2.5,  3.5])"
       ]
      }
     ],
     "prompt_number": 32
    },
    {
     "cell_type": "code",
     "collapsed": false,
     "input": [
      "from scipy import stats\n",
      "import pylab as pl\n",
      "b = stats.norm.pdf(bins)  # norm \u662f\u4e00\u79cd\u5206\u5e03\n",
      "pl.plot(bins, histogram)\n",
      "pl.plot(bins, b)"
     ],
     "language": "python",
     "metadata": {},
     "outputs": [
      {
       "metadata": {},
       "output_type": "pyout",
       "prompt_number": 35,
       "text": [
        "[<matplotlib.lines.Line2D at 0x10764cd10>]"
       ]
      },
      {
       "metadata": {},
       "output_type": "display_data",
       "png": "[encoded data removed]",
       "text": [
        "<matplotlib.figure.Figure at 0x107434550>"
       ]
      }
     ],
     "prompt_number": 35
    },
    {
     "cell_type": "markdown",
     "metadata": {},
     "source": [
      "\u5982\u679c\u6211\u4eec\u77e5\u9053\u968f\u673a\u8fc7\u7a0b\u5c5e\u4e8e\u7279\u5b9a\u7684\u968f\u673a\u8fc7\u7a0b\u5bb6\u65cf\uff0c\u6bd4\u5982\u6b63\u6001\u8fc7\u7a0b\uff0c\u6211\u4eec\u53ef\u4ee5\u505a\u4e00\u4e2a\u89c2\u5bdf\u503c\u7684\u6700\u5927\u53ef\u80fd\u6027\u62df\u5408\uff0c\u6765\u4f30\u8ba1\u6f5c\u5728\u5206\u5e03\u7684\u53c2\u6570\u3002\u8fd9\u91cc\u6211\u4eec\u7528\u968f\u673a\u8fc7\u7a0b\u62df\u5408\u89c2\u5bdf\u6570\u636e\uff1a"
     ]
    },
    {
     "cell_type": "code",
     "collapsed": false,
     "input": [
      "loc, std = stats.norm.fit(a)\n",
      "loc"
     ],
     "language": "python",
     "metadata": {},
     "outputs": [
      {
       "metadata": {},
       "output_type": "pyout",
       "prompt_number": 5,
       "text": [
        "-0.063033073531050018"
       ]
      }
     ],
     "prompt_number": 5
    },
    {
     "cell_type": "code",
     "collapsed": false,
     "input": [
      "std"
     ],
     "language": "python",
     "metadata": {},
     "outputs": [
      {
       "metadata": {},
       "output_type": "pyout",
       "prompt_number": 6,
       "text": [
        "0.97226620529973573"
       ]
      }
     ],
     "prompt_number": 6
    },
    {
     "cell_type": "markdown",
     "metadata": {},
     "source": [
      "---\n",
      "\n",
      "**\u7ec3\u4e60\uff1a\u6982\u7387\u5206\u5e03**\n",
      "\n",
      "\u7528shape\u53c2\u6570\u4e3a1\u7684gamma\u5206\u5e03\u751f\u62101000\u4e2a\u968f\u673a\u6570\uff0c\u7136\u540e\u7ed8\u5236\u90a3\u4e9b\u6837\u672c\u7684\u76f4\u65b9\u56fe\u3002\u4f60\u53ef\u4ee5\u5728\u9876\u90e8\u7ed8\u5236pdf\uff08\u5e94\u8be5\u4f1a\u5339\u914d\uff09\u5417\uff1f\n",
      "\n",
      "\u989d\u5916\u4fe1\u606f\uff1a\u8fd9\u4e9b\u5206\u5e03\u90fd\u6709\u4e00\u4e9b\u6709\u7528\u7684\u65b9\u6cd5\u3002\u8bfb\u4e00\u4e0b\u6587\u6863\u5b57\u7b26\u4e32\u6216\u8005\u7528IPython tab \u5b8c\u6210\u6765\u7814\u7a76\u8fd9\u4e9b\u65b9\u6cd5\u3002\u4f60\u53ef\u4ee5\u7528\u5728\u4f60\u7684\u968f\u673a\u53d8\u91cf\u4e0a\u4f7f\u7528`fit`\u65b9\u6cd5\u6765\u627e\u56deshape\u53c2\u65701\u5417\uff1f\n",
      "\n",
      "---\n",
      "\n",
      "### 1.5.6.2 \u767e\u5206\u4f4d\u6570\n",
      "\n",
      "\u4e2d\u6570\u662f\u6709\u4e00\u534a\u503c\u5728\u5176\u4e0a\u4e00\u534a\u503c\u5728\u5176\u4e0b\u7684\u503c\uff1a"
     ]
    },
    {
     "cell_type": "code",
     "collapsed": false,
     "input": [
      "np.median(a) "
     ],
     "language": "python",
     "metadata": {},
     "outputs": [
      {
       "metadata": {},
       "output_type": "pyout",
       "prompt_number": 7,
       "text": [
        "-0.061271835457024623"
       ]
      }
     ],
     "prompt_number": 7
    },
    {
     "cell_type": "markdown",
     "metadata": {},
     "source": [
      "\u4e2d\u6570\u4e5f\u88ab\u79f0\u4e3a\u767e\u5206\u4f4d\u657050\uff0c\u56e0\u4e3a50%\u7684\u89c2\u5bdf\u503c\u5728\u5b83\u4e4b\u4e0b\uff1a"
     ]
    },
    {
     "cell_type": "code",
     "collapsed": false,
     "input": [
      "stats.scoreatpercentile(a, 50) "
     ],
     "language": "python",
     "metadata": {},
     "outputs": [
      {
       "metadata": {},
       "output_type": "pyout",
       "prompt_number": 8,
       "text": [
        "-0.061271835457024623"
       ]
      }
     ],
     "prompt_number": 8
    },
    {
     "cell_type": "markdown",
     "metadata": {},
     "source": [
      "\u540c\u6837\uff0c\u6211\u4eec\u4e5f\u80fd\u8ba1\u7b97\u767e\u5206\u4f4d\u657090\uff1a"
     ]
    },
    {
     "cell_type": "code",
     "collapsed": false,
     "input": [
      "stats.scoreatpercentile(a, 90)"
     ],
     "language": "python",
     "metadata": {},
     "outputs": [
      {
       "metadata": {},
       "output_type": "pyout",
       "prompt_number": 10,
       "text": [
        "1.1746952490791494"
       ]
      }
     ],
     "prompt_number": 10
    },
    {
     "cell_type": "markdown",
     "metadata": {},
     "source": [
      "\u767e\u5206\u4f4d\u6570\u662fCDF\u7684\u4f30\u8ba1\u503c\uff1a\u7d2f\u79ef\u5206\u5e03\u51fd\u6570\u3002\n",
      "\n",
      "### 1.5.6.3 \u7edf\u8ba1\u68c0\u9a8c\n",
      "\n",
      "\u7edf\u8ba1\u68c0\u9a8c\u662f\u4e00\u4e2a\u51b3\u7b56\u6307\u793a\u5668\u3002\u4f8b\u5982\uff0c\u5982\u679c\u6211\u4eec\u6709\u4e24\u7ec4\u89c2\u5bdf\u503c\uff0c\u6211\u4eec\u5047\u8bbe\u4ed6\u4eec\u6765\u81ea\u4e8e\u9ad8\u65af\u8fc7\u7a0b\uff0c\u6211\u4eec\u53ef\u4ee5\u7528T\u68c0\u9a8c\u6765\u51b3\u5b9a\u8fd9\u4e24\u7ec4\u89c2\u5bdf\u503c\u662f\u4e0d\u662f\u663e\u8457\u4e0d\u540c\uff1a"
     ]
    },
    {
     "cell_type": "code",
     "collapsed": false,
     "input": [
      "a = np.random.normal(0, 1, size=100)\n",
      "b = np.random.normal(1, 1, size=10)\n",
      "stats.ttest_ind(a, b)   "
     ],
     "language": "python",
     "metadata": {},
     "outputs": [
      {
       "metadata": {},
       "output_type": "pyout",
       "prompt_number": 11,
       "text": [
        "(-2.8365663431591557, 0.0054465620169369703)"
       ]
      }
     ],
     "prompt_number": 11
    },
    {
     "cell_type": "markdown",
     "metadata": {},
     "source": [
      "\u751f\u6210\u7684\u7ed3\u679c\u7531\u4ee5\u4e0b\u5185\u5bb9\u7ec4\u6210\uff1a\n",
      "\n",
      "* T \u7edf\u8ba1\u503c\uff1a\u4e00\u4e2a\u503c\uff0c\u7b26\u53f7\u4e0e\u4e24\u4e2a\u968f\u673a\u8fc7\u7a0b\u7684\u5dee\u5f02\u6210\u6bd4\u4f8b\uff0c\u5927\u5c0f\u4e0e\u5dee\u5f02\u7684\u7a0b\u5ea6\u6709\u5173\u3002\n",
      "* p \u503c\uff1a\u4e24\u4e2a\u8fc7\u7a0b\u76f8\u540c\u7684\u6982\u7387\u3002\u5982\u679c\u5b83\u63a5\u8fd11\uff0c\u90a3\u4e48\u8fd9\u4e24\u4e2a\u8fc7\u7a0b\u51e0\u4e4e\u80af\u5b9a\u662f\u76f8\u540c\u7684\u3002\u8d8a\u63a5\u8fd1\u4e8e0\uff0c\u8d8a\u53ef\u80fd\u8fd9\u4e24\u4e2a\u8fc7\u7a0b\u6709\u4e0d\u540c\u7684\u5e73\u5747\u6570\u3002\n",
      "\n",
      "## 1.5.7 \u63d2\u503c\uff1a[scipy.interpolate](http://docs.scipy.org/doc/scipy/reference/interpolate.html#scipy.interpolate)\n",
      "\n",
      "[scipy.interpolate](http://docs.scipy.org/doc/scipy/reference/interpolate.html#scipy.interpolate)\u5bf9\u4ece\u5b9e\u9a8c\u6570\u636e\u4e2d\u62df\u5408\u51fd\u6570\u662f\u975e\u5e38\u6709\u7528\u7684\uff0c\u56e0\u6b64\uff0c\u8bc4\u4f30\u6ca1\u6709\u6d4b\u91cf\u8fc7\u7684\u70b9\u3002\u8fd9\u4e2a\u6a21\u5757\u662f\u57fa\u4e8e[netlib](http://www.netlib.org/)\u9879\u76ee\u7684[Fortran\u5b50\u7a0b\u5e8f FITPACK](http://www.netlib.org/dierckx/index.html)\n",
      "\n",
      "\u5047\u60f3\u4e00\u4e2a\u63a5\u8fd1sine\u51fd\u6570\u7684\u5b9e\u9a8c\u6570\u636e\uff1a"
     ]
    },
    {
     "cell_type": "code",
     "collapsed": false,
     "input": [
      "measured_time = np.linspace(0, 1, 10)\n",
      "noise = (np.random.random(10)*2 - 1) * 1e-1\n",
      "measures = np.sin(2 * np.pi * measured_time) + noise"
     ],
     "language": "python",
     "metadata": {},
     "outputs": [],
     "prompt_number": 8
    },
    {
     "cell_type": "markdown",
     "metadata": {},
     "source": [
      "[scipy.interpolate.interp1d](http://docs.scipy.org/doc/scipy/reference/generated/scipy.interpolate.interp1d.html#scipy.interpolate.interp1d)\u7c7b\u53ef\u4ee5\u5efa\u7acb\u4e00\u4e2a\u7ebf\u6027\u63d2\u503c\u51fd\u6570\uff1a"
     ]
    },
    {
     "cell_type": "code",
     "collapsed": false,
     "input": [
      "from scipy.interpolate import interp1d\n",
      "linear_interp = interp1d(measured_time, measures)"
     ],
     "language": "python",
     "metadata": {},
     "outputs": [],
     "prompt_number": 9
    },
    {
     "cell_type": "markdown",
     "metadata": {},
     "source": [
      "`scipy.interpolate.linear_interp`\u5b9e\u4f8b\u9700\u8981\u8bc4\u4f30\u611f\u5174\u8da3\u7684\u65f6\u95f4\u70b9\uff1a"
     ]
    },
    {
     "cell_type": "code",
     "collapsed": false,
     "input": [
      "computed_time = np.linspace(0, 1, 50)\n",
      "linear_results = linear_interp(computed_time)"
     ],
     "language": "python",
     "metadata": {},
     "outputs": [],
     "prompt_number": 10
    },
    {
     "cell_type": "markdown",
     "metadata": {},
     "source": [
      "\u901a\u8fc7\u63d0\u4f9b\u53ef\u9009\u7684\u53c2\u6570`kind`\u4e5f\u53ef\u4ee5\u9009\u62e9\u8fdb\u884c\u7acb\u65b9\u63d2\u503c\uff1a"
     ]
    },
    {
     "cell_type": "code",
     "collapsed": false,
     "input": [
      "cubic_interp = interp1d(measured_time, measures, kind='cubic')\n",
      "cubic_results = cubic_interp(computed_time)"
     ],
     "language": "python",
     "metadata": {},
     "outputs": [],
     "prompt_number": 11
    },
    {
     "cell_type": "markdown",
     "metadata": {},
     "source": [
      "\u73b0\u5728\u7ed3\u679c\u53ef\u4ee5\u88ab\u6574\u5408\u4e3a\u4e0b\u9762\u7684Matplotlib\u56fe\u7247\uff1a\n",
      "\n",
      "[![](http://scipy-lectures.github.io/_images/scipy_interpolation.png)](http://scipy-lectures.github.io/plot_directive/pyplots/scipy_interpolation.py)\n",
      "\n",
      "[scipy.interpolate.interp2d](http://docs.scipy.org/doc/scipy/reference/generated/scipy.interpolate.interp2d.html#scipy.interpolate.interp2d) \u4e0e[scipy.interpolate.interp1d](http://docs.scipy.org/doc/scipy/reference/generated/scipy.interpolate.interp1d.html#scipy.interpolate.interp1d)\u7c7b\u4f3c\uff0c\u4f46\u662f\u662f\u7528\u4e8e2-D\u6570\u7ec4\u3002\u6ce8\u610f\u5bf9\u4e8e`interp`\u5bb6\u65cf\uff0c\u8ba1\u7b97\u7684\u65f6\u95f4\u70b9\u5fc5\u987b\u5728\u6d4b\u91cf\u65f6\u95f4\u6bb5\u4e4b\u5185\u3002\u770b\u4e00\u4e0b[Sprog\u00f8\u6c14\u8c61\u7ad9\u7684\u6700\u5927\u98ce\u901f\u9884\u6d4b\u7684\u603b\u7ed3\u7ec3\u4e60](\u6682\u7f3a)\uff0c\u4e86\u89e3\u66f4\u8be6\u7ec6\u7684spline\u63d2\u503c\u5b9e\u4f8b\u3002\n",
      "\n",
      "## 1.5.8 \u6570\u503c\u79ef\u5206\uff1a[scipy.integrate]()\n",
      "\n",
      "[scipy.integrate.quad()](http://docs.scipy.org/doc/scipy/reference/generated/scipy.integrate.quad.html#scipy.integrate.quad)\u662f\u6700\u5e38\u89c1\u7684\u79ef\u5206\u7a0b\u5e8f\uff1a"
     ]
    },
    {
     "cell_type": "code",
     "collapsed": false,
     "input": [
      "from scipy.integrate import quad\n",
      "res, err = quad(np.sin, 0, np.pi/2)\n",
      "np.allclose(res, 1)"
     ],
     "language": "python",
     "metadata": {},
     "outputs": [
      {
       "metadata": {},
       "output_type": "pyout",
       "prompt_number": 1,
       "text": [
        "True"
       ]
      }
     ],
     "prompt_number": 1
    },
    {
     "cell_type": "code",
     "collapsed": false,
     "input": [
      "np.allclose(err, 1 - res)"
     ],
     "language": "python",
     "metadata": {},
     "outputs": [
      {
       "metadata": {},
       "output_type": "pyout",
       "prompt_number": 2,
       "text": [
        "True"
       ]
      }
     ],
     "prompt_number": 2
    },
    {
     "cell_type": "markdown",
     "metadata": {},
     "source": [
      "\u5176\u4ed6\u7684\u79ef\u5206\u7a0b\u5e8f\u53ef\u4ee5\u5728`fixed_quad`\u3001 `quadrature`\u3001`romberg`\u4e2d\u627e\u5230\u3002\n",
      "\n",
      "[scipy.integrate](http://docs.scipy.org/doc/scipy/reference/integrate.html#scipy.integrate) \u53ef\u63d0\u4f9b\u4e86\u5e38\u5fae\u5206\u516c\u5f0f(ODE)\u7684\u7279\u8272\u7a0b\u5e8f\u3002\u7279\u522b\u7684\uff0c[scipy.integrate.odeint()](http://docs.scipy.org/doc/scipy/reference/generated/scipy.integrate.odeint.html#scipy.integrate.odeint) \u662f\u4f7f\u7528LSODA\uff08Livermore Solver for Ordinary Differential equations with Automatic method switching for stiff and non-stiff problems\uff09\u7684\u901a\u7528\u79ef\u5206\u5668\uff0c\u66f4\u591a\u7ec6\u8282\u8bf7\u89c1[ODEPACK Fortran \u5e93](http://people.sc.fsu.edu/~jburkardt/f77_src/odepack/odepack.html)\u3002\n",
      "\n",
      "`odeint`\u89e3\u51b3\u5982\u4e0b\u5f62\u5f0f\u7684\u7b2c\u4e00\u987a\u5e8fODE\u7cfb\u7edf\uff1a\n",
      "\n",
      "$dy/dt = rhs(y1, y2, .., t0,...)$\n",
      "\n",
      "\u4f5c\u4e3a\u4e00\u4e2a\u4ecb\u7ecd\uff0c\u8ba9\u6211\u4eec\u89e3\u4e00\u4e0b\u5728\u521d\u59cb\u6761\u4ef6\u4e0b$y(t=0) = 1$\uff0c\u8fd9\u4e2a\u5e38\u5fae\u5206\u516c\u5f0f$dy/dt = -2y$\u5728$t = 0..4$\u65f6\u7684\u503c\u3002\u9996\u5148\uff0c\u8fd9\u4e2a\u51fd\u6570\u8ba1\u7b97\u5b9a\u4e49\u4f4d\u7f6e\u9700\u8981\u7684\u5bfc\u6570\uff1a"
     ]
    },
    {
     "cell_type": "code",
     "collapsed": false,
     "input": [
      "def calc_derivative(ypos, time, counter_arr):\n",
      "    counter_arr += 1\n",
      "    return -2 * ypos"
     ],
     "language": "python",
     "metadata": {},
     "outputs": [],
     "prompt_number": 3
    },
    {
     "cell_type": "markdown",
     "metadata": {},
     "source": [
      "\u6dfb\u52a0\u4e86\u4e00\u4e2a\u989d\u5916\u7684\u53c2\u6570`counter_arr`\u7528\u6765\u8bf4\u660e\u8fd9\u4e2a\u51fd\u6570\u53ef\u4ee5\u5728\u4e00\u4e2a\u65f6\u95f4\u6b65\u9aa4\u88ab\u8c03\u7528\u591a\u6b21\uff0c\u76f4\u5230\u6536\u655b\u3002\u8ba1\u6570\u5668\u6570\u7ec4\u5b9a\u4e49\u5982\u4e0b\uff1a"
     ]
    },
    {
     "cell_type": "code",
     "collapsed": false,
     "input": [
      "counter = np.zeros((1,), dtype=np.uint16)"
     ],
     "language": "python",
     "metadata": {},
     "outputs": [],
     "prompt_number": 4
    },
    {
     "cell_type": "markdown",
     "metadata": {},
     "source": [
      "\u73b0\u5728\u8ba1\u7b97\u8f68\u8ff9\u7ebf\uff1a"
     ]
    },
    {
     "cell_type": "code",
     "collapsed": false,
     "input": [
      "from scipy.integrate import odeint\n",
      "time_vec = np.linspace(0, 4, 40)\n",
      "yvec, info = odeint(calc_derivative, 1, time_vec,\n",
      "                    args=(counter,), full_output=True)"
     ],
     "language": "python",
     "metadata": {},
     "outputs": [],
     "prompt_number": 5
    },
    {
     "cell_type": "markdown",
     "metadata": {},
     "source": [
      "\u56e0\u6b64\uff0c\u5bfc\u6570\u51fd\u6570\u88ab\u8c03\u7528\u4e8640\u591a\u6b21\uff08\u5373\u65f6\u95f4\u6b65\u9aa4\u6570\uff09\uff1a"
     ]
    },
    {
     "cell_type": "code",
     "collapsed": false,
     "input": [
      "counter"
     ],
     "language": "python",
     "metadata": {},
     "outputs": [
      {
       "metadata": {},
       "output_type": "pyout",
       "prompt_number": 6,
       "text": [
        "array([129], dtype=uint16)"
       ]
      }
     ],
     "prompt_number": 6
    },
    {
     "cell_type": "markdown",
     "metadata": {},
     "source": [
      "\u524d\u5341\u4e2a\u65f6\u95f4\u6b65\u9aa4\u7684\u7d2f\u79ef\u5faa\u73af\u6570\uff0c\u53ef\u4ee5\u7528\u5982\u4e0b\u65b9\u5f0f\u83b7\u5f97\uff1a"
     ]
    },
    {
     "cell_type": "code",
     "collapsed": false,
     "input": [
      "info['nfe'][:10]"
     ],
     "language": "python",
     "metadata": {},
     "outputs": [
      {
       "metadata": {},
       "output_type": "pyout",
       "prompt_number": 7,
       "text": [
        "array([31, 35, 43, 49, 53, 57, 59, 63, 65, 69], dtype=int32)"
       ]
      }
     ],
     "prompt_number": 7
    },
    {
     "cell_type": "markdown",
     "metadata": {},
     "source": [
      "\u6ce8\u610f\uff0c\u6c42\u89e3\u5668\u5bf9\u4e8e\u9996\u4e2a\u65f6\u95f4\u6b65\u9aa4\u9700\u8981\u66f4\u591a\u7684\u5faa\u73af\u3002\u5bfc\u6570\u7b54\u6848`yvec`\u53ef\u4ee5\u753b\u51fa\u6765\uff1a\n",
      "\n",
      "[![](http://scipy-lectures.github.io/_images/odeint_introduction.png)](http://scipy-lectures.github.io/plot_directive/pyplots/odeint_introduction.py)"
     ]
    },
    {
     "cell_type": "markdown",
     "metadata": {},
     "source": [
      "\u963b\u5c3c\u5f39\u7c27\u91cd\u7269\u632f\u5b50\uff08\u4e8c\u9636\u632f\u8361\u5668\uff09\u662f\u4f7f\u7528[scipy.integrate.odeint()](http://docs.scipy.org/doc/scipy/reference/generated/scipy.integrate.odeint.html#scipy.integrate.odeint)\u7684\u53e6\u4e00\u4e2a\u4f8b\u5b50\u3002\u94fe\u63a5\u5230\u5f39\u7c27\u7684\u91cd\u7269\u7684\u4f4d\u7f6e\u670d\u4ece\u4e8c\u9636\u5e38\u5fae\u5206\u65b9\u7a0b$y'' + 2 eps wo  y' + wo^2 y = 0$\uff0c\u5176\u4e2d$wo^2 = k/m$ \u5f39\u7c27\u7684\u5e38\u6570\u4e3ak, m\u662f\u91cd\u7269\u8d28\u91cf\uff0c$eps=c/(2 m wo)$\uff0cc\u662f\u963b\u5c3c\u7cfb\u6570\u3002\u4f8b\u5982\uff0c\u6211\u4eec\u9009\u62e9\u5982\u4e0b\u53c2\u6570\uff1a"
     ]
    },
    {
     "cell_type": "code",
     "collapsed": false,
     "input": [
      "mass = 0.5  # kg\n",
      "kspring = 4  # N/m\n",
      "cviscous = 0.4  # N s/m"
     ],
     "language": "python",
     "metadata": {},
     "outputs": [],
     "prompt_number": 8
    },
    {
     "cell_type": "markdown",
     "metadata": {},
     "source": [
      "\u56e0\u6b64\u7cfb\u7edf\u5c06\u662f\u6b20\u963b\u5c3c\u7684\uff0c\u56e0\u4e3a\uff1a"
     ]
    },
    {
     "cell_type": "code",
     "collapsed": false,
     "input": [
      "eps = cviscous / (2 * mass * np.sqrt(kspring/mass))\n",
      "eps < 1"
     ],
     "language": "python",
     "metadata": {},
     "outputs": [
      {
       "metadata": {},
       "output_type": "pyout",
       "prompt_number": 9,
       "text": [
        "True"
       ]
      }
     ],
     "prompt_number": 9
    },
    {
     "cell_type": "markdown",
     "metadata": {},
     "source": [
      "\u5bf9\u4e8e[scipy.integrate.odeint()](http://docs.scipy.org/doc/scipy/reference/generated/scipy.integrate.odeint.html#scipy.integrate.odeint)\u6c42\u89e3\u5668\uff0c\u4e8c\u9636\u7b49\u5f0f\u9700\u8981\u88ab\u53d8\u6362\u4e3a\u7cfb\u7edf\u5185\u5411\u91cf$Y=(y, y')$\u7684\u4e24\u4e2a\u4e00\u9636\u7b49\u5f0f\u3002\u4e3a\u4e86\u65b9\u4fbf\uff0c\u5b9a\u4e49$nu = 2 eps * wo = c / m$\u548c$om = wo^2 = k/m$\uff1a"
     ]
    },
    {
     "cell_type": "code",
     "collapsed": false,
     "input": [
      "nu_coef = cviscous / mass\n",
      "om_coef = kspring / mass"
     ],
     "language": "python",
     "metadata": {},
     "outputs": [],
     "prompt_number": 10
    },
    {
     "cell_type": "markdown",
     "metadata": {},
     "source": [
      "\u56e0\u6b64\u51fd\u6570\u5c06\u8ba1\u7b97\u901f\u5ea6\u548c\u52a0\u901f\u5ea6\uff1a"
     ]
    },
    {
     "cell_type": "code",
     "collapsed": false,
     "input": [
      "def calc_deri(yvec, time, nuc, omc):\n",
      "    return (yvec[1], -nuc * yvec[1] - omc * yvec[0])\n",
      "\n",
      "time_vec = np.linspace(0, 10, 100)\n",
      "yarr = odeint(calc_deri, (1, 0), time_vec, args=(nu_coef, om_coef))"
     ],
     "language": "python",
     "metadata": {},
     "outputs": [],
     "prompt_number": 11
    },
    {
     "cell_type": "markdown",
     "metadata": {},
     "source": [
      "\u5982\u4e0b\u7684Matplotlib\u56fe\u7247\u663e\u793a\u4e86\u6700\u7ec8\u7684\u4f4d\u7f6e\u548c\u901f\u5ea6\uff1a\n",
      "[![](http://scipy-lectures.github.io/_images/odeint_damped_spring_mass.png)](http://scipy-lectures.github.io/plot_directive/pyplots/odeint_damped_spring_mass.py)\n",
      "\n",
      "\u5728Sicpy\u4e2d\u6ca1\u6709\u504f\u5fae\u5206\u65b9\u7a0b\uff08PDE\uff09\u6c42\u89e3\u5668\u3002\u5b58\u5728\u5176\u4ed6\u6c42\u89e3PDE\u7684Python\u5305\uff0c\u6bd4\u5982[fipy](http://www.ctcms.nist.gov/fipy/)\u6216[SfePy](http://code.google.com/p/sfepy/)\u3002\n",
      "\n",
      "## 1.5.9 \u4fe1\u53f7\u5904\u7406\uff1a[scipy.signal](http://docs.scipy.org/doc/scipy/reference/signal.html#scipy.signal)"
     ]
    },
    {
     "cell_type": "code",
     "collapsed": false,
     "input": [
      "from scipy import signal\n",
      "import matplotlib.pyplot as pl"
     ],
     "language": "python",
     "metadata": {},
     "outputs": [],
     "prompt_number": 13
    },
    {
     "cell_type": "markdown",
     "metadata": {},
     "source": [
      "- [scipy.signal.detrend()](http://docs.scipy.org/doc/scipy/reference/generated/scipy.signal.detrend.html#scipy.signal.detrend): \u4ece\u4fe1\u53f7\u4e2d\u5220\u9664\u7ebf\u6027\u8d8b\u52bf\uff1a"
     ]
    },
    {
     "cell_type": "code",
     "collapsed": false,
     "input": [
      "t = np.linspace(0, 5, 100)\n",
      "x = t + np.random.normal(size=100)\n",
      "\n",
      "pl.plot(t, x, linewidth=3)\n",
      "pl.plot(t, signal.detrend(x), linewidth=3)"
     ],
     "language": "python",
     "metadata": {},
     "outputs": [
      {
       "metadata": {},
       "output_type": "pyout",
       "prompt_number": 14,
       "text": [
        "[<matplotlib.lines.Line2D at 0x10781e590>]"
       ]
      },
      {
       "metadata": {},
       "output_type": "display_data",
       "png": "[encoded data removed]",
       "text": [
        "<matplotlib.figure.Figure at 0x10781e4d0>"
       ]
      }
     ],
     "prompt_number": 14
    },
    {
     "cell_type": "markdown",
     "metadata": {},
     "source": [
      "- [scipy.signal.resample()](http://docs.scipy.org/doc/scipy/reference/generated/scipy.signal.resample.html#scipy.signal.resample): \u7528FFT\u4ece\u4fe1\u53f7\u4e2d\u62bd\u51fan\u4e2a\u70b9\u3002"
     ]
    },
    {
     "cell_type": "code",
     "collapsed": false,
     "input": [
      "t = np.linspace(0, 5, 100)\n",
      "x = np.sin(t)\n",
      "\n",
      "pl.plot(t, x, linewidth=3)\n",
      "pl.plot(t[::2], signal.resample(x, 50), 'ko')"
     ],
     "language": "python",
     "metadata": {},
     "outputs": [
      {
       "metadata": {},
       "output_type": "pyout",
       "prompt_number": 15,
       "text": [
        "[<matplotlib.lines.Line2D at 0x107855cd0>]"
       ]
      },
      {
       "metadata": {},
       "output_type": "display_data",
       "png": "[encoded data removed]",
       "text": [
        "<matplotlib.figure.Figure at 0x107855090>"
       ]
      }
     ],
     "prompt_number": 15
    },
    {
     "cell_type": "markdown",
     "metadata": {},
     "source": [
      "- [scipy.signal](http://docs.scipy.org/doc/scipy/reference/signal.html#scipy.signal) \u6709\u8bb8\u591a\u7a97\u53e3\u51fd\u6570\uff1a[scipy.signal.hamming()](http://docs.scipy.org/doc/scipy/reference/generated/scipy.signal.hamming.html#scipy.signal.hamming), [scipy.signal.bartlett()](http://docs.scipy.org/doc/scipy/reference/generated/scipy.signal.bartlett.html#scipy.signal.bartlett), [scipy.signal.blackman()](http://docs.scipy.org/doc/scipy/reference/generated/scipy.signal.blackman.html#scipy.signal.blackman)...\n",
      "- [scipy.signal](http://docs.scipy.org/doc/scipy/reference/signal.html#scipy.signal) \u6709\u6ee4\u955c (\u4e2d\u4f4d\u6570\u6ee4\u955c[scipy.signal.medfilt()](http://docs.scipy.org/doc/scipy/reference/generated/scipy.signal.medfilt.html#scipy.signal.medfilt), Wiener[scipy.signal.wiener()](http://docs.scipy.org/doc/scipy/reference/generated/scipy.signal.wiener.html#scipy.signal.wiener)), \u4f46\u662f\u6211\u4eec\u5c06\u5728\u56fe\u7247\u90e8\u5206\u8ba8\u8bba\u8fd9\u4e9b\u3002\n",
      "\n",
      "## 1.5.10 \u56fe\u50cf\u5904\u7406\uff1ascipy.ndimage\n",
      "\n",
      "scipy\u4e2d\u4e13\u6ce8\u4e8e\u4e13\u6ce8\u4e8e\u56fe\u50cf\u5904\u7406\u7684\u6a21\u5757\u662fscipy.ndimage\u3002"
     ]
    },
    {
     "cell_type": "code",
     "collapsed": false,
     "input": [
      "from scipy import ndimage"
     ],
     "language": "python",
     "metadata": {},
     "outputs": [],
     "prompt_number": 18
    },
    {
     "cell_type": "markdown",
     "metadata": {},
     "source": [
      "\u56fe\u50cf\u5904\u7406\u7a0b\u5e8f\u53ef\u4ee5\u6839\u636e\u4ed6\u4eec\u8fdb\u884c\u7684\u5904\u7406\u6765\u5206\u7c7b\u3002\n",
      "\n",
      "### 1.5.10.1 \u56fe\u50cf\u7684\u51e0\u4f55\u53d8\u6362\n",
      "\n",
      "\u6539\u53d8\u539f\u70b9\uff0c\u89e3\u6790\u5ea6\uff0c.."
     ]
    },
    {
     "cell_type": "code",
     "collapsed": false,
     "input": [
      "from scipy import misc\n",
      "import matplotlib.pyplot as pl\n",
      "lena = misc.lena()\n",
      "shifted_lena = ndimage.shift(lena, (50, 50))\n",
      "shifted_lena2 = ndimage.shift(lena, (50, 50), mode='nearest')\n",
      "rotated_lena = ndimage.rotate(lena, 30)\n",
      "cropped_lena = lena[50:-50, 50:-50]\n",
      "zoomed_lena = ndimage.zoom(lena, 2)\n",
      "zoomed_lena.shape"
     ],
     "language": "python",
     "metadata": {},
     "outputs": [
      {
       "metadata": {},
       "output_type": "pyout",
       "prompt_number": 19,
       "text": [
        "(1024, 1024)"
       ]
      }
     ],
     "prompt_number": 19
    },
    {
     "cell_type": "markdown",
     "metadata": {},
     "source": [
      "![](http://scipy-lectures.github.io/_images/lena_transforms.png)"
     ]
    },
    {
     "cell_type": "code",
     "collapsed": false,
     "input": [
      "subplot(151)\n",
      "pl.imshow(shifted_lena, cmap=cm.gray)\n",
      "axis('off')"
     ],
     "language": "python",
     "metadata": {},
     "outputs": [
      {
       "metadata": {},
       "output_type": "pyout",
       "prompt_number": 25,
       "text": [
        "(-0.5, 511.5, 511.5, -0.5)"
       ]
      },
      {
       "metadata": {},
       "output_type": "display_data",
       "png": "[encoded data removed]",
       "text": [
        "<matplotlib.figure.Figure at 0x10a7ed150>"
       ]
      }
     ],
     "prompt_number": 25
    },
    {
     "cell_type": "markdown",
     "metadata": {},
     "source": [
      "### 1.5.10.2 \u56fe\u50cf\u6ee4\u6ce2\u5668"
     ]
    },
    {
     "cell_type": "code",
     "collapsed": false,
     "input": [
      "from scipy import misc\n",
      "lena = misc.lena()\n",
      "import numpy as np\n",
      "noisy_lena = np.copy(lena).astype(np.float)\n",
      "noisy_lena += lena.std()*0.5*np.random.standard_normal(lena.shape)\n",
      "blurred_lena = ndimage.gaussian_filter(noisy_lena, sigma=3)\n",
      "median_lena = ndimage.median_filter(blurred_lena, size=5)\n",
      "from scipy import signal\n",
      "wiener_lena = signal.wiener(blurred_lena, (5,5))"
     ],
     "language": "python",
     "metadata": {},
     "outputs": [],
     "prompt_number": 26
    },
    {
     "cell_type": "markdown",
     "metadata": {},
     "source": [
      "![](http://scipy-lectures.github.io/_images/filtered_lena.png)\n",
      "\u5728[scipy.ndimage.filters](http://docs.scipy.org/doc/scipy/reference/ndimage.html#scipy.ndimage.filters) \u548c [scipy.signal](http://docs.scipy.org/doc/scipy/reference/signal.html#scipy.signal) \u6709\u66f4\u591a\u5e94\u7528\u4e8e\u56fe\u50cf\u7684\u6ee4\u6ce2\u5668\u3002\n",
      "\n",
      "---\n",
      "\u7ec3\u4e60\n",
      "\n",
      "\u6bd4\u8f83\u4e0d\u540c\u8fc7\u6ee4\u540e\u56fe\u50cf\u7684\u6761\u5f62\u56fe\n",
      "\n",
      "---\n",
      "\n",
      "### 1.5.10.3 \u6570\u5b66\u5f62\u6001\u5b66\n",
      "\n",
      "\u6570\u5b66\u5f62\u6001\u5b66\u662f\u96c6\u5408\u7406\u8bba\u5206\u652f\u51fa\u6765\u7684\u4e00\u4e2a\u6570\u5b66\u7406\u8bba\u3002\u5b83\u523b\u753b\u5e76\u8f6c\u6362\u51e0\u4f55\u7ed3\u6784\u3002\u7279\u522b\u662f\u4e8c\u5143\u7684\u56fe\u50cf\uff08\u9ed1\u767d\uff09\u53ef\u4ee5\u7528\u8fd9\u79cd\u7406\u8bba\u6765\u8f6c\u6362\uff1a\u88ab\u8f6c\u6362\u7684\u96c6\u5408\u662f\u4e34\u8fd1\u975e\u96f6\u503c\u50cf\u7d20\u7684\u96c6\u5408\u3002\u8fd9\u4e2a\u7406\u8bba\u4e5f\u53ef\u4ee5\u88ab\u6269\u5c55\u5230\u7070\u5ea6\u503c\u56fe\u50cf\u3002\n",
      "![](http://scipy-lectures.github.io/_images/morpho_mat1.png)\n",
      "\n",
      "\u521d\u7ea7\u6570\u5b66\u5f62\u6001\u5b66\u64cd\u4f5c\u4f7f\u7528\u7ed3\u6784\u5316\u7684\u5143\u7d20\uff0c\u4ee5\u4fbf\u4fee\u6539\u5176\u4ed6\u51e0\u4f55\u7ed3\u6784\u3002\n",
      "\n",
      "\u9996\u5148\u8ba9\u6211\u4eec\u751f\u6210\u4e00\u4e2a\u7ed3\u6784\u5316\u5143\u7d20\u3002"
     ]
    },
    {
     "cell_type": "code",
     "collapsed": false,
     "input": [
      "el = ndimage.generate_binary_structure(2, 1)\n",
      "el"
     ],
     "language": "python",
     "metadata": {},
     "outputs": [
      {
       "metadata": {},
       "output_type": "pyout",
       "prompt_number": 27,
       "text": [
        "array([[False,  True, False],\n",
        "       [ True,  True,  True],\n",
        "       [False,  True, False]], dtype=bool)"
       ]
      }
     ],
     "prompt_number": 27
    },
    {
     "cell_type": "code",
     "collapsed": false,
     "input": [
      "el.astype(np.int)"
     ],
     "language": "python",
     "metadata": {},
     "outputs": [
      {
       "metadata": {},
       "output_type": "pyout",
       "prompt_number": 28,
       "text": [
        "array([[0, 1, 0],\n",
        "       [1, 1, 1],\n",
        "       [0, 1, 0]])"
       ]
      }
     ],
     "prompt_number": 28
    },
    {
     "cell_type": "markdown",
     "metadata": {},
     "source": [
      "- \u8150\u8680"
     ]
    },
    {
     "cell_type": "code",
     "collapsed": false,
     "input": [
      "a = np.zeros((7,7), dtype=np.int)\n",
      "a[1:6, 2:5] = 1\n",
      "a"
     ],
     "language": "python",
     "metadata": {},
     "outputs": [
      {
       "metadata": {},
       "output_type": "pyout",
       "prompt_number": 29,
       "text": [
        "array([[0, 0, 0, 0, 0, 0, 0],\n",
        "       [0, 0, 1, 1, 1, 0, 0],\n",
        "       [0, 0, 1, 1, 1, 0, 0],\n",
        "       [0, 0, 1, 1, 1, 0, 0],\n",
        "       [0, 0, 1, 1, 1, 0, 0],\n",
        "       [0, 0, 1, 1, 1, 0, 0],\n",
        "       [0, 0, 0, 0, 0, 0, 0]])"
       ]
      }
     ],
     "prompt_number": 29
    },
    {
     "cell_type": "code",
     "collapsed": false,
     "input": [
      "ndimage.binary_erosion(a).astype(a.dtype)"
     ],
     "language": "python",
     "metadata": {},
     "outputs": [
      {
       "metadata": {},
       "output_type": "pyout",
       "prompt_number": 30,
       "text": [
        "array([[0, 0, 0, 0, 0, 0, 0],\n",
        "       [0, 0, 0, 0, 0, 0, 0],\n",
        "       [0, 0, 0, 1, 0, 0, 0],\n",
        "       [0, 0, 0, 1, 0, 0, 0],\n",
        "       [0, 0, 0, 1, 0, 0, 0],\n",
        "       [0, 0, 0, 0, 0, 0, 0],\n",
        "       [0, 0, 0, 0, 0, 0, 0]])"
       ]
      }
     ],
     "prompt_number": 30
    },
    {
     "cell_type": "code",
     "collapsed": false,
     "input": [
      "#\u8150\u8680\u79fb\u9664\u4e86\u6bd4\u7ed3\u6784\u5c0f\u7684\u5bf9\u8c61\n",
      "ndimage.binary_erosion(a, structure=np.ones((5,5))).astype(a.dtype)"
     ],
     "language": "python",
     "metadata": {},
     "outputs": [
      {
       "metadata": {},
       "output_type": "pyout",
       "prompt_number": 31,
       "text": [
        "array([[0, 0, 0, 0, 0, 0, 0],\n",
        "       [0, 0, 0, 0, 0, 0, 0],\n",
        "       [0, 0, 0, 0, 0, 0, 0],\n",
        "       [0, 0, 0, 0, 0, 0, 0],\n",
        "       [0, 0, 0, 0, 0, 0, 0],\n",
        "       [0, 0, 0, 0, 0, 0, 0],\n",
        "       [0, 0, 0, 0, 0, 0, 0]])"
       ]
      }
     ],
     "prompt_number": 31
    },
    {
     "cell_type": "markdown",
     "metadata": {},
     "source": [
      "- \u6269\u5f20 "
     ]
    },
    {
     "cell_type": "code",
     "collapsed": false,
     "input": [
      "a = np.zeros((5, 5))\n",
      "a[2, 2] = 1\n",
      "a"
     ],
     "language": "python",
     "metadata": {},
     "outputs": [
      {
       "metadata": {},
       "output_type": "pyout",
       "prompt_number": 32,
       "text": [
        "array([[ 0.,  0.,  0.,  0.,  0.],\n",
        "       [ 0.,  0.,  0.,  0.,  0.],\n",
        "       [ 0.,  0.,  1.,  0.,  0.],\n",
        "       [ 0.,  0.,  0.,  0.,  0.],\n",
        "       [ 0.,  0.,  0.,  0.,  0.]])"
       ]
      }
     ],
     "prompt_number": 32
    },
    {
     "cell_type": "code",
     "collapsed": false,
     "input": [
      "ndimage.binary_dilation(a).astype(a.dtype)"
     ],
     "language": "python",
     "metadata": {},
     "outputs": [
      {
       "metadata": {},
       "output_type": "pyout",
       "prompt_number": 33,
       "text": [
        "array([[ 0.,  0.,  0.,  0.,  0.],\n",
        "       [ 0.,  0.,  1.,  0.,  0.],\n",
        "       [ 0.,  1.,  1.,  1.,  0.],\n",
        "       [ 0.,  0.,  1.,  0.,  0.],\n",
        "       [ 0.,  0.,  0.,  0.,  0.]])"
       ]
      }
     ],
     "prompt_number": 33
    },
    {
     "cell_type": "markdown",
     "metadata": {},
     "source": [
      "- \u5f00\u542f"
     ]
    },
    {
     "cell_type": "code",
     "collapsed": false,
     "input": [
      "a = np.zeros((5,5), dtype=np.int)\n",
      "a[1:4, 1:4] = 1; a[4, 4] = 1\n",
      "a"
     ],
     "language": "python",
     "metadata": {},
     "outputs": [
      {
       "metadata": {},
       "output_type": "pyout",
       "prompt_number": 34,
       "text": [
        "array([[0, 0, 0, 0, 0],\n",
        "       [0, 1, 1, 1, 0],\n",
        "       [0, 1, 1, 1, 0],\n",
        "       [0, 1, 1, 1, 0],\n",
        "       [0, 0, 0, 0, 1]])"
       ]
      }
     ],
     "prompt_number": 34
    },
    {
     "cell_type": "code",
     "collapsed": false,
     "input": [
      "# \u5f00\u542f\u79fb\u9664\u4e86\u5c0f\u5bf9\u8c61\n",
      "ndimage.binary_opening(a, structure=np.ones((3,3))).astype(np.int)"
     ],
     "language": "python",
     "metadata": {},
     "outputs": [
      {
       "metadata": {},
       "output_type": "pyout",
       "prompt_number": 35,
       "text": [
        "array([[0, 0, 0, 0, 0],\n",
        "       [0, 1, 1, 1, 0],\n",
        "       [0, 1, 1, 1, 0],\n",
        "       [0, 1, 1, 1, 0],\n",
        "       [0, 0, 0, 0, 0]])"
       ]
      }
     ],
     "prompt_number": 35
    },
    {
     "cell_type": "code",
     "collapsed": false,
     "input": [
      "# \u5f00\u542f\u4e5f\u53ef\u4ee5\u5e73\u6ed1\u62d0\u89d2\n",
      "ndimage.binary_opening(a).astype(np.int)"
     ],
     "language": "python",
     "metadata": {},
     "outputs": [
      {
       "metadata": {},
       "output_type": "pyout",
       "prompt_number": 36,
       "text": [
        "array([[0, 0, 0, 0, 0],\n",
        "       [0, 0, 1, 0, 0],\n",
        "       [0, 1, 1, 1, 0],\n",
        "       [0, 0, 1, 0, 0],\n",
        "       [0, 0, 0, 0, 0]])"
       ]
      }
     ],
     "prompt_number": 36
    },
    {
     "cell_type": "markdown",
     "metadata": {},
     "source": [
      "- \u95ed\u5408: `ndimage.binary_closing`"
     ]
    },
    {
     "cell_type": "markdown",
     "metadata": {},
     "source": [
      "---\n",
      "\n",
      "\u7ec3\u4e60\n",
      "\n",
      "\u9a8c\u8bc1\u4e00\u4e0b\u5f00\u542f\u76f8\u5f53\u4e8e\u5148\u8150\u8680\u518d\u6269\u5f20\u3002\n",
      "\n",
      "---\n",
      "\n",
      "\u5f00\u542f\u64cd\u4f5c\u79fb\u9664\u5c0f\u7684\u7ed3\u6784\uff0c\u800c\u5173\u95ed\u64cd\u4f5c\u586b\u6ee1\u4e86\u5c0f\u6d1e\u3002\u56e0\u6b64\u8fd9\u4e9b\u7528\u6765\u201d\u6e05\u6d17\u201c\u56fe\u50cf\u3002"
     ]
    },
    {
     "cell_type": "code",
     "collapsed": false,
     "input": [
      "a = np.zeros((50, 50))\n",
      "a[10:-10, 10:-10] = 1\n",
      "a += 0.25*np.random.standard_normal(a.shape)\n",
      "mask = a>=0.5\n",
      "opened_mask = ndimage.binary_opening(mask)\n",
      "closed_mask = ndimage.binary_closing(opened_mask)"
     ],
     "language": "python",
     "metadata": {},
     "outputs": [],
     "prompt_number": 37
    },
    {
     "cell_type": "markdown",
     "metadata": {},
     "source": [
      "![](http://scipy-lectures.github.io/_images/morpho.png)"
     ]
    },
    {
     "cell_type": "markdown",
     "metadata": {},
     "source": [
      "---\n",
      "\u7ec3\u4e60\n",
      "\n",
      "\u9a8c\u8bc1\u4e00\u4e0b\u91cd\u5efa\u7684\u65b9\u683c\u9762\u79ef\u6bd4\u539f\u59cb\u65b9\u683c\u7684\u9762\u79ef\u5c0f\u3002\uff08\u5982\u679c\u5173\u95ed\u6b65\u9aa4\u5728\u5f00\u542f\u6b65\u9aa4\u4e4b\u524d\u5219\u76f8\u53cd\uff09\u3002\n",
      "\n",
      "---"
     ]
    },
    {
     "cell_type": "markdown",
     "metadata": {},
     "source": [
      "\u5bf9\u4e8e*\u7070\u5ea6\u503c\u56fe\u50cf*\uff0c\u8150\u8680\uff08\u533a\u522b\u4e8e\u6269\u5f20\uff09\u76f8\u5f53\u4e8e\u7528\u611f\u5174\u8da3\u7684\u50cf\u7d20\u5468\u56f4\u7684\u7ed3\u6784\u5143\u7d20\u4e2d\u7684\u6700\u5c0f\uff08\u533a\u522b\u4e8e\u6700\u5927\uff09\u503c\u66ff\u6362\u50cf\u7d20\u3002"
     ]
    },
    {
     "cell_type": "code",
     "collapsed": false,
     "input": [
      "a = np.zeros((7,7), dtype=np.int)\n",
      "a[1:6, 1:6] = 3\n",
      "a[4,4] = 2; a[2,3] = 1\n",
      "a"
     ],
     "language": "python",
     "metadata": {},
     "outputs": [
      {
       "metadata": {},
       "output_type": "pyout",
       "prompt_number": 39,
       "text": [
        "array([[0, 0, 0, 0, 0, 0, 0],\n",
        "       [0, 3, 3, 3, 3, 3, 0],\n",
        "       [0, 3, 3, 1, 3, 3, 0],\n",
        "       [0, 3, 3, 3, 3, 3, 0],\n",
        "       [0, 3, 3, 3, 2, 3, 0],\n",
        "       [0, 3, 3, 3, 3, 3, 0],\n",
        "       [0, 0, 0, 0, 0, 0, 0]])"
       ]
      }
     ],
     "prompt_number": 39
    },
    {
     "cell_type": "code",
     "collapsed": false,
     "input": [
      "ndimage.grey_erosion(a, size=(3,3))"
     ],
     "language": "python",
     "metadata": {},
     "outputs": [
      {
       "metadata": {},
       "output_type": "pyout",
       "prompt_number": 40,
       "text": [
        "array([[0, 0, 0, 0, 0, 0, 0],\n",
        "       [0, 0, 0, 0, 0, 0, 0],\n",
        "       [0, 0, 1, 1, 1, 0, 0],\n",
        "       [0, 0, 1, 1, 1, 0, 0],\n",
        "       [0, 0, 3, 2, 2, 0, 0],\n",
        "       [0, 0, 0, 0, 0, 0, 0],\n",
        "       [0, 0, 0, 0, 0, 0, 0]])"
       ]
      }
     ],
     "prompt_number": 40
    },
    {
     "cell_type": "markdown",
     "metadata": {},
     "source": [
      "### 1.5.10.4 \u6d4b\u91cf\u56fe\u50cf\n",
      "\n",
      "\u9996\u5148\u8ba9\u6211\u4eec\u751f\u6210\u4e00\u4e2a\u6f02\u4eae\u7684\u4eba\u9020\u4e8c\u7ef4\u56fe\u3002"
     ]
    },
    {
     "cell_type": "code",
     "collapsed": false,
     "input": [
      "x, y = np.indices((100, 100))\n",
      "sig = np.sin(2*np.pi*x/50.)*np.sin(2*np.pi*y/50.)*(1+x*y/50.**2)**2\n",
      "mask = sig > 1"
     ],
     "language": "python",
     "metadata": {},
     "outputs": [],
     "prompt_number": 41
    },
    {
     "cell_type": "markdown",
     "metadata": {},
     "source": [
      "\u73b0\u5728\u8ba9\u6211\u4eec\u770b\u4e00\u4e0b\u56fe\u50cf\u4e2d\u5bf9\u8c61\u7684\u5404\u79cd\u4fe1\u606f\uff1a"
     ]
    },
    {
     "cell_type": "code",
     "collapsed": false,
     "input": [
      "labels, nb = ndimage.label(mask)\n",
      "nb"
     ],
     "language": "python",
     "metadata": {},
     "outputs": [
      {
       "metadata": {},
       "output_type": "pyout",
       "prompt_number": 42,
       "text": [
        "8"
       ]
      }
     ],
     "prompt_number": 42
    },
    {
     "cell_type": "code",
     "collapsed": false,
     "input": [
      "areas = ndimage.sum(mask, labels, xrange(1, labels.max()+1))\n",
      "areas"
     ],
     "language": "python",
     "metadata": {},
     "outputs": [
      {
       "metadata": {},
       "output_type": "pyout",
       "prompt_number": 43,
       "text": [
        "array([ 190.,   45.,  424.,  278.,  459.,  190.,  549.,  424.])"
       ]
      }
     ],
     "prompt_number": 43
    },
    {
     "cell_type": "code",
     "collapsed": false,
     "input": [
      "maxima = ndimage.maximum(sig, labels, xrange(1, labels.max()+1))\n",
      "maxima"
     ],
     "language": "python",
     "metadata": {},
     "outputs": [
      {
       "metadata": {},
       "output_type": "pyout",
       "prompt_number": 44,
       "text": [
        "array([  1.80238238,   1.13527605,   5.51954079,   2.49611818,\n",
        "         6.71673619,   1.80238238,  16.76547217,   5.51954079])"
       ]
      }
     ],
     "prompt_number": 44
    },
    {
     "cell_type": "code",
     "collapsed": false,
     "input": [
      "ndimage.find_objects(labels==4)"
     ],
     "language": "python",
     "metadata": {},
     "outputs": [
      {
       "metadata": {},
       "output_type": "pyout",
       "prompt_number": 45,
       "text": [
        "[(slice(30L, 48L, None), slice(30L, 48L, None))]"
       ]
      }
     ],
     "prompt_number": 45
    },
    {
     "cell_type": "code",
     "collapsed": false,
     "input": [
      "sl = ndimage.find_objects(labels==4)\n",
      "import pylab as pl\n",
      "pl.imshow(sig[sl[0]])   "
     ],
     "language": "python",
     "metadata": {},
     "outputs": [
      {
       "metadata": {},
       "output_type": "pyout",
       "prompt_number": 46,
       "text": [
        "<matplotlib.image.AxesImage at 0x10a861910>"
       ]
      },
      {
       "metadata": {},
       "output_type": "display_data",
       "png": "[encoded data removed]",
       "text": [
        "<matplotlib.figure.Figure at 0x10b01bc50>"
       ]
      }
     ],
     "prompt_number": 46
    },
    {
     "cell_type": "markdown",
     "metadata": {},
     "source": [
      "![](http://scipy-lectures.github.io/_images/measures.png)\n",
      "\n",
      "\u9ad8\u7ea7\u4f8b\u5b50\u8bf7\u770b\u4e00\u4e0b\u603b\u7ed3\u7ec3\u4e60[\u56fe\u50cf\u5904\u7406\u5e94\u7528\uff1a\u8ba1\u6570\u6c14\u6ce1\u548c\u672a\u878d\u5316\u7684\u9897\u7c92](http://scipy-lectures.github.io/intro/summary-exercises/image-processing.html#summary-exercise-image-processing)\n",
      "\n",
      "## 1.5.11 \u79d1\u5b66\u8ba1\u7b97\u7684\u603b\u7ed3\u7ec3\u4e60\n",
      "\n",
      "\u603b\u7ed3\u7ec3\u4e60\u4e3b\u8981\u4f7f\u7528Numpy\u3001Scipy \u548c Matplotlib\u3002\u4ed6\u4eec\u63d0\u4f9b\u4e86\u4e00\u4e9b\u4f7f\u7528Python\u8fdb\u884c\u79d1\u5b66\u8ba1\u7b97\u7684\u771f\u5b9e\u4f8b\u5b50\u3002\u73b0\u5728\uff0c\u5df2\u7ecf\u4ecb\u7ecd\u4e86Numpy\u548cScipy\u7684\u57fa\u672c\u4f7f\u7528\uff0c\u9080\u8bf7\u611f\u5174\u8da3\u7684\u7528\u6237\u53bb\u505a\u8fd9\u4e9b\u7ec3\u4e60\u3002\n",
      "\n",
      "**\u7ec3\u4e60\uff1a**\n",
      "\n",
      "[1.5.11.13 Sprog\u00f8\u6c14\u8c61\u7ad9\u7684\u6700\u5927\u98ce\u901f\u9884\u6d4b](http://scipy-lectures.github.io/intro/summary-exercises/stats-interpolate.html)\n",
      "\n",
      "[1.5.11.14 \u975e\u7ebf\u6027\u6700\u5c0f\u4e8c\u4e58\u66f2\u7ebf\u62df\u5408\uff1a\u5730\u5f62\u673a\u8f7d\u6fc0\u5149\u96f7\u8fbe\u6570\u636e\u4e2d\u7684\u70b9\u62bd\u53d6](http://scipy-lectures.github.io/intro/summary-exercises/optimize-fit.html)\n",
      "\n",
      "[1.5.11.15 \u56fe\u50cf\u5904\u7406\u5e94\u7528\uff1a\u8ba1\u6570\u6c14\u6ce1\u548c\u672a\u878d\u5316\u7684\u9897\u7c92](http://scipy-lectures.github.io/intro/summary-exercises/image-processing.html)\n",
      "\n",
      "**\u63d0\u8bae\u7684\u89e3\u51b3\u65b9\u6848:**\n",
      "\n",
      "[1.5.11.16 \u56fe\u50cf\u5904\u7406\u7ec3\u4e60\uff1a\u73bb\u7483\u4e2d\u7684\u672a\u878d\u5316\u9897\u7c92\u7684\u7b54\u6848\u4f8b\u5b50](http://scipy-lectures.github.io/intro/summary-exercises/answers_image_processing.html)\n",
      "\n",
      "### 1.5.11.13 Sprog\u00f8\u6c14\u8c61\u7ad9\u7684\u6700\u5927\u98ce\u901f\u9884\u6d4b\n",
      "\n",
      "\u8fd9\u4e2a\u7ec3\u4e60\u7684\u76ee\u7684\u662f\u9884\u6d4b\u6bcf50\u5e74\u7684\u6700\u5927\u98ce\u901f\uff0c\u5373\u4f7f\u5728\u4e00\u4e2a\u65f6\u95f4\u6bb5\u5185\u6709\u8bb0\u5f55\u3002\u53ef\u7528\u7684\u6570\u636e\u53ea\u662f\u4f4d\u4e8e\u4e39\u9ea6\u7684Sprog\u00f8\u6c14\u8c61\u7ad9\u768421\u5e74\u7684\u6d4b\u91cf\u6570\u636e\u3002\u9996\u5148\uff0c\u5c06\u7ed9\u51fa\u7edf\u8ba1\u6b65\u9aa4\uff0c\u63a5\u7740\u5c06\u7528scipy.interpolae\u6a21\u5757\u4e2d\u7684\u51fd\u6570\u6765\u89e3\u91ca\u3002\u5728\u6700\u540e\uff0c\u5c06\u9080\u8bf7\u611f\u5174\u8da3\u7684\u8bfb\u8005\u7528\u4e0d\u540c\u7684\u65b9\u6cd5\u4ece\u539f\u59cb\u6570\u636e\u8ba1\u7b97\u7ed3\u679c\u3002\n",
      "\n",
      "#### 1.5.11.13.1 \u7edf\u8ba1\u65b9\u6cd5\n",
      "\n",
      "\u5047\u8bbe\u5e74\u5ea6\u6700\u5927\u503c\u7b26\u5408\u6b63\u6001\u6982\u7387\u5bc6\u5ea6\u51fd\u6570\u3002\u4f46\u662f\uff0c\u8fd9\u4e2a\u51fd\u6570\u4e0d\u80fd\u7528\u6765\u9884\u6d4b\uff0c\u56e0\u4e3a\u5b83\u4ece\u901f\u5ea6\u6700\u5927\u503c\u4e2d\u7ed9\u51fa\u4e86\u6982\u7387\u3002\u627e\u5230\u6bcf50\u5e74\u7684\u6700\u5927\u98ce\u901f\u9700\u8981\u76f8\u53cd\u7684\u65b9\u6cd5\uff0c\u9700\u8981\u4ece\u786e\u5b9a\u7684\u6982\u7387\u4e2d\u627e\u5230\u7ed3\u679c\u3002\u8fd9\u662f\u767e\u5206\u4f4d\u6570\u51fd\u6570\u7684\u4f5c\u7528\u800c\u8fd9\u4e2a\u7ec3\u4e60\u7684\u76ee\u7684\u662f\u627e\u5230\u5b83\u3002\u5728\u5f53\u524d\u7684\u6a21\u578b\u4e2d\uff0c\u5047\u8bbe\u6bcf50\u5e74\u51fa\u73b0\u7684\u6700\u5927\u98ce\u901f\u5b9a\u4e49\u4e3a\u9ad8\u4e8e2%\u767e\u5206\u4f4d\u6570\u3002\n",
      "\n",
      "\u6839\u636e\u5b9a\u4e49\uff0c\u767e\u5206\u4f4d\u6570\u51fd\u6570\u662f\u7d2f\u79ef\u5206\u5e03\u51fd\u6570\u7684\u53cd\u51fd\u6570\u3002\u540e\u8005\u63cf\u8ff0\u4e86\u5e74\u5ea6\u6700\u5927\u503c\u7684\u6982\u7387\u5206\u5e03\u3002\u5728\u8fd9\u4e2a\u7ec3\u4e60\u4e2d\uff0c\u7ed9\u5b9a\u5e74\u4efd$i$\u7684\u7d2f\u79ef\u6982\u7387$p_i$\u88ab\u5b9a\u4e49\u4e3a$p_i = i/(N+1)$\uff0c\u5176\u4e2d$N = 21$\uff0c\u6d4b\u91cf\u7684\u5e74\u6570\u3002\u56e0\u6b64\uff0c\u8ba1\u7b97\u6bcf\u4e2a\u6d4b\u91cf\u8fc7\u7684\u98ce\u901f\u6700\u5927\u503c\u7684\u7d2f\u79ef\u6982\u7387\u662f\u53ef\u4ee5\u884c\u7684\u3002\u4ece\u8fd9\u4e9b\u5b9e\u9a8c\u70b9\uff0cscipy.interpolate\u6a21\u5757\u5c06\u5bf9\u62df\u5408\u767e\u5206\u4f4d\u6570\u51fd\u6570\u975e\u5e38\u6709\u7528\u3002\u6700\u540e\uff0c50\u5e74\u7684\u6700\u5927\u503c\u5c06\u4ece\u7d2f\u79ef\u6982\u7387\u76842%\u767e\u5206\u4f4d\u6570\u4e2d\u9884\u4f30\u51fa\u6765\u3002\n",
      "\n",
      "#### 1.5.11.13.2 \u8ba1\u7b97\u7d2f\u79ef\u6982\u7387\n",
      "\n",
      "\u001f\u8ba1\u7b97\u597d\u7684numpy\u683c\u5f0f\u7684\u5e74\u5ea6\u98ce\u901f\u6700\u5927\u503c\u5b58\u50a8\u5728[examples/max-speeds.npy](http://scipy-lectures.github.io/_downloads/max-speeds.npy)\u6587\u4ef6\u4e2d,\u001f \u56e0\u6b64\uff0c\u53ef\u4ee5\u7528numpy\u52a0\u8f7d\uff1a"
     ]
    },
    {
     "cell_type": "code",
     "collapsed": false,
     "input": [
      "import numpy as np\n",
      "max_speeds = np.load('data/max-speeds.npy')\n",
      "years_nb = max_speeds.shape[0]"
     ],
     "language": "python",
     "metadata": {},
     "outputs": [],
     "prompt_number": 4
    },
    {
     "cell_type": "markdown",
     "metadata": {},
     "source": [
      "\u4e0b\u9762\u662f\u524d\u9762\u677f\u5757\u7684\u7d2f\u79ef\u6982\u7387\u5b9a\u4e49$p_i$\uff0c\u5bf9\u5e94\u503c\u5c06\u4e3a\uff1a"
     ]
    },
    {
     "cell_type": "code",
     "collapsed": false,
     "input": [
      "cprob = (np.arange(years_nb, dtype=np.float32) + 1)/(years_nb + 1)"
     ],
     "language": "python",
     "metadata": {},
     "outputs": [],
     "prompt_number": 5
    },
    {
     "cell_type": "markdown",
     "metadata": {},
     "source": [
      "\u5e76\u4e14\u5047\u8bbe\u4ed6\u4eec\u53ef\u4ee5\u62df\u5408\u7ed9\u5b9a\u7684\u98ce\u901f\uff1a"
     ]
    },
    {
     "cell_type": "code",
     "collapsed": false,
     "input": [
      "sorted_max_speeds = np.sort(max_speeds)"
     ],
     "language": "python",
     "metadata": {},
     "outputs": [],
     "prompt_number": 6
    },
    {
     "cell_type": "markdown",
     "metadata": {},
     "source": [
      "#### 1.5.11.13.3 \u7528UnivariateSpline\u9884\u6d4b\n",
      "\n",
      "\u5728\u8fd9\u4e2a\u90e8\u5206\uff0c\u767e\u5206\u4f4d\u6570\u51fd\u6570\u5c06\u7528`UnivariateSpline`\u7c7b\u6765\u4f30\u8ba1\uff0c\u8fd9\u4e2a\u7c7b\u7528\u70b9\u4ee3\u8868\u6837\u6761\u3002 \u9ed8\u8ba4\u884c\u4e3a\u662f\u6784\u5efa\u4e00\u4e2a3\u5ea6\u7684\u6837\u6761\uff0c\u4e0d\u540c\u7684\u70b9\u6839\u636e\u4ed6\u4eec\u7684\u53ef\u9760\u6027\u53ef\u80fd\u6709\u4e0d\u540c\u7684\u6743\u91cd\u3002\u76f8\u5173\u7684\u53d8\u4f53\u8fd8\u6709`InterpolatedUnivariateSpline`\u548c`LSQUnivariateSpline`\uff0c\u5dee\u522b\u5728\u4e8e\u68c0\u67e5\u8bef\u5dee\u7684\u65b9\u5f0f\u4e0d\u540c\u3002\u5982\u679c\u9700\u89812D\u6837\u6761\uff0c\u53ef\u4ee5\u4f7f\u7528`BivariateSpline`\u5bb6\u65cf\u7c7b\u3002\u6240\u6709\u8fd9\u4e9b1D\u548c2D\u6837\u6761\u4f7f\u7528FITPACK Fortran \u7a0b\u5e8f\uff0c\u8fd9\u5c31\u662f\u4e3a\u4ec0\u4e48\u901a\u8fc7`splrep`\u548c`splev`\u51fd\u6570\u6765\u8868\u5f81\u548c\u8bc4\u4f30\u6837\u6761\u7684\u5e93\u66f4\u5c11\u3002\u540c\u65f6\uff0c\u4e0d\u4f7f\u7528FITPACK\u53c2\u6570\u7684\u63d2\u503c\u51fd\u6570\u4e5f\u63d0\u4f9b\u66f4\u7b80\u4fbf\u7684\u7528\u6cd5\uff08\u89c1`interp1d`, `interp2d`, `barycentric_interpolate`\u7b49\u7b49\uff09\u3002\n",
      "\u5bf9\u4e8eSprog\u00f8\u6700\u5927\u98ce\u901f\u7684\u4f8b\u5b50\uff0c\u5c06\u4f7f\u7528`UnivariateSpline`\uff0c\u56e0\u4e3a3\u5ea6\u7684\u6837\u6761\u4f3c\u4e4e\u53ef\u4ee5\u6b63\u786e\u62df\u5408\u6570\u636e\uff1a"
     ]
    },
    {
     "cell_type": "code",
     "collapsed": false,
     "input": [
      "from scipy.interpolate import UnivariateSpline\n",
      "quantile_func = UnivariateSpline(cprob, sorted_max_speeds)"
     ],
     "language": "python",
     "metadata": {},
     "outputs": [],
     "prompt_number": 7
    },
    {
     "cell_type": "markdown",
     "metadata": {},
     "source": [
      "\u767e\u5206\u4f4d\u6570\u51fd\u6570\u5c06\u7528\u8bc4\u4f30\u6765\u6240\u6709\u8303\u56f4\u7684\u6982\u7387\uff1a"
     ]
    },
    {
     "cell_type": "code",
     "collapsed": false,
     "input": [
      "nprob = np.linspace(0, 1, 1e2)\n",
      "fitted_max_speeds = quantile_func(nprob)"
     ],
     "language": "python",
     "metadata": {},
     "outputs": [],
     "prompt_number": 8
    },
    {
     "cell_type": "markdown",
     "metadata": {},
     "source": [
      "\u5728\u5f53\u524d\u7684\u6a21\u578b\u4e2d\uff0c\u6bcf50\u5e74\u51fa\u73b0\u7684\u6700\u5927\u98ce\u901f\u88ab\u5b9a\u4e49\u4e3a\u5927\u4e8e2%\u767e\u5206\u4f4d\u6570\u3002\u4f5c\u4e3a\u7ed3\u679c\uff0c\u7d2f\u79ef\u6982\u7387\u503c\u5c06\u662f\uff1a"
     ]
    },
    {
     "cell_type": "code",
     "collapsed": false,
     "input": [
      "fifty_prob = 1. - 0.02"
     ],
     "language": "python",
     "metadata": {},
     "outputs": [],
     "prompt_number": 9
    },
    {
     "cell_type": "markdown",
     "metadata": {},
     "source": [
      "\u56e0\u6b64\uff0c\u53ef\u4ee5\u731c\u6d4b50\u5e74\u4e00\u9047\u7684\u66b4\u98ce\u96ea\u98ce\u901f\u4e3a\uff1a"
     ]
    },
    {
     "cell_type": "code",
     "collapsed": false,
     "input": [
      "fifty_wind = quantile_func(fifty_prob)\n",
      "fifty_wind  "
     ],
     "language": "python",
     "metadata": {},
     "outputs": [
      {
       "metadata": {},
       "output_type": "pyout",
       "prompt_number": 10,
       "text": [
        "array(32.97989825386221)"
       ]
      }
     ],
     "prompt_number": 10
    },
    {
     "cell_type": "markdown",
     "metadata": {},
     "source": [
      "\u73b0\u5728\uff0c\u7ed3\u679c\u88ab\u6536\u96c6\u5728Matplotlib\u56fe\u7247\u4e2d\uff1a\n",
      "\n",
      "![](http://scipy-lectures.github.io/_images/plot_cumulative_wind_speed_prediction_1.png)\n",
      "\n",
      "\u7b54\u6848\uff1a[Python\u6e90\u6587\u4ef6](http://scipy-lectures.github.io/intro/summary-exercises/auto_examples/plot_cumulative_wind_speed_prediction.html#example-plot-cumulative-wind-speed-prediction-py)\n",
      "\n",
      "#### 1.5.11.13.4 Gumbell\u5206\u5e03\u7ec3\u4e60\n",
      "\n",
      "\u73b0\u5728\u9080\u8bf7\u611f\u5174\u8da3\u7684\u8bfb\u8005\u752821\u5e74\u6d4b\u91cf\u7684\u98ce\u901f\u505a\u4e00\u4e2a\u7ec3\u4e60\u3002\u6d4b\u91cf\u533a\u95f4\u4e3a90\u5206\u949f\uff08\u539f\u59cb\u7684\u533a\u95f4\u7ea6\u4e3a10\u5206\u949f\uff0c\u4f46\u662f\uff0c\u4e3a\u4e86\u8ba9\u7ec3\u4e60\u7684\u8bbe\u7f6e\u7b80\u5355\u4e00\u4e9b\uff0c\u7f29\u5c0f\u4e86\u6587\u4ef6\u7684\u5927\u5c0f\uff09\u3002\u6570\u636e\u4ee5numpy\u683c\u5f0f\u5b58\u50a8\u5728\u6587\u4ef6[examples/sprog-windspeeds.npy](http://scipy-lectures.github.io/_downloads/sprog-windspeeds.npy)\u4e2d\u3002 \u5728\u5b8c\u6210\u7ec3\u4e60\u540e\uff0c\u4e0d\u8981\u770b\u7ed8\u56fe\u7684\u6e90\u4ee3\u7801\u3002\n",
      "\n",
      "- \u7b2c\u4e00\u6b65\u5c06\u662f\u901a\u8fc7\u4f7f\u7528numpy\u6765\u627e\u5230\u5e74\u5ea6\u6700\u5927\u503c\uff0c\u7136\u540e\u5c06\u5b83\u4eec\u7ed8\u5236\u4e3amatplotlibe\u6761\u5f62\u56fe\u3002\n",
      "![](http://scipy-lectures.github.io/_images/plot_sprog_annual_maxima_1.png)\n",
      "\n",
      "\u7b54\u6848\uff1a[Python\u6e90\u6587\u4ef6](http://scipy-lectures.github.io/intro/summary-exercises/auto_examples/plot_sprog_annual_maxima.html#example-plot-sprog-annual-maxima-py)\n",
      "\n",
      "- \u7b2c\u4e8c\u6b65\u5c06\u662f\u5728\u7d2f\u79ef\u6982\u7387$p_i$\u4f7f\u7528Gumbell\u5206\u5e03\uff0c$p_i$\u7684\u5b9a\u4e49\u662f$-log( -log(p_i) )$\u7528\u6765\u62df\u5408\u7ebf\u6027\u767e\u5206\u4f4d\u6570\u51fd\u6570\uff08\u8bb0\u4f4f\u4f60\u53ef\u4ee5\u5b9a\u4e49UnivariateSpline\u7684\u5ea6\u6570\uff09\u3002 \u7ed8\u5236\u5e74\u5ea6\u6700\u5927\u503c\u548cGumbell\u5206\u5e03\u5c06\u751f\u4ea7\u5982\u4e0b\u56fe\u7247\u3002\n",
      "\n",
      "![](http://scipy-lectures.github.io/_images/plot_gumbell_wind_speed_prediction_1.png)\n",
      "\n",
      "\u7b54\u6848\uff1a[Python\u6e90\u6587\u4ef6](http://scipy-lectures.github.io/intro/summary-exercises/auto_examples/plot_gumbell_wind_speed_prediction.html#example-plot-gumbell-wind-speed-prediction-py)\n",
      "\n",
      "- \u6700\u540e\u4e00\u6b65\u5c06\u662f\u627e\u5230\u5728\u6bcf50\u5e74\u51fa\u73b0\u7684\u6700\u5927\u98ce\u901f34.23 m/s\u3002\n",
      "\n",
      "\n",
      "### 1.5.11.14 \u975e\u7ebf\u6027\u6700\u5c0f\u4e8c\u4e58\u66f2\u7ebf\u62df\u5408\uff1a\u5730\u7406\u96f7\u8fbe\u6570\u636e\u4e2d\u7684\u70b9\u62bd\u53d6\u5e94\u7528\n",
      "\n",
      "\u8fd9\u4e2a\u7ec3\u4e60\u7684\u76ee\u7684\u662f\u7528\u6a21\u578b\u53bb\u62df\u5408\u4e00\u4e9b\u6570\u636e\u3002\u8fd9\u7bc7\u6559\u7a0b\u4e2d\u7684\u6570\u636e\u662f\u96f7\u8fbe\u6570\u636e\uff0c\u4e0b\u9762\u7684\u4ecb\u7ecd\u6bb5\u843d\u5c06\u8be6\u7ec6\u4ecb\u7ecd\u3002\u5982\u679c\u4f60\u6ca1\u6709\u8010\u5fc3\uff0c\u60f3\u8981\u9a6c\u4e0a\u8fdb\u884c\u8054\u7cfb\uff0c\u90a3\u4e48\u8bf7\u8df3\u8fc7\u8fd9\u90e8\u5206\uff0c\u5e76\u76f4\u63a5\u8fdb\u5165[\u52a0\u8f7d\u548c\u53ef\u89c6\u5316](http://scipy-lectures.github.io/intro/summary-exercises/optimize-fit.html#first-step)\u3002\n",
      "\n",
      "#### 1.5.11.14.1 \u4ecb\u7ecd\n",
      "\n",
      "\u96f7\u8fbe\u7cfb\u7edf\u662f\u5149\u5b66\u6d4b\u8ddd\u4eea\uff0c\u901a\u8fc7\u5206\u6790\u79bb\u6563\u5149\u7684\u5c5e\u6027\u6765\u6d4b\u91cf\u8ddd\u79bb\u3002\u7edd\u5927\u591a\u6570\u5149\u5b66\u6d4b\u8ddd\u4eea\u5411\u76ee\u6807\u53d1\u5c04\u4e00\u6bb5\u77ed\u5149\u5b66\u8109\u51b2\uff0c\u7136\u540e\u8bb0\u5f55\u53cd\u5c04\u4fe1\u53f7\u3002\u7136\u540e\u5904\u7406\u8fd9\u4e2a\u4fe1\u53f7\u6765\u62bd\u53d6\u96f7\u8fbe\u7cfb\u7edf\u4e0e\u76ee\u6807\u95f4\u7684\u8ddd\u79bb\u3002\n",
      "\n",
      "\u5730\u5f62\u96f7\u8fbe\u7cfb\u7edf\u662f\u5d4c\u5165\u5728\u98de\u884c\u5e73\u53f0\u7684\u96f7\u8fbe\u7cfb\u7edf\u3002\u5b83\u4eec\u6d4b\u91cf\u5e73\u53f0\u4e0e\u5730\u7403\u7684\u8ddd\u79bb\uff0c\u4ee5\u4fbf\u8ba1\u7b97\u51fa\u5730\u7403\u7684\u5730\u5f62\u4fe1\u606f\uff08\u66f4\u591a\u7ec6\u8282\u89c1[[1]](http://scipy-lectures.github.io/intro/summary-exercises/optimize-fit.html#mallet)\uff09\u3002\n",
      "\n",
      "---\n",
      "[1]\tMallet, C. and Bretar, F. Full-Waveform Topographic Lidar: State-of-the-Art. ISPRS Journal of Photogrammetry and Remote Sensing 64(1), pp.1-16, January 2009 http://dx.doi.org/10.1016/j.isprsjprs.2008.09.007\n",
      "\n",
      "---\n",
      "\n",
      "\u8fd9\u7bc7\u6559\u7a0b\u7684\u76ee\u7684\u662f\u5206\u6790\u96f7\u8fbe\u7cfb\u7edf\u8bb0\u5f55\u5230\u7684\u6ce2\u5f62\u6570\u636e[[2]](http://scipy-lectures.github.io/intro/summary-exercises/optimize-fit.html#data)\u3002\u8fd9\u79cd\u4fe1\u53f7\u5305\u542b\u6ce2\u5cf0\uff0c\u6ce2\u5cf0\u7684\u4e2d\u5fc3\u548c\u632f\u5e45\u53ef\u4ee5\u7528\u6765\u8ba1\u7b97\u547d\u4e2d\u76ee\u6807\u7684\u4f4d\u7f6e\u548c\u4e00\u4e9b\u7279\u6027\u3002\u5f53\u6fc0\u5149\u67f1\u7684\u811a\u6b65\u8ddd\u79bb\u5730\u7403\u8868\u97621m\u5de6\u53f3\uff0c\u5149\u67f1\u53ef\u4ee5\u5728\u4e8c\u6b21\u4f20\u64ad\u65f6\u51fb\u4e2d\u591a\u4e2a\u76ee\u6807\uff08\u4f8b\u5982\uff0c\u5730\u9762\u548c\u6811\u6728\u6216\u5efa\u7b51\u7684\u9876\u90e8\uff09\u3002\u6fc0\u5149\u67f1\u7684\u51fb\u4e2d\u6bcf\u4e2a\u76ee\u6807\u7684\u8d21\u732e\u4e4b\u548c\u4f1a\u4ea7\u751f\u4e00\u4e2a\u6709\u591a\u4e2a\u6ce2\u5cf0\u7684\u590d\u6742\u6ce2\uff0c\u6bcf\u4e00\u4e2a\u5305\u542b\u4e00\u4e2a\u76ee\u6807\u7684\u4fe1\u606f\u3002\n",
      "\n",
      "\u4e00\u79cd\u4ece\u8fd9\u4e9b\u6570\u636e\u4e2d\u62bd\u53d6\u4fe1\u606f\u7684\u5148\u8fdb\u65b9\u6cd5\u662f\u5728\u4e00\u4e2a\u9ad8\u65af\u51fd\u6570\u548c\u4e2d\u5206\u89e3\u8fd9\u4e9b\u4fe1\u606f\uff0c\u6bcf\u4e2a\u51fd\u6570\u4ee3\u8868\u6fc0\u5149\u67f1\u51fb\u4e2d\u7684\u4e00\u4e2a\u76ee\u6807\u7684\u8d21\u732e\u3002\n",
      "\n",
      "\u56e0\u6b64\uff0c\u6211\u4eec\u4f7f\u7528`the scipy.optimize`\u6a21\u5757\u5c06\u6ce2\u5f62\u62df\u5408\u4e3a\u4e00\u4e2a\u9ad8\u65af\u51fd\u6570\u6216\u9ad8\u65af\u51fd\u6570\u4e4b\u548c\u3002\n",
      "\n",
      "#### 1.5.11.14.2 \u52a0\u8f7d\u548c\u53ef\u89c6\u5316\n",
      "\n",
      "\u52a0\u8f7d\u7b2c\u4e00\u4e2a\u6ce2\u5f62\uff1a"
     ]
    },
    {
     "cell_type": "code",
     "collapsed": false,
     "input": [
      "import numpy as np\n",
      "waveform_1 = np.load('data/waveform_1.npy')"
     ],
     "language": "python",
     "metadata": {},
     "outputs": [],
     "prompt_number": 1
    },
    {
     "cell_type": "markdown",
     "metadata": {},
     "source": [
      "\u63a5\u7740\u53ef\u89c6\u5316\uff1a"
     ]
    },
    {
     "cell_type": "code",
     "collapsed": false,
     "input": [
      "import matplotlib.pyplot as plt\n",
      "t = np.arange(len(waveform_1))\n",
      "plt.plot(t, waveform_1) \n",
      "plt.show() "
     ],
     "language": "python",
     "metadata": {},
     "outputs": [
      {
       "metadata": {},
       "output_type": "display_data",
       "png": "[encoded data removed]",
       "text": [
        "<matplotlib.figure.Figure at 0x1061a7ad0>"
       ]
      }
     ],
     "prompt_number": 2
    },
    {
     "cell_type": "markdown",
     "metadata": {},
     "source": [
      "\u4f60\u53ef\u4ee5\u6ce8\u610f\u5230\uff0c\u8fd9\u4e2a\u6ce2\u5f62\u662f\u5355\u5cf080\u4e2a\u533a\u95f4\u7684\u4fe1\u606f\u3002\n",
      "\n",
      "#### 1.5.11.14.3 \u7528\u7b80\u5355\u7684\u9ad8\u65af\u6a21\u578b\u62df\u5408\u6ce2\u5f62\n",
      "\n",
      "\u8fd9\u4e2a\u4fe1\u53f7\u975e\u5e38\u7b80\u5355\uff0c\u53ef\u4ee5\u88ab\u5efa\u6a21\u4e3a\u4e00\u4e2a\u9ad8\u65af\u51fd\u6570\uff0c\u62b5\u6d88\u76f8\u5e94\u7684\u80cc\u666f\u566a\u97f3\u3002\u8981\u7528\u51fd\u6570\u62df\u5408\u8fd9\u4e2a\u4fe1\u53f7\uff0c\u6211\u4eec\u5fc5\u987b\uff1a\n",
      "- \u5b9a\u4e49\u4e00\u4e2a\u6a21\u578b\n",
      "- \u7ed9\u51fa\u521d\u59cb\u89e3\n",
      "- \u8c03\u7528`scipy.optimize.leastsq`\n",
      "\n",
      "##### 1.5.11.14.3.1 \u6a21\u578b\n",
      "\n",
      "\u9ad8\u65af\u51fd\u6570\u5b9a\u4e49\u5982\u4e0b\uff1a\n",
      "\n",
      "$B + A \\exp\\left\\{-\\left(\\frac{t-\\mu}{\\sigma}\\right)^2\\right\\}$\n",
      "\n",
      "\u5728Python\u4e2d\u5b9a\u4e49\u5982\u4e0b\uff1a"
     ]
    },
    {
     "cell_type": "code",
     "collapsed": false,
     "input": [
      "def model(t, coeffs):\n",
      "    return coeffs[0] + coeffs[1] * np.exp( - ((t-coeffs[2])/coeffs[3])**2 )"
     ],
     "language": "python",
     "metadata": {},
     "outputs": [],
     "prompt_number": 3
    },
    {
     "cell_type": "markdown",
     "metadata": {},
     "source": [
      "\u5176\u4e2d\n",
      "\n",
      "- coeffs[0] is $B$ (noise)\n",
      "- coeffs[1] is $A$ (amplitude)\n",
      "- coeffs[2] is $\\mu$ (center)\n",
      "- coeffs[3] is $\\sigma$ (width)\n",
      "\n",
      "##### 1.5.11.14.3.2 \u521d\u59cb\u89e3\n",
      "\n",
      "\u901a\u8fc7\u89c2\u5bdf\u56fe\u5f62\uff0c\u6211\u4eec\u53ef\u4ee5\u627e\u5230\u5927\u6982\u7684\u521d\u59cb\u89e3\uff0c\u4f8b\u5982\uff1a"
     ]
    },
    {
     "cell_type": "code",
     "collapsed": false,
     "input": [
      "x0 = np.array([3, 30, 15, 1], dtype=float)"
     ],
     "language": "python",
     "metadata": {},
     "outputs": [],
     "prompt_number": 5
    },
    {
     "cell_type": "markdown",
     "metadata": {},
     "source": [
      "##### 1.5.11.14.3.3 \u62df\u5408\n",
      "\n",
      "`scipy.optimize.leastsq`\u6700\u5c0f\u5316\u4f5c\u4e3a\u53c2\u6570\u7ed9\u5230\u7684\u51fd\u6570\u7684\u5e73\u65b9\u548c\u3002\u672c\u8d28\u4e0a\u6765\u8bf4\uff0c\u51fd\u6570\u6700\u5c0f\u5316\u7684\u662f\u6b8b\u5dee\uff08\u6570\u636e\u4e0e\u6a21\u578b\u7684\u5dee\u5f02\uff09\uff1a"
     ]
    },
    {
     "cell_type": "code",
     "collapsed": false,
     "input": [
      "def residuals(coeffs, y, t):\n",
      "    return y - model(t, coeffs)"
     ],
     "language": "python",
     "metadata": {},
     "outputs": [],
     "prompt_number": 6
    },
    {
     "cell_type": "markdown",
     "metadata": {},
     "source": [
      "\u56e0\u6b64\uff0c\u8ba9\u6211\u4eec\u901a\u8fc7\u4e0b\u5217\u53c2\u6570\u8c03\u7528`scipy.optimize.leastsq`\u6765\u6c42\u89e3\uff1a\n",
      "- \u6700\u5c0f\u5316\u7684\u51fd\u6570\n",
      "- \u521d\u59cb\u89e3\n",
      "- \u4f20\u9012\u7ed9\u51fd\u6570\u7684\u989d\u5916\u53c2\u6570"
     ]
    },
    {
     "cell_type": "code",
     "collapsed": false,
     "input": [
      "from scipy.optimize import leastsq\n",
      "x, flag = leastsq(residuals, x0, args=(waveform_1, t))\n",
      "print x"
     ],
     "language": "python",
     "metadata": {},
     "outputs": [
      {
       "output_type": "stream",
       "stream": "stdout",
       "text": [
        "[  2.70363341  27.82020741  15.47924562   3.05636228]\n"
       ]
      }
     ],
     "prompt_number": 7
    },
    {
     "cell_type": "markdown",
     "metadata": {},
     "source": [
      "\u7b54\u6848\u53ef\u89c6\u5316\uff1a"
     ]
    },
    {
     "cell_type": "code",
     "collapsed": false,
     "input": [
      "plt.plot(t, waveform_1, t, model(t, x)) \n",
      "plt.legend(['waveform', 'model']) \n",
      "plt.show() "
     ],
     "language": "python",
     "metadata": {},
     "outputs": [
      {
       "metadata": {},
       "output_type": "display_data",
       "png": "[encoded data removed]",
       "text": [
        "<matplotlib.figure.Figure at 0x107136390>"
       ]
      }
     ],
     "prompt_number": 8
    },
    {
     "cell_type": "markdown",
     "metadata": {},
     "source": [
      "\u5907\u6ce8\uff1a\u4ecescipy v0.8\u53ca\u4ee5\u4e0a\uff0c\u4f60\u5e94\u8be5\u4f7f\u7528`scipy.optimize.curve_fit`\uff0c\u5b83\u4f7f\u7528\u6a21\u578b\u548c\u6570\u636e\u4f5c\u4e3a\u53c2\u6570\uff0c\u56e0\u6b64\uff0c\u4f60\u4e0d\u518d\u9700\u8981\u5b9a\u4e49\u6b8b\u5dee\u3002\n",
      "\n",
      "#### 1.5.11.14.4 \u66f4\u8fdb\u4e00\u6b65\n",
      "\n",
      "- \u8bd5\u4e00\u4e0b\u5305\u542b\u4e09\u4e2a\u6ce2\u5cf0\u7684\u66f4\u590d\u6742\u6ce2\u5f62\uff08\u4f8b\u5982[data/waveform_2.npy](https://github.com/scipy-lectures/scipy-lecture-notes/raw/master/data/waveform_2.npy)\uff09\u3002\u4f60\u5fc5\u987b\u8c03\u6574\u6a21\u578b\uff0c\u73b0\u5728\u5b83\u662f\u9ad8\u65af\u51fd\u6570\u4e4b\u548c\uff0c\u800c\u4e0d\u662f\u53ea\u6709\u4e00\u4e2a\u9ad8\u65af\u6ce2\u5cf0\u3002\n",
      "\n",
      "![](http://scipy-lectures.github.io/_images/waveform_2.png)\n",
      "\n",
      "- \u5728\u4e00\u4e9b\u60c5\u51b5\u4e0b\uff0c\u5199\u4e00\u4e2a\u51fd\u6570\u6765\u8ba1\u7b97Jacobian\uff0c\u8981\u6bd4\u8ba9leastsq\u4ece\u6570\u503c\u4e0a\u4f30\u8ba1\u5b83\u6765\u7684\u5feb\u3002\u521b\u5efa\u4e00\u4e2a\u51fd\u6570\u6765\u8ba1\u7b97\u6b8b\u5dee\u7684Jacobian\uff0c\u5e76\u4e14\u7528\u5b83\u4f5c\u4e3aleastsq\u7684\u4e00\u4e2a\u8f93\u5165\u3002\n",
      "- \u5f53\u6211\u4eec\u60f3\u8981\u8bc6\u522b\u4fe1\u53f7\u4e2d\u975e\u5e38\u5c0f\u7684\u5cf0\u503c\uff0c\u6216\u8005\u521d\u59cb\u7684\u731c\u6d4b\u79bb\u597d\u7684\u89e3\u51b3\u65b9\u6848\u592a\u8fdc\u65f6\uff0c\u7b97\u6cd5\u7ed9\u51fa\u7684\u7ed3\u679c\u5f80\u5f80\u4e0d\u80fd\u4ee4\u4eba\u6ee1\u610f\u3002\u4e3a\u6a21\u578b\u53c2\u6570\u6dfb\u52a0\u9650\u5236When we want to detect very small peaks in the signal, or when the initial guess is too far from a good solution, the result given by the algorithm is often not satisfying. Adding constraints to the parameters of the model enables to overcome such limitations. An example of a priori knowledge we can add is the sign of our variables (which are all positive).\n",
      "With the following initial solution:\n",
      ">>>111\n"
     ]
    },
    {
     "cell_type": "code",
     "collapsed": false,
     "input": [
      "1.5.11.14.4. Going further\n",
      "\n",
      "Try with a more complex waveform (for instance data/waveform_2.npy) that contains three significant peaks. You must adapt the model which is now a sum of Gaussian functions instead of only one Gaussian peak."
     ],
     "language": "python",
     "metadata": {},
     "outputs": []
    }
   ],
   "metadata": {}
  }
 ]
}