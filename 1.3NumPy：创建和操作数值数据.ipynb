{
 "metadata": {
  "name": "",
  "signature": "sha256:7a52a2643cd8fe4138ef9497515f6d2bdf2520e100b599a88ffdf494a76b5c9c"
 },
 "nbformat": 3,
 "nbformat_minor": 0,
 "worksheets": [
  {
   "cells": [
    {
     "cell_type": "markdown",
     "metadata": {},
     "source": [
      "> \u4f5c\u8005\uff1aEmmanuelle Gouillart\u3001Didrik Pinte\u3001Ga\u00ebl Varoquaux \u548c Pauli Virtanen\n",
      "\n",
      "\u672c\u7ae0\u7ed9\u51fa\u5173\u4e8eNumpy\u6982\u8ff0\uff0cNumpy\u662fPython\u4e2d\u9ad8\u6548\u6570\u503c\u8ba1\u7b97\u7684\u6838\u5fc3\u5de5\u5177\u3002\n",
      "\n",
      "## 1.3.1 Numpy \u6570\u7ec4\u5bf9\u8c61\n",
      "\n",
      "### 1.3.1.1 \u4ec0\u4e48\u662fNumpy\u4ee5\u53caNumpy\u6570\u7ec4\uff1f\n",
      "\n",
      "#### 1.3.1.1.1 Numpy\u6570\u7ec4\n",
      "\n",
      "**Python\u5bf9\u8c61\uff1a**\n",
      "\n",
      "* \u9ad8\u7ea7\u6570\u503c\u5bf9\u8c61\uff1a\u6574\u6570\u3001\u6d6e\u70b9\n",
      "* \u5bb9\u5668\uff1a\u5217\u8868\uff08\u65e0\u6210\u672c\u63d2\u5165\u548c\u9644\u52a0\uff09\uff0c\u5b57\u5178\uff08\u5feb\u901f\u67e5\u627e\uff09\n",
      "\n",
      "**Numpy\u63d0\u4f9b\uff1a**\n",
      "\n",
      "* \u5bf9\u4e8e\u591a\u7ef4\u5ea6\u6570\u7ec4\u7684Python\u6269\u5c55\u5305\n",
      "* \u66f4\u8d34\u8fd1\u786c\u4ef6\uff08\u6548\u7387\uff09\n",
      "* \u4e3a\u79d1\u5b66\u8ba1\u7b97\u8bbe\u8ba1\uff08\u65b9\u4fbf\uff09\n",
      "* \u4e5f\u79f0\u4e3a*\u9762\u5411\u6570\u7ec4\u8ba1\u7b97*"
     ]
    },
    {
     "cell_type": "code",
     "collapsed": false,
     "input": [
      "import numpy as np\n",
      "a = np.array([0, 1, 2, 3])\n",
      "a"
     ],
     "language": "python",
     "metadata": {},
     "outputs": [
      {
       "metadata": {},
       "output_type": "pyout",
       "prompt_number": 1,
       "text": [
        "array([0, 1, 2, 3])"
       ]
      }
     ],
     "prompt_number": 1
    },
    {
     "cell_type": "markdown",
     "metadata": {},
     "source": [
      "\u4f8b\u5982\uff0c\u6570\u7ec4\u5305\u542b\uff1a\n",
      "\n",
      "* \u5b9e\u9a8c\u6216\u6a21\u62df\u5728\u79bb\u6563\u65f6\u95f4\u9636\u6bb5\u7684\u503c\n",
      "* \u6d4b\u91cf\u8bbe\u5907\u8bb0\u5f55\u7684\u4fe1\u53f7\uff0c\u6bd4\u5982\u58f0\u6ce2\n",
      "* \u56fe\u50cf\u7684\u50cf\u7d20\u3001\u7070\u5ea6\u6216\u989c\u8272\n",
      "* \u7528\u4e0d\u540cX-Y-Z\u4f4d\u7f6e\u6d4b\u91cf\u76843-D\u6570\u636e\uff0c\u4f8b\u5982MRI\u626b\u63cf\n",
      "\n",
      "...\n",
      "\n",
      "**\u4e3a\u4ec0\u4e48\u6709\u7528\uff1a**\u63d0\u4f9b\u4e86\u9ad8\u901f\u6570\u503c\u64cd\u4f5c\u7684\u8282\u7701\u5185\u5b58\u7684\u5bb9\u5668\u3002"
     ]
    },
    {
     "cell_type": "code",
     "collapsed": false,
     "input": [
      "L = range(1000)\n",
      "%timeit [i**2 for i in L]"
     ],
     "language": "python",
     "metadata": {},
     "outputs": [
      {
       "output_type": "stream",
       "stream": "stdout",
       "text": [
        "10000 loops, best of 3: 93.7 \u00b5s per loop\n"
       ]
      }
     ],
     "prompt_number": 2
    },
    {
     "cell_type": "code",
     "collapsed": false,
     "input": [
      "a = np.arange(1000)\n",
      "%timeit a**2"
     ],
     "language": "python",
     "metadata": {},
     "outputs": [
      {
       "output_type": "stream",
       "stream": "stdout",
       "text": [
        "100000 loops, best of 3: 2.16 \u00b5s per loop\n"
       ]
      }
     ],
     "prompt_number": 4
    },
    {
     "cell_type": "markdown",
     "metadata": {},
     "source": [
      "#### 1.3.1.1.2 Numpy\u53c2\u8003\u6587\u6863\n",
      "\n",
      "* \u7ebf\u4e0a: http://docs.scipy.org/\n",
      "* \u4ea4\u4e92\u5e2e\u52a9:\n",
      "\n",
      "```python\n",
      "np.array?\n",
      "String Form:<built-in function array>\n",
      "Docstring:\n",
      "array(object, dtype=None, copy=True, order=None, subok=False, ndmin=0, ...\n",
      "```\n",
      "\n",
      "\u67e5\u627e\u4e1c\u897f\uff1a"
     ]
    },
    {
     "cell_type": "code",
     "collapsed": false,
     "input": [
      "np.lookfor('create array')"
     ],
     "language": "python",
     "metadata": {},
     "outputs": [
      {
       "output_type": "stream",
       "stream": "stdout",
       "text": [
        "Search results for 'create array'\n",
        "---------------------------------\n",
        "numpy.array\n",
        "    Create an array.\n",
        "numpy.memmap\n",
        "    Create a memory-map to an array stored in a *binary* file on disk.\n",
        "numpy.diagflat\n",
        "    Create a two-dimensional array with the flattened input as a diagonal.\n",
        "numpy.fromiter\n",
        "    Create a new 1-dimensional array from an iterable object.\n",
        "numpy.partition\n",
        "    Return a partitioned copy of an array.\n",
        "numpy.ma.diagflat\n",
        "    Create a two-dimensional array with the flattened input as a diagonal.\n",
        "numpy.ctypeslib.as_array\n",
        "    Create a numpy array from a ctypes array or a ctypes POINTER.\n",
        "numpy.ma.make_mask\n",
        "    Create a boolean mask from an array.\n",
        "numpy.ctypeslib.as_ctypes\n",
        "    Create and return a ctypes object from a numpy array.  Actually\n",
        "numpy.ma.mrecords.fromarrays\n",
        "    Creates a mrecarray from a (flat) list of masked arrays.\n",
        "numpy.lib.format.open_memmap\n",
        "    Open a .npy file as a memory-mapped array.\n",
        "numpy.ma.MaskedArray.__new__\n",
        "    Create a new masked array from scratch.\n",
        "numpy.lib.arrayterator.Arrayterator\n",
        "    Buffered iterator for big arrays.\n",
        "numpy.ma.mrecords.fromtextfile\n",
        "    Creates a mrecarray from data stored in the file `filename`.\n",
        "numpy.asarray\n",
        "    Convert the input to an array.\n",
        "numpy.ndarray\n",
        "    ndarray(shape, dtype=float, buffer=None, offset=0,\n",
        "numpy.recarray\n",
        "    Construct an ndarray that allows field access using attributes.\n",
        "numpy.chararray\n",
        "    chararray(shape, itemsize=1, unicode=False, buffer=None, offset=0,\n",
        "numpy.pad\n",
        "    Pads an array.\n",
        "numpy.sum\n",
        "    Sum of array elements over a given axis.\n",
        "numpy.asanyarray\n",
        "    Convert the input to an ndarray, but pass ndarray subclasses through.\n",
        "numpy.copy\n",
        "    Return an array copy of the given object.\n",
        "numpy.diag\n",
        "    Extract a diagonal or construct a diagonal array.\n",
        "numpy.load\n",
        "    Load arrays or pickled objects from ``.npy``, ``.npz`` or pickled files.\n",
        "numpy.sort\n",
        "    Return a sorted copy of an array.\n",
        "numpy.array_equiv\n",
        "    Returns True if input arrays are shape consistent and all elements equal.\n",
        "numpy.dtype\n",
        "    Create a data type object.\n",
        "numpy.choose\n",
        "    Construct an array from an index array and a set of arrays to choose from.\n",
        "numpy.nditer\n",
        "    Efficient multi-dimensional iterator object to iterate over arrays.\n",
        "numpy.swapaxes\n",
        "    Interchange two axes of an array.\n",
        "numpy.full_like\n",
        "    Return a full array with the same shape and type as a given array.\n",
        "numpy.ones_like\n",
        "    Return an array of ones with the same shape and type as a given array.\n",
        "numpy.empty_like\n",
        "    Return a new array with the same shape and type as a given array.\n",
        "numpy.zeros_like\n",
        "    Return an array of zeros with the same shape and type as a given array.\n",
        "numpy.asarray_chkfinite\n",
        "    Convert the input to an array, checking for NaNs or Infs.\n",
        "numpy.diag_indices\n",
        "    Return the indices to access the main diagonal of an array.\n",
        "numpy.ma.choose\n",
        "    Use an index array to construct a new array from a set of choices.\n",
        "numpy.chararray.tolist\n",
        "    a.tolist()\n",
        "numpy.matlib.rand\n",
        "    Return a matrix of random values with given shape.\n",
        "numpy.savez_compressed\n",
        "    Save several arrays into a single file in compressed ``.npz`` format.\n",
        "numpy.ma.empty_like\n",
        "    Return a new array with the same shape and type as a given array.\n",
        "numpy.ma.make_mask_none\n",
        "    Return a boolean mask of the given shape, filled with False.\n",
        "numpy.ma.mrecords.fromrecords\n",
        "    Creates a MaskedRecords from a list of records.\n",
        "numpy.around\n",
        "    Evenly round to the given number of decimals.\n",
        "numpy.source\n",
        "    Print or write to a file the source code for a Numpy object.\n",
        "numpy.diagonal\n",
        "    Return specified diagonals.\n",
        "numpy.histogram2d\n",
        "    Compute the bi-dimensional histogram of two data samples.\n",
        "numpy.fft.ifft\n",
        "    Compute the one-dimensional inverse discrete Fourier Transform.\n",
        "numpy.fft.ifftn\n",
        "    Compute the N-dimensional inverse discrete Fourier Transform.\n",
        "numpy.busdaycalendar\n",
        "    A business day calendar object that efficiently stores information"
       ]
      }
     ],
     "prompt_number": 6
    },
    {
     "cell_type": "markdown",
     "metadata": {},
     "source": [
      "```python\n",
      "np.con*?\n",
      "np.concatenate\n",
      "np.conj\n",
      "np.conjugate\n",
      "np.convolve\n",
      "```\n",
      "\n",
      "#### 1.3.1.1.3 \u5bfc\u5165\u60ef\u4f8b\n",
      "\n",
      "\u5bfc\u5165numpy\u7684\u63a8\u8350\u60ef\u4f8b\u662f\uff1a"
     ]
    },
    {
     "cell_type": "code",
     "collapsed": false,
     "input": [
      "import numpy as np"
     ],
     "language": "python",
     "metadata": {},
     "outputs": [],
     "prompt_number": 8
    },
    {
     "cell_type": "markdown",
     "metadata": {},
     "source": [
      "### 1.3.1.2 \u521b\u5efa\u6570\u7ec4\n",
      "#### 1.3.1.2.1 \u624b\u52a8\u6784\u5efa\u6570\u7ec4\n",
      "\n",
      "* 1-D\uff1a"
     ]
    },
    {
     "cell_type": "code",
     "collapsed": false,
     "input": [
      "a = np.array([0, 1, 2, 3])\n",
      "a"
     ],
     "language": "python",
     "metadata": {},
     "outputs": [
      {
       "metadata": {},
       "output_type": "pyout",
       "prompt_number": 9,
       "text": [
        "array([0, 1, 2, 3])"
       ]
      }
     ],
     "prompt_number": 9
    },
    {
     "cell_type": "code",
     "collapsed": false,
     "input": [
      "a.ndim"
     ],
     "language": "python",
     "metadata": {},
     "outputs": [
      {
       "metadata": {},
       "output_type": "pyout",
       "prompt_number": 10,
       "text": [
        "1"
       ]
      }
     ],
     "prompt_number": 10
    },
    {
     "cell_type": "code",
     "collapsed": false,
     "input": [
      "a.shape"
     ],
     "language": "python",
     "metadata": {},
     "outputs": [
      {
       "metadata": {},
       "output_type": "pyout",
       "prompt_number": 11,
       "text": [
        "(4,)"
       ]
      }
     ],
     "prompt_number": 11
    },
    {
     "cell_type": "code",
     "collapsed": false,
     "input": [
      "len(a)"
     ],
     "language": "python",
     "metadata": {},
     "outputs": [
      {
       "metadata": {},
       "output_type": "pyout",
       "prompt_number": 12,
       "text": [
        "4"
       ]
      }
     ],
     "prompt_number": 12
    },
    {
     "cell_type": "markdown",
     "metadata": {},
     "source": [
      "* 2-D\uff0c3-D\uff0c...\uff1a"
     ]
    },
    {
     "cell_type": "code",
     "collapsed": false,
     "input": [
      "b = np.array([[0, 1, 2], [3, 4, 5]])    # 2 x 3 \u6570\u7ec4\n",
      "b"
     ],
     "language": "python",
     "metadata": {},
     "outputs": [
      {
       "metadata": {},
       "output_type": "pyout",
       "prompt_number": 13,
       "text": [
        "array([[0, 1, 2],\n",
        "       [3, 4, 5]])"
       ]
      }
     ],
     "prompt_number": 13
    },
    {
     "cell_type": "code",
     "collapsed": false,
     "input": [
      "b.ndim"
     ],
     "language": "python",
     "metadata": {},
     "outputs": [
      {
       "metadata": {},
       "output_type": "pyout",
       "prompt_number": 14,
       "text": [
        "2"
       ]
      }
     ],
     "prompt_number": 14
    },
    {
     "cell_type": "code",
     "collapsed": false,
     "input": [
      "b.shape"
     ],
     "language": "python",
     "metadata": {},
     "outputs": [
      {
       "metadata": {},
       "output_type": "pyout",
       "prompt_number": 15,
       "text": [
        "(2, 3)"
       ]
      }
     ],
     "prompt_number": 15
    },
    {
     "cell_type": "code",
     "collapsed": false,
     "input": [
      "len(b)     # \u8fd4\u56de\u4e00\u4e2a\u7eac\u5ea6\u7684\u5927\u5c0f"
     ],
     "language": "python",
     "metadata": {},
     "outputs": [
      {
       "metadata": {},
       "output_type": "pyout",
       "prompt_number": 16,
       "text": [
        "2"
       ]
      }
     ],
     "prompt_number": 16
    },
    {
     "cell_type": "code",
     "collapsed": false,
     "input": [
      "c = np.array([[[1], [2]], [[3], [4]]])\n",
      "c"
     ],
     "language": "python",
     "metadata": {},
     "outputs": [
      {
       "metadata": {},
       "output_type": "pyout",
       "prompt_number": 17,
       "text": [
        "array([[[1],\n",
        "        [2]],\n",
        "\n",
        "       [[3],\n",
        "        [4]]])"
       ]
      }
     ],
     "prompt_number": 17
    },
    {
     "cell_type": "code",
     "collapsed": false,
     "input": [
      "c.shape"
     ],
     "language": "python",
     "metadata": {},
     "outputs": [
      {
       "metadata": {},
       "output_type": "pyout",
       "prompt_number": 18,
       "text": [
        "(2, 2, 1)"
       ]
      }
     ],
     "prompt_number": 18
    },
    {
     "cell_type": "markdown",
     "metadata": {},
     "source": [
      "**\u7ec3\u4e60\uff1a\u7b80\u5355\u6570\u7ec4**\n",
      "\n",
      "* \u521b\u5efa\u4e00\u4e2a\u7b80\u5355\u7684\u4e8c\u7ef4\u6570\u7ec4\u3002\u9996\u5148\uff0c\u91cd\u590d\u4e0a\u9762\u7684\u4f8b\u5b50\u3002\u7136\u540e\u63a5\u7740\u4f60\u81ea\u5df1\u7684\uff1a\u5728\u7b2c\u4e00\u884c\u4ece\u540e\u5411\u524d\u6570\u5947\u6570\uff0c\u63a5\u7740\u7b2c\u4e8c\u884c\u6570\u5076\u6570\uff1f\n",
      "* \u5728\u8fd9\u4e9b\u6570\u7ec4\u4e0a\u4f7f\u7528\u51fd\u6570[len()](http://docs.python.org/2.7/library/functions.html#len)\u3001numpy.shape()\u3002\u4ed6\u4eec\u6709\u4ec0\u4e48\u5173\u7cfb\uff1f\u4e0e\u6570\u7ec4\u7684`ndim`\u5c5e\u6027\u95f4\u5462\uff1f\n",
      "\n",
      "#### 1.3.1.2.2 \u521b\u5efa\u6570\u7ec4\u7684\u51fd\u6570\n",
      "\n",
      "\u5b9e\u9645\u4e0a\uff0c\u6211\u4eec\u5f88\u5c11\u4e00\u4e2a\u9879\u76ee\u63a5\u4e00\u4e2a\u9879\u76ee\u8f93\u5165...\n",
      "\n",
      "* \u5747\u5300\u5206\u5e03\uff1a"
     ]
    },
    {
     "cell_type": "code",
     "collapsed": false,
     "input": [
      "a = np.arange(10) # 0 .. n-1  (!)\n",
      "a"
     ],
     "language": "python",
     "metadata": {},
     "outputs": [
      {
       "metadata": {},
       "output_type": "pyout",
       "prompt_number": 19,
       "text": [
        "array([0, 1, 2, 3, 4, 5, 6, 7, 8, 9])"
       ]
      }
     ],
     "prompt_number": 19
    },
    {
     "cell_type": "code",
     "collapsed": false,
     "input": [
      "b = np.arange(1, 9, 2) # \u5f00\u59cb\uff0c\u7ed3\u675f\uff08\u4e0d\u5305\u542b\uff09\uff0c\u6b65\u957f\n",
      "b"
     ],
     "language": "python",
     "metadata": {},
     "outputs": [
      {
       "metadata": {},
       "output_type": "pyout",
       "prompt_number": 20,
       "text": [
        "array([1, 3, 5, 7])"
       ]
      }
     ],
     "prompt_number": 20
    },
    {
     "cell_type": "markdown",
     "metadata": {},
     "source": [
      "* \u6216\u8005\u901a\u8fc7\u4e00\u4e9b\u6570\u636e\u70b9\uff1a"
     ]
    },
    {
     "cell_type": "code",
     "collapsed": false,
     "input": [
      "c = np.linspace(0, 1, 6)   # \u8d77\u70b9\u3001\u7ec8\u70b9\u3001\u6570\u636e\u70b9\n",
      "c"
     ],
     "language": "python",
     "metadata": {},
     "outputs": [
      {
       "metadata": {},
       "output_type": "pyout",
       "prompt_number": 1,
       "text": [
        "array([ 0. ,  0.2,  0.4,  0.6,  0.8,  1. ])"
       ]
      }
     ],
     "prompt_number": 1
    },
    {
     "cell_type": "code",
     "collapsed": false,
     "input": [
      "d = np.linspace(0, 1, 5, endpoint=False)\n",
      "d"
     ],
     "language": "python",
     "metadata": {},
     "outputs": [
      {
       "metadata": {},
       "output_type": "pyout",
       "prompt_number": 2,
       "text": [
        "array([ 0. ,  0.2,  0.4,  0.6,  0.8])"
       ]
      }
     ],
     "prompt_number": 2
    },
    {
     "cell_type": "markdown",
     "metadata": {},
     "source": [
      "* \u666e\u901a\u6570\u7ec4\uff1a"
     ]
    },
    {
     "cell_type": "code",
     "collapsed": false,
     "input": [
      "a = np.ones((3, 3))  # \u63d0\u793a: (3, 3) \u662f\u5143\u7ec4\n",
      "a"
     ],
     "language": "python",
     "metadata": {},
     "outputs": [
      {
       "metadata": {},
       "output_type": "pyout",
       "prompt_number": 3,
       "text": [
        "array([[ 1.,  1.,  1.],\n",
        "       [ 1.,  1.,  1.],\n",
        "       [ 1.,  1.,  1.]])"
       ]
      }
     ],
     "prompt_number": 3
    },
    {
     "cell_type": "code",
     "collapsed": false,
     "input": [
      "b = np.zeros((2, 2))\n",
      "b"
     ],
     "language": "python",
     "metadata": {},
     "outputs": [
      {
       "metadata": {},
       "output_type": "pyout",
       "prompt_number": 4,
       "text": [
        "array([[ 0.,  0.],\n",
        "       [ 0.,  0.]])"
       ]
      }
     ],
     "prompt_number": 4
    },
    {
     "cell_type": "code",
     "collapsed": false,
     "input": [
      "c = np.eye(3)\n",
      "c"
     ],
     "language": "python",
     "metadata": {},
     "outputs": [
      {
       "metadata": {},
       "output_type": "pyout",
       "prompt_number": 5,
       "text": [
        "array([[ 1.,  0.,  0.],\n",
        "       [ 0.,  1.,  0.],\n",
        "       [ 0.,  0.,  1.]])"
       ]
      }
     ],
     "prompt_number": 5
    },
    {
     "cell_type": "code",
     "collapsed": false,
     "input": [
      "d = np.diag(np.array([1, 2, 3, 4]))\n",
      "d"
     ],
     "language": "python",
     "metadata": {},
     "outputs": [
      {
       "metadata": {},
       "output_type": "pyout",
       "prompt_number": 6,
       "text": [
        "array([[1, 0, 0, 0],\n",
        "       [0, 2, 0, 0],\n",
        "       [0, 0, 3, 0],\n",
        "       [0, 0, 0, 4]])"
       ]
      }
     ],
     "prompt_number": 6
    },
    {
     "cell_type": "markdown",
     "metadata": {},
     "source": [
      "* `np.random`: \u968f\u673a\u6570 (Mersenne Twister PRNG) :"
     ]
    },
    {
     "cell_type": "code",
     "collapsed": false,
     "input": [
      "a = np.random.rand(4)       # [0, 1] \u7684\u5747\u5300\u5206\u5e03\n",
      "a"
     ],
     "language": "python",
     "metadata": {},
     "outputs": [
      {
       "metadata": {},
       "output_type": "pyout",
       "prompt_number": 7,
       "text": [
        "array([ 0.05504731,  0.38154156,  0.39639478,  0.22379146])"
       ]
      }
     ],
     "prompt_number": 7
    },
    {
     "cell_type": "code",
     "collapsed": false,
     "input": [
      "b = np.random.randn(4)      # \u9ad8\u65af\n",
      "b"
     ],
     "language": "python",
     "metadata": {},
     "outputs": [
      {
       "metadata": {},
       "output_type": "pyout",
       "prompt_number": 8,
       "text": [
        "array([ 0.9895903 ,  1.85061188,  1.0021666 , -0.63782069])"
       ]
      }
     ],
     "prompt_number": 8
    },
    {
     "cell_type": "code",
     "collapsed": false,
     "input": [
      "np.random.seed(1234)        # \u8bbe\u7f6e\u968f\u673a\u79cd\u5b50"
     ],
     "language": "python",
     "metadata": {},
     "outputs": [],
     "prompt_number": 9
    },
    {
     "cell_type": "code",
     "collapsed": false,
     "input": [
      "np.random.rand?"
     ],
     "language": "python",
     "metadata": {},
     "outputs": [],
     "prompt_number": 10
    },
    {
     "cell_type": "markdown",
     "metadata": {},
     "source": [
      "**\u7ec3\u4e60\uff1a\u7528\u51fd\u6570\u521b\u5efa\u6570\u7ec4**\n",
      "* \u5b9e\u9a8c\u7528`arange`\u3001`linspace`\u3001`ones`\u3001`zeros`\u3001`eye`\u548c`diag`\u3002\n",
      "* \u7528\u968f\u673a\u6570\u521b\u5efa\u4e0d\u540c\u7c7b\u578b\u7684\u6570\u7ec4\u3002\n",
      "* \u5728\u521b\u5efa\u5e26\u6709\u968f\u673a\u6570\u7684\u6570\u7ec4\u524d\u8bbe\u5b9a\u79cd\u5b50\u3002\n",
      "* \u770b\u4e00\u4e0b\u51fd\u6570`np.empty`\u3002\u5b83\u80fd\u505a\u4ec0\u4e48\uff1f\u4ec0\u4e48\u65f6\u5019\u4f1a\u6bd4\u8f83\u6709\u7528\uff1f"
     ]
    },
    {
     "cell_type": "markdown",
     "metadata": {},
     "source": [
      "### 1.3.1.3\u57fa\u7840\u6570\u636e\u7c7b\u578b"
     ]
    },
    {
     "cell_type": "markdown",
     "metadata": {},
     "source": [
      "\u4f60\u53ef\u80fd\u5df2\u7ecf\u53d1\u73b0\uff0c\u5728\u4e00\u4e9b\u60c5\u51b5\u4e0b\uff0c\u6570\u7ec4\u5143\u7d20\u663e\u793a\u5e26\u6709\u70b9\uff08\u5373 2. VS 2\uff09\u3002\u8fd9\u662f\u56e0\u4e3a\u6240\u4f7f\u7528\u7684\u6570\u636e\u7c7b\u578b\u4e0d\u540c\uff1a"
     ]
    },
    {
     "cell_type": "code",
     "collapsed": false,
     "input": [
      "a = np.array([1, 2, 3])\n",
      "a.dtype"
     ],
     "language": "python",
     "metadata": {},
     "outputs": [
      {
       "metadata": {},
       "output_type": "pyout",
       "prompt_number": 12,
       "text": [
        "dtype('int64')"
       ]
      }
     ],
     "prompt_number": 12
    },
    {
     "cell_type": "code",
     "collapsed": false,
     "input": [
      "b = np.array([1., 2., 3.])\n",
      "b"
     ],
     "language": "python",
     "metadata": {},
     "outputs": [
      {
       "metadata": {},
       "output_type": "pyout",
       "prompt_number": 13,
       "text": [
        "array([ 1.,  2.,  3.])"
       ]
      }
     ],
     "prompt_number": 13
    },
    {
     "cell_type": "markdown",
     "metadata": {},
     "source": [
      "\u4e0d\u540c\u7684\u6570\u636e\u7c7b\u578b\u53ef\u4ee5\u66f4\u7d27\u51d1\u7684\u5728\u5185\u5b58\u4e2d\u5b58\u50a8\u6570\u636e\uff0c\u4f46\u662f\u5927\u591a\u6570\u65f6\u5019\u6211\u4eec\u90fd\u53ea\u662f\u64cd\u4f5c\u6d6e\u70b9\u6570\u636e\u3002\u6ce8\u610f\uff0c\u5728\u4e0a\u9762\u7684\u4f8b\u5b50\u4e2d\uff0cNumpy\u81ea\u52a8\u4ece\u8f93\u5165\u4e2d\u8bc6\u522b\u4e86\u6570\u636e\u7c7b\u578b\u3002\n",
      "\n",
      "\u4f60\u53ef\u4ee5\u660e\u786e\u7684\u6307\u5b9a\u60f3\u8981\u7684\u7c7b\u578b\uff1a"
     ]
    },
    {
     "cell_type": "code",
     "collapsed": false,
     "input": [
      "c = np.array([1, 2, 3], dtype=float)\n",
      "c.dtype"
     ],
     "language": "python",
     "metadata": {},
     "outputs": [
      {
       "metadata": {},
       "output_type": "pyout",
       "prompt_number": 1,
       "text": [
        "dtype('float64')"
       ]
      }
     ],
     "prompt_number": 1
    },
    {
     "cell_type": "markdown",
     "metadata": {},
     "source": [
      "**\u9ed8\u8ba4**\u6570\u636e\u7c7b\u578b\u662f\u6d6e\u70b9:"
     ]
    },
    {
     "cell_type": "code",
     "collapsed": false,
     "input": [
      "a = np.ones((3, 3))\n",
      "a.dtype"
     ],
     "language": "python",
     "metadata": {},
     "outputs": [
      {
       "metadata": {},
       "output_type": "pyout",
       "prompt_number": 2,
       "text": [
        "dtype('float64')"
       ]
      }
     ],
     "prompt_number": 2
    },
    {
     "cell_type": "markdown",
     "metadata": {},
     "source": [
      "\u5176\u4ed6\u7c7b\u578b\uff1a\n",
      "\n",
      "**\u590d\u6570**\uff1a"
     ]
    },
    {
     "cell_type": "code",
     "collapsed": false,
     "input": [
      "d = np.array([1+2j, 3+4j, 5+6*1j])\n",
      "d.dtype"
     ],
     "language": "python",
     "metadata": {},
     "outputs": [
      {
       "metadata": {},
       "output_type": "pyout",
       "prompt_number": 4,
       "text": [
        "dtype('complex128')"
       ]
      }
     ],
     "prompt_number": 4
    },
    {
     "cell_type": "markdown",
     "metadata": {},
     "source": [
      "**\u5e03\u5c14**\uff1a"
     ]
    },
    {
     "cell_type": "code",
     "collapsed": false,
     "input": [
      "e = np.array([True, False, False, True])\n",
      "e.dtype"
     ],
     "language": "python",
     "metadata": {},
     "outputs": [
      {
       "metadata": {},
       "output_type": "pyout",
       "prompt_number": 5,
       "text": [
        "dtype('bool')"
       ]
      }
     ],
     "prompt_number": 5
    },
    {
     "cell_type": "markdown",
     "metadata": {},
     "source": [
      "**\u5b57\u7b26**\uff1a"
     ]
    },
    {
     "cell_type": "code",
     "collapsed": false,
     "input": [
      "f = np.array(['Bonjour', 'Hello', 'Hallo',])\n",
      "f.dtype     # <--- \u5305\u542b\u6700\u591a7\u4e2a\u5b57\u6bcd\u7684\u5b57\u7b26"
     ],
     "language": "python",
     "metadata": {},
     "outputs": [
      {
       "metadata": {},
       "output_type": "pyout",
       "prompt_number": 6,
       "text": [
        "dtype('S7')"
       ]
      }
     ],
     "prompt_number": 6
    },
    {
     "cell_type": "markdown",
     "metadata": {},
     "source": [
      "**\u66f4\u591a**\uff1a\n",
      "\n",
      "* int32\n",
      "* int64\n",
      "* unit32\n",
      "* unit64"
     ]
    },
    {
     "cell_type": "markdown",
     "metadata": {},
     "source": [
      "### 1.3.1.4\u57fa\u672c\u53ef\u89c6\u5316\n",
      "\n",
      "\u73b0\u5728\u6211\u4eec\u6709\u4e86\u7b2c\u4e00\u4e2a\u6570\u7ec4\uff0c\u6211\u4eec\u5c06\u8981\u8fdb\u884c\u53ef\u89c6\u5316\u3002\n",
      "\n",
      "\u4ece*pylab*\u6a21\u5f0f\u542f\u52a8IPython\u3002\n",
      "\n",
      "```\n",
      "ipython --pylab\n",
      "```\n",
      "\n",
      "\u6216notebook\uff1a\n",
      "\n",
      "```\n",
      "ipython notebook --pylab=inline\n",
      "```\n",
      "\n",
      "\u6216\u8005\u5982\u679cIPython\u5df2\u7ecf\u542f\u52a8\uff0c\u90a3\u4e48\uff1a"
     ]
    },
    {
     "cell_type": "code",
     "collapsed": false,
     "input": [
      "%pylab"
     ],
     "language": "python",
     "metadata": {},
     "outputs": [
      {
       "output_type": "stream",
       "stream": "stdout",
       "text": [
        "Using matplotlib backend: MacOSX\n",
        "Populating the interactive namespace from numpy and matplotlib\n"
       ]
      }
     ],
     "prompt_number": 119
    },
    {
     "cell_type": "markdown",
     "metadata": {},
     "source": [
      "\u6216\u8005\u4eceNotebook\u4e2d\uff1a"
     ]
    },
    {
     "cell_type": "code",
     "collapsed": false,
     "input": [
      "%pylab inline"
     ],
     "language": "python",
     "metadata": {},
     "outputs": [
      {
       "output_type": "stream",
       "stream": "stdout",
       "text": [
        "Populating the interactive namespace from numpy and matplotlib\n"
       ]
      }
     ],
     "prompt_number": 121
    },
    {
     "cell_type": "markdown",
     "metadata": {},
     "source": [
      "`inline` \u5bf9notebook\u6765\u8bf4\u5f88\u91cd\u8981\uff0c\u4ee5\u4fbf\u7ed8\u5236\u7684\u56fe\u7247\u5728notebook\u4e2d\u663e\u793a\u800c\u4e0d\u662f\u5728\u65b0\u7a97\u53e3\u663e\u793a\u3002\n",
      "\n",
      "*Matplotlib*\u662f2D\u5236\u56fe\u5305\u3002\u6211\u4eec\u53ef\u4ee5\u50cf\u4e0b\u9762\u8fd9\u6837\u5bfc\u5165\u5b83\u7684\u65b9\u6cd5\uff1a"
     ]
    },
    {
     "cell_type": "code",
     "collapsed": false,
     "input": [
      "import matplotlib.pyplot as plt  #\u6574\u6d01\u5f62\u5f0f"
     ],
     "language": "python",
     "metadata": {},
     "outputs": [],
     "prompt_number": 10
    },
    {
     "cell_type": "markdown",
     "metadata": {},
     "source": [
      "\u7136\u540e\u4f7f\u7528\uff08\u6ce8\u4f60\u9700\u8981\u663e\u5f0f\u7684\u4f7f\u7528 `show` \uff09:\n",
      "\n",
      "```python\n",
      "plt.plot(x, y)       # \u7ebf\u56fe\n",
      "plt.show()           # <-- \u663e\u793a\u56fe\u8868\uff08\u4f7f\u7528pylab\u7684\u8bdd\u4e0d\u9700\u8981\uff09\n",
      "```"
     ]
    },
    {
     "cell_type": "markdown",
     "metadata": {},
     "source": [
      "\u6216\u8005\uff0c\u5982\u679c\u4f60\u4f7f\u7528 `pylab`\uff1a\n",
      "\n",
      "```python\n",
      "plt.plot(x, y)       # \u7ebf\u56fe\n",
      "```"
     ]
    },
    {
     "cell_type": "markdown",
     "metadata": {},
     "source": [
      "\u5728\u811a\u672c\u4e2d\u63a8\u8350\u4f7f\u7528 `import matplotlib.pyplot as plt`\u3002 \u800c\u4ea4\u4e92\u7684\u63a2\u7d22\u6027\u5de5\u4f5c\u4e2d\u7528 `pylab`\u3002"
     ]
    },
    {
     "cell_type": "markdown",
     "metadata": {},
     "source": [
      "* 1D\u4f5c\u56fe\uff1a"
     ]
    },
    {
     "cell_type": "code",
     "collapsed": false,
     "input": [
      "x = np.linspace(0, 3, 20)\n",
      "y = np.linspace(0, 9, 20)\n",
      "plt.plot(x, y)       # \u7ebf\u56fe"
     ],
     "language": "python",
     "metadata": {},
     "outputs": [
      {
       "metadata": {},
       "output_type": "pyout",
       "prompt_number": 12,
       "text": [
        "[<matplotlib.lines.Line2D at 0x1068f38d0>]"
       ]
      },
      {
       "metadata": {},
       "output_type": "display_data",
       "png": "[encoded data removed]",
       "text": [
        "<matplotlib.figure.Figure at 0x106846190>"
       ]
      }
     ],
     "prompt_number": 12
    },
    {
     "cell_type": "code",
     "collapsed": false,
     "input": [
      "plt.plot(x, y, 'o')  # \u70b9\u56fe"
     ],
     "language": "python",
     "metadata": {},
     "outputs": [
      {
       "metadata": {},
       "output_type": "pyout",
       "prompt_number": 13,
       "text": [
        "[<matplotlib.lines.Line2D at 0x106b32090>]"
       ]
      },
      {
       "metadata": {},
       "output_type": "display_data",
       "png": "[encoded data removed]",
       "text": [
        "<matplotlib.figure.Figure at 0x1069bfd90>"
       ]
      }
     ],
     "prompt_number": 13
    },
    {
     "cell_type": "markdown",
     "metadata": {},
     "source": [
      "* 2D \u4f5c\u56fe:"
     ]
    },
    {
     "cell_type": "code",
     "collapsed": false,
     "input": [
      "image = np.random.rand(30, 30)\n",
      "plt.imshow(image, cmap=plt.cm.hot)    \n",
      "plt.colorbar()    "
     ],
     "language": "python",
     "metadata": {},
     "outputs": [
      {
       "metadata": {},
       "output_type": "pyout",
       "prompt_number": 14,
       "text": [
        "<matplotlib.colorbar.Colorbar instance at 0x106a095f0>"
       ]
      },
      {
       "metadata": {},
       "output_type": "display_data",
       "png": "[encoded data removed]",
       "text": [
        "<matplotlib.figure.Figure at 0x106b48150>"
       ]
      }
     ],
     "prompt_number": 14
    },
    {
     "cell_type": "markdown",
     "metadata": {},
     "source": [
      "\u66f4\u591a\u8bf7\u89c1matplotlib\u90e8\u5206\uff08\u6682\u7f3a\uff09"
     ]
    },
    {
     "cell_type": "markdown",
     "metadata": {},
     "source": [
      "**\u7ec3\u4e60**\uff1a\u7b80\u5355\u53ef\u89c6\u5316\n",
      "\n",
      "\u753b\u51fa\u7b80\u5355\u7684\u6570\u7ec4\uff1acosine\u4f5c\u4e3a\u65f6\u95f4\u7684\u4e00\u4e2a\u51fd\u6570\u4ee5\u53ca2D\u77e9\u9635\u3002\n",
      "\n",
      "\u57282D\u77e9\u9635\u4e0a\u8bd5\u8bd5\u4f7f\u7528 `gray` colormap\u3002"
     ]
    },
    {
     "cell_type": "markdown",
     "metadata": {},
     "source": [
      "#### 1.3.1.5\u7d22\u5f15\u548c\u5207\u7247"
     ]
    },
    {
     "cell_type": "markdown",
     "metadata": {},
     "source": [
      "\u6570\u7ec4\u7684\u9879\u76ee\u53ef\u4ee5\u7528\u4e0e\u5176\u4ed6Python\u5e8f\u5217\uff08\u6bd4\u5982\uff1a\u5217\u8868\uff09\u4e00\u6837\u7684\u65b9\u5f0f\u8bbf\u95ee\u548c\u8d4b\u503c\uff1a"
     ]
    },
    {
     "cell_type": "code",
     "collapsed": false,
     "input": [
      "a = np.arange(10)\n",
      "a"
     ],
     "language": "python",
     "metadata": {},
     "outputs": [
      {
       "metadata": {},
       "output_type": "pyout",
       "prompt_number": 15,
       "text": [
        "array([0, 1, 2, 3, 4, 5, 6, 7, 8, 9])"
       ]
      }
     ],
     "prompt_number": 15
    },
    {
     "cell_type": "code",
     "collapsed": false,
     "input": [
      "a[0], a[2], a[-1]"
     ],
     "language": "python",
     "metadata": {},
     "outputs": [
      {
       "metadata": {},
       "output_type": "pyout",
       "prompt_number": 16,
       "text": [
        "(0, 2, 9)"
       ]
      }
     ],
     "prompt_number": 16
    },
    {
     "cell_type": "markdown",
     "metadata": {},
     "source": [
      "**\u8b66\u544a**\uff1a\u7d22\u5f15\u4ece0\u5f00\u59cb\u4e0e\u5176\u4ed6\u7684Python\u5e8f\u5217\uff08\u4ee5\u53caC/C++\uff09\u4e00\u6837\u3002\u76f8\u53cd\uff0c\u5728Fortran\u6216\u8005Matlab\u7d22\u5f15\u4ece1\u5f00\u59cb\u3002\n",
      "\n",
      "\u4f7f\u7528\u5e38\u7528\u7684Python\u98ce\u683c\u6765\u53cd\u8f6c\u4e00\u4e2a\u5e8f\u5217\u4e5f\u662f\u652f\u6301\u7684\uff1a"
     ]
    },
    {
     "cell_type": "code",
     "collapsed": false,
     "input": [
      "a[::-1]"
     ],
     "language": "python",
     "metadata": {},
     "outputs": [
      {
       "metadata": {},
       "output_type": "pyout",
       "prompt_number": 17,
       "text": [
        "array([9, 8, 7, 6, 5, 4, 3, 2, 1, 0])"
       ]
      }
     ],
     "prompt_number": 17
    },
    {
     "cell_type": "markdown",
     "metadata": {},
     "source": [
      "\u5bf9\u4e8e\u591a\u7ef4\u6570\u7ec4\uff0c\u7d22\u5f15\u662f\u6574\u6570\u7684\u5143\u7ec4\uff1a"
     ]
    },
    {
     "cell_type": "code",
     "collapsed": false,
     "input": [
      "a = np.diag(np.arange(3))\n",
      "a"
     ],
     "language": "python",
     "metadata": {},
     "outputs": [
      {
       "metadata": {},
       "output_type": "pyout",
       "prompt_number": 18,
       "text": [
        "array([[0, 0, 0],\n",
        "       [0, 1, 0],\n",
        "       [0, 0, 2]])"
       ]
      }
     ],
     "prompt_number": 18
    },
    {
     "cell_type": "code",
     "collapsed": false,
     "input": [
      "a[1, 1]"
     ],
     "language": "python",
     "metadata": {},
     "outputs": [
      {
       "metadata": {},
       "output_type": "pyout",
       "prompt_number": 19,
       "text": [
        "1"
       ]
      }
     ],
     "prompt_number": 19
    },
    {
     "cell_type": "code",
     "collapsed": false,
     "input": [
      "a[2, 1] = 10 # \u7b2c\u4e09\u884c\uff0c\u7b2c\u4e8c\u5217\n",
      "a"
     ],
     "language": "python",
     "metadata": {},
     "outputs": [
      {
       "metadata": {},
       "output_type": "pyout",
       "prompt_number": 21,
       "text": [
        "array([[ 0,  0,  0],\n",
        "       [ 0,  1,  0],\n",
        "       [ 0, 10,  2]])"
       ]
      }
     ],
     "prompt_number": 21
    },
    {
     "cell_type": "code",
     "collapsed": false,
     "input": [
      "a[1]"
     ],
     "language": "python",
     "metadata": {},
     "outputs": [
      {
       "metadata": {},
       "output_type": "pyout",
       "prompt_number": 22,
       "text": [
        "array([0, 1, 0])"
       ]
      }
     ],
     "prompt_number": 22
    },
    {
     "cell_type": "markdown",
     "metadata": {},
     "source": [
      "**\u6ce8**\uff1a\n",
      "\n",
      "* \u57282D\u6570\u7ec4\u4e2d\uff0c\u7b2c\u4e00\u4e2a\u7eac\u5ea6\u5bf9\u5e94\u884c\uff0c\u7b2c\u4e8c\u4e2a\u7eac\u5ea6\u5bf9\u5e94\u5217\u3002\n",
      "* \u5bf9\u4e8e\u591a\u7ef4\u5ea6\u6570\u7ec4 `a`\uff0ca[0]\u88ab\u89e3\u91ca\u4e3a\u63d0\u53d6\u5728\u6307\u5b9a\u7eac\u5ea6\u7684\u6240\u6709\u5143\u7d20\n",
      "\n",
      "**\u5207\u7247**\uff1a\u6570\u7ec4\u4e0e\u5176\u4ed6Python\u5e8f\u5217\u4e5f\u53ef\u4ee5\u88ab\u5207\u7247\uff1a"
     ]
    },
    {
     "cell_type": "code",
     "collapsed": false,
     "input": [
      "a = np.arange(10)\n",
      "a"
     ],
     "language": "python",
     "metadata": {},
     "outputs": [
      {
       "metadata": {},
       "output_type": "pyout",
       "prompt_number": 23,
       "text": [
        "array([0, 1, 2, 3, 4, 5, 6, 7, 8, 9])"
       ]
      }
     ],
     "prompt_number": 23
    },
    {
     "cell_type": "code",
     "collapsed": false,
     "input": [
      "a[2:9:3] # [\u5f00\u59cb:\u7ed3\u675f:\u6b65\u957f]"
     ],
     "language": "python",
     "metadata": {},
     "outputs": [
      {
       "metadata": {},
       "output_type": "pyout",
       "prompt_number": 24,
       "text": [
        "array([2, 5, 8])"
       ]
      }
     ],
     "prompt_number": 24
    },
    {
     "cell_type": "markdown",
     "metadata": {},
     "source": [
      "\u6ce8\u610f\u6700\u540e\u4e00\u4e2a\u7d22\u5f15\u662f\u4e0d\u5305\u542b\u7684\uff01\uff1a"
     ]
    },
    {
     "cell_type": "code",
     "collapsed": false,
     "input": [
      "a[:4]"
     ],
     "language": "python",
     "metadata": {},
     "outputs": [
      {
       "metadata": {},
       "output_type": "pyout",
       "prompt_number": 25,
       "text": [
        "array([0, 1, 2, 3])"
       ]
      }
     ],
     "prompt_number": 25
    },
    {
     "cell_type": "markdown",
     "metadata": {},
     "source": [
      "\u5207\u7247\u7684\u4e09\u4e2a\u5143\u7d20\u90fd\u4e0d\u662f\u5fc5\u9009\uff1a\u9ed8\u8ba4\u60c5\u51b5\u4e0b\uff0c\u8d77\u70b9\u662f0\uff0c\u7ed3\u675f\u662f\u6700\u540e\u4e00\u4e2a\uff0c\u6b65\u957f\u662f1\uff1a"
     ]
    },
    {
     "cell_type": "code",
     "collapsed": false,
     "input": [
      "a[1:3]"
     ],
     "language": "python",
     "metadata": {},
     "outputs": [
      {
       "metadata": {},
       "output_type": "pyout",
       "prompt_number": 26,
       "text": [
        "array([1, 2])"
       ]
      }
     ],
     "prompt_number": 26
    },
    {
     "cell_type": "code",
     "collapsed": false,
     "input": [
      "a[::2]"
     ],
     "language": "python",
     "metadata": {},
     "outputs": [
      {
       "metadata": {},
       "output_type": "pyout",
       "prompt_number": 27,
       "text": [
        "array([0, 2, 4, 6, 8])"
       ]
      }
     ],
     "prompt_number": 27
    },
    {
     "cell_type": "code",
     "collapsed": false,
     "input": [
      "a[3:]"
     ],
     "language": "python",
     "metadata": {},
     "outputs": [
      {
       "metadata": {},
       "output_type": "pyout",
       "prompt_number": 28,
       "text": [
        "array([3, 4, 5, 6, 7, 8, 9])"
       ]
      }
     ],
     "prompt_number": 28
    },
    {
     "cell_type": "markdown",
     "metadata": {},
     "source": [
      "Numpy\u7d22\u5f15\u548c\u5207\u7247\u7684\u4e00\u4e2a\u5c0f\u8bf4\u660e...\n",
      "\n",
      "![numpy_indexing](http://scipy-lectures.github.io/_images/numpy_indexing.png)"
     ]
    },
    {
     "cell_type": "markdown",
     "metadata": {},
     "source": [
      "\u8d4b\u503c\u548c\u5207\u7247\u53ef\u4ee5\u7ed3\u5408\u5728\u4e00\u8d77\uff1a"
     ]
    },
    {
     "cell_type": "code",
     "collapsed": false,
     "input": [
      "a = np.arange(10)\n",
      "a[5:] = 10\n",
      "a"
     ],
     "language": "python",
     "metadata": {},
     "outputs": [
      {
       "metadata": {},
       "output_type": "pyout",
       "prompt_number": 29,
       "text": [
        "array([ 0,  1,  2,  3,  4, 10, 10, 10, 10, 10])"
       ]
      }
     ],
     "prompt_number": 29
    },
    {
     "cell_type": "code",
     "collapsed": false,
     "input": [
      "b = np.arange(5)\n",
      "a[5:] = b[::-1]\n",
      "a"
     ],
     "language": "python",
     "metadata": {},
     "outputs": [
      {
       "metadata": {},
       "output_type": "pyout",
       "prompt_number": 30,
       "text": [
        "array([0, 1, 2, 3, 4, 4, 3, 2, 1, 0])"
       ]
      }
     ],
     "prompt_number": 30
    },
    {
     "cell_type": "markdown",
     "metadata": {},
     "source": [
      "**\u7ec3\u4e60\uff1a\u7d22\u5f15\u4e0e\u5207\u7247**\n",
      "* \u8bd5\u8bd5\u5207\u7247\u7684\u7279\u8272\uff0c\u7528\u8d77\u70b9\u3001\u7ed3\u675f\u548c\u6b65\u957f\uff1a\u4ecelinspace\u5f00\u59cb\uff0c\u8bd5\u7740\u4ece\u540e\u5f80\u524d\u83b7\u5f97\u5947\u6570\uff0c\u4ece\u524d\u5f80\u540e\u83b7\u5f97\u5076\u6570\u3002\n",
      "\u91cd\u73b0\u4e0a\u9762\u793a\u4f8b\u4e2d\u7684\u5207\u7247\u3002\u4f60\u9700\u8981\u4f7f\u7528\u4e0b\u5217\u8868\u8fbe\u5f0f\u521b\u5efa\u8fd9\u4e2a\u6570\u7ec4\uff1a"
     ]
    },
    {
     "cell_type": "code",
     "collapsed": false,
     "input": [
      "np.arange(6) + np.arange(0, 51, 10)[:, np.newaxis]"
     ],
     "language": "python",
     "metadata": {},
     "outputs": [
      {
       "metadata": {},
       "output_type": "pyout",
       "prompt_number": 31,
       "text": [
        "array([[ 0,  1,  2,  3,  4,  5],\n",
        "       [10, 11, 12, 13, 14, 15],\n",
        "       [20, 21, 22, 23, 24, 25],\n",
        "       [30, 31, 32, 33, 34, 35],\n",
        "       [40, 41, 42, 43, 44, 45],\n",
        "       [50, 51, 52, 53, 54, 55]])"
       ]
      }
     ],
     "prompt_number": 31
    },
    {
     "cell_type": "markdown",
     "metadata": {},
     "source": [
      "**\u7ec3\u4e60\uff1a\u6570\u7ec4\u521b\u5efa**\n",
      "\n",
      "\u521b\u5efa\u4e0b\u5217\u7684\u6570\u7ec4\uff08\u7528\u6b63\u786e\u7684\u6570\u636e\u7c7b\u578b\uff09\uff1a\n",
      "\n",
      "```python\n",
      "[[1, 1, 1, 1],\n",
      " [1, 1, 1, 1],\n",
      " [1, 1, 1, 2],\n",
      " [1, 6, 1, 1]]\n",
      "\n",
      "[[0., 0., 0., 0., 0.],\n",
      " [2., 0., 0., 0., 0.],\n",
      " [0., 3., 0., 0., 0.],\n",
      " [0., 0., 4., 0., 0.],\n",
      " [0., 0., 0., 5., 0.],\n",
      " [0., 0., 0., 0., 6.]]\n",
      "```\n",
      "\n",
      "\u53c2\u8003\u6807\u51c6\uff1a\u6bcf\u4e2a\u6570\u7ec4\n",
      "\n",
      "\u63d0\u793a\uff1a\u6bcf\u4e2a\u6570\u7ec4\u5143\u7d20\u53ef\u4ee5\u50cf\u5217\u8868\u4e00\u6837\u8bbf\u95ee\uff0c\u5373a[1] \u6216 a[1, 2]\u3002\n",
      "\n",
      "\u63d0\u793a\uff1a\u770b\u4e00\u4e0b `diag` \u7684\u6587\u6863\u5b57\u7b26\u4e32\u3002\n",
      "\n",
      "**\u7ec3\u4e60\uff1a\u521b\u5efa\u5e73\u94fa\u6570\u7ec4**\n",
      "\n",
      "\u770b\u4e00\u4e0b `np.tile` \u7684\u6587\u6863\uff0c\u662f\u7528\u8fd9\u4e2a\u51fd\u6570\u521b\u5efa\u8fd9\u4e2a\u6570\u7ec4\uff1a\n",
      "\n",
      "```python\n",
      "[[4, 3, 4, 3, 4, 3],\n",
      " [2, 1, 2, 1, 2, 1],\n",
      " [4, 3, 4, 3, 4, 3],\n",
      " [2, 1, 2, 1, 2, 1]]\n",
      "```\n",
      "\n",
      "### 1.3.1.6 \u526f\u672c\u548c\u89c6\u56fe\n",
      "\n",
      "\u5207\u7247\u64cd\u4f5c\u521b\u5efa\u539f\u6570\u7ec4\u7684\u4e00\u4e2a**\u89c6\u56fe**\uff0c\u8fd9\u53ea\u662f\u8bbf\u95ee\u6570\u7ec4\u6570\u636e\u4e00\u79cd\u65b9\u5f0f\u3002\u56e0\u6b64\uff0c\u539f\u59cb\u7684\u6570\u7ec4\u5e76\u4e0d\u662f\u5728\u5185\u5b58\u4e2d\u590d\u5236\u3002\u4f60\u53ef\u4ee5\u7528 `np.may_share_memory()` \u6765\u786e\u8ba4\u4e24\u4e2a\u6570\u7ec4\u662f\u5426\u5171\u4eab\u76f8\u540c\u7684\u5185\u5b58\u5757\u3002\u4f46\u662f\u8bf7\u6ce8\u610f\uff0c\u8fd9\u79cd\u65b9\u5f0f\u4f7f\u7528\u542f\u53d1\u5f0f\uff0c\u53ef\u80fd\u4ea7\u751f\u6f0f\u62a5\u3002\n",
      "\n",
      "**\u5f53\u4fee\u6539\u89c6\u56fe\u65f6\uff0c\u539f\u59cb\u6570\u636e\u4e5f\u88ab\u4fee\u6539\uff1a"
     ]
    },
    {
     "cell_type": "code",
     "collapsed": false,
     "input": [
      "a = np.arange(10)\n",
      "a"
     ],
     "language": "python",
     "metadata": {},
     "outputs": [
      {
       "metadata": {},
       "output_type": "pyout",
       "prompt_number": 32,
       "text": [
        "array([0, 1, 2, 3, 4, 5, 6, 7, 8, 9])"
       ]
      }
     ],
     "prompt_number": 32
    },
    {
     "cell_type": "code",
     "collapsed": false,
     "input": [
      "b = a[::2]\n",
      "b"
     ],
     "language": "python",
     "metadata": {},
     "outputs": [
      {
       "metadata": {},
       "output_type": "pyout",
       "prompt_number": 33,
       "text": [
        "array([0, 2, 4, 6, 8])"
       ]
      }
     ],
     "prompt_number": 33
    },
    {
     "cell_type": "code",
     "collapsed": false,
     "input": [
      "np.may_share_memory(a, b)"
     ],
     "language": "python",
     "metadata": {},
     "outputs": [
      {
       "metadata": {},
       "output_type": "pyout",
       "prompt_number": 34,
       "text": [
        "True"
       ]
      }
     ],
     "prompt_number": 34
    },
    {
     "cell_type": "code",
     "collapsed": false,
     "input": [
      "b[0] = 12\n",
      "b"
     ],
     "language": "python",
     "metadata": {},
     "outputs": [
      {
       "metadata": {},
       "output_type": "pyout",
       "prompt_number": 36,
       "text": [
        "array([12,  2,  4,  6,  8])"
       ]
      }
     ],
     "prompt_number": 36
    },
    {
     "cell_type": "code",
     "collapsed": false,
     "input": [
      "a   # (!)"
     ],
     "language": "python",
     "metadata": {},
     "outputs": [
      {
       "metadata": {},
       "output_type": "pyout",
       "prompt_number": 37,
       "text": [
        "array([12,  1,  2,  3,  4,  5,  6,  7,  8,  9])"
       ]
      }
     ],
     "prompt_number": 37
    },
    {
     "cell_type": "code",
     "collapsed": false,
     "input": [
      "a = np.arange(10)\n",
      "c = a[::2].copy()  # \u5f3a\u5236\u590d\u5236\n",
      "c[0] = 12\n",
      "a"
     ],
     "language": "python",
     "metadata": {},
     "outputs": [
      {
       "metadata": {},
       "output_type": "pyout",
       "prompt_number": 38,
       "text": [
        "array([0, 1, 2, 3, 4, 5, 6, 7, 8, 9])"
       ]
      }
     ],
     "prompt_number": 38
    },
    {
     "cell_type": "code",
     "collapsed": false,
     "input": [
      "np.may_share_memory(a, c)"
     ],
     "language": "python",
     "metadata": {},
     "outputs": [
      {
       "metadata": {},
       "output_type": "pyout",
       "prompt_number": 39,
       "text": [
        "False"
       ]
      }
     ],
     "prompt_number": 39
    },
    {
     "cell_type": "markdown",
     "metadata": {},
     "source": [
      "\u4e4d\u770b\u4e4b\u4e0b\u8fd9\u79cd\u884c\u4e3a\u53ef\u80fd\u6709\u4e9b\u5947\u602a\uff0c\u4f46\u662f\u8fd9\u6837\u505a\u8282\u7701\u4e86\u5185\u5b58\u548c\u65f6\u95f4\u3002\n",
      "\n",
      "**\u5b9e\u4f8b\uff1a\u7d20\u6570\u7b5b\u9009**\n",
      "\n",
      "![prime](http://scipy-lectures.github.io/_images/prime-sieve.png)"
     ]
    },
    {
     "cell_type": "markdown",
     "metadata": {},
     "source": [
      "\u7528\u7b5b\u9009\u6cd5\u8ba1\u7b970-99\u4e4b\u95f4\u7684\u7d20\u6570\n",
      "\n",
      "* \u6784\u5efa\u4e00\u4e2a\u540d\u4e3a `_prime` \u5f62\u72b6\u662f (100,) \u7684\u5e03\u5c14\u6570\u7ec4\uff0c\u5728\u521d\u59cb\u5c06\u503c\u90fd\u8bbe\u4e3aTrue\uff1a"
     ]
    },
    {
     "cell_type": "code",
     "collapsed": false,
     "input": [
      "is_prime = np.ones((100,), dtype=bool)"
     ],
     "language": "python",
     "metadata": {},
     "outputs": [],
     "prompt_number": 40
    },
    {
     "cell_type": "markdown",
     "metadata": {},
     "source": [
      "* \u5c06\u4e0d\u5c5e\u4e8e\u7d20\u6570\u76840\uff0c1\u53bb\u6389"
     ]
    },
    {
     "cell_type": "code",
     "collapsed": false,
     "input": [
      "is_prime[:2] = 0"
     ],
     "language": "python",
     "metadata": {},
     "outputs": [],
     "prompt_number": 41
    },
    {
     "cell_type": "markdown",
     "metadata": {},
     "source": [
      "\u5bf9\u4e8e\u4ece2\u5f00\u59cb\u7684\u6574\u6570 `j` \uff0c\u5316\u6389\u5b83\u7684\u500d\u6570\uff1a"
     ]
    },
    {
     "cell_type": "code",
     "collapsed": false,
     "input": [
      "N_max = int(np.sqrt(len(is_prime)))\n",
      "for j in range(2, N_max):\n",
      "    is_prime[2*j::j] = False"
     ],
     "language": "python",
     "metadata": {},
     "outputs": [],
     "prompt_number": 42
    },
    {
     "cell_type": "markdown",
     "metadata": {},
     "source": [
      "* \u770b\u4e00\u773c `help(np.nonzero)`\uff0c\u7136\u540e\u6253\u5370\u7d20\u6570\n",
      "* \u63a5\u4e0b\u6765:\n",
      "    * \u5c06\u4e0a\u9762\u7684\u4ee3\u7801\u653e\u5165\u540d\u4e3a `prime_sieve.py` \u7684\u811a\u672c\u6587\u4ef6\n",
      "    * \u8fd0\u884c\u68c0\u67e5\u4e00\u4e0b\u65f6\u5019\u6709\u6548\n",
      "    * \u4f7f\u7528[\u57c3\u62c9\u6258\u65af\u7279\u5c3c\u7b5b\u6cd5](http://en.wikipedia.org/wiki/Sieve_of_Eratosthenes)\u7684\u4f18\u5316\u5efa\u8bae\n",
      "        1. \u8df3\u8fc7\u5df2\u77e5\u4e0d\u662f\u7d20\u6570\u7684 `j`\n",
      "        2. \u7b2c\u4e00\u4e2a\u5e94\u8be5\u88ab\u5212\u6389\u7684\u6570\u662f$j^2$"
     ]
    },
    {
     "cell_type": "markdown",
     "metadata": {},
     "source": [
      "#### 1.3.1.7\u8c61\u5f81\u7d22\u5f15\n",
      "\n",
      "Numpy\u6570\u7ec4\u53ef\u4ee5\u7528\u5207\u7247\u7d22\u5f15\uff0c\u4e5f\u53ef\u4ee5\u7528\u5e03\u5c14\u6216\u6574\u5f62\u6570\u7ec4\uff08\u9762\u5177\uff09\u3002\u8fd9\u4e2a\u65b9\u6cd5\u4e5f\u88ab\u79f0\u4e3a\u8c61\u5f81\u7d22\u5f15\u3002\u5b83\u521b\u5efa\u4e00\u4e2a\u526f\u672c\u800c\u4e0d\u662f\u89c6\u56fe\u3002\n",
      "\n",
      "#### 1.3.1.7.1\u4f7f\u7528\u5e03\u5c14\u9762\u5177"
     ]
    },
    {
     "cell_type": "code",
     "collapsed": false,
     "input": [
      "np.random.seed(3)\n",
      "a = np.random.random_integers(0, 20, 15)\n",
      "a"
     ],
     "language": "python",
     "metadata": {},
     "outputs": [
      {
       "metadata": {},
       "output_type": "pyout",
       "prompt_number": 44,
       "text": [
        "array([10,  3,  8,  0, 19, 10, 11,  9, 10,  6,  0, 20, 12,  7, 14])"
       ]
      }
     ],
     "prompt_number": 44
    },
    {
     "cell_type": "code",
     "collapsed": false,
     "input": [
      "(a % 3 == 0)"
     ],
     "language": "python",
     "metadata": {},
     "outputs": [
      {
       "metadata": {},
       "output_type": "pyout",
       "prompt_number": 45,
       "text": [
        "array([False,  True, False,  True, False, False, False,  True, False,\n",
        "        True,  True, False,  True, False, False], dtype=bool)"
       ]
      }
     ],
     "prompt_number": 45
    },
    {
     "cell_type": "code",
     "collapsed": false,
     "input": [
      "mask = (a % 3 == 0)\n",
      "extract_from_a = a[mask] # \u6216,  a[a%3==0]\n",
      "extract_from_a           # \u7528\u9762\u5177\u62bd\u53d6\u4e00\u4e2a\u5b50\u6570\u7ec4"
     ],
     "language": "python",
     "metadata": {},
     "outputs": [
      {
       "metadata": {},
       "output_type": "pyout",
       "prompt_number": 47,
       "text": [
        "array([ 3,  0,  9,  6,  0, 12])"
       ]
      }
     ],
     "prompt_number": 47
    },
    {
     "cell_type": "markdown",
     "metadata": {},
     "source": [
      "\u8d4b\u503c\u7ed9\u5b50\u6570\u7ec4\u65f6\uff0c\u7528\u9762\u5177\u7d22\u5f15\u975e\u5e38\u6709\u7528\uff1a"
     ]
    },
    {
     "cell_type": "code",
     "collapsed": false,
     "input": [
      "a[a % 3 == 0] = -1\n",
      "a"
     ],
     "language": "python",
     "metadata": {},
     "outputs": [
      {
       "metadata": {},
       "output_type": "pyout",
       "prompt_number": 48,
       "text": [
        "array([10, -1,  8, -1, 19, 10, 11, -1, 10, -1, -1, 20, -1,  7, 14])"
       ]
      }
     ],
     "prompt_number": 48
    },
    {
     "cell_type": "markdown",
     "metadata": {},
     "source": [
      "#### 1.3.1.7.2 \u7528\u6574\u578b\u6570\u7ec4\u7d22\u5f15"
     ]
    },
    {
     "cell_type": "code",
     "collapsed": false,
     "input": [
      "a = np.arange(0, 100, 10)\n",
      "a"
     ],
     "language": "python",
     "metadata": {},
     "outputs": [
      {
       "metadata": {},
       "output_type": "pyout",
       "prompt_number": 49,
       "text": [
        "array([ 0, 10, 20, 30, 40, 50, 60, 70, 80, 90])"
       ]
      }
     ],
     "prompt_number": 49
    },
    {
     "cell_type": "markdown",
     "metadata": {},
     "source": [
      "\u7d22\u5f15\u53ef\u4ee5\u7528\u6574\u578b\u6570\u7ec4\u5b8c\u6210\uff0c\u5176\u4e2d\u76f8\u540c\u7684\u7d22\u5f15\u91cd\u590d\u4e86\u51e0\u6b21\uff1a"
     ]
    },
    {
     "cell_type": "code",
     "collapsed": false,
     "input": [
      "a[[2, 3, 2, 4, 2]]  # \u6ce8\uff1a[2, 3, 2, 4, 2] \u662fPython\u5217\u8868"
     ],
     "language": "python",
     "metadata": {},
     "outputs": [
      {
       "metadata": {},
       "output_type": "pyout",
       "prompt_number": 50,
       "text": [
        "array([20, 30, 20, 40, 20])"
       ]
      }
     ],
     "prompt_number": 50
    },
    {
     "cell_type": "markdown",
     "metadata": {},
     "source": [
      "\u7528\u8fd9\u79cd\u7c7b\u578b\u7684\u7d22\u5f15\u53ef\u4ee5\u5206\u914d\u65b0\u503c\uff1a"
     ]
    },
    {
     "cell_type": "code",
     "collapsed": false,
     "input": [
      "a[[9, 7]] = -100\n",
      "a"
     ],
     "language": "python",
     "metadata": {},
     "outputs": [
      {
       "metadata": {},
       "output_type": "pyout",
       "prompt_number": 51,
       "text": [
        "array([   0,   10,   20,   30,   40,   50,   60, -100,   80, -100])"
       ]
      }
     ],
     "prompt_number": 51
    },
    {
     "cell_type": "markdown",
     "metadata": {},
     "source": [
      "\u5f53\u4e00\u4e2a\u65b0\u6570\u7ec4\u7528\u6574\u578b\u6570\u7ec4\u7d22\u5f15\u521b\u5efa\u65f6\uff0c\u65b0\u6570\u7ec4\u6709\u76f8\u540c\u7684\u5f62\u72b6\uff0c\u800c\u4e0d\u662f\u6574\u6570\u6570\u7ec4\uff1a"
     ]
    },
    {
     "cell_type": "code",
     "collapsed": false,
     "input": [
      "a = np.arange(10)\n",
      "idx = np.array([[3, 4], [9, 7]])\n",
      "idx.shape"
     ],
     "language": "python",
     "metadata": {},
     "outputs": [
      {
       "metadata": {},
       "output_type": "pyout",
       "prompt_number": 52,
       "text": [
        "(2, 2)"
       ]
      }
     ],
     "prompt_number": 52
    },
    {
     "cell_type": "code",
     "collapsed": false,
     "input": [
      "a[idx]"
     ],
     "language": "python",
     "metadata": {},
     "outputs": [
      {
       "metadata": {},
       "output_type": "pyout",
       "prompt_number": 53,
       "text": [
        "array([[3, 4],\n",
        "       [9, 7]])"
       ]
      }
     ],
     "prompt_number": 53
    },
    {
     "cell_type": "markdown",
     "metadata": {},
     "source": [
      "\u4e0b\u56fe\u5c55\u793a\u4e86\u591a\u79cd\u8c61\u5f81\u7d22\u5f15\u7684\u5e94\u7528\n",
      "![numpy_fancy_indexing](http://scipy-lectures.github.io/_images/numpy_fancy_indexing.png)"
     ]
    },
    {
     "cell_type": "markdown",
     "metadata": {},
     "source": [
      "**\u7ec3\u4e60\uff1a\u8c61\u5f81\u7d22\u5f15**\n",
      "* \u540c\u6837\uff0c\u91cd\u65b0\u751f\u6210\u4e0a\u56fe\u4e2d\u6240\u793a\u7684\u8c61\u5f81\u7d22\u5f15\n",
      "* \u7528\u5de6\u4fa7\u7684\u8c61\u5f81\u7d22\u5f15\u548c\u53f3\u4fa7\u7684\u6570\u7ec4\u521b\u5efa\u5728\u4e3a\u4e00\u4e2a\u6570\u7ec4\u8d4b\u503c\uff0c\u4f8b\u5982\uff0c\u8bbe\u7f6e\u4e0a\u56fe\u6570\u7ec4\u7684\u4e00\u90e8\u5206\u4e3a0\u3002"
     ]
    },
    {
     "cell_type": "markdown",
     "metadata": {},
     "source": [
      "## 1.3.2 \u6570\u7ec4\u7684\u6570\u503c\u64cd\u4f5c\n",
      "### 1.3.2.1 \u5143\u7d20\u7ea7\u64cd\u4f5c\n",
      "#### 1.3.2.1.1 \u57fa\u7840\u64cd\u4f5c\n",
      "\n",
      "\u6807\u91cf:"
     ]
    },
    {
     "cell_type": "code",
     "collapsed": false,
     "input": [
      "a = np.array([1, 2, 3, 4])\n",
      "a + 1"
     ],
     "language": "python",
     "metadata": {},
     "outputs": [
      {
       "metadata": {},
       "output_type": "pyout",
       "prompt_number": 54,
       "text": [
        "array([2, 3, 4, 5])"
       ]
      }
     ],
     "prompt_number": 54
    },
    {
     "cell_type": "code",
     "collapsed": false,
     "input": [
      "2**a"
     ],
     "language": "python",
     "metadata": {},
     "outputs": [
      {
       "metadata": {},
       "output_type": "pyout",
       "prompt_number": 55,
       "text": [
        "array([ 2,  4,  8, 16])"
       ]
      }
     ],
     "prompt_number": 55
    },
    {
     "cell_type": "markdown",
     "metadata": {},
     "source": [
      "\u6240\u6709\u8fd0\u7b97\u662f\u5728\u5143\u7d20\u7ea7\u522b\u4e0a\u64cd\u4f5c\uff1a"
     ]
    },
    {
     "cell_type": "code",
     "collapsed": false,
     "input": [
      "b = np.ones(4) + 1\n",
      "a - b"
     ],
     "language": "python",
     "metadata": {},
     "outputs": [
      {
       "metadata": {},
       "output_type": "pyout",
       "prompt_number": 56,
       "text": [
        "array([-1.,  0.,  1.,  2.])"
       ]
      }
     ],
     "prompt_number": 56
    },
    {
     "cell_type": "code",
     "collapsed": false,
     "input": [
      "a * b"
     ],
     "language": "python",
     "metadata": {},
     "outputs": [
      {
       "metadata": {},
       "output_type": "pyout",
       "prompt_number": 57,
       "text": [
        "array([ 2.,  4.,  6.,  8.])"
       ]
      }
     ],
     "prompt_number": 57
    },
    {
     "cell_type": "code",
     "collapsed": false,
     "input": [
      "j = np.arange(5)\n",
      "2**(j + 1) - j"
     ],
     "language": "python",
     "metadata": {},
     "outputs": [
      {
       "metadata": {},
       "output_type": "pyout",
       "prompt_number": 58,
       "text": [
        "array([ 2,  3,  6, 13, 28])"
       ]
      }
     ],
     "prompt_number": 58
    },
    {
     "cell_type": "markdown",
     "metadata": {},
     "source": [
      "\u8fd9\u4e9b\u64cd\u4f5c\u5f53\u7136\u4e5f\u6bd4\u4f60\u7528\u7eafPython\u5b9e\u73b0\u597d\u5feb\u5f97\u591a\uff1a"
     ]
    },
    {
     "cell_type": "code",
     "collapsed": false,
     "input": [
      "a = np.arange(10000)\n",
      "%timeit a + 1 "
     ],
     "language": "python",
     "metadata": {},
     "outputs": [
      {
       "output_type": "stream",
       "stream": "stdout",
       "text": [
        "100000 loops, best of 3: 11 \u00b5s per loop\n"
       ]
      }
     ],
     "prompt_number": 60
    },
    {
     "cell_type": "code",
     "collapsed": false,
     "input": [
      "l = range(10000)\n",
      "%timeit [i+1 for i in l] "
     ],
     "language": "python",
     "metadata": {},
     "outputs": [
      {
       "output_type": "stream",
       "stream": "stdout",
       "text": [
        "1000 loops, best of 3: 560 \u00b5s per loop\n"
       ]
      }
     ],
     "prompt_number": 61
    },
    {
     "cell_type": "markdown",
     "metadata": {},
     "source": [
      "**\u6ce8\u610f\uff1a\u6570\u7ec4\u76f8\u4e58\u4e0d\u662f\u77e9\u9635\u76f8\u4e58\uff1a**"
     ]
    },
    {
     "cell_type": "code",
     "collapsed": false,
     "input": [
      "c = np.ones((3, 3))\n",
      "c * c                   # \u4e0d\u662f\u77e9\u9635\u76f8\u4e58\uff01"
     ],
     "language": "python",
     "metadata": {},
     "outputs": [
      {
       "metadata": {},
       "output_type": "pyout",
       "prompt_number": 62,
       "text": [
        "array([[ 1.,  1.,  1.],\n",
        "       [ 1.,  1.,  1.],\n",
        "       [ 1.,  1.,  1.]])"
       ]
      }
     ],
     "prompt_number": 62
    },
    {
     "cell_type": "markdown",
     "metadata": {},
     "source": [
      "**\u6ce8\uff1a\u77e9\u9635\u76f8\u4e58\uff1a**"
     ]
    },
    {
     "cell_type": "code",
     "collapsed": false,
     "input": [
      "c.dot(c)"
     ],
     "language": "python",
     "metadata": {},
     "outputs": [
      {
       "metadata": {},
       "output_type": "pyout",
       "prompt_number": 63,
       "text": [
        "array([[ 3.,  3.,  3.],\n",
        "       [ 3.,  3.,  3.],\n",
        "       [ 3.,  3.,  3.]])"
       ]
      }
     ],
     "prompt_number": 63
    },
    {
     "cell_type": "markdown",
     "metadata": {},
     "source": [
      "**\u7ec3\u4e60\uff1a\u5143\u7d20\u7ea7\u522b\u7684\u64cd\u4f5c**\n",
      "\n",
      "* \u8bd5\u4e00\u4e0b\u5143\u7d20\u7ea7\u522b\u7684\u7b80\u5355\u7b97\u672f\u64cd\u4f5c\n",
      "* \u7528 `%timeit` \u6bd4\u4e00\u4e0b\u4ed6\u4eec\u4e0e\u7eafPython\u5bf9\u7b49\u7269\u7684\u65f6\u95f4\n",
      "* \u751f\u6210\uff1a\n",
      "    * `[2**0, 2**1, 2**2, 2**3, 2**4]`\n",
      "    * `a_j = 2^(3*j) - j`\n",
      "\n",
      "#### 1.3.2.1.2\u5176\u4ed6\u64cd\u4f5c\n",
      "\n",
      "**\u5bf9\u6bd4\uff1a**"
     ]
    },
    {
     "cell_type": "code",
     "collapsed": false,
     "input": [
      "a = np.array([1, 2, 3, 4])\n",
      "b = np.array([4, 2, 2, 4])\n",
      "a == b"
     ],
     "language": "python",
     "metadata": {},
     "outputs": [
      {
       "metadata": {},
       "output_type": "pyout",
       "prompt_number": 64,
       "text": [
        "array([False,  True, False,  True], dtype=bool)"
       ]
      }
     ],
     "prompt_number": 64
    },
    {
     "cell_type": "code",
     "collapsed": false,
     "input": [
      "a > b"
     ],
     "language": "python",
     "metadata": {},
     "outputs": [
      {
       "metadata": {},
       "output_type": "pyout",
       "prompt_number": 65,
       "text": [
        "array([False, False,  True, False], dtype=bool)"
       ]
      }
     ],
     "prompt_number": 65
    },
    {
     "cell_type": "markdown",
     "metadata": {},
     "source": [
      "\u6570\u7ec4\u7ea7\u522b\u7684\u5bf9\u6bd4\uff1a"
     ]
    },
    {
     "cell_type": "code",
     "collapsed": false,
     "input": [
      "a = np.array([1, 2, 3, 4])\n",
      "b = np.array([4, 2, 2, 4])\n",
      "c = np.array([1, 2, 3, 4])\n",
      "np.array_equal(a, b)"
     ],
     "language": "python",
     "metadata": {},
     "outputs": [
      {
       "metadata": {},
       "output_type": "pyout",
       "prompt_number": 66,
       "text": [
        "False"
       ]
      }
     ],
     "prompt_number": 66
    },
    {
     "cell_type": "code",
     "collapsed": false,
     "input": [
      "np.array_equal(a, c)"
     ],
     "language": "python",
     "metadata": {},
     "outputs": [
      {
       "metadata": {},
       "output_type": "pyout",
       "prompt_number": 67,
       "text": [
        "True"
       ]
      }
     ],
     "prompt_number": 67
    },
    {
     "cell_type": "markdown",
     "metadata": {},
     "source": [
      "**\u903b\u8f91\u64cd\u4f5c**\uff1a"
     ]
    },
    {
     "cell_type": "code",
     "collapsed": false,
     "input": [
      "a = np.array([1, 1, 0, 0], dtype=bool)\n",
      "b = np.array([1, 0, 1, 0], dtype=bool)\n",
      "np.logical_or(a, b)"
     ],
     "language": "python",
     "metadata": {},
     "outputs": [
      {
       "metadata": {},
       "output_type": "pyout",
       "prompt_number": 68,
       "text": [
        "array([ True,  True,  True, False], dtype=bool)"
       ]
      }
     ],
     "prompt_number": 68
    },
    {
     "cell_type": "code",
     "collapsed": false,
     "input": [
      "np.logical_and(a, b)"
     ],
     "language": "python",
     "metadata": {},
     "outputs": [
      {
       "metadata": {},
       "output_type": "pyout",
       "prompt_number": 69,
       "text": [
        "array([ True, False, False, False], dtype=bool)"
       ]
      }
     ],
     "prompt_number": 69
    },
    {
     "cell_type": "markdown",
     "metadata": {},
     "source": [
      "**[\u8d85\u8d8a\u51fd\u6570](http://baike.baidu.com/link?url=3aAGiGcMZFhxRP7D1CWzajcHf-OVCM6L6J1Eaxv1rPxFyEYKRoHXHdcYqKfUIc0q-hcxB_UoE73B5O0GyH1mf_)**"
     ]
    },
    {
     "cell_type": "code",
     "collapsed": false,
     "input": [
      "a = np.arange(5)\n",
      "np.sin(a)"
     ],
     "language": "python",
     "metadata": {},
     "outputs": [
      {
       "metadata": {},
       "output_type": "pyout",
       "prompt_number": 71,
       "text": [
        "array([ 0.        ,  0.84147098,  0.90929743,  0.14112001, -0.7568025 ])"
       ]
      }
     ],
     "prompt_number": 71
    },
    {
     "cell_type": "code",
     "collapsed": false,
     "input": [
      "np.log(a)"
     ],
     "language": "python",
     "metadata": {},
     "outputs": [
      {
       "output_type": "stream",
       "stream": "stderr",
       "text": [
        "-c:1: RuntimeWarning: divide by zero encountered in log\n"
       ]
      },
      {
       "metadata": {},
       "output_type": "pyout",
       "prompt_number": 72,
       "text": [
        "array([       -inf,  0.        ,  0.69314718,  1.09861229,  1.38629436])"
       ]
      }
     ],
     "prompt_number": 72
    },
    {
     "cell_type": "code",
     "collapsed": false,
     "input": [
      "np.exp(a)"
     ],
     "language": "python",
     "metadata": {},
     "outputs": [
      {
       "metadata": {},
       "output_type": "pyout",
       "prompt_number": 73,
       "text": [
        "array([  1.        ,   2.71828183,   7.3890561 ,  20.08553692,  54.59815003])"
       ]
      }
     ],
     "prompt_number": 73
    },
    {
     "cell_type": "markdown",
     "metadata": {},
     "source": [
      "**\u5f62\u72b6\u4e0d\u5339\u914d**"
     ]
    },
    {
     "cell_type": "code",
     "collapsed": false,
     "input": [
      "a = np.arange(4)\n",
      "a + np.array([1, 2])  "
     ],
     "language": "python",
     "metadata": {},
     "outputs": [
      {
       "ename": "ValueError",
       "evalue": "operands could not be broadcast together with shapes (4,) (2,) ",
       "output_type": "pyerr",
       "traceback": [
        "\u001b[0;31m---------------------------------------------------------------------------\u001b[0m\n\u001b[0;31mValueError\u001b[0m                                Traceback (most recent call last)",
        "\u001b[0;32m<ipython-input-74-82c1c1d5b8c1>\u001b[0m in \u001b[0;36m<module>\u001b[0;34m()\u001b[0m\n\u001b[1;32m      1\u001b[0m \u001b[0ma\u001b[0m \u001b[0;34m=\u001b[0m \u001b[0mnp\u001b[0m\u001b[0;34m.\u001b[0m\u001b[0marange\u001b[0m\u001b[0;34m(\u001b[0m\u001b[0;36m4\u001b[0m\u001b[0;34m)\u001b[0m\u001b[0;34m\u001b[0m\u001b[0m\n\u001b[0;32m----> 2\u001b[0;31m \u001b[0ma\u001b[0m \u001b[0;34m+\u001b[0m \u001b[0mnp\u001b[0m\u001b[0;34m.\u001b[0m\u001b[0marray\u001b[0m\u001b[0;34m(\u001b[0m\u001b[0;34m[\u001b[0m\u001b[0;36m1\u001b[0m\u001b[0;34m,\u001b[0m \u001b[0;36m2\u001b[0m\u001b[0;34m]\u001b[0m\u001b[0;34m)\u001b[0m\u001b[0;34m\u001b[0m\u001b[0m\n\u001b[0m",
        "\u001b[0;31mValueError\u001b[0m: operands could not be broadcast together with shapes (4,) (2,) "
       ]
      }
     ],
     "prompt_number": 74
    },
    {
     "cell_type": "markdown",
     "metadata": {},
     "source": [
      "*\u5e7f\u64ad*\uff1f\u6211\u4eec\u5c06\u5728[\u7a0d\u540e](#Broadcasting)\u8ba8\u8bba\u3002\n",
      "\n",
      "**\u53d8\u6362**"
     ]
    },
    {
     "cell_type": "code",
     "collapsed": false,
     "input": [
      "a = np.triu(np.ones((3, 3)), 1)   # \u770b\u4e00\u4e0b help(np.triu)\n",
      "a"
     ],
     "language": "python",
     "metadata": {},
     "outputs": [
      {
       "metadata": {},
       "output_type": "pyout",
       "prompt_number": 76,
       "text": [
        "array([[ 0.,  1.,  1.],\n",
        "       [ 0.,  0.,  1.],\n",
        "       [ 0.,  0.,  0.]])"
       ]
      }
     ],
     "prompt_number": 76
    },
    {
     "cell_type": "code",
     "collapsed": false,
     "input": [
      "a.T"
     ],
     "language": "python",
     "metadata": {},
     "outputs": [
      {
       "metadata": {},
       "output_type": "pyout",
       "prompt_number": 77,
       "text": [
        "array([[ 0.,  0.,  0.],\n",
        "       [ 1.,  0.,  0.],\n",
        "       [ 1.,  1.,  0.]])"
       ]
      }
     ],
     "prompt_number": 77
    },
    {
     "cell_type": "markdown",
     "metadata": {},
     "source": [
      "**\u8b66\u544a\uff1a\u53d8\u6362\u662f\u89c6\u56fe**\n",
      "\n",
      "\u56e0\u6b64\uff0c\u4e0b\u5217\u7684\u4ee3\u7801\u662f\u9519\u8bef\u7684\uff0c\u5c06\u5bfc\u81f4\u77e9\u9635\u4e0d\u5bf9\u79f0\uff1a"
     ]
    },
    {
     "cell_type": "code",
     "collapsed": false,
     "input": [
      "a += a.T"
     ],
     "language": "python",
     "metadata": {},
     "outputs": [],
     "prompt_number": 78
    },
    {
     "cell_type": "markdown",
     "metadata": {},
     "source": [
      "**\u6ce8\uff1a\u7ebf\u6027\u4ee3\u6570**\n",
      "\n",
      "\u5b50\u6a21\u5757 `numpy.linalg` \u5b9e\u73b0\u4e86\u57fa\u7840\u7684\u7ebf\u6027\u4ee3\u6570\uff0c\u6bd4\u5982\u89e3\u5f00\u7ebf\u6027\u7cfb\u7edf\uff0c\u5947\u5f02\u503c\u5206\u89e3\u7b49\u3002\u4f46\u662f\uff0c\u5e76\u4e0d\u80fd\u4fdd\u8bc1\u4ee5\u9ad8\u6548\u7684\u65b9\u5f0f\u7f16\u8bd1\uff0c\u56e0\u6b64\uff0c\u5efa\u8bae\u4f7f\u7528 `scipy.linalg`, \u8be6\u7ec6\u7684\u5185\u5bb9\u89c1\u7ebf\u6027\u4ee3\u6570\u64cd\u4f5c\uff1a`scipy.linalg`\uff08\u6682\u7f3a\uff09\u3002\n",
      "\n",
      "**\u7ec3\u4e60\uff1a\u5176\u4ed6\u64cd\u4f5c**\n",
      "* \u770b\u4e00\u4e0b `np.allclose` \u7684\u5e2e\u52a9\uff0c\u4ec0\u4e48\u65f6\u5019\u8fd9\u5f88\u6709\u7528\uff1f\n",
      "* \u770b\u4e00\u4e0b `np.triu`\u548c `np.tril`\u7684\u5e2e\u52a9\u3002\n",
      "\n",
      "### 1.3.2.2 \u57fa\u7840\u7b80\u5316\n",
      "#### 1.3.2.2.1 \u8ba1\u7b97\u6c42\u548c"
     ]
    },
    {
     "cell_type": "code",
     "collapsed": false,
     "input": [
      "x = np.array([1, 2, 3, 4])\n",
      "np.sum(x)"
     ],
     "language": "python",
     "metadata": {},
     "outputs": [
      {
       "metadata": {},
       "output_type": "pyout",
       "prompt_number": 79,
       "text": [
        "10"
       ]
      }
     ],
     "prompt_number": 79
    },
    {
     "cell_type": "code",
     "collapsed": false,
     "input": [
      "x.sum()"
     ],
     "language": "python",
     "metadata": {},
     "outputs": [
      {
       "metadata": {},
       "output_type": "pyout",
       "prompt_number": 80,
       "text": [
        "10"
       ]
      }
     ],
     "prompt_number": 80
    },
    {
     "cell_type": "markdown",
     "metadata": {},
     "source": [
      "\u884c\u6c42\u548c\u548c\u5217\u6c42\u548c\uff1a\n",
      "\n",
      "![reductions](http://scipy-lectures.github.io/_images/reductions.png)"
     ]
    },
    {
     "cell_type": "code",
     "collapsed": false,
     "input": [
      "x = np.array([[1, 1], [2, 2]])\n",
      "x"
     ],
     "language": "python",
     "metadata": {},
     "outputs": [
      {
       "metadata": {},
       "output_type": "pyout",
       "prompt_number": 81,
       "text": [
        "array([[1, 1],\n",
        "       [2, 2]])"
       ]
      }
     ],
     "prompt_number": 81
    },
    {
     "cell_type": "code",
     "collapsed": false,
     "input": [
      "x.sum(axis=0)   # \u5217 (\u7b2c\u4e00\u7eac\u5ea6)"
     ],
     "language": "python",
     "metadata": {},
     "outputs": [
      {
       "metadata": {},
       "output_type": "pyout",
       "prompt_number": 83,
       "text": [
        "array([3, 3])"
       ]
      }
     ],
     "prompt_number": 83
    },
    {
     "cell_type": "code",
     "collapsed": false,
     "input": [
      "x[:, 0].sum(), x[:, 1].sum()"
     ],
     "language": "python",
     "metadata": {},
     "outputs": [
      {
       "metadata": {},
       "output_type": "pyout",
       "prompt_number": 84,
       "text": [
        "(3, 3)"
       ]
      }
     ],
     "prompt_number": 84
    },
    {
     "cell_type": "code",
     "collapsed": false,
     "input": [
      "x.sum(axis=1)   # \u884c (\u7b2c\u4e8c\u7eac\u5ea6)"
     ],
     "language": "python",
     "metadata": {},
     "outputs": [
      {
       "metadata": {},
       "output_type": "pyout",
       "prompt_number": 85,
       "text": [
        "array([2, 4])"
       ]
      }
     ],
     "prompt_number": 85
    },
    {
     "cell_type": "code",
     "collapsed": false,
     "input": [
      "x[0, :].sum(), x[1, :].sum()"
     ],
     "language": "python",
     "metadata": {},
     "outputs": [
      {
       "metadata": {},
       "output_type": "pyout",
       "prompt_number": 86,
       "text": [
        "(2, 4)"
       ]
      }
     ],
     "prompt_number": 86
    },
    {
     "cell_type": "markdown",
     "metadata": {},
     "source": [
      "\u76f8\u540c\u7684\u601d\u8def\u5728\u9ad8\u7ef4\uff1a"
     ]
    },
    {
     "cell_type": "code",
     "collapsed": false,
     "input": [
      "x = np.random.rand(2, 2, 2)\n",
      "x.sum(axis=2)[0, 1]"
     ],
     "language": "python",
     "metadata": {},
     "outputs": [
      {
       "metadata": {},
       "output_type": "pyout",
       "prompt_number": 87,
       "text": [
        "1.2671177193964822"
       ]
      }
     ],
     "prompt_number": 87
    },
    {
     "cell_type": "code",
     "collapsed": false,
     "input": [
      "x[0, 1, :].sum()     "
     ],
     "language": "python",
     "metadata": {},
     "outputs": [
      {
       "metadata": {},
       "output_type": "pyout",
       "prompt_number": 88,
       "text": [
        "1.2671177193964822"
       ]
      }
     ],
     "prompt_number": 88
    },
    {
     "cell_type": "markdown",
     "metadata": {},
     "source": [
      "#### 1.3.2.2.2 \u5176\u4ed6\u7b80\u5316"
     ]
    },
    {
     "cell_type": "markdown",
     "metadata": {},
     "source": [
      "- \u4ee5\u76f8\u540c\u65b9\u5f0f\u8fd0\u4f5c\uff08\u4e5f\u53ef\u4ee5\u4f7f\u7528 `axis=` \uff09"
     ]
    },
    {
     "cell_type": "markdown",
     "metadata": {},
     "source": [
      "**\u6781\u503c**"
     ]
    },
    {
     "cell_type": "code",
     "collapsed": false,
     "input": [
      "x = np.array([1, 3, 2])\n",
      "x.min()"
     ],
     "language": "python",
     "metadata": {},
     "outputs": [
      {
       "metadata": {},
       "output_type": "pyout",
       "prompt_number": 89,
       "text": [
        "1"
       ]
      }
     ],
     "prompt_number": 89
    },
    {
     "cell_type": "code",
     "collapsed": false,
     "input": [
      "x.max()"
     ],
     "language": "python",
     "metadata": {},
     "outputs": [
      {
       "metadata": {},
       "output_type": "pyout",
       "prompt_number": 90,
       "text": [
        "3"
       ]
      }
     ],
     "prompt_number": 90
    },
    {
     "cell_type": "code",
     "collapsed": false,
     "input": [
      "x.argmin()  # \u6700\u5c0f\u503c\u7684\u7d22\u5f15"
     ],
     "language": "python",
     "metadata": {},
     "outputs": [
      {
       "metadata": {},
       "output_type": "pyout",
       "prompt_number": 91,
       "text": [
        "0"
       ]
      }
     ],
     "prompt_number": 91
    },
    {
     "cell_type": "code",
     "collapsed": false,
     "input": [
      "x.argmax()  # \u6700\u5927\u503c\u7684\u7d22\u5f15"
     ],
     "language": "python",
     "metadata": {},
     "outputs": [
      {
       "metadata": {},
       "output_type": "pyout",
       "prompt_number": 92,
       "text": [
        "1"
       ]
      }
     ],
     "prompt_number": 92
    },
    {
     "cell_type": "markdown",
     "metadata": {},
     "source": [
      "**\u903b\u8f91\u8fd0\u7b97**\uff1a"
     ]
    },
    {
     "cell_type": "code",
     "collapsed": false,
     "input": [
      "np.all([True, True, False])"
     ],
     "language": "python",
     "metadata": {},
     "outputs": [
      {
       "metadata": {},
       "output_type": "pyout",
       "prompt_number": 93,
       "text": [
        "False"
       ]
      }
     ],
     "prompt_number": 93
    },
    {
     "cell_type": "code",
     "collapsed": false,
     "input": [
      "np.any([True, True, False])"
     ],
     "language": "python",
     "metadata": {},
     "outputs": [
      {
       "metadata": {},
       "output_type": "pyout",
       "prompt_number": 94,
       "text": [
        "True"
       ]
      }
     ],
     "prompt_number": 94
    },
    {
     "cell_type": "markdown",
     "metadata": {},
     "source": [
      "**\u6ce8**\uff1a\u53ef\u4ee5\u88ab\u5e94\u7528\u6570\u7ec4\u5bf9\u6bd4\uff1a"
     ]
    },
    {
     "cell_type": "code",
     "collapsed": false,
     "input": [
      "a = np.zeros((100, 100))\n",
      "np.any(a != 0)"
     ],
     "language": "python",
     "metadata": {},
     "outputs": [
      {
       "metadata": {},
       "output_type": "pyout",
       "prompt_number": 95,
       "text": [
        "False"
       ]
      }
     ],
     "prompt_number": 95
    },
    {
     "cell_type": "code",
     "collapsed": false,
     "input": [
      "np.all(a == a)"
     ],
     "language": "python",
     "metadata": {},
     "outputs": [
      {
       "metadata": {},
       "output_type": "pyout",
       "prompt_number": 96,
       "text": [
        "True"
       ]
      }
     ],
     "prompt_number": 96
    },
    {
     "cell_type": "code",
     "collapsed": false,
     "input": [
      "a = np.array([1, 2, 3, 2])\n",
      "b = np.array([2, 2, 3, 2])\n",
      "c = np.array([6, 4, 4, 5])\n",
      "((a <= b) & (b <= c)).all()"
     ],
     "language": "python",
     "metadata": {},
     "outputs": [
      {
       "metadata": {},
       "output_type": "pyout",
       "prompt_number": 97,
       "text": [
        "True"
       ]
      }
     ],
     "prompt_number": 97
    },
    {
     "cell_type": "markdown",
     "metadata": {},
     "source": [
      "**\u7edf\u8ba1:**"
     ]
    },
    {
     "cell_type": "code",
     "collapsed": false,
     "input": [
      "x = np.array([1, 2, 3, 1])\n",
      "y = np.array([[1, 2, 3], [5, 6, 1]])\n",
      "x.mean()"
     ],
     "language": "python",
     "metadata": {},
     "outputs": [
      {
       "metadata": {},
       "output_type": "pyout",
       "prompt_number": 98,
       "text": [
        "1.75"
       ]
      }
     ],
     "prompt_number": 98
    },
    {
     "cell_type": "code",
     "collapsed": false,
     "input": [
      "np.median(x)"
     ],
     "language": "python",
     "metadata": {},
     "outputs": [
      {
       "metadata": {},
       "output_type": "pyout",
       "prompt_number": 99,
       "text": [
        "1.5"
       ]
      }
     ],
     "prompt_number": 99
    },
    {
     "cell_type": "code",
     "collapsed": false,
     "input": [
      "np.median(y, axis=-1) # \u6700\u540e\u7684\u5750\u6807\u8f74"
     ],
     "language": "python",
     "metadata": {},
     "outputs": [
      {
       "metadata": {},
       "output_type": "pyout",
       "prompt_number": 100,
       "text": [
        "array([ 2.,  5.])"
       ]
      }
     ],
     "prompt_number": 100
    },
    {
     "cell_type": "code",
     "collapsed": false,
     "input": [
      "x.std()          # \u5168\u4f53\u603b\u4f53\u7684\u6807\u51c6\u5dee\u3002"
     ],
     "language": "python",
     "metadata": {},
     "outputs": [
      {
       "metadata": {},
       "output_type": "pyout",
       "prompt_number": 101,
       "text": [
        "0.82915619758884995"
       ]
      }
     ],
     "prompt_number": 101
    },
    {
     "cell_type": "markdown",
     "metadata": {},
     "source": [
      "... \u4ee5\u53ca\u5176\u4ed6\u66f4\u591a\uff08\u968f\u7740\u4f60\u6210\u957f\u6700\u597d\u5b66\u4e60\u4e00\u4e0b\uff09\u3002\n",
      "\n",
      "**\u7ec3\u4e60\uff1a\u7b80\u5316**\n",
      "\n",
      "* \u5047\u5b9a\u6709 `sum` \uff0c\u4f60\u4f1a\u671f\u671b\u770b\u5230\u54ea\u4e9b\u5176\u4ed6\u7684\u51fd\u6570\uff1f\n",
      "* `sum` \u548c `cumsum` \u6709\u4ec0\u4e48\u533a\u522b\uff1f"
     ]
    },
    {
     "cell_type": "markdown",
     "metadata": {},
     "source": [
      "**\u5b9e\u4f8b: \u6570\u636e\u7edf\u8ba1**"
     ]
    },
    {
     "cell_type": "markdown",
     "metadata": {},
     "source": [
      "[populations.txt](http://scipy-lectures.github.io/_downloads/populations.txt)\u4e2d\u7684\u6570\u636e\u63cf\u8ff0\u4e86\u8fc7\u53bb20\u5e74\u52a0\u62ff\u5927\u5317\u90e8\u91ce\u5154\u548c\u731e\u7301\u7684\u6570\u91cf\uff08\u4ee5\u53ca\u80e1\u841d\u535c\uff09\u3002\n",
      "\n",
      "\u4f60\u53ef\u4ee5\u5728\u7f16\u8f91\u5668\u6216\u5728IPython\u770b\u4e00\u4e0b\u6570\u636e\uff08shell\u6216\u8005notebook\u90fd\u53ef\u4ee5\uff09\uff1a"
     ]
    },
    {
     "cell_type": "code",
     "collapsed": false,
     "input": [
      "cat data/populations.txt"
     ],
     "language": "python",
     "metadata": {},
     "outputs": [
      {
       "output_type": "stream",
       "stream": "stdout",
       "text": [
        "# year\thare\tlynx\tcarrot\r\n",
        "1900\t30e3\t4e3\t48300\r\n",
        "1901\t47.2e3\t6.1e3\t48200\r\n",
        "1902\t70.2e3\t9.8e3\t41500\r\n",
        "1903\t77.4e3\t35.2e3\t38200\r\n",
        "1904\t36.3e3\t59.4e3\t40600\r\n",
        "1905\t20.6e3\t41.7e3\t39800\r\n",
        "1906\t18.1e3\t19e3\t38600\r\n",
        "1907\t21.4e3\t13e3\t42300\r\n",
        "1908\t22e3\t8.3e3\t44500\r\n",
        "1909\t25.4e3\t9.1e3\t42100\r\n",
        "1910\t27.1e3\t7.4e3\t46000\r\n",
        "1911\t40.3e3\t8e3\t46800\r\n",
        "1912\t57e3\t12.3e3\t43800\r\n",
        "1913\t76.6e3\t19.5e3\t40900\r\n",
        "1914\t52.3e3\t45.7e3\t39400\r\n",
        "1915\t19.5e3\t51.1e3\t39000\r\n",
        "1916\t11.2e3\t29.7e3\t36700\r\n",
        "1917\t7.6e3\t15.8e3\t41800\r\n",
        "1918\t14.6e3\t9.7e3\t43300\r\n",
        "1919\t16.2e3\t10.1e3\t41300\r\n",
        "1920\t24.7e3\t8.6e3\t47300\r\n"
       ]
      }
     ],
     "prompt_number": 104
    },
    {
     "cell_type": "markdown",
     "metadata": {},
     "source": [
      "\u9996\u5148\uff0c\u5c06\u6570\u636e\u52a0\u8f7d\u5230Numpy\u6570\u7ec4\uff1a"
     ]
    },
    {
     "cell_type": "code",
     "collapsed": false,
     "input": [
      "data = np.loadtxt('data/populations.txt')\n",
      "year, hares, lynxes, carrots = data.T  # \u6280\u5de7: \u5c06\u5217\u5206\u914d\u7ed9\u53d8\u91cf"
     ],
     "language": "python",
     "metadata": {},
     "outputs": [],
     "prompt_number": 107
    },
    {
     "cell_type": "markdown",
     "metadata": {},
     "source": [
      "\u63a5\u4e0b\u6765\u4f5c\u56fe\uff1a"
     ]
    },
    {
     "cell_type": "code",
     "collapsed": false,
     "input": [
      "from matplotlib import pyplot as plt\n",
      "plt.axes([0.2, 0.1, 0.5, 0.8]) \n",
      "plt.plot(year, hares, year, lynxes, year, carrots) \n",
      "plt.legend(('Hare', 'Lynx', 'Carrot'), loc=(1.05, 0.5)) "
     ],
     "language": "python",
     "metadata": {},
     "outputs": [
      {
       "metadata": {},
       "output_type": "pyout",
       "prompt_number": 108,
       "text": [
        "<matplotlib.legend.Legend at 0x1070407d0>"
       ]
      },
      {
       "metadata": {},
       "output_type": "display_data",
       "png": "[encoded data removed]",
       "text": [
        "<matplotlib.figure.Figure at 0x103768910>"
       ]
      }
     ],
     "prompt_number": 108
    },
    {
     "cell_type": "markdown",
     "metadata": {},
     "source": [
      "\u968f\u65f6\u95f4\u53d8\u5316\u7684\u4eba\u53e3\u5e73\u5747\u6570\uff1a"
     ]
    },
    {
     "cell_type": "code",
     "collapsed": false,
     "input": [
      "populations = data[:, 1:]\n",
      "populations.mean(axis=0)"
     ],
     "language": "python",
     "metadata": {},
     "outputs": [
      {
       "metadata": {},
       "output_type": "pyout",
       "prompt_number": 109,
       "text": [
        "array([ 34080.95238095,  20166.66666667,  42400.        ])"
       ]
      }
     ],
     "prompt_number": 109
    },
    {
     "cell_type": "markdown",
     "metadata": {},
     "source": [
      "\u6837\u672c\u7684\u6807\u51c6\u5dee\uff1a"
     ]
    },
    {
     "cell_type": "code",
     "collapsed": false,
     "input": [
      "populations.std(axis=0)"
     ],
     "language": "python",
     "metadata": {},
     "outputs": [
      {
       "metadata": {},
       "output_type": "pyout",
       "prompt_number": 110,
       "text": [
        "array([ 20897.90645809,  16254.59153691,   3322.50622558])"
       ]
      }
     ],
     "prompt_number": 110
    },
    {
     "cell_type": "markdown",
     "metadata": {},
     "source": [
      "\u6bcf\u4e00\u5e74\u54ea\u4e2a\u7269\u79cd\u6709\u6700\u9ad8\u7684\u4eba\u53e3\uff1f\uff1a"
     ]
    },
    {
     "cell_type": "code",
     "collapsed": false,
     "input": [
      "np.argmax(populations, axis=1)"
     ],
     "language": "python",
     "metadata": {},
     "outputs": [
      {
       "metadata": {},
       "output_type": "pyout",
       "prompt_number": 111,
       "text": [
        "array([2, 2, 0, 0, 1, 1, 2, 2, 2, 2, 2, 2, 0, 0, 0, 1, 2, 2, 2, 2, 2])"
       ]
      }
     ],
     "prompt_number": 111
    },
    {
     "cell_type": "markdown",
     "metadata": {},
     "source": [
      "**\u5b9e\u4f8b\uff1a\u968f\u673a\u6e38\u8d70\u7b97\u6cd5\u6269\u6563**\n",
      "\n",
      "[random_walk](http://scipy-lectures.github.io/_images/random_walk.png)\n",
      "\n",
      "\u8ba9\u6211\u4eec\u8003\u8651\u4e00\u4e0b\u7b80\u5355\u76841\u7ef4\u968f\u673a\u6e38\u8d70\u8fc7\u7a0b\uff1a\u5728\u6bcf\u4e2a\u65f6\u95f4\u70b9\uff0c\u884c\u8d70\u8005\u4ee5\u76f8\u7b49\u7684\u53ef\u80fd\u6027\u8df3\u5230\u5de6\u8fb9\u6216\u53f3\u8fb9\u3002\u6211\u4eec\u611f\u5174\u8da3\u7684\u662f\u627e\u5230\u968f\u673a\u6e38\u8d70\u8005\u5728 `t` \u6b21\u5de6\u8df3\u6216\u53f3\u8df3\u8ddd\u79bb\u539f\u70b9\u7684\u5178\u578b\u8ddd\u79bb\uff1f\u6211\u4eec\u5c06\u6a21\u62df\u8bb8\u591a\u201d\u884c\u8d70\u8005\u201c\u6765\u627e\u5230\u8fd9\u4e2a\u89c4\u5f8b\uff0c\u5e76\u4e14\u6211\u4eec\u5c06\u91c7\u7528\u6570\u7ec4\u8ba1\u7b97\u6280\u5de7\u6765\u8ba1\u7b97\uff1a\u6211\u4eec\u5c06\u521b\u5efa\u4e00\u4e2a2D\u6570\u7ec4\u8bb0\u5f55\u4e8b\u5b9e\uff0c\u4e00\u4e2a\u65b9\u5411\u662f\u7ecf\u5386\uff08\u6bcf\u4e2a\u884c\u8d70\u8005\u6709\u4e00\u4e2a\u7ecf\u5386\uff09\uff0c\u4e00\u4e2a\u7eac\u5ea6\u662f\u65f6\u95f4\uff1a\n",
      "\n",
      "![random_walk_schema](http://scipy-lectures.github.io/_images/random_walk_schema.png)"
     ]
    },
    {
     "cell_type": "code",
     "collapsed": false,
     "input": [
      "n_stories = 1000 # \u884c\u8d70\u8005\u7684\u6570\n",
      "t_max = 200      # \u6211\u4eec\u8ddf\u8e2a\u884c\u8d70\u8005\u7684\u65f6\u95f4"
     ],
     "language": "python",
     "metadata": {},
     "outputs": [],
     "prompt_number": 113
    },
    {
     "cell_type": "markdown",
     "metadata": {},
     "source": [
      "\u6211\u4eec\u4e3a\u968f\u673a\u9009\u62e9\u6b65\u957f1\u6216-1\u53bb\u884c\u8d70\uff1a"
     ]
    },
    {
     "cell_type": "code",
     "collapsed": false,
     "input": [
      "t = np.arange(t_max)\n",
      "steps = 2 * np.random.random_integers(0, 1, (n_stories, t_max)) - 1\n",
      "np.unique(steps) # \u9a8c\u8bc1: \u6240\u6709\u6b65\u957f\u662f1\u6216-1"
     ],
     "language": "python",
     "metadata": {},
     "outputs": [
      {
       "metadata": {},
       "output_type": "pyout",
       "prompt_number": 115,
       "text": [
        "array([-1,  1])"
       ]
      }
     ],
     "prompt_number": 115
    },
    {
     "cell_type": "markdown",
     "metadata": {},
     "source": [
      "\u6211\u4eec\u901a\u8fc7\u6c47\u603b\u968f\u7740\u65f6\u95f4\u7684\u6b65\u9aa4\u6765\u6784\u5efa\u6e38\u8d70"
     ]
    },
    {
     "cell_type": "code",
     "collapsed": false,
     "input": [
      "positions = np.cumsum(steps, axis=1) # axis = 1: \u7eac\u5ea6\u662f\u65f6\u95f4\n",
      "sq_distance = positions**2"
     ],
     "language": "python",
     "metadata": {},
     "outputs": [],
     "prompt_number": 116
    },
    {
     "cell_type": "markdown",
     "metadata": {},
     "source": [
      "\u83b7\u5f97\u7ecf\u5386\u8f74\u7684\u5e73\u5747\u6570\uff1a"
     ]
    },
    {
     "cell_type": "code",
     "collapsed": false,
     "input": [
      "mean_sq_distance = np.mean(sq_distance, axis=0)"
     ],
     "language": "python",
     "metadata": {},
     "outputs": [],
     "prompt_number": 117
    },
    {
     "cell_type": "markdown",
     "metadata": {},
     "source": [
      "\u753b\u51fa\u7ed3\u679c\uff1a"
     ]
    },
    {
     "cell_type": "code",
     "collapsed": false,
     "input": [
      "plt.figure(figsize=(4, 3)) \n",
      "plt.plot(t, np.sqrt(mean_sq_distance), 'g.', t, np.sqrt(t), 'y-')\n",
      "plt.xlabel(r\"$t$\") \n",
      "plt.ylabel(r\"$\\sqrt{\\langle (\\delta x)^2 \\rangle}$\") "
     ],
     "language": "python",
     "metadata": {},
     "outputs": [
      {
       "metadata": {},
       "output_type": "pyout",
       "prompt_number": 126,
       "text": [
        "<matplotlib.text.Text at 0x10b529450>"
       ]
      },
      {
       "metadata": {},
       "output_type": "display_data",
       "png": "[encoded data removed]",
       "text": [
        "<matplotlib.figure.Figure at 0x1095366d0>"
       ]
      }
     ],
     "prompt_number": 126
    },
    {
     "cell_type": "markdown",
     "metadata": {},
     "source": [
      "\u6211\u4eec\u627e\u5230\u4e86\u7269\u7406\u5b66\u4e0a\u4e00\u4e2a\u8457\u540d\u7684\u7ed3\u679c\uff1a\u5747\u65b9\u5dee\u8bb0\u5f55\u662f\u65f6\u95f4\u7684\u5e73\u65b9\u6839\uff01"
     ]
    },
    {
     "cell_type": "markdown",
     "metadata": {},
     "source": [
      "<a id='Broadcasting'></a>\n",
      "### 1.3.2.3 \u5e7f\u64ad"
     ]
    },
    {
     "cell_type": "markdown",
     "metadata": {},
     "source": [
      "* numpy\u6570\u7ec4\u7684\u57fa\u672c\u64cd\u4f5c\uff08\u76f8\u52a0\u7b49\uff09\u662f\u5143\u7d20\u7ea7\u522b\u7684\n",
      "* \u5728\u76f8\u540c\u5927\u5c0f\u7684\u6570\u7ec4\u4e0a\u4ecd\u7136\u9002\u7528\u3002\n",
      "    **\u5c3d\u7ba1\u5982\u6b64**, \u4e5f\u53ef\u80fd\u5728\u4e0d\u540c\u5927\u5c0f\u7684\u6570\u7ec4\u4e0a\u8fdb\u884c\u8fd9\u4e2a\u64cd\u4f5c\uff0c\u5047\u5982Numpy\u53ef\u4ee5\u5c06\u8fd9\u4e9b\u6570\u7ec4\u8f6c\u5316\u4e3a\u76f8\u540c\u7684\u5927\u5c0f\uff1a\u8fd9\u79cd\u8f6c\u5316\u79f0\u4e3a\u5e7f\u64ad\u3002\n",
      "    \n",
      "\u4e0b\u56fe\u7ed9\u51fa\u4e86\u4e00\u4e2a\u5e7f\u64ad\u7684\u4f8b\u5b50\uff1a\n",
      "\n",
      "![numpy_broadcasting](http://scipy-lectures.github.io/_images/numpy_broadcasting.png)"
     ]
    },
    {
     "cell_type": "markdown",
     "metadata": {},
     "source": [
      "\u8ba9\u6211\u4eec\u9a8c\u8bc1\u4e00\u4e0b\uff1a"
     ]
    },
    {
     "cell_type": "code",
     "collapsed": false,
     "input": [
      "a = np.tile(np.arange(0, 40, 10), (3, 1)).T\n",
      "a"
     ],
     "language": "python",
     "metadata": {},
     "outputs": [
      {
       "metadata": {},
       "output_type": "pyout",
       "prompt_number": 127,
       "text": [
        "array([[ 0,  0,  0],\n",
        "       [10, 10, 10],\n",
        "       [20, 20, 20],\n",
        "       [30, 30, 30]])"
       ]
      }
     ],
     "prompt_number": 127
    },
    {
     "cell_type": "code",
     "collapsed": false,
     "input": [
      "b = np.array([0, 1, 2])\n",
      "a + b"
     ],
     "language": "python",
     "metadata": {},
     "outputs": [
      {
       "metadata": {},
       "output_type": "pyout",
       "prompt_number": 128,
       "text": [
        "array([[ 0,  1,  2],\n",
        "       [10, 11, 12],\n",
        "       [20, 21, 22],\n",
        "       [30, 31, 32]])"
       ]
      }
     ],
     "prompt_number": 128
    },
    {
     "cell_type": "markdown",
     "metadata": {},
     "source": [
      "\u5728\u4e0d\u77e5\u9053\u5e7f\u64ad\u7684\u65f6\u5019\u5df2\u7ecf\u4f7f\u7528\u8fc7\u5b83\uff01\uff1a"
     ]
    },
    {
     "cell_type": "code",
     "collapsed": false,
     "input": [
      "a = np.ones((4, 5))\n",
      "a[0] = 2  # \u6211\u4eec\u5c06\u4e00\u4e2a\u6570\u7ec4\u7684\u7eac\u5ea60\u5206\u914d\u7ed9\u53e6\u4e00\u4e2a\u6570\u7ec4\u7684\u7eac\u5ea61\n",
      "a"
     ],
     "language": "python",
     "metadata": {},
     "outputs": [
      {
       "metadata": {},
       "output_type": "pyout",
       "prompt_number": 129,
       "text": [
        "array([[ 2.,  2.,  2.,  2.,  2.],\n",
        "       [ 1.,  1.,  1.,  1.,  1.],\n",
        "       [ 1.,  1.,  1.,  1.,  1.],\n",
        "       [ 1.,  1.,  1.,  1.,  1.]])"
       ]
      }
     ],
     "prompt_number": 129
    },
    {
     "cell_type": "code",
     "collapsed": false,
     "input": [
      "a = np.ones((4, 5))\n",
      "print a[0]\n",
      "a[0] = 2  # \u6211\u4eec\u5c06\u4e00\u4e2a\u6570\u7ec4\u7684\u7eac\u5ea60\u5206\u914d\u7ed9\u53e6\u4e00\u4e2a\u6570\u7ec4\u7684\u7eac\u5ea6\n",
      "a"
     ],
     "language": "python",
     "metadata": {},
     "outputs": [
      {
       "output_type": "stream",
       "stream": "stdout",
       "text": [
        "[ 1.  1.  1.  1.  1.]\n"
       ]
      },
      {
       "metadata": {},
       "output_type": "pyout",
       "prompt_number": 130,
       "text": [
        "array([[ 2.,  2.,  2.,  2.,  2.],\n",
        "       [ 1.,  1.,  1.,  1.,  1.],\n",
        "       [ 1.,  1.,  1.,  1.,  1.],\n",
        "       [ 1.,  1.,  1.,  1.,  1.]])"
       ]
      }
     ],
     "prompt_number": 130
    },
    {
     "cell_type": "markdown",
     "metadata": {},
     "source": [
      "\u4e00\u4e2a\u6709\u7528\u7684\u6280\u5de7\uff1a"
     ]
    },
    {
     "cell_type": "code",
     "collapsed": false,
     "input": [
      "a = np.arange(0, 40, 10)\n",
      "a.shape"
     ],
     "language": "python",
     "metadata": {},
     "outputs": [
      {
       "metadata": {},
       "output_type": "pyout",
       "prompt_number": 133,
       "text": [
        "(4,)"
       ]
      }
     ],
     "prompt_number": 133
    },
    {
     "cell_type": "code",
     "collapsed": false,
     "input": [
      "a = a[:, np.newaxis]  # \u6dfb\u52a0\u4e00\u4e2a\u65b0\u7684\u8f74 -> 2D \u6570\u7ec4\n",
      "a.shape"
     ],
     "language": "python",
     "metadata": {},
     "outputs": [
      {
       "metadata": {},
       "output_type": "pyout",
       "prompt_number": 134,
       "text": [
        "(4, 1)"
       ]
      }
     ],
     "prompt_number": 134
    },
    {
     "cell_type": "code",
     "collapsed": false,
     "input": [
      "a"
     ],
     "language": "python",
     "metadata": {},
     "outputs": [
      {
       "metadata": {},
       "output_type": "pyout",
       "prompt_number": 135,
       "text": [
        "array([[ 0],\n",
        "       [10],\n",
        "       [20],\n",
        "       [30]])"
       ]
      }
     ],
     "prompt_number": 135
    },
    {
     "cell_type": "code",
     "collapsed": false,
     "input": [
      "a + b"
     ],
     "language": "python",
     "metadata": {},
     "outputs": [
      {
       "metadata": {},
       "output_type": "pyout",
       "prompt_number": 136,
       "text": [
        "array([[ 0,  1,  2],\n",
        "       [10, 11, 12],\n",
        "       [20, 21, 22],\n",
        "       [30, 31, 32]])"
       ]
      }
     ],
     "prompt_number": 136
    },
    {
     "cell_type": "markdown",
     "metadata": {},
     "source": [
      "\u5e7f\u64ad\u770b\u8d77\u6765\u5f88\u795e\u5947\uff0c\u4f46\u662f\uff0c\u5f53\u6211\u4eec\u8981\u89e3\u51b3\u7684\u95ee\u9898\u662f\u8f93\u51fa\u6570\u636e\u6bd4\u8f93\u5165\u6570\u636e\u6709\u66f4\u591a\u7eac\u5ea6\u7684\u6570\u7ec4\u65f6\uff0c\u4f7f\u7528\u5b83\u662f\u975e\u5e38\u81ea\u7136\u7684\u3002\n",
      "\n",
      "**\u5b9e\u4f8b\uff1a\u5e7f\u64ad**"
     ]
    },
    {
     "cell_type": "markdown",
     "metadata": {},
     "source": [
      "\u8ba9\u6211\u4eec\u521b\u5efa\u4e00\u4e2a66\u53f7\u516c\u8def\u4e0a\u57ce\u5e02\u4e4b\u95f4\u8ddd\u79bb\uff08\u7528\u516c\u91cc\u8ba1\u7b97\uff09\u7684\u6570\u7ec4\uff1a\u829d\u52a0\u54e5\u3001\u65af\u666e\u6797\u83f2\u5c14\u5fb7\u3001\u5723\u8def\u6613\u65af\u3001\u5854\u5c14\u8428\u3001\u4fc4\u514b\u62c9\u4f55\u9a6c\u5e02\u3001\u963f\u9a6c\u91cc\u6d1b\u3001\u5723\u5854\u83f2\u3001\u963f\u5c14\u5e03\u5f00\u514b\u3001Flagstaf\u3001\u6d1b\u6749\u77f6\u3002"
     ]
    },
    {
     "cell_type": "code",
     "collapsed": false,
     "input": [
      "mileposts = np.array([0, 198, 303, 736, 871, 1175, 1475, 1544, 1913, 2448])\n",
      "distance_array = np.abs(mileposts - mileposts[:, np.newaxis])\n",
      "distance_array"
     ],
     "language": "python",
     "metadata": {},
     "outputs": [
      {
       "metadata": {},
       "output_type": "pyout",
       "prompt_number": 138,
       "text": [
        "array([[   0,  198,  303,  736,  871, 1175, 1475, 1544, 1913, 2448],\n",
        "       [ 198,    0,  105,  538,  673,  977, 1277, 1346, 1715, 2250],\n",
        "       [ 303,  105,    0,  433,  568,  872, 1172, 1241, 1610, 2145],\n",
        "       [ 736,  538,  433,    0,  135,  439,  739,  808, 1177, 1712],\n",
        "       [ 871,  673,  568,  135,    0,  304,  604,  673, 1042, 1577],\n",
        "       [1175,  977,  872,  439,  304,    0,  300,  369,  738, 1273],\n",
        "       [1475, 1277, 1172,  739,  604,  300,    0,   69,  438,  973],\n",
        "       [1544, 1346, 1241,  808,  673,  369,   69,    0,  369,  904],\n",
        "       [1913, 1715, 1610, 1177, 1042,  738,  438,  369,    0,  535],\n",
        "       [2448, 2250, 2145, 1712, 1577, 1273,  973,  904,  535,    0]])"
       ]
      }
     ],
     "prompt_number": 138
    },
    {
     "cell_type": "markdown",
     "metadata": {},
     "source": [
      "![route66](http://scipy-lectures.github.io/_images/route66.png)"
     ]
    },
    {
     "cell_type": "markdown",
     "metadata": {},
     "source": [
      "\u8bb8\u591a\u57fa\u4e8e\u7f51\u683c\u6216\u8005\u57fa\u4e8e\u7f51\u7edc\u7684\u95ee\u9898\u90fd\u9700\u8981\u4f7f\u7528\u5e7f\u64ad\u3002\u4f8b\u5982\uff0c\u5982\u679c\u8981\u8ba1\u7b9710X10\u7f51\u683c\u4e2d\u6bcf\u4e2a\u70b9\u5230\u539f\u70b9\u7684\u6570\u636e\uff0c\u53ef\u4ee5\u8fd9\u6837\uff1a"
     ]
    },
    {
     "cell_type": "code",
     "collapsed": false,
     "input": [
      "x, y = np.arange(5), np.arange(5)[:, np.newaxis]\n",
      "distance = np.sqrt(x ** 2 + y ** 2)\n",
      "distance"
     ],
     "language": "python",
     "metadata": {},
     "outputs": [
      {
       "metadata": {},
       "output_type": "pyout",
       "prompt_number": 139,
       "text": [
        "array([[ 0.        ,  1.        ,  2.        ,  3.        ,  4.        ],\n",
        "       [ 1.        ,  1.41421356,  2.23606798,  3.16227766,  4.12310563],\n",
        "       [ 2.        ,  2.23606798,  2.82842712,  3.60555128,  4.47213595],\n",
        "       [ 3.        ,  3.16227766,  3.60555128,  4.24264069,  5.        ],\n",
        "       [ 4.        ,  4.12310563,  4.47213595,  5.        ,  5.65685425]])"
       ]
      }
     ],
     "prompt_number": 139
    },
    {
     "cell_type": "markdown",
     "metadata": {},
     "source": [
      "\u6216\u8005\u7528\u989c\u8272\uff1a"
     ]
    },
    {
     "cell_type": "code",
     "collapsed": false,
     "input": [
      "plt.pcolor(distance)    \n",
      "plt.colorbar()   "
     ],
     "language": "python",
     "metadata": {},
     "outputs": [
      {
       "metadata": {},
       "output_type": "pyout",
       "prompt_number": 141,
       "text": [
        "<matplotlib.colorbar.Colorbar instance at 0x10d8d7170>"
       ]
      },
      {
       "metadata": {},
       "output_type": "display_data",
       "png": "[encoded data removed]",
       "text": [
        "<matplotlib.figure.Figure at 0x10375a350>"
       ]
      }
     ],
     "prompt_number": 141
    },
    {
     "cell_type": "code",
     "collapsed": false,
     "input": [],
     "language": "python",
     "metadata": {},
     "outputs": []
    }
   ],
   "metadata": {}
  }
 ]
}