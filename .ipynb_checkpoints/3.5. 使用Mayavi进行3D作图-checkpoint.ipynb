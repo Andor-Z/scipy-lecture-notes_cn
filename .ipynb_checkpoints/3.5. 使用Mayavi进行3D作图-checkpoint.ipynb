{
 "metadata": {
  "name": "",
  "signature": "sha256:4241644a06829855e5a79a3650ab26bc658c3eae01016cde5ae1f1fc3eb9aada"
 },
 "nbformat": 3,
 "nbformat_minor": 0,
 "worksheets": [
  {
   "cells": [
    {
     "cell_type": "code",
     "collapsed": false,
     "input": [],
     "language": "python",
     "metadata": {},
     "outputs": []
    }
   ],
   "metadata": {}
  }
 ]
}