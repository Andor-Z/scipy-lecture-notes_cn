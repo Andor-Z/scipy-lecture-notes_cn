{
 "cells": [
  {
   "cell_type": "markdown",
   "metadata": {},
   "source": [
    "---\n",
    "\n",
    "**作者**：Gaël Varoquaux\n",
    "\n",
    "---\n",
    "\n",
    "这篇教程探索了更好的理解代码基础、寻找并修复bug的工具。\n",
    "\n",
    "这部分内容并不是特别针对于科学Python社区，但是我们将要采用的策略是专门针对科学计算量身定制的。\n",
    "\n",
    "---\n",
    "**先决条件**\n",
    "\n",
    "- Numpy\n",
    "- IPython\n",
    "- nosetests (http://readthedocs.org/docs/nose/en/latest/)\n",
    "- pyflakes (http://pypi.python.org/pypi/pyflakes)\n",
    "- gdb对C-debugging部分。\n",
    "\n",
    "---\n",
    "\n",
    "\n",
    "---\n",
    "**章节内容**\n",
    "- 避免bugs\n",
    "    - 避免麻烦的最佳代码实践\n",
    "    - pyflakes：快速静态分析\n",
    "        - 在当前编辑的文件上运行pyflakes\n",
    "        - 随着打字进行的拼写检查器整合\n",
    "- 查错工作流\n",
    "- 使用Python除错器\n",
    "    - 激活除错器\n",
    "        - 事后剖析\n",
    "        - 逐步执行\n",
    "        - 启动除错器的其他方式\n",
    "    - 除错器命令与交互\n",
    "        - 在除错器中获得帮助\n",
    "- 使用gdb排除代码段的错误\n",
    "\n",
    "---\n",
    "\n",
    "##2.3.1 避免bugs\n",
    "\n",
    "###2.3.1.1 避免麻烦的最佳代码实践\n",
    "\n",
    "---\n",
    "**Brian Kernighan**\n",
    "\n",
    "“每个人都知道除错比从零开始写一个程序难两倍。因此，如果当你写程序时足够聪明，为什么你不对它进行除错呢？”\n",
    "\n",
    "---\n",
    "\n",
    "- 我都会写出有错误的代码。接收这些代码。处理这些代码。\n",
    "- 写代码时记得测试和除错。\n",
    "- 保持简单和直接（KISS）。\n",
    "    - 能起作用的最简单的事是什么？\n",
    "- 不要重复自身（DRY）。\n",
    "    - 每一个知识碎片都必须在系统中有一个清晰、权威的表征\n",
    "    - 变量、算法等等  \n",
    "- 试着限制代码的依赖。（松耦合）\n",
    "- 给变量、函数和模块有意义的名字（而不是数学名字）\n",
    "\n",
    "###2.3.1.2 pyflakes：快速静态分析\n",
    "\n",
    "在Python中有一些静态分析；举几个例子：\n",
    "- [pylint](http://www.logilab.org/857)\n",
    "- [pychecker](http://pychecker.sourceforge.net/)\n",
    "- [pyflakes](http://pypi.python.org/pypi/pyflakes)\n",
    "- [pep8](http://pypi.python.org/pypi/pep8)\n",
    "- [flake8](http://pypi.python.org/pypi/flake8)\n",
    "\n",
    "这里我们关注`pyflakes`，它是最简单的工具。\n",
    "- **快速**、**简单**\n",
    "- 识别语法错误、没有imports、名字打印打错。\n",
    "\n",
    "另一个好的推荐是`flake8`工具，是pyflakes和pep8。因此，除了pyflakes捕捉错误类型外，flake8也可以察觉对[PEP8](http://www.python.org/dev/peps/pep-0008/)风格指南建议的违背。\n",
    "\n",
    "强烈推荐在你的编辑器或IDE整合pyflakes (或 flake8)，**确实可以产出生产力的收益**。\n",
    "\n",
    "####2.3.1.2.1 在当前编辑文件上运行pyflakes\n",
    "\n",
    "你可以在当前缓存器中绑定一个键来运行pyflakes。\n",
    "- **在kate中**\n",
    "    - 菜单：设定 -> 配置 kate\n",
    "    - 在插件中启用“外部”\n",
    "    - 在外部工具，添加pyflakes："
   ]
  },
  {
   "cell_type": "code",
   "execution_count": null,
   "metadata": {
    "collapsed": true
   },
   "outputs": [],
   "source": [
    "kdialog --title \"pyflakes %filename\" --msgbox \"$(pyflakes %filename)\""
   ]
  },
  {
   "cell_type": "markdown",
   "metadata": {},
   "source": [
    "- **在TextMate中**\n",
    "    - 菜单: TextMate -> 偏好 -> 高级 -> Shell变量，添加shell变量:"
   ]
  },
  {
   "cell_type": "code",
   "execution_count": null,
   "metadata": {
    "collapsed": true
   },
   "outputs": [],
   "source": [
    "TM_PYCHECKER=/Library/Frameworks/Python.framework/Versions/Current/bin/pyflakes"
   ]
  },
  {
   "cell_type": "markdown",
   "metadata": {},
   "source": [
    "    - 然后 Ctrl-Shift-V 被绑定到pyflakes报告"
   ]
  },
  {
   "cell_type": "markdown",
   "metadata": {},
   "source": [
    "- **在vim中**\n",
    "    - 在你的vimrc中 (将F5绑定到pyflakes):"
   ]
  },
  {
   "cell_type": "code",
   "execution_count": null,
   "metadata": {
    "collapsed": true
   },
   "outputs": [],
   "source": [
    "autocmd FileType python let &mp = 'echo \"*** running % ***\" ; pyflakes %'\n",
    "autocmd FileType tex,mp,rst,python imap <Esc>[15~ <C-O>:make!^M\n",
    "autocmd FileType tex,mp,rst,python map  <Esc>[15~ :make!^M\n",
    "autocmd FileType tex,mp,rst,python set autowrite"
   ]
  },
  {
   "cell_type": "markdown",
   "metadata": {},
   "source": [
    "- **在emacs中**\n",
    "    - 在你的emacs中 (将F5绑定到pyflakes):"
   ]
  },
  {
   "cell_type": "code",
   "execution_count": null,
   "metadata": {
    "collapsed": true
   },
   "outputs": [],
   "source": [
    "(defun pyflakes-thisfile () (interactive)\n",
    "       (compile (format \"pyflakes %s\" (buffer-file-name)))\n",
    ")\n",
    "\n",
    "(define-minor-mode pyflakes-mode\n",
    "    \"Toggle pyflakes mode.\n",
    "    With no argument, this command toggles the mode.\n",
    "    Non-null prefix argument turns on the mode.\n",
    "    Null prefix argument turns off the mode.\"\n",
    "    ;; The initial value.\n",
    "    nil\n",
    "    ;; The indicator for the mode line.\n",
    "    \" Pyflakes\"\n",
    "    ;; The minor mode bindings.\n",
    "    '( ([f5] . pyflakes-thisfile) )\n",
    ")\n",
    "\n",
    "(add-hook 'python-mode-hook (lambda () (pyflakes-mode t)))"
   ]
  },
  {
   "cell_type": "markdown",
   "metadata": {},
   "source": [
    "####2.3.1.2.2 随着打字进行的拼写检查器整合\n",
    "\n",
    "- **在vim中**\n",
    "    - 使用pyflakes.vim插件:\n",
    "        1. 从http://www.vim.org/scripts/script.php?script_id=2441 下载zip文件\n",
    "        2. 将文件提取到~/.vim/ftplugin/python\n",
    "        3. 确保你的vimrc的filetype插件的缩进是开启的\n",
    "    ![](http://scipy-lectures.github.io/_images/vim_pyflakes.png)\n",
    "    - 或者: 使用syntastic插件。这个插件也可以设置为使用flake8，处理实时检查许多其他语言。\n",
    "    ![](http://scipy-lectures.github.io/_images/vim_syntastic.png)\n",
    "    \n",
    "- **在emacs中**\n",
    "    - 使用flymake模式以及pyflakes, 文档在http://www.plope.com/Members/chrism/flymake-mode : 在你的.emacs文件中添加下来代码:"
   ]
  },
  {
   "cell_type": "code",
   "execution_count": null,
   "metadata": {
    "collapsed": true
   },
   "outputs": [],
   "source": [
    "(when (load \"flymake\" t)\n",
    "        (defun flymake-pyflakes-init ()\n",
    "        (let* ((temp-file (flymake-init-create-temp-buffer-copy\n",
    "                            'flymake-create-temp-inplace))\n",
    "            (local-file (file-relative-name\n",
    "                        temp-file\n",
    "                        (file-name-directory buffer-file-name))))\n",
    "            (list \"pyflakes\" (list local-file))))\n",
    "\n",
    "        (add-to-list 'flymake-allowed-file-name-masks\n",
    "                '(\"\\\\.py\\\\'\" flymake-pyflakes-init)))\n",
    "\n",
    "(add-hook 'find-file-hook 'flymake-find-file-hook)"
   ]
  },
  {
   "cell_type": "markdown",
   "metadata": {},
   "source": [
    "##2.3.2 除错工作流\n",
    "\n",
    "如果你确实有一个非无关紧要的bug，这个时候就是除错策略该介入的时候。没有银子弹。但是，策略会有帮助：\n",
    "    \n",
    "    对于给定问题的除错，最合适的情况是当问题被隔离在几行代码的时候，外面是框架或应用代码，有较短的修改-运行-失败循环。\n",
    "\n",
    "1. 让它可以可靠的失败。找到一个测试案例，可以让代码每次都失败。\n",
    "2. 分而治之。一旦你有一个测试案例，隔离错误的代码。\n",
    "    - 哪个模块。\n",
    "    - 哪个函数。\n",
    "    - 哪行代码。\n",
    "    \n",
    "    =>隔离小的可重复错误：测试案例\n",
    "3. 每次只改变一个事情并且重新运行失败的测试案例。\n",
    "4. 使用除错器来理解哪里出错了。\n",
    "5. 耐心的记笔记。可能会花一些时间。\n",
    "\n",
    "    **笔记**：一旦你遵从了这个流程：隔离一段可以重现bug的紧密代码段，并且用这段代码来修复bug，添加对应代码到你的测试套装。\n",
    "\n",
    "##2.3.3 使用Python除错器\n",
    "\n",
    "python除错器，pdb: http://docs.python.org/library/pdb.html, 允许你交互的检查代码。\n",
    "\n",
    "具体来说，它允许你：\n",
    "- 查看源代码。\n",
    "- 在调用栈上下游走。\n",
    "- 检查变量值。\n",
    "- 修改变量值。\n",
    "- 设置断点。\n",
    "\n",
    "---\n",
    "**print**\n",
    "是的，print语句确实可以作为除错工具。但是，要检查运行时间，使用除错器通常更加高效。\n",
    "\n",
    "--\n",
    "\n",
    "###2.3.3.1 激活除错器\n",
    "\n",
    "启动除错器的方式:\n",
    "1. 事后剖析，在模块错误后启动除错器。\n",
    "2. 用除错器启动模块。\n",
    "3. 在模块中调用除错器。\n",
    "\n",
    "####2.3.3.1.1 事后剖析\n",
    "\n",
    "**情景**: 你在IPython中工作时，你的到了一个traceback。\n",
    "\n",
    "这里我们除错文件[index_error.py](http://scipy-lectures.github.io/_downloads/index_error.py)。当运行它时，抛出`IndexError`。输入`%debug`进入除错器。"
   ]
  },
  {
   "cell_type": "code",
   "execution_count": 1,
   "metadata": {
    "collapsed": false
   },
   "outputs": [
    {
     "ename": "IndexError",
     "evalue": "list index out of range",
     "output_type": "error",
     "traceback": [
      "\u001b[0;31m---------------------------------------------------------------------------\u001b[0m",
      "\u001b[0;31mIndexError\u001b[0m                                Traceback (most recent call last)",
      "\u001b[0;32m/Users/cloga/Documents/scipy-lecture-notes_cn/index_error.py\u001b[0m in \u001b[0;36m<module>\u001b[0;34m()\u001b[0m\n\u001b[1;32m      6\u001b[0m \u001b[0;34m\u001b[0m\u001b[0m\n\u001b[1;32m      7\u001b[0m \u001b[0;32mif\u001b[0m \u001b[0m__name__\u001b[0m \u001b[0;34m==\u001b[0m \u001b[0;34m'__main__'\u001b[0m\u001b[0;34m:\u001b[0m\u001b[0;34m\u001b[0m\u001b[0m\n\u001b[0;32m----> 8\u001b[0;31m     \u001b[0mindex_error\u001b[0m\u001b[0;34m(\u001b[0m\u001b[0;34m)\u001b[0m\u001b[0;34m\u001b[0m\u001b[0m\n\u001b[0m\u001b[1;32m      9\u001b[0m \u001b[0;34m\u001b[0m\u001b[0m\n",
      "\u001b[0;32m/Users/cloga/Documents/scipy-lecture-notes_cn/index_error.py\u001b[0m in \u001b[0;36mindex_error\u001b[0;34m()\u001b[0m\n\u001b[1;32m      3\u001b[0m \u001b[0;32mdef\u001b[0m \u001b[0mindex_error\u001b[0m\u001b[0;34m(\u001b[0m\u001b[0;34m)\u001b[0m\u001b[0;34m:\u001b[0m\u001b[0;34m\u001b[0m\u001b[0m\n\u001b[1;32m      4\u001b[0m     \u001b[0mlst\u001b[0m \u001b[0;34m=\u001b[0m \u001b[0mlist\u001b[0m\u001b[0;34m(\u001b[0m\u001b[0;34m'foobar'\u001b[0m\u001b[0;34m)\u001b[0m\u001b[0;34m\u001b[0m\u001b[0m\n\u001b[0;32m----> 5\u001b[0;31m     \u001b[0;32mprint\u001b[0m \u001b[0mlst\u001b[0m\u001b[0;34m[\u001b[0m\u001b[0mlen\u001b[0m\u001b[0;34m(\u001b[0m\u001b[0mlst\u001b[0m\u001b[0;34m)\u001b[0m\u001b[0;34m]\u001b[0m\u001b[0;34m\u001b[0m\u001b[0m\n\u001b[0m\u001b[1;32m      6\u001b[0m \u001b[0;34m\u001b[0m\u001b[0m\n\u001b[1;32m      7\u001b[0m \u001b[0;32mif\u001b[0m \u001b[0m__name__\u001b[0m \u001b[0;34m==\u001b[0m \u001b[0;34m'__main__'\u001b[0m\u001b[0;34m:\u001b[0m\u001b[0;34m\u001b[0m\u001b[0m\n",
      "\u001b[0;31mIndexError\u001b[0m: list index out of range"
     ]
    }
   ],
   "source": [
    "%run index_error.py"
   ]
  },
  {
   "cell_type": "code",
   "execution_count": 2,
   "metadata": {
    "collapsed": false
   },
   "outputs": [
    {
     "name": "stdout",
     "output_type": "stream",
     "text": [
      "> \u001b[0;32m/Users/cloga/Documents/scipy-lecture-notes_cn/index_error.py\u001b[0m(5)\u001b[0;36mindex_error\u001b[0;34m()\u001b[0m\n",
      "\u001b[0;32m      4 \u001b[0;31m    \u001b[0mlst\u001b[0m \u001b[0;34m=\u001b[0m \u001b[0mlist\u001b[0m\u001b[0;34m(\u001b[0m\u001b[0;34m'foobar'\u001b[0m\u001b[0;34m)\u001b[0m\u001b[0;34m\u001b[0m\u001b[0m\n",
      "\u001b[0m\u001b[0;32m----> 5 \u001b[0;31m    \u001b[0;32mprint\u001b[0m \u001b[0mlst\u001b[0m\u001b[0;34m[\u001b[0m\u001b[0mlen\u001b[0m\u001b[0;34m(\u001b[0m\u001b[0mlst\u001b[0m\u001b[0;34m)\u001b[0m\u001b[0;34m]\u001b[0m\u001b[0;34m\u001b[0m\u001b[0m\n",
      "\u001b[0m\u001b[0;32m      6 \u001b[0;31m\u001b[0;34m\u001b[0m\u001b[0m\n",
      "\u001b[0m\n",
      "ipdb> list\n",
      "\u001b[1;32m      1 \u001b[0m\u001b[0;34m\"\"\"Small snippet to raise an IndexError.\"\"\"\u001b[0m\u001b[0;34m\u001b[0m\u001b[0m\n",
      "\u001b[1;32m      2 \u001b[0m\u001b[0;34m\u001b[0m\u001b[0m\n",
      "\u001b[1;32m      3 \u001b[0m\u001b[0;32mdef\u001b[0m \u001b[0mindex_error\u001b[0m\u001b[0;34m(\u001b[0m\u001b[0;34m)\u001b[0m\u001b[0;34m:\u001b[0m\u001b[0;34m\u001b[0m\u001b[0m\n",
      "\u001b[1;32m      4 \u001b[0m    \u001b[0mlst\u001b[0m \u001b[0;34m=\u001b[0m \u001b[0mlist\u001b[0m\u001b[0;34m(\u001b[0m\u001b[0;34m'foobar'\u001b[0m\u001b[0;34m)\u001b[0m\u001b[0;34m\u001b[0m\u001b[0m\n",
      "\u001b[0;32m----> 5 \u001b[0;31m    \u001b[0;32mprint\u001b[0m \u001b[0mlst\u001b[0m\u001b[0;34m[\u001b[0m\u001b[0mlen\u001b[0m\u001b[0;34m(\u001b[0m\u001b[0mlst\u001b[0m\u001b[0;34m)\u001b[0m\u001b[0;34m]\u001b[0m\u001b[0;34m\u001b[0m\u001b[0m\n",
      "\u001b[0m\u001b[1;32m      6 \u001b[0m\u001b[0;34m\u001b[0m\u001b[0m\n",
      "\u001b[1;32m      7 \u001b[0m\u001b[0;32mif\u001b[0m \u001b[0m__name__\u001b[0m \u001b[0;34m==\u001b[0m \u001b[0;34m'__main__'\u001b[0m\u001b[0;34m:\u001b[0m\u001b[0;34m\u001b[0m\u001b[0m\n",
      "\u001b[1;32m      8 \u001b[0m    \u001b[0mindex_error\u001b[0m\u001b[0;34m(\u001b[0m\u001b[0;34m)\u001b[0m\u001b[0;34m\u001b[0m\u001b[0m\n",
      "\u001b[1;32m      9 \u001b[0m\u001b[0;34m\u001b[0m\u001b[0m\n",
      "\n",
      "ipdb> len(lst)\n",
      "6\n",
      "ipdb> print lst[len(lst)-1]\n",
      "r\n",
      "ipdb> quit\n"
     ]
    }
   ],
   "source": [
    "%debug"
   ]
  },
  {
   "cell_type": "markdown",
   "metadata": {},
   "source": [
    "---\n",
    "\n",
    "**不用IPthon的事后剖析除错**\n",
    "\n",
    "在一些情况下，你不可以使用IPython，例如除错一个想到从命令行调用的脚本。在这个情况下，你可以用`python -m pdb script.py`调用脚本：\n",
    "\n",
    "```\n",
    "$ python -m pdb index_error.py\n",
    "> /home/varoquau/dev/scipy-lecture-notes/advanced/debugging_optimizing/index_error.py(1)<module>()\n",
    "-> \"\"\"Small snippet to raise an IndexError.\"\"\"\n",
    "(Pdb) continue\n",
    "Traceback (most recent call last):\n",
    "File \"/usr/lib/python2.6/pdb.py\", line 1296, in main\n",
    "    pdb._runscript(mainpyfile)\n",
    "File \"/usr/lib/python2.6/pdb.py\", line 1215, in _runscript\n",
    "    self.run(statement)\n",
    "File \"/usr/lib/python2.6/bdb.py\", line 372, in run\n",
    "    exec cmd in globals, locals\n",
    "File \"<string>\", line 1, in <module>\n",
    "File \"index_error.py\", line 8, in <module>\n",
    "    index_error()\n",
    "File \"index_error.py\", line 5, in index_error\n",
    "    print lst[len(lst)]\n",
    "IndexError: list index out of range\n",
    "Uncaught exception. Entering post mortem debugging\n",
    "Running 'cont' or 'step' will restart the program\n",
    "> /home/varoquau/dev/scipy-lecture-notes/advanced/debugging_optimizing/index_error.py(5)index_error()\n",
    "-> print lst[len(lst)]\n",
    "(Pdb)\n",
    "```\n",
    "\n",
    "---\n",
    "\n",
    "####2.3.3.1.2 逐步执行\n",
    "\n",
    "**情景**：你相信模块中存在bug，但是你不知道在哪。\n",
    "\n",
    "例如我们想要除错[wiener_filtering.py](http://scipy-lectures.github.io/_downloads/wiener_filtering.py)。代码确实可以运行，但是，过滤不起作用。\n",
    "\n",
    "- 在IPython用`%run -d wiener_filtering.p`来运行这个脚本：\n",
    "\n",
    "```\n",
    "In [1]: %run -d wiener_filtering.py\n",
    "*** Blank or comment\n",
    "*** Blank or comment\n",
    "*** Blank or comment\n",
    "Breakpoint 1 at /home/varoquau/dev/scipy-lecture-notes/advanced/debugging_optimizing/wiener_filtering.py:4\n",
    "NOTE: Enter 'c' at the ipdb>  prompt to start your script.\n",
    "> <string>(1)<module>()\n",
    "```\n",
    "\n",
    "- 用`b 34`在34行设置一个断点:\n",
    "\n",
    "```\n",
    "ipdb> n\n",
    "> /home/varoquau/dev/scipy-lecture-notes/advanced/debugging_optimizing/wiener_filtering.py(4)<module>()\n",
    "      3\n",
    "1---> 4 import numpy as np\n",
    "      5 import scipy as sp\n",
    "\n",
    "ipdb> b 34\n",
    "Breakpoint 2 at /home/varoquau/dev/scipy-lecture-notes/advanced/debugging_optimizing/wiener_filtering.py:34\n",
    "```\n",
    "\n",
    "- 用`c(ont(inue))`继续运行到下一个断点:\n",
    "\n",
    "```\n",
    "ipdb> c\n",
    "> /home/varoquau/dev/scipy-lecture-notes/advanced/debugging_optimizing/wiener_filtering.py(34)iterated_wiener()\n",
    "     33     \"\"\"\n",
    "2--> 34     noisy_img = noisy_img\n",
    "     35     denoised_img = local_mean(noisy_img, size=size)\n",
    "```\n",
    "\n",
    "- 用`n(ext)`和`s(tep)`在代码中步进：`next`在当前运行的背景下跳跃到下一个语句， jumps to the next statement in the current execution context, while step will go across execution contexts, i.e. enable exploring inside function calls:"
   ]
  },
  {
   "cell_type": "code",
   "execution_count": null,
   "metadata": {
    "collapsed": true
   },
   "outputs": [],
   "source": []
  },
  {
   "cell_type": "code",
   "execution_count": null,
   "metadata": {
    "collapsed": true
   },
   "outputs": [],
   "source": []
  },
  {
   "cell_type": "code",
   "execution_count": null,
   "metadata": {
    "collapsed": true
   },
   "outputs": [],
   "source": []
  },
  {
   "cell_type": "code",
   "execution_count": null,
   "metadata": {
    "collapsed": true
   },
   "outputs": [],
   "source": []
  },
  {
   "cell_type": "code",
   "execution_count": null,
   "metadata": {
    "collapsed": false
   },
   "outputs": [
    {
     "name": "stdout",
     "output_type": "stream",
     "text": [
      "*** Blank or comment\n",
      "*** Blank or comment\n",
      "*** Blank or comment\n",
      "*** Blank or comment\n",
      "NOTE: Enter 'c' at the ipdb>  prompt to continue execution.\n",
      "> \u001b[0;32m/Users/cloga/Documents/scipy-lecture-notes_cn/wiener_filtering.py\u001b[0m(2)\u001b[0;36m<module>\u001b[0;34m()\u001b[0m\n",
      "\u001b[0;32m      1 \u001b[0;31m\"\"\" Wiener filtering a noisy Lena: this module is buggy\n",
      "\u001b[0m\u001b[0;32m----> 2 \u001b[0;31m\"\"\"\n",
      "\u001b[0m\u001b[0;32m      3 \u001b[0;31m\u001b[0;34m\u001b[0m\u001b[0m\n",
      "\u001b[0m\n",
      "ipdb> n\n",
      "> \u001b[0;32m/Users/cloga/Documents/scipy-lecture-notes_cn/wiener_filtering.py\u001b[0m(4)\u001b[0;36m<module>\u001b[0;34m()\u001b[0m\n",
      "\u001b[0;32m      3 \u001b[0;31m\u001b[0;34m\u001b[0m\u001b[0m\n",
      "\u001b[0m\u001b[0;32m----> 4 \u001b[0;31m\u001b[0;32mimport\u001b[0m \u001b[0mnumpy\u001b[0m \u001b[0;32mas\u001b[0m \u001b[0mnp\u001b[0m\u001b[0;34m\u001b[0m\u001b[0m\n",
      "\u001b[0m\u001b[0;32m      5 \u001b[0;31m\u001b[0;32mimport\u001b[0m \u001b[0mscipy\u001b[0m \u001b[0;32mas\u001b[0m \u001b[0msp\u001b[0m\u001b[0;34m\u001b[0m\u001b[0m\n",
      "\u001b[0m\n"
     ]
    }
   ],
   "source": [
    "%run -d wiener_filtering.py"
   ]
  },
  {
   "cell_type": "code",
   "execution_count": null,
   "metadata": {
    "collapsed": true
   },
   "outputs": [],
   "source": []
  },
  {
   "cell_type": "code",
   "execution_count": null,
   "metadata": {
    "collapsed": true
   },
   "outputs": [],
   "source": []
  },
  {
   "cell_type": "code",
   "execution_count": null,
   "metadata": {
    "collapsed": true
   },
   "outputs": [],
   "source": []
  },
  {
   "cell_type": "code",
   "execution_count": null,
   "metadata": {
    "collapsed": true
   },
   "outputs": [],
   "source": []
  },
  {
   "cell_type": "code",
   "execution_count": null,
   "metadata": {
    "collapsed": true
   },
   "outputs": [],
   "source": []
  },
  {
   "cell_type": "code",
   "execution_count": null,
   "metadata": {
    "collapsed": true
   },
   "outputs": [],
   "source": []
  },
  {
   "cell_type": "code",
   "execution_count": null,
   "metadata": {
    "collapsed": true
   },
   "outputs": [],
   "source": []
  },
  {
   "cell_type": "code",
   "execution_count": null,
   "metadata": {
    "collapsed": true
   },
   "outputs": [],
   "source": []
  },
  {
   "cell_type": "code",
   "execution_count": null,
   "metadata": {
    "collapsed": true
   },
   "outputs": [],
   "source": []
  },
  {
   "cell_type": "code",
   "execution_count": null,
   "metadata": {
    "collapsed": true
   },
   "outputs": [],
   "source": []
  },
  {
   "cell_type": "code",
   "execution_count": null,
   "metadata": {
    "collapsed": true
   },
   "outputs": [],
   "source": []
  },
  {
   "cell_type": "code",
   "execution_count": null,
   "metadata": {
    "collapsed": true
   },
   "outputs": [],
   "source": []
  },
  {
   "cell_type": "code",
   "execution_count": null,
   "metadata": {
    "collapsed": true
   },
   "outputs": [],
   "source": []
  },
  {
   "cell_type": "code",
   "execution_count": null,
   "metadata": {
    "collapsed": true
   },
   "outputs": [],
   "source": []
  },
  {
   "cell_type": "code",
   "execution_count": null,
   "metadata": {
    "collapsed": true
   },
   "outputs": [],
   "source": []
  },
  {
   "cell_type": "code",
   "execution_count": null,
   "metadata": {
    "collapsed": true
   },
   "outputs": [],
   "source": []
  },
  {
   "cell_type": "code",
   "execution_count": null,
   "metadata": {
    "collapsed": true
   },
   "outputs": [],
   "source": []
  },
  {
   "cell_type": "code",
   "execution_count": null,
   "metadata": {
    "collapsed": true
   },
   "outputs": [],
   "source": []
  },
  {
   "cell_type": "code",
   "execution_count": null,
   "metadata": {
    "collapsed": true
   },
   "outputs": [],
   "source": []
  },
  {
   "cell_type": "code",
   "execution_count": null,
   "metadata": {
    "collapsed": true
   },
   "outputs": [],
   "source": []
  },
  {
   "cell_type": "code",
   "execution_count": null,
   "metadata": {
    "collapsed": true
   },
   "outputs": [],
   "source": []
  },
  {
   "cell_type": "code",
   "execution_count": null,
   "metadata": {
    "collapsed": true
   },
   "outputs": [],
   "source": []
  },
  {
   "cell_type": "code",
   "execution_count": null,
   "metadata": {
    "collapsed": true
   },
   "outputs": [],
   "source": []
  },
  {
   "cell_type": "code",
   "execution_count": null,
   "metadata": {
    "collapsed": true
   },
   "outputs": [],
   "source": []
  },
  {
   "cell_type": "code",
   "execution_count": null,
   "metadata": {
    "collapsed": true
   },
   "outputs": [],
   "source": []
  }
 ],
 "metadata": {
  "kernelspec": {
   "display_name": "Python 2",
   "language": "python",
   "name": "python2"
  },
  "language_info": {
   "codemirror_mode": {
    "name": "ipython",
    "version": 2
   },
   "file_extension": ".py",
   "mimetype": "text/x-python",
   "name": "python",
   "nbconvert_exporter": "python",
   "pygments_lexer": "ipython2",
   "version": "2.7.10"
  }
 },
 "nbformat": 4,
 "nbformat_minor": 0
}
