{
 "metadata": {
  "name": "",
  "signature": "sha256:7d3c0cd229ff88af2b43cddec1c9f9f91f4b5bbd7256ad64774f0a1666e040e3"
 },
 "nbformat": 3,
 "nbformat_minor": 0,
 "worksheets": [
  {
   "cells": [
    {
     "cell_type": "markdown",
     "metadata": {},
     "source": [
      "> \u4f5c\u8005\uff1aEmmanuelle Gouillart\u3001Didrik Pinte\u3001Ga\u00ebl Varoquaux \u548c Pauli Virtanen\n",
      "\n",
      "\u672c\u7ae0\u7ed9\u51fa\u5173\u4e8eNumpy\u6982\u8ff0\uff0cNumpy\u662fPython\u4e2d\u9ad8\u6548\u6570\u503c\u8ba1\u7b97\u7684\u6838\u5fc3\u5de5\u5177\u3002\n",
      "\n",
      "## 1.3.1 Numpy \u6570\u7ec4\u5bf9\u8c61\n",
      "\n",
      "### 1.3.1.1 \u4ec0\u4e48\u662fNumpy\u4ee5\u53caNumpy\u6570\u7ec4\uff1f\n",
      "\n",
      "#### 1.3.1.1.1 Numpy\u6570\u7ec4\n",
      "\n",
      "**Python\u5bf9\u8c61\uff1a**\n",
      "\n",
      "* \u9ad8\u7ea7\u6570\u503c\u5bf9\u8c61\uff1a\u6574\u6570\u3001\u6d6e\u70b9\n",
      "* \u5bb9\u5668\uff1a\u5217\u8868\uff08\u65e0\u6210\u672c\u63d2\u5165\u548c\u9644\u52a0\uff09\uff0c\u5b57\u5178\uff08\u5feb\u901f\u67e5\u627e\uff09\n",
      "\n",
      "**Numpy\u63d0\u4f9b\uff1a**\n",
      "\n",
      "* \u5bf9\u4e8e\u591a\u7ef4\u5ea6\u6570\u7ec4\u7684Python\u6269\u5c55\u5305\n",
      "* \u66f4\u8d34\u8fd1\u786c\u4ef6\uff08\u6548\u7387\uff09\n",
      "* \u4e3a\u79d1\u5b66\u8ba1\u7b97\u8bbe\u8ba1\uff08\u65b9\u4fbf\uff09\n",
      "* \u4e5f\u79f0\u4e3a*\u9762\u5411\u6570\u7ec4\u8ba1\u7b97*"
     ]
    },
    {
     "cell_type": "code",
     "collapsed": false,
     "input": [
      "import numpy as np\n",
      "a = np.array([0, 1, 2, 3])\n",
      "a"
     ],
     "language": "python",
     "metadata": {},
     "outputs": [
      {
       "metadata": {},
       "output_type": "pyout",
       "prompt_number": 1,
       "text": [
        "array([0, 1, 2, 3])"
       ]
      }
     ],
     "prompt_number": 1
    },
    {
     "cell_type": "markdown",
     "metadata": {},
     "source": [
      "\u4f8b\u5982\uff0c\u6570\u7ec4\u5305\u542b\uff1a\n",
      "\n",
      "* \u5b9e\u9a8c\u6216\u6a21\u62df\u5728\u79bb\u6563\u65f6\u95f4\u9636\u6bb5\u7684\u503c\n",
      "* \u6d4b\u91cf\u8bbe\u5907\u8bb0\u5f55\u7684\u4fe1\u53f7\uff0c\u6bd4\u5982\u58f0\u6ce2\n",
      "* \u56fe\u50cf\u7684\u50cf\u7d20\u3001\u7070\u5ea6\u6216\u989c\u8272\n",
      "* \u7528\u4e0d\u540cX-Y-Z\u4f4d\u7f6e\u6d4b\u91cf\u76843-D\u6570\u636e\uff0c\u4f8b\u5982MRI\u626b\u63cf\n",
      "\n",
      "...\n",
      "\n",
      "**\u4e3a\u4ec0\u4e48\u6709\u7528\uff1a**\u63d0\u4f9b\u4e86\u9ad8\u901f\u6570\u503c\u64cd\u4f5c\u7684\u8282\u7701\u5185\u5b58\u7684\u5bb9\u5668\u3002"
     ]
    },
    {
     "cell_type": "code",
     "collapsed": false,
     "input": [
      "L = range(1000)\n",
      "%timeit [i**2 for i in L]"
     ],
     "language": "python",
     "metadata": {},
     "outputs": [
      {
       "output_type": "stream",
       "stream": "stdout",
       "text": [
        "10000 loops, best of 3: 93.7 \u00b5s per loop\n"
       ]
      }
     ],
     "prompt_number": 2
    },
    {
     "cell_type": "code",
     "collapsed": false,
     "input": [
      "a = np.arange(1000)\n",
      "%timeit a**2"
     ],
     "language": "python",
     "metadata": {},
     "outputs": [
      {
       "output_type": "stream",
       "stream": "stdout",
       "text": [
        "100000 loops, best of 3: 2.16 \u00b5s per loop\n"
       ]
      }
     ],
     "prompt_number": 4
    },
    {
     "cell_type": "markdown",
     "metadata": {},
     "source": [
      "#### 1.3.1.1.2 Numpy\u53c2\u8003\u6587\u6863\n",
      "\n",
      "* \u7ebf\u4e0a: http://docs.scipy.org/\n",
      "* \u4ea4\u4e92\u5e2e\u52a9:\n",
      "\n",
      "```python\n",
      "np.array?\n",
      "String Form:<built-in function array>\n",
      "Docstring:\n",
      "array(object, dtype=None, copy=True, order=None, subok=False, ndmin=0, ...\n",
      "```\n",
      "\n",
      "\u67e5\u627e\u4e1c\u897f\uff1a"
     ]
    },
    {
     "cell_type": "code",
     "collapsed": false,
     "input": [
      "np.lookfor('create array')"
     ],
     "language": "python",
     "metadata": {},
     "outputs": [
      {
       "output_type": "stream",
       "stream": "stdout",
       "text": [
        "Search results for 'create array'\n",
        "---------------------------------\n",
        "numpy.array\n",
        "    Create an array.\n",
        "numpy.memmap\n",
        "    Create a memory-map to an array stored in a *binary* file on disk.\n",
        "numpy.diagflat\n",
        "    Create a two-dimensional array with the flattened input as a diagonal.\n",
        "numpy.fromiter\n",
        "    Create a new 1-dimensional array from an iterable object.\n",
        "numpy.partition\n",
        "    Return a partitioned copy of an array.\n",
        "numpy.ma.diagflat\n",
        "    Create a two-dimensional array with the flattened input as a diagonal.\n",
        "numpy.ctypeslib.as_array\n",
        "    Create a numpy array from a ctypes array or a ctypes POINTER.\n",
        "numpy.ma.make_mask\n",
        "    Create a boolean mask from an array.\n",
        "numpy.ctypeslib.as_ctypes\n",
        "    Create and return a ctypes object from a numpy array.  Actually\n",
        "numpy.ma.mrecords.fromarrays\n",
        "    Creates a mrecarray from a (flat) list of masked arrays.\n",
        "numpy.lib.format.open_memmap\n",
        "    Open a .npy file as a memory-mapped array.\n",
        "numpy.ma.MaskedArray.__new__\n",
        "    Create a new masked array from scratch.\n",
        "numpy.lib.arrayterator.Arrayterator\n",
        "    Buffered iterator for big arrays.\n",
        "numpy.ma.mrecords.fromtextfile\n",
        "    Creates a mrecarray from data stored in the file `filename`.\n",
        "numpy.asarray\n",
        "    Convert the input to an array.\n",
        "numpy.ndarray\n",
        "    ndarray(shape, dtype=float, buffer=None, offset=0,\n",
        "numpy.recarray\n",
        "    Construct an ndarray that allows field access using attributes.\n",
        "numpy.chararray\n",
        "    chararray(shape, itemsize=1, unicode=False, buffer=None, offset=0,\n",
        "numpy.pad\n",
        "    Pads an array.\n",
        "numpy.sum\n",
        "    Sum of array elements over a given axis.\n",
        "numpy.asanyarray\n",
        "    Convert the input to an ndarray, but pass ndarray subclasses through.\n",
        "numpy.copy\n",
        "    Return an array copy of the given object.\n",
        "numpy.diag\n",
        "    Extract a diagonal or construct a diagonal array.\n",
        "numpy.load\n",
        "    Load arrays or pickled objects from ``.npy``, ``.npz`` or pickled files.\n",
        "numpy.sort\n",
        "    Return a sorted copy of an array.\n",
        "numpy.array_equiv\n",
        "    Returns True if input arrays are shape consistent and all elements equal.\n",
        "numpy.dtype\n",
        "    Create a data type object.\n",
        "numpy.choose\n",
        "    Construct an array from an index array and a set of arrays to choose from.\n",
        "numpy.nditer\n",
        "    Efficient multi-dimensional iterator object to iterate over arrays.\n",
        "numpy.swapaxes\n",
        "    Interchange two axes of an array.\n",
        "numpy.full_like\n",
        "    Return a full array with the same shape and type as a given array.\n",
        "numpy.ones_like\n",
        "    Return an array of ones with the same shape and type as a given array.\n",
        "numpy.empty_like\n",
        "    Return a new array with the same shape and type as a given array.\n",
        "numpy.zeros_like\n",
        "    Return an array of zeros with the same shape and type as a given array.\n",
        "numpy.asarray_chkfinite\n",
        "    Convert the input to an array, checking for NaNs or Infs.\n",
        "numpy.diag_indices\n",
        "    Return the indices to access the main diagonal of an array.\n",
        "numpy.ma.choose\n",
        "    Use an index array to construct a new array from a set of choices.\n",
        "numpy.chararray.tolist\n",
        "    a.tolist()\n",
        "numpy.matlib.rand\n",
        "    Return a matrix of random values with given shape.\n",
        "numpy.savez_compressed\n",
        "    Save several arrays into a single file in compressed ``.npz`` format.\n",
        "numpy.ma.empty_like\n",
        "    Return a new array with the same shape and type as a given array.\n",
        "numpy.ma.make_mask_none\n",
        "    Return a boolean mask of the given shape, filled with False.\n",
        "numpy.ma.mrecords.fromrecords\n",
        "    Creates a MaskedRecords from a list of records.\n",
        "numpy.around\n",
        "    Evenly round to the given number of decimals.\n",
        "numpy.source\n",
        "    Print or write to a file the source code for a Numpy object.\n",
        "numpy.diagonal\n",
        "    Return specified diagonals.\n",
        "numpy.histogram2d\n",
        "    Compute the bi-dimensional histogram of two data samples.\n",
        "numpy.fft.ifft\n",
        "    Compute the one-dimensional inverse discrete Fourier Transform.\n",
        "numpy.fft.ifftn\n",
        "    Compute the N-dimensional inverse discrete Fourier Transform.\n",
        "numpy.busdaycalendar\n",
        "    A business day calendar object that efficiently stores information"
       ]
      }
     ],
     "prompt_number": 6
    },
    {
     "cell_type": "markdown",
     "metadata": {},
     "source": [
      "```python\n",
      "np.con*?\n",
      "np.concatenate\n",
      "np.conj\n",
      "np.conjugate\n",
      "np.convolve\n",
      "```\n",
      "\n",
      "#### 1.3.1.1.3 \u5bfc\u5165\u60ef\u4f8b\n",
      "\n",
      "\u5bfc\u5165numpy\u7684\u63a8\u8350\u60ef\u4f8b\u662f\uff1a"
     ]
    },
    {
     "cell_type": "code",
     "collapsed": false,
     "input": [
      "import numpy as np"
     ],
     "language": "python",
     "metadata": {},
     "outputs": [],
     "prompt_number": 8
    },
    {
     "cell_type": "markdown",
     "metadata": {},
     "source": [
      "### 1.3.1.2 \u521b\u5efa\u6570\u7ec4\n",
      "#### 1.3.1.2.1 \u624b\u52a8\u6784\u5efa\u6570\u7ec4\n",
      "\n",
      "* 1-D\uff1a"
     ]
    },
    {
     "cell_type": "code",
     "collapsed": false,
     "input": [
      "a = np.array([0, 1, 2, 3])\n",
      "a"
     ],
     "language": "python",
     "metadata": {},
     "outputs": [
      {
       "metadata": {},
       "output_type": "pyout",
       "prompt_number": 9,
       "text": [
        "array([0, 1, 2, 3])"
       ]
      }
     ],
     "prompt_number": 9
    },
    {
     "cell_type": "code",
     "collapsed": false,
     "input": [
      "a.ndim"
     ],
     "language": "python",
     "metadata": {},
     "outputs": [
      {
       "metadata": {},
       "output_type": "pyout",
       "prompt_number": 10,
       "text": [
        "1"
       ]
      }
     ],
     "prompt_number": 10
    },
    {
     "cell_type": "code",
     "collapsed": false,
     "input": [
      "a.shape"
     ],
     "language": "python",
     "metadata": {},
     "outputs": [
      {
       "metadata": {},
       "output_type": "pyout",
       "prompt_number": 11,
       "text": [
        "(4,)"
       ]
      }
     ],
     "prompt_number": 11
    },
    {
     "cell_type": "code",
     "collapsed": false,
     "input": [
      "len(a)"
     ],
     "language": "python",
     "metadata": {},
     "outputs": [
      {
       "metadata": {},
       "output_type": "pyout",
       "prompt_number": 12,
       "text": [
        "4"
       ]
      }
     ],
     "prompt_number": 12
    },
    {
     "cell_type": "markdown",
     "metadata": {},
     "source": [
      "* 2-D\uff0c3-D\uff0c...\uff1a"
     ]
    },
    {
     "cell_type": "code",
     "collapsed": false,
     "input": [
      "b = np.array([[0, 1, 2], [3, 4, 5]])    # 2 x 3 \u6570\u7ec4\n",
      "b"
     ],
     "language": "python",
     "metadata": {},
     "outputs": [
      {
       "metadata": {},
       "output_type": "pyout",
       "prompt_number": 13,
       "text": [
        "array([[0, 1, 2],\n",
        "       [3, 4, 5]])"
       ]
      }
     ],
     "prompt_number": 13
    },
    {
     "cell_type": "code",
     "collapsed": false,
     "input": [
      "b.ndim"
     ],
     "language": "python",
     "metadata": {},
     "outputs": [
      {
       "metadata": {},
       "output_type": "pyout",
       "prompt_number": 14,
       "text": [
        "2"
       ]
      }
     ],
     "prompt_number": 14
    },
    {
     "cell_type": "code",
     "collapsed": false,
     "input": [
      "b.shape"
     ],
     "language": "python",
     "metadata": {},
     "outputs": [
      {
       "metadata": {},
       "output_type": "pyout",
       "prompt_number": 15,
       "text": [
        "(2, 3)"
       ]
      }
     ],
     "prompt_number": 15
    },
    {
     "cell_type": "code",
     "collapsed": false,
     "input": [
      "len(b)     # \u8fd4\u56de\u4e00\u4e2a\u7eac\u5ea6\u7684\u5927\u5c0f"
     ],
     "language": "python",
     "metadata": {},
     "outputs": [
      {
       "metadata": {},
       "output_type": "pyout",
       "prompt_number": 16,
       "text": [
        "2"
       ]
      }
     ],
     "prompt_number": 16
    },
    {
     "cell_type": "code",
     "collapsed": false,
     "input": [
      "c = np.array([[[1], [2]], [[3], [4]]])\n",
      "c"
     ],
     "language": "python",
     "metadata": {},
     "outputs": [
      {
       "metadata": {},
       "output_type": "pyout",
       "prompt_number": 17,
       "text": [
        "array([[[1],\n",
        "        [2]],\n",
        "\n",
        "       [[3],\n",
        "        [4]]])"
       ]
      }
     ],
     "prompt_number": 17
    },
    {
     "cell_type": "code",
     "collapsed": false,
     "input": [
      "c.shape"
     ],
     "language": "python",
     "metadata": {},
     "outputs": [
      {
       "metadata": {},
       "output_type": "pyout",
       "prompt_number": 18,
       "text": [
        "(2, 2, 1)"
       ]
      }
     ],
     "prompt_number": 18
    },
    {
     "cell_type": "markdown",
     "metadata": {},
     "source": [
      "**\u7ec3\u4e60\uff1a\u7b80\u5355\u6570\u7ec4**\n",
      "\n",
      "* \u521b\u5efa\u4e00\u4e2a\u7b80\u5355\u7684\u4e8c\u7ef4\u6570\u7ec4\u3002\u9996\u5148\uff0c\u91cd\u590d\u4e0a\u9762\u7684\u4f8b\u5b50\u3002\u7136\u540e\u63a5\u7740\u4f60\u81ea\u5df1\u7684\uff1a\u5728\u7b2c\u4e00\u884c\u4ece\u540e\u5411\u524d\u6570\u5947\u6570\uff0c\u63a5\u7740\u7b2c\u4e8c\u884c\u6570\u5076\u6570\uff1f\n",
      "* \u5728\u8fd9\u4e9b\u6570\u7ec4\u4e0a\u4f7f\u7528\u51fd\u6570[len()](http://docs.python.org/2.7/library/functions.html#len)\u3001numpy.shape()\u3002\u4ed6\u4eec\u6709\u4ec0\u4e48\u5173\u7cfb\uff1f\u4e0e\u6570\u7ec4\u7684`ndim`\u5c5e\u6027\u95f4\u5462\uff1f\n",
      "\n",
      "#### 1.3.1.2.2 \u521b\u5efa\u6570\u7ec4\u7684\u51fd\u6570\n",
      "\n",
      "\u5b9e\u9645\u4e0a\uff0c\u6211\u4eec\u5f88\u5c11\u4e00\u4e2a\u9879\u76ee\u63a5\u4e00\u4e2a\u9879\u76ee\u8f93\u5165...\n",
      "\n",
      "* \u5747\u5300\u5206\u5e03\uff1a"
     ]
    },
    {
     "cell_type": "code",
     "collapsed": false,
     "input": [
      "a = np.arange(10) # 0 .. n-1  (!)\n",
      "a"
     ],
     "language": "python",
     "metadata": {},
     "outputs": [
      {
       "metadata": {},
       "output_type": "pyout",
       "prompt_number": 19,
       "text": [
        "array([0, 1, 2, 3, 4, 5, 6, 7, 8, 9])"
       ]
      }
     ],
     "prompt_number": 19
    },
    {
     "cell_type": "code",
     "collapsed": false,
     "input": [
      "b = np.arange(1, 9, 2) # \u5f00\u59cb\uff0c\u7ed3\u675f\uff08\u4e0d\u5305\u542b\uff09\uff0c\u6b65\u957f\n",
      "b"
     ],
     "language": "python",
     "metadata": {},
     "outputs": [
      {
       "metadata": {},
       "output_type": "pyout",
       "prompt_number": 20,
       "text": [
        "array([1, 3, 5, 7])"
       ]
      }
     ],
     "prompt_number": 20
    },
    {
     "cell_type": "markdown",
     "metadata": {},
     "source": [
      "* \u6216\u8005\u901a\u8fc7\u4e00\u4e9b\u6570\u636e\u70b9\uff1a"
     ]
    },
    {
     "cell_type": "code",
     "collapsed": false,
     "input": [
      "c = np.linspace(0, 1, 6)   # \u8d77\u70b9\u3001\u7ec8\u70b9\u3001\u6570\u636e\u70b9\n",
      "c"
     ],
     "language": "python",
     "metadata": {},
     "outputs": [
      {
       "metadata": {},
       "output_type": "pyout",
       "prompt_number": 1,
       "text": [
        "array([ 0. ,  0.2,  0.4,  0.6,  0.8,  1. ])"
       ]
      }
     ],
     "prompt_number": 1
    },
    {
     "cell_type": "code",
     "collapsed": false,
     "input": [
      "d = np.linspace(0, 1, 5, endpoint=False)\n",
      "d"
     ],
     "language": "python",
     "metadata": {},
     "outputs": [
      {
       "metadata": {},
       "output_type": "pyout",
       "prompt_number": 2,
       "text": [
        "array([ 0. ,  0.2,  0.4,  0.6,  0.8])"
       ]
      }
     ],
     "prompt_number": 2
    },
    {
     "cell_type": "markdown",
     "metadata": {},
     "source": [
      "* \u666e\u901a\u6570\u7ec4\uff1a"
     ]
    },
    {
     "cell_type": "code",
     "collapsed": false,
     "input": [
      "a = np.ones((3, 3))  # \u63d0\u793a: (3, 3) \u662f\u5143\u7ec4\n",
      "a"
     ],
     "language": "python",
     "metadata": {},
     "outputs": [
      {
       "metadata": {},
       "output_type": "pyout",
       "prompt_number": 3,
       "text": [
        "array([[ 1.,  1.,  1.],\n",
        "       [ 1.,  1.,  1.],\n",
        "       [ 1.,  1.,  1.]])"
       ]
      }
     ],
     "prompt_number": 3
    },
    {
     "cell_type": "code",
     "collapsed": false,
     "input": [
      "b = np.zeros((2, 2))\n",
      "b"
     ],
     "language": "python",
     "metadata": {},
     "outputs": [
      {
       "metadata": {},
       "output_type": "pyout",
       "prompt_number": 4,
       "text": [
        "array([[ 0.,  0.],\n",
        "       [ 0.,  0.]])"
       ]
      }
     ],
     "prompt_number": 4
    },
    {
     "cell_type": "code",
     "collapsed": false,
     "input": [
      "c = np.eye(3)\n",
      "c"
     ],
     "language": "python",
     "metadata": {},
     "outputs": [
      {
       "metadata": {},
       "output_type": "pyout",
       "prompt_number": 5,
       "text": [
        "array([[ 1.,  0.,  0.],\n",
        "       [ 0.,  1.,  0.],\n",
        "       [ 0.,  0.,  1.]])"
       ]
      }
     ],
     "prompt_number": 5
    },
    {
     "cell_type": "code",
     "collapsed": false,
     "input": [
      "d = np.diag(np.array([1, 2, 3, 4]))\n",
      "d"
     ],
     "language": "python",
     "metadata": {},
     "outputs": [
      {
       "metadata": {},
       "output_type": "pyout",
       "prompt_number": 6,
       "text": [
        "array([[1, 0, 0, 0],\n",
        "       [0, 2, 0, 0],\n",
        "       [0, 0, 3, 0],\n",
        "       [0, 0, 0, 4]])"
       ]
      }
     ],
     "prompt_number": 6
    },
    {
     "cell_type": "markdown",
     "metadata": {},
     "source": [
      "* `np.random`: \u968f\u673a\u6570 (Mersenne Twister PRNG) :"
     ]
    },
    {
     "cell_type": "code",
     "collapsed": false,
     "input": [
      "a = np.random.rand(4)       # [0, 1] \u7684\u5747\u5300\u5206\u5e03\n",
      "a"
     ],
     "language": "python",
     "metadata": {},
     "outputs": [
      {
       "metadata": {},
       "output_type": "pyout",
       "prompt_number": 7,
       "text": [
        "array([ 0.05504731,  0.38154156,  0.39639478,  0.22379146])"
       ]
      }
     ],
     "prompt_number": 7
    },
    {
     "cell_type": "code",
     "collapsed": false,
     "input": [
      "b = np.random.randn(4)      # \u9ad8\u65af\n",
      "b"
     ],
     "language": "python",
     "metadata": {},
     "outputs": [
      {
       "metadata": {},
       "output_type": "pyout",
       "prompt_number": 8,
       "text": [
        "array([ 0.9895903 ,  1.85061188,  1.0021666 , -0.63782069])"
       ]
      }
     ],
     "prompt_number": 8
    },
    {
     "cell_type": "code",
     "collapsed": false,
     "input": [
      "np.random.seed(1234)        # \u8bbe\u7f6e\u968f\u673a\u79cd\u5b50"
     ],
     "language": "python",
     "metadata": {},
     "outputs": [],
     "prompt_number": 9
    },
    {
     "cell_type": "code",
     "collapsed": false,
     "input": [
      "np.random.rand?"
     ],
     "language": "python",
     "metadata": {},
     "outputs": [],
     "prompt_number": 10
    },
    {
     "cell_type": "markdown",
     "metadata": {},
     "source": [
      "**\u7ec3\u4e60\uff1a\u7528\u51fd\u6570\u521b\u5efa\u6570\u7ec4**\n",
      "* \u5b9e\u9a8c\u7528`arange`\u3001`linspace`\u3001`ones`\u3001`zeros`\u3001`eye`\u548c`diag`\u3002\n",
      "* \u7528\u968f\u673a\u6570\u521b\u5efa\u4e0d\u540c\u7c7b\u578b\u7684\u6570\u7ec4\u3002\n",
      "* \u5728\u521b\u5efa\u5e26\u6709\u968f\u673a\u6570\u7684\u6570\u7ec4\u524d\u8bbe\u5b9a\u79cd\u5b50\u3002\n",
      "* \u770b\u4e00\u4e0b\u51fd\u6570`np.empty`\u3002\u5b83\u80fd\u505a\u4ec0\u4e48\uff1f\u4ec0\u4e48\u65f6\u5019\u4f1a\u6bd4\u8f83\u6709\u7528\uff1f"
     ]
    },
    {
     "cell_type": "markdown",
     "metadata": {},
     "source": [
      "### 1.3.1.3\u57fa\u7840\u6570\u636e\u7c7b\u578b"
     ]
    },
    {
     "cell_type": "markdown",
     "metadata": {},
     "source": [
      "\u4f60\u53ef\u80fd\u5df2\u7ecf\u53d1\u73b0\uff0c\u5728\u4e00\u4e9b\u60c5\u51b5\u4e0b\uff0c\u6570\u7ec4\u5143\u7d20\u663e\u793a\u4e3a\u5e26\u6709\u70b9\uff08\u5373 2. VS 2\uff09\u3002\u8fd9\u662f\u56e0\u4e3a\u6240\u4f7f\u7528\u7684\u6570\u636e\u7c7b\u578b\u4e0d\u540c\uff1a"
     ]
    },
    {
     "cell_type": "code",
     "collapsed": false,
     "input": [],
     "language": "python",
     "metadata": {},
     "outputs": []
    }
   ],
   "metadata": {}
  }
 ]
}