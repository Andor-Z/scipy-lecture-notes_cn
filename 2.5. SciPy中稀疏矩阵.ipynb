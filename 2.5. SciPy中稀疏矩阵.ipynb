{
 "cells": [
  {
   "cell_type": "code",
   "execution_count": 1,
   "metadata": {
    "collapsed": false
   },
   "outputs": [],
   "source": [
    "%matplotlib inline\n",
    "import numpy as np"
   ]
  },
  {
   "cell_type": "markdown",
   "metadata": {},
   "source": [
    "## 2.5.1 介绍\n",
    "\n",
    "(密集) 矩阵是:\n",
    "- 数据对象\n",
    "- 存储二维值数组的数据结构\n",
    "\n",
    "重要特征:\n",
    "- 一次分配所有项目的内存\n",
    "    - 通常是一个连续组块，想一想Numpy数组\n",
    "- *快速*访问个项目(*)\n",
    "\n",
    "### 2.5.1.1 为什么有稀疏矩阵？\n",
    "\n",
    "- 内存，增长是n**2\n",
    "- 小例子（双精度矩阵）:"
   ]
  },
  {
   "cell_type": "code",
   "execution_count": 5,
   "metadata": {
    "collapsed": false
   },
   "outputs": [
    {
     "data": {
      "text/plain": [
       "<matplotlib.text.Text at 0x105b08dd0>"
      ]
     },
     "execution_count": 5,
     "metadata": {},
     "output_type": "execute_result"
    },
    {
     "data": {
      "image/png": "[encoded data removed]",
      "text/plain": [
       "<matplotlib.figure.Figure at 0x105a27610>"
      ]
     },
     "metadata": {},
     "output_type": "display_data"
    }
   ],
   "source": [
    "import numpy as np\n",
    "import matplotlib.pyplot as plt\n",
    "x = np.linspace(0, 1e6, 10)\n",
    "plt.plot(x, 8.0 * (x**2) / 1e6, lw=5)   \n",
    "plt.xlabel('size n')\n",
    "plt.ylabel('memory [MB]')"
   ]
  },
  {
   "cell_type": "markdown",
   "metadata": {},
   "source": [
    "### 2.5.1.2 稀疏矩阵 vs. 稀疏矩阵存储方案\n",
    "\n",
    "- 稀疏矩阵是一个矩阵，巨大多数是空的\n",
    "- 存储所有的0是浪费 -> 只存储非0项目\n",
    "- 想一下**压缩**\n",
    "- 有利: 巨大的内存节省\n",
    "- 不利: 依赖实际的存储方案, (\\*) 通常并不能满足\n",
    "\n",
    "### 2.5.1.3 典型应用\n",
    "- 偏微分方程（PDES）的解\n",
    "    - 有限元素法\n",
    "    - 机械工程、电子、物理...\n",
    "- 图论\n",
    "    - （i，j）不是0表示节点i与节点j是联接的\n",
    "- ...\n",
    "\n",
    "### 2.5.1.4 先决条件\n",
    "\n",
    "最新版本的\n",
    "- `numpy`\n",
    "- `scipy`\n",
    "- `matplotlib` (可选)\n",
    "- `ipython` (那些增强很方便)\n",
    "\n",
    "### 2.5.1.5 稀疏结构可视化\n",
    "\n",
    "- matplotlib中的`spy()`\n",
    "- 样例绘图:\n",
    "\n",
    "![](http://scipy-lectures.github.io/_images/graph.png)\n",
    "![](http://scipy-lectures.github.io/_images/graph_g.png)\n",
    "![](http://scipy-lectures.github.io/_images/graph_rcm.png)\n",
    "\n",
    "## 2.5.2 存储机制\n",
    "\n",
    "- scipy.sparse中有七类稀疏矩阵:\n",
    "    1. csc_matrix: 压缩列格式\n",
    "    2. csr_matrix: 压缩行格式\n",
    "    3. bsr_matrix: 块压缩行格式\n",
    "    4. lil_matrix: 列表的列表格式\n",
    "    5. dok_matrix: 值的字典格式\n",
    "    6. coo_matrix: 座标格式 (即 IJV, 三维格式)\n",
    "    7. dia_matrix: 对角线格式\n",
    "- 每一个类型适用于一些任务\n",
    "- 许多都利用了由Nathan Bell提供的稀疏工具 C ++ 模块\n",
    "- 假设导入了下列模块:"
   ]
  },
  {
   "cell_type": "code",
   "execution_count": 5,
   "metadata": {
    "collapsed": true
   },
   "outputs": [],
   "source": [
    "import numpy as np\n",
    "import scipy.sparse as sparse\n",
    "import matplotlib.pyplot as plt"
   ]
  },
  {
   "cell_type": "markdown",
   "metadata": {},
   "source": [
    "- 给Numpy用户的**warning**:\n",
    "    - 使用'\\*'的乘是*矩阵相乘* (点积)\n",
    "    - 并不是Numpy的一部分!\n",
    "        - 向Numpy函数传递一个稀疏矩阵希望一个ndarray/矩阵是没用的\n",
    "\n",
    "### 2.5.2.1 通用方法\n",
    "\n",
    "- 所有scipy.sparse类都是spmatrix的子类\n",
    "    - 算术操作的默认实现\n",
    "        - 通常转化为CSR\n",
    "        - 为了效率而子类覆盖\n",
    "    - 形状、数据类型设置/获取\n",
    "    - 非0索引\n",
    "    - 格式转化、与Numpy交互(toarray(), todense())\n",
    "    - ...\n",
    "\n",
    "- 属性:\n",
    "    - mtx.A - 与mtx.toarray()相同\n",
    "    - mtx.T - 转置 (与mtx.transpose()相同)\n",
    "    - mtx.H - Hermitian (列举) 转置\n",
    "    - mtx.real - 复矩阵的真部\n",
    "    - mtx.imag - 复矩阵的虚部\n",
    "    - mtx.size - 非零数 (与self.getnnz()相同)\n",
    "    - mtx.shape - 行数和列数 (元组)\n",
    "\n",
    "- 数据通常储存在Numpy数组中\n",
    "\n",
    "### 2.5.2.2 稀疏矩阵类\n",
    "#### 2.5.2.2.1 对角线格式 (DIA)\n",
    "- 非常简单的格式\n",
    "- 形状 (n_diag, length) 的密集Numpy数组的对角线\n",
    "    - 固定长度 -> 当离主对角线比较远时会浪费空间\n",
    "    - \\_data_matrix的子类 (带数据属性的稀疏矩阵类)\n",
    "- 每个对角线的偏移\n",
    "    - 0 是主对角线\n",
    "    - 负偏移 = 下面\n",
    "    - 正偏移 = 上面\n",
    "- 快速矩阵 * 向量 (sparsetools)\n",
    "- 快速方便的关于项目的操作\n",
    "    - 直接操作数据数组 (快速的NumPy机件)\n",
    "- 构建器接受 :\n",
    "    - 密集矩阵 (数组)\n",
    "    - 稀疏矩阵\n",
    "    - 形状元组 (创建空矩阵)\n",
    "    - (数据, 偏移) 元组\n",
    "- 没有切片、没有单个项目访问\n",
    "- 用法 :\n",
    "    - 非常专业\n",
    "    - 通过有限微分解偏微分方程\n",
    "    - 有一个迭代求解器\n",
    "##### 2.5.2.2.1.1 示例\n",
    "- 创建一些DIA矩阵 :"
   ]
  },
  {
   "cell_type": "code",
   "execution_count": 3,
   "metadata": {
    "collapsed": false
   },
   "outputs": [
    {
     "data": {
      "text/plain": [
       "array([[1, 2, 3, 4],\n",
       "       [1, 2, 3, 4],\n",
       "       [1, 2, 3, 4]])"
      ]
     },
     "execution_count": 3,
     "metadata": {},
     "output_type": "execute_result"
    }
   ],
   "source": [
    "data = np.array([[1, 2, 3, 4]]).repeat(3, axis=0)\n",
    "data"
   ]
  },
  {
   "cell_type": "code",
   "execution_count": 6,
   "metadata": {
    "collapsed": false
   },
   "outputs": [
    {
     "data": {
      "text/plain": [
       "<4x4 sparse matrix of type '<type 'numpy.int64'>'\n",
       "\twith 9 stored elements (3 diagonals) in DIAgonal format>"
      ]
     },
     "execution_count": 6,
     "metadata": {},
     "output_type": "execute_result"
    }
   ],
   "source": [
    "offsets = np.array([0, -1, 2])\n",
    "mtx = sparse.dia_matrix((data, offsets), shape=(4, 4))\n",
    "mtx "
   ]
  },
  {
   "cell_type": "code",
   "execution_count": 7,
   "metadata": {
    "collapsed": false
   },
   "outputs": [
    {
     "data": {
      "text/plain": [
       "matrix([[1, 0, 3, 0],\n",
       "        [1, 2, 0, 4],\n",
       "        [0, 2, 3, 0],\n",
       "        [0, 0, 3, 4]])"
      ]
     },
     "execution_count": 7,
     "metadata": {},
     "output_type": "execute_result"
    }
   ],
   "source": [
    "mtx.todense()"
   ]
  },
  {
   "cell_type": "code",
   "execution_count": 9,
   "metadata": {
    "collapsed": false
   },
   "outputs": [
    {
     "data": {
      "text/plain": [
       "array([[ 1,  2,  3,  4],\n",
       "       [ 5,  6,  7,  8],\n",
       "       [ 9, 10, 11, 12]])"
      ]
     },
     "execution_count": 9,
     "metadata": {},
     "output_type": "execute_result"
    }
   ],
   "source": [
    "data = np.arange(12).reshape((3, 4)) + 1\n",
    "data"
   ]
  },
  {
   "cell_type": "code",
   "execution_count": 10,
   "metadata": {
    "collapsed": false
   },
   "outputs": [
    {
     "data": {
      "text/plain": [
       "array([[ 1,  2,  3,  4],\n",
       "       [ 5,  6,  7,  8],\n",
       "       [ 9, 10, 11, 12]])"
      ]
     },
     "execution_count": 10,
     "metadata": {},
     "output_type": "execute_result"
    }
   ],
   "source": [
    "mtx = sparse.dia_matrix((data, offsets), shape=(4, 4))\n",
    "mtx.data"
   ]
  },
  {
   "cell_type": "code",
   "execution_count": 11,
   "metadata": {
    "collapsed": false
   },
   "outputs": [
    {
     "data": {
      "text/plain": [
       "array([ 0, -1,  2], dtype=int32)"
      ]
     },
     "execution_count": 11,
     "metadata": {},
     "output_type": "execute_result"
    }
   ],
   "source": [
    "mtx.offsets"
   ]
  },
  {
   "cell_type": "code",
   "execution_count": 12,
   "metadata": {
    "collapsed": false
   },
   "outputs": [
    {
     "name": "stdout",
     "output_type": "stream",
     "text": [
      "  (0, 0)\t1\n",
      "  (1, 1)\t2\n",
      "  (2, 2)\t3\n",
      "  (3, 3)\t4\n",
      "  (1, 0)\t5\n",
      "  (2, 1)\t6\n",
      "  (3, 2)\t7\n",
      "  (0, 2)\t11\n",
      "  (1, 3)\t12\n"
     ]
    }
   ],
   "source": [
    "print mtx"
   ]
  },
  {
   "cell_type": "code",
   "execution_count": 13,
   "metadata": {
    "collapsed": false
   },
   "outputs": [
    {
     "data": {
      "text/plain": [
       "matrix([[ 1,  0, 11,  0],\n",
       "        [ 5,  2,  0, 12],\n",
       "        [ 0,  6,  3,  0],\n",
       "        [ 0,  0,  7,  4]])"
      ]
     },
     "execution_count": 13,
     "metadata": {},
     "output_type": "execute_result"
    }
   ],
   "source": [
    "mtx.todense()"
   ]
  },
  {
   "cell_type": "markdown",
   "metadata": {},
   "source": [
    "- 机制的解释 :\n",
    "\n",
    "偏移: 行\n",
    "\n",
    "     2:  9\n",
    "     1:  --10------\n",
    "     0:  1  . 11  .\n",
    "    -1:  5  2  . 12\n",
    "    -2:  .  6  3  .\n",
    "    -3:  .  .  7  4\n",
    "         ---------8\n",
    "         \n",
    "- 矩阵-向量相乘"
   ]
  },
  {
   "cell_type": "code",
   "execution_count": 15,
   "metadata": {
    "collapsed": false
   },
   "outputs": [
    {
     "data": {
      "text/plain": [
       "array([ 1.,  1.,  1.,  1.])"
      ]
     },
     "execution_count": 15,
     "metadata": {},
     "output_type": "execute_result"
    }
   ],
   "source": [
    "vec = np.ones((4, ))\n",
    "vec"
   ]
  },
  {
   "cell_type": "code",
   "execution_count": 16,
   "metadata": {
    "collapsed": false
   },
   "outputs": [
    {
     "data": {
      "text/plain": [
       "array([ 12.,  19.,   9.,  11.])"
      ]
     },
     "execution_count": 16,
     "metadata": {},
     "output_type": "execute_result"
    }
   ],
   "source": [
    "mtx * vec"
   ]
  },
  {
   "cell_type": "code",
   "execution_count": 17,
   "metadata": {
    "collapsed": false
   },
   "outputs": [
    {
     "data": {
      "text/plain": [
       "array([[  1.,   0.,  11.,   0.],\n",
       "       [  5.,   2.,   0.,  12.],\n",
       "       [  0.,   6.,   3.,   0.],\n",
       "       [  0.,   0.,   7.,   4.]])"
      ]
     },
     "execution_count": 17,
     "metadata": {},
     "output_type": "execute_result"
    }
   ],
   "source": [
    "mtx.toarray() * vec"
   ]
  },
  {
   "cell_type": "markdown",
   "metadata": {},
   "source": [
    "#### 2.5.2.2.2 列表的列表格式 (LIL)\n",
    "- 基于行的联接列表\n",
    "    - 每一行是一个Python列表（排序的）非零元素的列索引\n",
    "    - 行存储在Numpy数组中 (dtype=np.object)\n",
    "    - 非零值也近似存储\n",
    "- 高效增量构建稀疏矩阵\n",
    "- 构建器接受 :\n",
    "    - 密集矩阵 (数组)\n",
    "    - 稀疏矩阵\n",
    "    - 形状元组 (创建一个空矩阵)\n",
    "- 灵活切片、高效改变稀疏结构\n",
    "- 由于是基于行的，算术和行切片慢\n",
    "- 用途 :\n",
    "    - 当稀疏模式并不是已知的逻辑或改变\n",
    "    - 例子：从一个文本文件读取稀疏矩阵\n",
    "##### 2.5.2.2.2.1 示例\n",
    "- 创建一个空的LIL矩阵 :\n",
    "#### 2.5.2.2.3 值的字典格式 (DOK)\n",
    "##### 2.5.2.2.3.1 示例\n",
    "#### 2.5.2.2.4 座标格式 (COO)\n",
    "##### 2.5.2.2.4.1 示例\n",
    "#### 2.5.2.2.5 压缩稀疏行格式 (CSR)\n",
    "##### 2.5.2.2.5.1 示例\n",
    "#### 2.5.2.2.6 压缩稀疏列格式 (CSC)\n",
    "##### 2.5.2.2.6.1. 示例\n",
    "#### 2.5.2.2.7 块压缩行格式 (BSR)\n",
    "##### 2.5.2.2.7.1 示例\n"
   ]
  },
  {
   "cell_type": "code",
   "execution_count": null,
   "metadata": {
    "collapsed": true
   },
   "outputs": [],
   "source": []
  },
  {
   "cell_type": "code",
   "execution_count": null,
   "metadata": {
    "collapsed": true
   },
   "outputs": [],
   "source": []
  },
  {
   "cell_type": "code",
   "execution_count": 14,
   "metadata": {
    "collapsed": false
   },
   "outputs": [
    {
     "ename": "SyntaxError",
     "evalue": "invalid syntax (<ipython-input-14-7bb15abc289b>, line 1)",
     "output_type": "error",
     "traceback": [
      "\u001b[0;36m  File \u001b[0;32m\"<ipython-input-14-7bb15abc289b>\"\u001b[0;36m, line \u001b[0;32m1\u001b[0m\n\u001b[0;31m    offset: row\u001b[0m\n\u001b[0m          ^\u001b[0m\n\u001b[0;31mSyntaxError\u001b[0m\u001b[0;31m:\u001b[0m invalid syntax\n"
     ]
    }
   ],
   "source": [
    "offset: row\n",
    "    "
   ]
  },
  {
   "cell_type": "code",
   "execution_count": null,
   "metadata": {
    "collapsed": true
   },
   "outputs": [],
   "source": []
  },
  {
   "cell_type": "code",
   "execution_count": null,
   "metadata": {
    "collapsed": true
   },
   "outputs": [],
   "source": []
  },
  {
   "cell_type": "code",
   "execution_count": null,
   "metadata": {
    "collapsed": true
   },
   "outputs": [],
   "source": []
  },
  {
   "cell_type": "code",
   "execution_count": null,
   "metadata": {
    "collapsed": true
   },
   "outputs": [],
   "source": []
  },
  {
   "cell_type": "code",
   "execution_count": null,
   "metadata": {
    "collapsed": true
   },
   "outputs": [],
   "source": [
    "\n",
    "\n"
   ]
  },
  {
   "cell_type": "code",
   "execution_count": null,
   "metadata": {
    "collapsed": true
   },
   "outputs": [],
   "source": []
  },
  {
   "cell_type": "code",
   "execution_count": null,
   "metadata": {
    "collapsed": true
   },
   "outputs": [],
   "source": []
  },
  {
   "cell_type": "code",
   "execution_count": 3,
   "metadata": {
    "collapsed": false
   },
   "outputs": [
    {
     "data": {
      "text/plain": [
       "<matplotlib.text.Text at 0x1056f1690>"
      ]
     },
     "execution_count": 3,
     "metadata": {},
     "output_type": "execute_result"
    },
    {
     "data": {
      "image/png": "[encoded data removed]",
      "text/plain": [
       "<matplotlib.figure.Figure at 0x103cc6350>"
      ]
     },
     "metadata": {},
     "output_type": "display_data"
    }
   ],
   "source": []
  },
  {
   "cell_type": "code",
   "execution_count": 4,
   "metadata": {
    "collapsed": false
   },
   "outputs": [
    {
     "data": {
      "text/plain": [
       "<matplotlib.text.Text at 0x1059e79d0>"
      ]
     },
     "execution_count": 4,
     "metadata": {},
     "output_type": "execute_result"
    },
    {
     "data": {
      "image/png": "[encoded data removed]",
      "text/plain": [
       "<matplotlib.figure.Figure at 0x103cc6310>"
      ]
     },
     "metadata": {},
     "output_type": "display_data"
    }
   ],
   "source": []
  },
  {
   "cell_type": "code",
   "execution_count": null,
   "metadata": {
    "collapsed": true
   },
   "outputs": [],
   "source": []
  },
  {
   "cell_type": "code",
   "execution_count": null,
   "metadata": {
    "collapsed": true
   },
   "outputs": [],
   "source": []
  },
  {
   "cell_type": "code",
   "execution_count": null,
   "metadata": {
    "collapsed": true
   },
   "outputs": [],
   "source": []
  }
 ],
 "metadata": {
  "kernelspec": {
   "display_name": "Python 2",
   "language": "python",
   "name": "python2"
  },
  "language_info": {
   "codemirror_mode": {
    "name": "ipython",
    "version": 2
   },
   "file_extension": ".py",
   "mimetype": "text/x-python",
   "name": "python",
   "nbconvert_exporter": "python",
   "pygments_lexer": "ipython2",
   "version": "2.7.10"
  }
 },
 "nbformat": 4,
 "nbformat_minor": 0
}
