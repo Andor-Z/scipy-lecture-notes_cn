{
 "metadata": {
  "name": "",
  "signature": "sha256:237d457a1c3ab191621aa55931d6ffd9e1373962dfee685a8d07a6f5bc27a13b"
 },
 "nbformat": 3,
 "nbformat_minor": 0,
 "worksheets": [
  {
   "cells": [
    {
     "cell_type": "markdown",
     "metadata": {},
     "source": [
      ">\u4f5c\u8005 Chris Burns, Christophe Combelles, Emmanuelle Gouillart, Gae\u0308l Varoquaux"
     ]
    },
    {
     "cell_type": "markdown",
     "metadata": {},
     "source": [
      ">**Python\u4e2d\u7684\u79d1\u5b66\u8ba1\u7b97**\n",
      ">\u8fd9\u91cc\u6211\u4eec\u4ecb\u7ecdPython\u8bed\u8a00\u3002\u8fd9\u91cc\u53ea\u4f1a\u4ec5\u4ec5\u89e3\u51b3\u53ef\u4ee5\u7528\u4e8eNumpy\u548cScipy\u7684\u6700\u4f4e\u8981\u6c42\u3002\u60f3\u8981\u66f4\u591a\u7684\u4e86\u89e3\u8fd9\u95e8\u8bed\u8a00\uff0c\u8bf7\u53c2\u8003http://docs.python.org/tutorial \u8fd9\u4e2a\u975e\u5e38\u597d\u7684\u6559\u7a0b\u3002\u4e5f\u53ef\u4ee5\u501f\u52a9\u4e13\u95e8\u7684\u56fe\u4e66\uff0c\u6bd4\u5982\uff1ahttp://diveintopython.org/.\n",
      "\n",
      "Python\u662f\u4e00\u95e8**\u7f16\u7a0b\u8bed\u8a00**\uff0c\u4e0eC\u3001Fortran\u3001BASIC\u548cPHP\u7b49\u7b49\u7c7b\u4f3c\u3002Python\u7684\u4e00\u4e9b\u7279\u6027\u5982\u4e0b\uff1a\n",
      "\n",
      "- \u4e00\u79cd*\u89e3\u91ca\u6027*\uff08\u4e0d\u662f\u7f16\u8bd1\uff09\u8bed\u8a00\u3002\u4e0eC\u6216\u8005Fortran\u7b49\u4e0d\u540c\uff0cPython\u4ee3\u7801\u5728\u6267\u884c\u524d\u4e0d\u4f1a\u7f16\u8bd1\u3002\u53e6\u5916\uff0cPython\u53ef\u4ee5**\u4ea4\u4e92**\u4f7f\u7528\uff1a\u6709\u8bb8\u591a\u7684Python\u89e3\u91ca\u5668\uff0c\u547d\u4ee4\u548c\u811a\u672c\u53ef\u4ee5\u5728\u5176\u4e2d\u6267\u884c\u3002\n",
      "- \u5728**\u5f00\u6e90**\u8bc1\u4e66\u4e0b\u53d1\u5e03\u7684\u514d\u8d39\u8f6f\u4ef6\uff1aPython\u53ef\u4ee5\u514d\u8d39\u4f7f\u7528\u548c\u5206\u53d1\uff0c\u5373\u4f7f\u7528\u4e8e\u5546\u7528\u3002\n",
      "- **\u591a\u5e73\u53f0**\uff1aPython\u53ef\u4ee5\u7528\u4e8e\u6240\u6709\u7684\u4e3b\u6d41\u64cd\u4f5c\u7cfb\u7edf\uff0cWindows\u3001Linux/Unix\u3001MacOS X, \u751a\u81f3\u53ef\u80fd\u662f\u4f60\u6709\u624b\u673a\u64cd\u4f5c\u7cfb\u7edf\u7b49\u7b49\u3002\n",
      "- \u53ef\u8bfb\u6027\u5f88\u5f3a\u7684\u8bed\u8a00\uff0c\u6709\u6e05\u6670\u4e0d\u7f57\u55e6\u7684\u8bed\u6cd5\n",
      "- \u62e5\u6709\u5927\u91cf\u9ad8\u8d28\u91cf\u7684\u5305\uff0c\u53ef\u4ee5\u5e94\u7528\u4e8e\u591a\u79cd\u591a\u6837\u7684\u5e94\u7528\uff0c\u4ece\u7f51\u7ad9\u6846\u67b6\u5230\u79d1\u5b66\u8ba1\u7b97\u3002\n",
      "- \u975e\u5e38\u7b80\u5355\u7684\u63a5\u53e3\u4e0e\u5176\u4ed6\u8bed\u8a00\u4ea4\u4e92\uff0c\u7279\u522b\u662fC\u548cC++\n",
      "- \u7a0d\u540e\u4f1a\u4ecb\u7ecd\u4e00\u4e9b\u8bed\u8a00\u7684\u5176\u4ed6\u7279\u6027\u3002\u4f8b\u5982Python\u662f\u9762\u5411\u5bf9\u8c61\u7684\u8bed\u8a00\uff0c\u5305\u542b\u52a8\u6001\u7c7b\u578b\uff08\u4e00\u4e2a\u53d8\u91cf\u53ef\u4ee5\u5728\u7a0b\u5e8f\u8fc7\u7a0b\u4e2d\uff0c\u53ef\u4ee5\u5305\u542b\u4e0d\u540c\u7684\u5bf9\u8c61\u7c7b\u578b\uff09\u3002\n",
      "\n",
      "Python\u7684\u7279\u6709\u7279\u6027\u7684\u66f4\u591a\u4fe1\u606f\uff0c\u8bf7\u89c1\uff1ahttp://www.python.org/about/\n",
      "\n",
      "## 1.2.1 \u7b2c\u4e00\u6b65\n",
      "\u542f\u52a8**IPython** Shell(\u4e00\u4e2a\u589e\u5f3a\u7684Python\u4ea4\u4e92Shell)\uff1a\n",
      "\n",
      "- \u5728Linux/Mac\u7ec8\u7aef\u4e2d\u8f93\u5165\u201cipython\u201d\uff0c\u6216\u8005\u5728Windows cmd sheell\uff0c\n",
      "- \u6216\u8005\u4ece\u83dc\u5355\u542f\u52a8\u7a0b\u5e8f\uff0c\u5373\u5728[Python(x,y)](http://www.pythonxy.com/)\u6216[EPD](http://www.enthought.com/products/epd.php)\uff0c\u5982\u679c\u4f60\u5df2\u7ecf\u5b89\u88c5\u8fd9\u4e9bPython\u79d1\u5b66\u5957\u88c5\u4e4b\u4e00\u3002\n",
      "\n",
      "\u5982\u679c\u4f60\u7684\u7535\u8111\u4e0a\u8fd8\u6ca1\u6709\u5b89\u88c5IPython\uff0c\u4e5f\u53ef\u4ee5\u9009\u62e9\u5176\u4ed6Python shells\uff0c\u6bd4\u5982\u5728\u7ec8\u7aef\u4e2d\u8f93\u5165\u201cPython\u201d\u542f\u52a8\u7eafPython shell\uff0c\u6216\u8005Idle\u89e3\u91ca\u5668\u3002\u4f46\u662f\uff0c\u6211\u4eec\u5efa\u8bae\u4f7f\u7528IPython Shell\uff0c\u56e0\u4e3a\u5b83\u589e\u5f3a\u7279\u6027\uff0c\u7279\u522b\u662f\u5bf9\u4e8e\u79d1\u5b66\u8ba1\u7b97\u3002\n",
      "\n",
      "\u5982\u679c\u4f60\u5df2\u7ecf\u542f\u52a8\u4e86\u89e3\u91ca\u5668\uff0c\u8f93\u5165"
     ]
    },
    {
     "cell_type": "code",
     "collapsed": false,
     "input": [
      "print \"Hello, world!\""
     ],
     "language": "python",
     "metadata": {},
     "outputs": [
      {
       "output_type": "stream",
       "stream": "stdout",
       "text": [
        "Hello, world!\n"
       ]
      }
     ],
     "prompt_number": 2
    },
    {
     "cell_type": "markdown",
     "metadata": {},
     "source": [
      "\u63a5\u4e0b\u6765\u5c31\u4f1a\u663e\u793a\u4fe1\u606f\"Hello, world!\"\u3002\u4f60\u5df2\u7ecf\u6267\u884c\u4e86\u4f60\u7684\u7b2c\u4e00\u6761Python\u547d\u4ee4\uff0c\u606d\u559c\uff01\n",
      "\n",
      "\u4f60\u81ea\u5df1\u5f00\u59cb\u5427\uff0c\u8f93\u5165\u4e0b\u5217\u547d\u4ee4"
     ]
    },
    {
     "cell_type": "code",
     "collapsed": false,
     "input": [
      "a = 3\n",
      "b = 2*a\n",
      "type(b)"
     ],
     "language": "python",
     "metadata": {},
     "outputs": [
      {
       "metadata": {},
       "output_type": "pyout",
       "prompt_number": 1,
       "text": [
        "int"
       ]
      }
     ],
     "prompt_number": 1
    },
    {
     "cell_type": "code",
     "collapsed": false,
     "input": [
      "print b"
     ],
     "language": "python",
     "metadata": {},
     "outputs": [
      {
       "output_type": "stream",
       "stream": "stdout",
       "text": [
        "6\n"
       ]
      }
     ],
     "prompt_number": 2
    },
    {
     "cell_type": "code",
     "collapsed": false,
     "input": [
      "a*b"
     ],
     "language": "python",
     "metadata": {},
     "outputs": [
      {
       "metadata": {},
       "output_type": "pyout",
       "prompt_number": 3,
       "text": [
        "18"
       ]
      }
     ],
     "prompt_number": 3
    },
    {
     "cell_type": "code",
     "collapsed": false,
     "input": [
      "b = 'hello'\n",
      "type(b)"
     ],
     "language": "python",
     "metadata": {},
     "outputs": [
      {
       "metadata": {},
       "output_type": "pyout",
       "prompt_number": 4,
       "text": [
        "str"
       ]
      }
     ],
     "prompt_number": 4
    },
    {
     "cell_type": "code",
     "collapsed": false,
     "input": [
      "b + b"
     ],
     "language": "python",
     "metadata": {},
     "outputs": [
      {
       "metadata": {},
       "output_type": "pyout",
       "prompt_number": 5,
       "text": [
        "'hellohello'"
       ]
      }
     ],
     "prompt_number": 5
    },
    {
     "cell_type": "code",
     "collapsed": false,
     "input": [
      "2*b"
     ],
     "language": "python",
     "metadata": {},
     "outputs": [
      {
       "metadata": {},
       "output_type": "pyout",
       "prompt_number": 6,
       "text": [
        "'hellohello'"
       ]
      }
     ],
     "prompt_number": 6
    },
    {
     "cell_type": "markdown",
     "metadata": {},
     "source": [
      "\u4e0a\u9762\u5b9a\u4e49\u4e86*a*\u548c*b*\u4e24\u4e2a\u53d8\u91cf\u3002\u6ce8\u610f\u8fd9\u91cc\u5728\u8d4b\u503c\u524d\u6ca1\u6709\u58f0\u660e\u53d8\u91cf\u7c7b\u578b\u3002\u76f8\u53cd\uff0c\u5728C\u4e2d\uff0c\u5e94\u8be5\u5199\u4e3a\uff1a\n",
      "```C\n",
      "int a=3;\n",
      "```"
     ]
    },
    {
     "cell_type": "markdown",
     "metadata": {},
     "source": [
      "\u53e6\u5916\uff0c\u53d8\u91cf\u7684\u7c7b\u578b\u53ef\u4ee5\u6539\u53d8\uff0c\u5728\u4e00\u4e2a\u65f6\u95f4\u70b9\u5b83\u53ef\u4ee5\u7b49\u4e8e\u4e00\u4e2a\u7279\u5b9a\u7c7b\u578b\uff0c\u5728\u63a5\u4e0b\u6765\u7684\u65f6\u95f4\u91cc\uff0c\u4ed6\u53ef\u4ee5\u7b49\u4e8e\u53e6\u5916\u7684\u7c7b\u578b\u3002*b*\u9996\u5148\u7b49\u4e8e\u6574\u6570\uff0c\u4f46\u662f\u5f53\u5b83\u88ab\u8d4b\u503c\u4e3a*\"hello\"*\u65f6\u4ed6\u53d8\u6210\u7b49\u4e8e\u5b57\u7b26\u3002\u5728Python\u4e2d\uff0c\u6574\u6570\u7684\u8fd0\u7b97\u7b26\uff08b\uff1d2\\*a\uff09\u539f\u751f\u652f\u6301\u7684\uff0c\u4e00\u4e9b\u5b57\u7b26\u4e0a\u7684\u64cd\u4f5c\u7b26\u4f8b\u5982\u76f8\u52a0\u548c\u76f8\u4e58\u4e5f\u662f\u652f\u6301\u7684\uff0c\u76f8\u5f53\u4e8e\u4e32\u8054\u548c\u91cd\u590d\u3002\n",
      "## 1.2.2 \u57fa\u7840\u7c7b\u578b\n",
      "### 1.2.2.1 \u6570\u503c\u7c7b\u578b\n",
      "\n",
      "Python\u652f\u6301\u5982\u4e0b\u7684\u6570\u503c\u3001\u6807\u91cf\u7c7b\u578b\uff1a\n",
      "\n",
      "**\u6574\u578b\uff1a**"
     ]
    },
    {
     "cell_type": "code",
     "collapsed": false,
     "input": [
      "1 + 1"
     ],
     "language": "python",
     "metadata": {},
     "outputs": [
      {
       "metadata": {},
       "output_type": "pyout",
       "prompt_number": 8,
       "text": [
        "2"
       ]
      }
     ],
     "prompt_number": 8
    },
    {
     "cell_type": "code",
     "collapsed": false,
     "input": [
      "a = 4\n",
      "type(a)"
     ],
     "language": "python",
     "metadata": {},
     "outputs": [
      {
       "metadata": {},
       "output_type": "pyout",
       "prompt_number": 11,
       "text": [
        "int"
       ]
      }
     ],
     "prompt_number": 11
    },
    {
     "cell_type": "markdown",
     "metadata": {},
     "source": [
      "**\u6d6e\u70b9\u578b\uff1a**"
     ]
    },
    {
     "cell_type": "code",
     "collapsed": false,
     "input": [
      "c = 2.1\n",
      "type(c)"
     ],
     "language": "python",
     "metadata": {},
     "outputs": [
      {
       "metadata": {},
       "output_type": "pyout",
       "prompt_number": 12,
       "text": [
        "float"
       ]
      }
     ],
     "prompt_number": 12
    },
    {
     "cell_type": "markdown",
     "metadata": {},
     "source": [
      "**\u590d\u6570\uff1a**"
     ]
    },
    {
     "cell_type": "code",
     "collapsed": false,
     "input": [
      "a = 1.5 + 0.5j\n",
      "a.real"
     ],
     "language": "python",
     "metadata": {},
     "outputs": [
      {
       "metadata": {},
       "output_type": "pyout",
       "prompt_number": 13,
       "text": [
        "1.5"
       ]
      }
     ],
     "prompt_number": 13
    },
    {
     "cell_type": "code",
     "collapsed": false,
     "input": [
      "a.imag"
     ],
     "language": "python",
     "metadata": {},
     "outputs": [
      {
       "metadata": {},
       "output_type": "pyout",
       "prompt_number": 14,
       "text": [
        "0.5"
       ]
      }
     ],
     "prompt_number": 14
    },
    {
     "cell_type": "code",
     "collapsed": false,
     "input": [
      "type(1. + 0j )"
     ],
     "language": "python",
     "metadata": {},
     "outputs": [
      {
       "metadata": {},
       "output_type": "pyout",
       "prompt_number": 15,
       "text": [
        "complex"
       ]
      }
     ],
     "prompt_number": 15
    },
    {
     "cell_type": "markdown",
     "metadata": {},
     "source": [
      "**\u5e03\u5c14\uff1a**"
     ]
    },
    {
     "cell_type": "code",
     "collapsed": false,
     "input": [
      "3 > 4"
     ],
     "language": "python",
     "metadata": {},
     "outputs": [
      {
       "metadata": {},
       "output_type": "pyout",
       "prompt_number": 16,
       "text": [
        "False"
       ]
      }
     ],
     "prompt_number": 16
    },
    {
     "cell_type": "code",
     "collapsed": false,
     "input": [
      "test = (3 > 4)\n",
      "test"
     ],
     "language": "python",
     "metadata": {},
     "outputs": [
      {
       "metadata": {},
       "output_type": "pyout",
       "prompt_number": 17,
       "text": [
        "False"
       ]
      }
     ],
     "prompt_number": 17
    },
    {
     "cell_type": "code",
     "collapsed": false,
     "input": [
      "type(test)"
     ],
     "language": "python",
     "metadata": {},
     "outputs": [
      {
       "metadata": {},
       "output_type": "pyout",
       "prompt_number": 18,
       "text": [
        "bool"
       ]
      }
     ],
     "prompt_number": 18
    },
    {
     "cell_type": "markdown",
     "metadata": {},
     "source": [
      "\u56e0\u6b64\uff0cPython shell\u53ef\u4ee5\u4ee3\u66ff\u4f60\u7684\u53e3\u888b\u8ba1\u7b97\u5668\uff0c\u56e0\u4e3a\u57fa\u672c\u7684\u4ee3\u6570\u64cd\u4f5c\u7b26 +\u3001-\u3001\\*\u3001/\u3001%\uff08\u6a21\uff09\u90fd\u5df2\u7ecf\u539f\u751f\u5b9e\u73b0\u4e86\u3002"
     ]
    },
    {
     "cell_type": "code",
     "collapsed": false,
     "input": [
      "7 * 3."
     ],
     "language": "python",
     "metadata": {},
     "outputs": [
      {
       "metadata": {},
       "output_type": "pyout",
       "prompt_number": 19,
       "text": [
        "21.0"
       ]
      }
     ],
     "prompt_number": 19
    },
    {
     "cell_type": "code",
     "collapsed": false,
     "input": [
      "2**10"
     ],
     "language": "python",
     "metadata": {},
     "outputs": [
      {
       "metadata": {},
       "output_type": "pyout",
       "prompt_number": 20,
       "text": [
        "1024"
       ]
      }
     ],
     "prompt_number": 20
    },
    {
     "cell_type": "code",
     "collapsed": false,
     "input": [
      "8 % 3"
     ],
     "language": "python",
     "metadata": {},
     "outputs": [
      {
       "metadata": {},
       "output_type": "pyout",
       "prompt_number": 21,
       "text": [
        "2"
       ]
      }
     ],
     "prompt_number": 21
    },
    {
     "cell_type": "markdown",
     "metadata": {},
     "source": [
      "\u7c7b\u578b\u8f6c\u5316\uff08\u6295\u5c04\uff09\uff1a"
     ]
    },
    {
     "cell_type": "code",
     "collapsed": false,
     "input": [
      "float(1)"
     ],
     "language": "python",
     "metadata": {},
     "outputs": [
      {
       "metadata": {},
       "output_type": "pyout",
       "prompt_number": 22,
       "text": [
        "1.0"
       ]
      }
     ],
     "prompt_number": 22
    },
    {
     "cell_type": "markdown",
     "metadata": {},
     "source": [
      "---\n",
      "**\u6ce8\u610f**\uff1a\u6574\u6570\u76f8\u9664"
     ]
    },
    {
     "cell_type": "code",
     "collapsed": false,
     "input": [
      "3 / 2"
     ],
     "language": "python",
     "metadata": {},
     "outputs": [
      {
       "metadata": {},
       "output_type": "pyout",
       "prompt_number": 23,
       "text": [
        "1"
       ]
      }
     ],
     "prompt_number": 23
    },
    {
     "cell_type": "markdown",
     "metadata": {},
     "source": [
      "**\u6280\u5de7**\uff1a\u4f7f\u7528\u6d6e\u70b9\uff1a"
     ]
    },
    {
     "cell_type": "code",
     "collapsed": false,
     "input": [
      "3 / 2."
     ],
     "language": "python",
     "metadata": {},
     "outputs": [
      {
       "metadata": {},
       "output_type": "pyout",
       "prompt_number": 24,
       "text": [
        "1.5"
       ]
      }
     ],
     "prompt_number": 24
    },
    {
     "cell_type": "code",
     "collapsed": false,
     "input": [
      "a = 3\n",
      "b = 2\n",
      "a / b"
     ],
     "language": "python",
     "metadata": {},
     "outputs": [
      {
       "metadata": {},
       "output_type": "pyout",
       "prompt_number": 25,
       "text": [
        "1"
       ]
      }
     ],
     "prompt_number": 25
    },
    {
     "cell_type": "code",
     "collapsed": false,
     "input": [
      "a / float(b)"
     ],
     "language": "python",
     "metadata": {},
     "outputs": [
      {
       "metadata": {},
       "output_type": "pyout",
       "prompt_number": 26,
       "text": [
        "1.5"
       ]
      }
     ],
     "prompt_number": 26
    },
    {
     "cell_type": "markdown",
     "metadata": {},
     "source": [
      "\u5982\u679c\u4f60\u660e\u786e\u60f3\u8981\u6574\u9664\uff0c\u8bf7\u4f7f\u7528//\uff1a"
     ]
    },
    {
     "cell_type": "code",
     "collapsed": false,
     "input": [
      "3.0 // 2"
     ],
     "language": "python",
     "metadata": {},
     "outputs": [
      {
       "metadata": {},
       "output_type": "pyout",
       "prompt_number": 27,
       "text": [
        "1.0"
       ]
      }
     ],
     "prompt_number": 27
    },
    {
     "cell_type": "markdown",
     "metadata": {},
     "source": [
      "Python3\u6539\u53d8\u4e86\u9664\u8fd0\u7b97\u7b26\u884c\u4e3a\u3002\u7ec6\u8282\u8bf7\u770b[python3porting](http://python3porting.com/preparing.html#use-instead-of-when-dividing-integers)\u7f51\u7ad9.\n",
      "\n",
      "---"
     ]
    },
    {
     "cell_type": "markdown",
     "metadata": {},
     "source": [
      "### 1.2.2.2 \u5bb9\u5668\n",
      "Python\u63d0\u4f9b\u4e86\u8bb8\u591a\u6709\u6548\u7684\u5bb9\u5668\u7c7b\u578b\uff0c\u5176\u4e2d\u5b58\u50a8\u4e86\u5bf9\u8c61\u96c6\u5408\u3002\n",
      "#### 1.2.2.2.1 \u5217\u8868\n",
      "\u5217\u8868\u662f\u4e00\u4e2a\u6709\u5e8f\u7684\u5bf9\u8c61\u96c6\u5408\uff0c\u5bf9\u8c61\u53ef\u4ee5\u6709\u591a\u79cd\u7c7b\u578b\u3002\u4f8b\u5982\uff1a"
     ]
    },
    {
     "cell_type": "code",
     "collapsed": false,
     "input": [
      "L = ['red', 'blue', 'green', 'black', 'white']\n",
      "type(L)"
     ],
     "language": "python",
     "metadata": {},
     "outputs": [
      {
       "metadata": {},
       "output_type": "pyout",
       "prompt_number": 28,
       "text": [
        "list"
       ]
      }
     ],
     "prompt_number": 28
    },
    {
     "cell_type": "markdown",
     "metadata": {},
     "source": [
      "\u7d22\u5f15\uff1a\u8bbf\u95ee\u5305\u542b\u5728\u5217\u8868\u4e2d\u7684\u5355\u4e2a\u5bf9\u8c61\uff1a"
     ]
    },
    {
     "cell_type": "code",
     "collapsed": false,
     "input": [
      "L[2]"
     ],
     "language": "python",
     "metadata": {},
     "outputs": [
      {
       "metadata": {},
       "output_type": "pyout",
       "prompt_number": 29,
       "text": [
        "'green'"
       ]
      }
     ],
     "prompt_number": 29
    },
    {
     "cell_type": "markdown",
     "metadata": {},
     "source": [
      "\u4f7f\u7528\u8d1f\u7d22\u5f15\uff0c\u4ece\u7ed3\u5c3e\u5f00\u59cb\u8ba1\u6570\uff1a"
     ]
    },
    {
     "cell_type": "code",
     "collapsed": false,
     "input": [
      "L[-1]"
     ],
     "language": "python",
     "metadata": {},
     "outputs": [
      {
       "metadata": {},
       "output_type": "pyout",
       "prompt_number": 30,
       "text": [
        "'white'"
       ]
      }
     ],
     "prompt_number": 30
    },
    {
     "cell_type": "code",
     "collapsed": false,
     "input": [
      "L[-2]"
     ],
     "language": "python",
     "metadata": {},
     "outputs": [
      {
       "metadata": {},
       "output_type": "pyout",
       "prompt_number": 31,
       "text": [
        "'black'"
       ]
      }
     ],
     "prompt_number": 31
    },
    {
     "cell_type": "markdown",
     "metadata": {},
     "source": [
      "**\u6ce8\u610f\uff1a\u7d22\u5f15\u4ece0\u5f00\u59cb**\uff08\u548cC\u4e2d\u4e00\u6837\uff09\uff0c\u800c\u4e0d\u662f1\uff08\u50cf\u5728Fortran\u6216Matlab\uff09\uff01\n",
      "\n",
      "\u5207\u7247\uff1a\u83b7\u5f97\u89c4\u5f8b\u5206\u5e03\u5143\u7d20\u7684\u5b50\u5217\u8868\uff1a"
     ]
    },
    {
     "cell_type": "code",
     "collapsed": false,
     "input": [
      "L"
     ],
     "language": "python",
     "metadata": {},
     "outputs": [
      {
       "metadata": {},
       "output_type": "pyout",
       "prompt_number": 32,
       "text": [
        "['red', 'blue', 'green', 'black', 'white']"
       ]
      }
     ],
     "prompt_number": 32
    },
    {
     "cell_type": "code",
     "collapsed": false,
     "input": [
      "L[2:4]"
     ],
     "language": "python",
     "metadata": {},
     "outputs": [
      {
       "metadata": {},
       "output_type": "pyout",
       "prompt_number": 33,
       "text": [
        "['green', 'black']"
       ]
      }
     ],
     "prompt_number": 33
    },
    {
     "cell_type": "markdown",
     "metadata": {},
     "source": [
      "**\u6ce8\u610f**\uff1aL[start:stop]\u5305\u542b\u7d22\u5f15start<= i < stop\u7684\u5143\u7d20\uff08i\u7684\u8303\u56f4\u4ecestart\u5230stop-1\uff09\u3002\u56e0\u6b64\uff0cL[start:stop]\u5305\u542b\uff08stop-start\uff09\u4e2a\u5143\u7d20\u3002\n",
      "\n",
      "**\u5207\u7247\u8bed\u6cd5**\uff1a```L[start:stop:stride]```\n",
      "\n",
      "\u6240\u6709\u5207\u7247\u53c2\u6570\u90fd\u662f\u53ef\u9009\u7684\uff1a"
     ]
    },
    {
     "cell_type": "code",
     "collapsed": false,
     "input": [
      "L"
     ],
     "language": "python",
     "metadata": {},
     "outputs": [
      {
       "metadata": {},
       "output_type": "pyout",
       "prompt_number": 34,
       "text": [
        "['red', 'blue', 'green', 'black', 'white']"
       ]
      }
     ],
     "prompt_number": 34
    },
    {
     "cell_type": "code",
     "collapsed": false,
     "input": [
      "L[3:]"
     ],
     "language": "python",
     "metadata": {},
     "outputs": [
      {
       "metadata": {},
       "output_type": "pyout",
       "prompt_number": 35,
       "text": [
        "['black', 'white']"
       ]
      }
     ],
     "prompt_number": 35
    },
    {
     "cell_type": "code",
     "collapsed": false,
     "input": [
      "L[:3]"
     ],
     "language": "python",
     "metadata": {},
     "outputs": [
      {
       "metadata": {},
       "output_type": "pyout",
       "prompt_number": 36,
       "text": [
        "['red', 'blue', 'green']"
       ]
      }
     ],
     "prompt_number": 36
    },
    {
     "cell_type": "markdown",
     "metadata": {},
     "source": [
      "\u5217\u8868\u662f\u53ef\u53d8\u5bf9\u8c61\uff0c\u53ef\u4ee5\u88ab\u6539\u53d8\uff1a"
     ]
    },
    {
     "cell_type": "code",
     "collapsed": false,
     "input": [
      "L[0] = 'yellow'\n",
      "L "
     ],
     "language": "python",
     "metadata": {},
     "outputs": [
      {
       "metadata": {},
       "output_type": "pyout",
       "prompt_number": 38,
       "text": [
        "['yellow', 'blue', 'green', 'black', 'white']"
       ]
      }
     ],
     "prompt_number": 38
    },
    {
     "cell_type": "code",
     "collapsed": false,
     "input": [
      "L[2:4] = ['gray', 'purple']\n",
      "L"
     ],
     "language": "python",
     "metadata": {},
     "outputs": [
      {
       "metadata": {},
       "output_type": "pyout",
       "prompt_number": 39,
       "text": [
        "['yellow', 'blue', 'gray', 'purple', 'white']"
       ]
      }
     ],
     "prompt_number": 39
    },
    {
     "cell_type": "markdown",
     "metadata": {},
     "source": [
      "**\u6ce8\uff1a**\u4e00\u4e2a\u5217\u8868\u7684\u5143\u7d20\u53ef\u4ee5\u6709\u4e0d\u540c\u7684\u7c7b\u578b\uff1a"
     ]
    },
    {
     "cell_type": "code",
     "collapsed": false,
     "input": [
      "L = [3, -200, 'hello']\n",
      "L"
     ],
     "language": "python",
     "metadata": {},
     "outputs": [
      {
       "metadata": {},
       "output_type": "pyout",
       "prompt_number": 40,
       "text": [
        "[3, -200, 'hello']"
       ]
      }
     ],
     "prompt_number": 40
    },
    {
     "cell_type": "code",
     "collapsed": false,
     "input": [
      "L[1], L[2]"
     ],
     "language": "python",
     "metadata": {},
     "outputs": [
      {
       "metadata": {},
       "output_type": "pyout",
       "prompt_number": 41,
       "text": [
        "(-200, 'hello')"
       ]
      }
     ],
     "prompt_number": 41
    },
    {
     "cell_type": "markdown",
     "metadata": {},
     "source": [
      "\u5bf9\u4e8e\u4e00\u4e2a\u6240\u6709\u7c7b\u578b\u90fd\u76f8\u540c\u7684\u6570\u503c\u6570\u636e\u96c6\u5408\uff0c\u4f7f\u7528Numpy\u6a21\u5757\u63d0\u4f9b\u7684\u6570\u7ec4\u7c7b\u578b\u901a\u5e38\u66f4\u6709\u6548\u3002Numpy\u6570\u7ec4\u662f\u5305\u542b\u56fa\u5b9a\u5927\u5c0f\u9879\u76ee\u7684\u5185\u5b58\u7ec4\u5757\u3002\u4f7f\u7528Numpy\u6570\u7ec4\uff0c\u5143\u7d20\u4e0a\u7684\u64cd\u4f5c\u53ef\u4ee5\u975e\u5e38\u5feb\u901f\uff0c\u56e0\u4e3a\u5143\u7d20\u5747\u5300\u5206\u5e03\u5728\u5185\u5b58\u4e0a\u5e76\u4e14\u66f4\u591a\u7684\u64cd\u4f5c\u662f\u901a\u8fc7\u7279\u6b8a\u7684C\u51fd\u6570\u800c\u4e0d\u662fPython\u5faa\u73af\u3002\n",
      "\n",
      "Python\u63d0\u4f9b\u4e86\u4e00\u5927\u7ec4\u51fd\u6570\u6765\u4fee\u6539\u6216\u67e5\u8be2\u5217\u8868\u3002\u8fd9\u91cc\u662f\u4e00\u4e9b\u4f8b\u5b50\uff0c\u66f4\u591a\u5185\u5bb9\uff0c\u8bf7\u89c1\uff1ahttp://docs.python.org/tutorial/datastructures.html#more-on-lists\n",
      "\n",
      "\u6dfb\u52a0\u548c\u5220\u9664\u5143\u7d20\uff1a"
     ]
    },
    {
     "cell_type": "code",
     "collapsed": false,
     "input": [
      "L = ['red', 'blue', 'green', 'black', 'white']\n",
      "L.append('pink')\n",
      "L"
     ],
     "language": "python",
     "metadata": {},
     "outputs": [
      {
       "metadata": {},
       "output_type": "pyout",
       "prompt_number": 42,
       "text": [
        "['red', 'blue', 'green', 'black', 'white', 'pink']"
       ]
      }
     ],
     "prompt_number": 42
    },
    {
     "cell_type": "code",
     "collapsed": false,
     "input": [
      "L.pop() # \u5220\u9664\u5e76\u8fd4\u56de\u6700\u540e\u4e00\u4e2a\u9879\u76ee"
     ],
     "language": "python",
     "metadata": {},
     "outputs": [
      {
       "metadata": {},
       "output_type": "pyout",
       "prompt_number": 43,
       "text": [
        "'pink'"
       ]
      }
     ],
     "prompt_number": 43
    },
    {
     "cell_type": "code",
     "collapsed": false,
     "input": [
      "L"
     ],
     "language": "python",
     "metadata": {},
     "outputs": [
      {
       "metadata": {},
       "output_type": "pyout",
       "prompt_number": 44,
       "text": [
        "['red', 'blue', 'green', 'black', 'white']"
       ]
      }
     ],
     "prompt_number": 44
    },
    {
     "cell_type": "code",
     "collapsed": false,
     "input": [
      "L.extend(['pink', 'purple']) # \u6269\u5c55\u5217\u8868L\uff0c\u539f\u5730\n",
      "L"
     ],
     "language": "python",
     "metadata": {},
     "outputs": [],
     "prompt_number": 45
    },
    {
     "cell_type": "code",
     "collapsed": false,
     "input": [
      "L = L[:-2]\n",
      "L"
     ],
     "language": "python",
     "metadata": {},
     "outputs": [
      {
       "metadata": {},
       "output_type": "pyout",
       "prompt_number": 46,
       "text": [
        "['red', 'blue', 'green', 'black', 'white']"
       ]
      }
     ],
     "prompt_number": 46
    },
    {
     "cell_type": "markdown",
     "metadata": {},
     "source": [
      "\u53cd\u8f6c\uff1a"
     ]
    },
    {
     "cell_type": "code",
     "collapsed": false,
     "input": [
      "r = L[::-1]\n",
      "r"
     ],
     "language": "python",
     "metadata": {},
     "outputs": [
      {
       "metadata": {},
       "output_type": "pyout",
       "prompt_number": 47,
       "text": [
        "['white', 'black', 'green', 'blue', 'red']"
       ]
      }
     ],
     "prompt_number": 47
    },
    {
     "cell_type": "code",
     "collapsed": false,
     "input": [
      "r2 = list(L)\n",
      "r2"
     ],
     "language": "python",
     "metadata": {},
     "outputs": [
      {
       "metadata": {},
       "output_type": "pyout",
       "prompt_number": 48,
       "text": [
        "['red', 'blue', 'green', 'black', 'white']"
       ]
      }
     ],
     "prompt_number": 48
    },
    {
     "cell_type": "code",
     "collapsed": false,
     "input": [
      "r2.reverse() # \u539f\u5bf9\u8c61\n",
      "r2"
     ],
     "language": "python",
     "metadata": {},
     "outputs": [
      {
       "metadata": {},
       "output_type": "pyout",
       "prompt_number": 49,
       "text": [
        "['white', 'black', 'green', 'blue', 'red']"
       ]
      }
     ],
     "prompt_number": 49
    },
    {
     "cell_type": "markdown",
     "metadata": {},
     "source": [
      "\u4e32\u8054\u548c\u91cd\u590d\u5217\u8868\uff1a"
     ]
    },
    {
     "cell_type": "code",
     "collapsed": false,
     "input": [
      "r + L"
     ],
     "language": "python",
     "metadata": {},
     "outputs": [
      {
       "metadata": {},
       "output_type": "pyout",
       "prompt_number": 50,
       "text": [
        "['white',\n",
        " 'black',\n",
        " 'green',\n",
        " 'blue',\n",
        " 'red',\n",
        " 'red',\n",
        " 'blue',\n",
        " 'green',\n",
        " 'black',\n",
        " 'white']"
       ]
      }
     ],
     "prompt_number": 50
    },
    {
     "cell_type": "code",
     "collapsed": false,
     "input": [
      "r * 2"
     ],
     "language": "python",
     "metadata": {},
     "outputs": [
      {
       "metadata": {},
       "output_type": "pyout",
       "prompt_number": 51,
       "text": [
        "['white',\n",
        " 'black',\n",
        " 'green',\n",
        " 'blue',\n",
        " 'red',\n",
        " 'white',\n",
        " 'black',\n",
        " 'green',\n",
        " 'blue',\n",
        " 'red']"
       ]
      }
     ],
     "prompt_number": 51
    },
    {
     "cell_type": "markdown",
     "metadata": {},
     "source": [
      "\u6392\u5e8f\uff1a"
     ]
    },
    {
     "cell_type": "code",
     "collapsed": false,
     "input": [
      "sorted(r) # \u65b0\u5bf9\u8c61"
     ],
     "language": "python",
     "metadata": {},
     "outputs": [
      {
       "metadata": {},
       "output_type": "pyout",
       "prompt_number": 52,
       "text": [
        "['black', 'blue', 'green', 'red', 'white']"
       ]
      }
     ],
     "prompt_number": 52
    },
    {
     "cell_type": "code",
     "collapsed": false,
     "input": [
      "r"
     ],
     "language": "python",
     "metadata": {},
     "outputs": [
      {
       "metadata": {},
       "output_type": "pyout",
       "prompt_number": 53,
       "text": [
        "['white', 'black', 'green', 'blue', 'red']"
       ]
      }
     ],
     "prompt_number": 53
    },
    {
     "cell_type": "code",
     "collapsed": false,
     "input": [
      "r.sort() # \u539f\u5bf9\u8c61\n",
      "r"
     ],
     "language": "python",
     "metadata": {},
     "outputs": [
      {
       "metadata": {},
       "output_type": "pyout",
       "prompt_number": 55,
       "text": [
        "['black', 'blue', 'green', 'red', 'white']"
       ]
      }
     ],
     "prompt_number": 55
    },
    {
     "cell_type": "markdown",
     "metadata": {},
     "source": [
      "---\n",
      "**\u65b9\u6cd5\u548c\u9762\u5411\u5bf9\u8c61\u7f16\u7a0b**\n",
      "\n",
      "\u7b26\u53f7r.method() (\u5373 r.append(3) and L.pop()) \u662f\u6211\u4eec\u7b2c\u4e00\u4e2a\u5173\u4e8e\u9762\u5411\u5bf9\u8c61\u7f16\u7a0b\u7684\u4f8b\u5b50\uff08OOP\uff09\u3002\u4f5c\u4e3a\u5217\u8868\uff0c\u5bf9\u8c61r\u6709\u53ef\u4ee5\u4ee5\u8fd9\u79cd\u65b9\u5f0f\u8c03\u7528\u7684\u65b9\u6cd5\u51fd\u6570\u3002\u5bf9\u4e8e\u8fd9\u7bc7\u6559\u7a0b\u4e0d\u9700\u8981\u5173\u4e8e\u9762\u5411\u5bf9\u8c61\u7f16\u7a0b\u7684\u66f4\u591a\u77e5\u8bc6\uff0c\u53ea\u9700\u8981\u7406\u89e3\u8fd9\u79cd\u7b26\u53f7\u3002\n",
      "\n",
      "---\n",
      "**\u53d1\u73b0\u65b9\u6cd5**\uff1a\n",
      "\n",
      "\u63d0\u9192\uff1a\u5728IPython\u4e2d\uff1atab\u5b8c\u6210 (\u6309tab)\n",
      "\n",
      "```python\n",
      "In [28]: r.<TAB>\n",
      "r.__add__           r.__iadd__        r.__setattr__\n",
      "r.__class__         r.__imul__        r.__setitem__\n",
      "r.__contains__      r.__init__        r.__setslice__\n",
      "r.__delattr__       r.__iter__        r.__sizeof__\n",
      "r.__delitem__       r.__le__          r.__str__\n",
      "r.__delslice__      r.__len__         r.__subclasshook__\n",
      "r.__doc__           r.__lt__          r.append\n",
      "r.__eq__            r.__mul__         r.count\n",
      "r.__format__        r.__ne__          r.extend\n",
      "r.__ge__            r.__new__         r.index\n",
      "r.__getattribute__  r.__reduce__      r.insert\n",
      "r.__getitem__       r.__reduce_ex__   r.pop\n",
      "r.__getslice__      r.__repr__        r.remove\n",
      "r.__gt__            r.__reversed__    r.reverse\n",
      "r.__hash__          r.__rmul__        r.sort\n",
      "```\n",
      "\n",
      "\n",
      "\n",
      "\n",
      "\n",
      "\n",
      "\n",
      "\n",
      "\n",
      "\n",
      "\n",
      "\n",
      "\n",
      "\n",
      "\n",
      "\n",
      "\n",
      "\n",
      "\n",
      "\n",
      "\n",
      "\n",
      "\n"
     ]
    },
    {
     "cell_type": "markdown",
     "metadata": {},
     "source": [
      "#### 1.2.2.2.2 \u5b57\u7b26\n",
      "\n",
      "\u4e0d\u540c\u7684\u5b57\u7b26\u8bed\u6cd5\uff08\u5355\u5f15\u53f7\u3001\u53cc\u5f15\u53f7\u6216\u4e09\u4e2a\u5f15\u53f7\uff09\uff1a"
     ]
    },
    {
     "cell_type": "code",
     "collapsed": false,
     "input": [
      "s = 'Hello, how are you?'\n",
      "s = \"Hi, what's up\"\n",
      "s = '''Hello,                 \n",
      "       how are you'''         # \u4e09\u4e2a\u5f15\u53f7\u53ef\u4ee5\u5141\u8bb8\u5b57\u7b26\u8de8\u884c\n",
      "s = \"\"\"Hi,\n",
      "what's up?\"\"\"\n",
      "'Hi, what's up?'"
     ],
     "language": "python",
     "metadata": {},
     "outputs": [
      {
       "ename": "SyntaxError",
       "evalue": "invalid syntax (<ipython-input-58-dfe00f996c26>, line 7)",
       "output_type": "pyerr",
       "traceback": [
        "\u001b[0;36m  File \u001b[0;32m\"<ipython-input-58-dfe00f996c26>\"\u001b[0;36m, line \u001b[0;32m7\u001b[0m\n\u001b[0;31m    'Hi, what's up?'\u001b[0m\n\u001b[0m              ^\u001b[0m\n\u001b[0;31mSyntaxError\u001b[0m\u001b[0;31m:\u001b[0m invalid syntax\n"
       ]
      }
     ],
     "prompt_number": 58
    },
    {
     "cell_type": "markdown",
     "metadata": {},
     "source": [
      "\u5982\u679c\u5728\u5b57\u7b26\u4e2d\u8981\u662f\u4f7f\u7528\u5f15\u53f7\uff0c\u90a3\u4e48\u5e94\u8be5\u5d4c\u5957\u4f7f\u7528\uff0c\u6216\u8005\u4f7f\u7528\"\\\"\u8fdb\u884c\u8f6c\u4e49\uff0c\u5426\u5219\u4f1a\u62a5\u9519\u3002\n",
      "\n",
      "\u6362\u884c\u7684\u7b26\u53f7\u4e3a \\n\uff0ctab\u7b26\u53f7\u662f\\t\u3002\n",
      "\n",
      "\u5b57\u7b26\u4e5f\u662f\u7c7b\u4f3c\u4e0e\u5217\u8868\u7684\u7ed3\u5408\u3002\u56e0\u6b64\uff0c\u4e5f\u53ef\u4ee5\u4f7f\u7528\u76f8\u540c\u7684\u8bed\u6cd5\u548c\u89c4\u5219\u7d22\u5f15\u548c\u5207\u7247\u3002\n",
      "\n",
      "\u7d22\u5f15\uff1a"
     ]
    },
    {
     "cell_type": "code",
     "collapsed": false,
     "input": [
      "a = \"hello\"\n",
      "a[0]"
     ],
     "language": "python",
     "metadata": {},
     "outputs": [
      {
       "metadata": {},
       "output_type": "pyout",
       "prompt_number": 59,
       "text": [
        "'h'"
       ]
      }
     ],
     "prompt_number": 59
    },
    {
     "cell_type": "code",
     "collapsed": false,
     "input": [
      "a[1]"
     ],
     "language": "python",
     "metadata": {},
     "outputs": [
      {
       "metadata": {},
       "output_type": "pyout",
       "prompt_number": 60,
       "text": [
        "'e'"
       ]
      }
     ],
     "prompt_number": 60
    },
    {
     "cell_type": "code",
     "collapsed": false,
     "input": [
      "a[-1]"
     ],
     "language": "python",
     "metadata": {},
     "outputs": [
      {
       "metadata": {},
       "output_type": "pyout",
       "prompt_number": 61,
       "text": [
        "'o'"
       ]
      }
     ],
     "prompt_number": 61
    },
    {
     "cell_type": "markdown",
     "metadata": {},
     "source": [
      "\uff08\u8bb0\u4f4f\u8d1f\u7d22\u5f15\u4ece\u53f3\u4fa7\u5f00\u59cb\u8ba1\u6570\u3002\uff09\n",
      "\n",
      "\u5207\u7247\uff1a"
     ]
    },
    {
     "cell_type": "code",
     "collapsed": false,
     "input": [
      "a = \"hello, world!\"\n",
      "a[3:6] # \u7b2c\u4e09\u5230\u7b2c\u516d\u4e2a\uff08\u4e0d\u5305\u542b\uff09\u5143\u7d20\uff1a\u5143\u7d203\u30014\u30015"
     ],
     "language": "python",
     "metadata": {},
     "outputs": [
      {
       "metadata": {},
       "output_type": "pyout",
       "prompt_number": 64,
       "text": [
        "'lo,'"
       ]
      }
     ],
     "prompt_number": 64
    },
    {
     "cell_type": "code",
     "collapsed": false,
     "input": [
      "a[2:10:2] # \u8bed\u6cd5\uff1aa[\u5f00\u59cb\uff1a\u7ed3\u675f\uff1a\u6b65\u5e45]"
     ],
     "language": "python",
     "metadata": {},
     "outputs": [
      {
       "metadata": {},
       "output_type": "pyout",
       "prompt_number": 65,
       "text": [
        "'lo o'"
       ]
      }
     ],
     "prompt_number": 65
    },
    {
     "cell_type": "code",
     "collapsed": false,
     "input": [
      "a[::3] # \u4ece\u5f00\u59cb\u5230\u7ed3\u5c3e\uff0c\u6bcf\u96943\u4e2a\u5b57\u6bcd"
     ],
     "language": "python",
     "metadata": {},
     "outputs": [
      {
       "metadata": {},
       "output_type": "pyout",
       "prompt_number": 66,
       "text": [
        "'hl r!'"
       ]
      }
     ],
     "prompt_number": 66
    },
    {
     "cell_type": "markdown",
     "metadata": {},
     "source": [
      "\u91cd\u97f3\u7b26\u53f7\u548c\u7279\u6b8a\u5b57\u7b26\u4e5f\u53ef\u4ee5\u88ab\u5904\u7406\u4e3aUnicode\u5b57\u7b26\uff08\u8bf7\u89c1 http://docs.python.org/tutorial/introduction.html#unicode-strings\uff09\u3002\n",
      "\n",
      "\u5b57\u7b26\u662f**\u4e0d\u53ef\u53d8**\u5bf9\u8c61\uff0c\u4e0d\u53ef\u80fd\u4fee\u6539\u5185\u5bb9\u3002\u4e0d\u8fc7\u53ef\u4ee5\u4ece\u539f\u59cb\u7684\u5b57\u7b26\u4e2d\u521b\u5efa\u4e00\u4e2a\u65b0\u7684\u5b57\u7b26\u3002"
     ]
    },
    {
     "cell_type": "code",
     "collapsed": false,
     "input": [
      "a = \"hello, world!\"\n",
      "a[2] = 'z'"
     ],
     "language": "python",
     "metadata": {},
     "outputs": [
      {
       "ename": "TypeError",
       "evalue": "'str' object does not support item assignment",
       "output_type": "pyerr",
       "traceback": [
        "\u001b[0;31m---------------------------------------------------------------------------\u001b[0m\n\u001b[0;31mTypeError\u001b[0m                                 Traceback (most recent call last)",
        "\u001b[0;32m<ipython-input-68-8f124c87c8cf>\u001b[0m in \u001b[0;36m<module>\u001b[0;34m()\u001b[0m\n\u001b[1;32m      1\u001b[0m \u001b[0ma\u001b[0m \u001b[0;34m=\u001b[0m \u001b[0;34m\"hello, world!\"\u001b[0m\u001b[0;34m\u001b[0m\u001b[0m\n\u001b[0;32m----> 2\u001b[0;31m \u001b[0ma\u001b[0m\u001b[0;34m[\u001b[0m\u001b[0;36m2\u001b[0m\u001b[0;34m]\u001b[0m \u001b[0;34m=\u001b[0m \u001b[0;34m'z'\u001b[0m\u001b[0;34m\u001b[0m\u001b[0m\n\u001b[0m",
        "\u001b[0;31mTypeError\u001b[0m: 'str' object does not support item assignment"
       ]
      }
     ],
     "prompt_number": 68
    },
    {
     "cell_type": "code",
     "collapsed": false,
     "input": [
      "a.replace('l', 'z', 1)"
     ],
     "language": "python",
     "metadata": {},
     "outputs": [
      {
       "metadata": {},
       "output_type": "pyout",
       "prompt_number": 69,
       "text": [
        "'hezlo, world!'"
       ]
      }
     ],
     "prompt_number": 69
    },
    {
     "cell_type": "code",
     "collapsed": false,
     "input": [
      "a.replace('l', 'z')"
     ],
     "language": "python",
     "metadata": {},
     "outputs": [
      {
       "metadata": {},
       "output_type": "pyout",
       "prompt_number": 70,
       "text": [
        "'hezzo, worzd!'"
       ]
      }
     ],
     "prompt_number": 70
    },
    {
     "cell_type": "markdown",
     "metadata": {},
     "source": [
      "\u5b57\u7b26\u6709\u8bb8\u591a\u6709\u7528\u7684\u65b9\u6cd5\uff0c\u6bd4\u5982\u4e0a\u9762\u7684a.replace\u3002\u56de\u5fc6\u4e00\u4e0ba.\u9762\u5411\u5bf9\u8c61\u7684\u7b26\u53f7\uff0c\u5e76\u4e14\u4f7f\u7528tab\u5b8c\u6210\u6216\u8005help(str)\u6765\u641c\u7d22\u65b0\u7684\u65b9\u6cd5\u3002and use tab completion or \n",
      "\n",
      "**\u66f4\u591a\u5185\u5bb9** Python\u63d0\u4f9b\u4e86\u64cd\u4f5c\u7684\u5b57\u7b26\u7684\u9ad8\u7ea7\u53ef\u80fd\u6027\uff0c\u770b\u4e00\u4e0b\u6a21\u5f0f\u6216\u683c\u5f0f\u3002\u611f\u5174\u8da3\u7684\u8bfb\u8005\u8bf7\u53c2\u8003\uff1ahttp://docs.python.org/library/stdtypes.html#string-methods \u548c http://docs.python.org/library/string.html#new-string-formatting\u3002\n",
      "\n",
      "\u5b57\u7b26\u683c\u5f0f\uff1a"
     ]
    },
    {
     "cell_type": "code",
     "collapsed": false,
     "input": [
      "'An integer: %i; a float: %f; another string: %s' % (1, 0.1, 'string')"
     ],
     "language": "python",
     "metadata": {},
     "outputs": [
      {
       "metadata": {},
       "output_type": "pyout",
       "prompt_number": 71,
       "text": [
        "'An integer: 1; a float: 0.100000; another string: string'"
       ]
      }
     ],
     "prompt_number": 71
    },
    {
     "cell_type": "code",
     "collapsed": false,
     "input": [
      "i = 102\n",
      "filename = 'processing_of_dataset_%d.txt' % i\n",
      "filename"
     ],
     "language": "python",
     "metadata": {},
     "outputs": [
      {
       "metadata": {},
       "output_type": "pyout",
       "prompt_number": 72,
       "text": [
        "'processing_of_dataset_102.txt'"
       ]
      }
     ],
     "prompt_number": 72
    },
    {
     "cell_type": "markdown",
     "metadata": {},
     "source": [
      "#### 1.2.2.2.3. Dictionaries"
     ]
    },
    {
     "cell_type": "markdown",
     "metadata": {},
     "source": [
      "\u5b57\u5178\u672c\u8d28\u4e0a\u662f\u4e00\u4e2a**\u6620\u5c04\u952e\u503c**\u7684\u9ad8\u6548\u8868\u683c\u3002\u5b83\u662f\u4e00\u4e2a**\u65e0\u5e8f**\u7684\u5bb9\u5668"
     ]
    },
    {
     "cell_type": "code",
     "collapsed": false,
     "input": [
      "tel = {'emmanuelle': 5752, 'sebastian': 5578}\n",
      "tel['francis'] = 5915\n",
      "tel"
     ],
     "language": "python",
     "metadata": {},
     "outputs": [
      {
       "metadata": {},
       "output_type": "pyout",
       "prompt_number": 74,
       "text": [
        "{'emmanuelle': 5752, 'francis': 5915, 'sebastian': 5578}"
       ]
      }
     ],
     "prompt_number": 74
    },
    {
     "cell_type": "code",
     "collapsed": false,
     "input": [
      "tel['sebastian']"
     ],
     "language": "python",
     "metadata": {},
     "outputs": [
      {
       "metadata": {},
       "output_type": "pyout",
       "prompt_number": 75,
       "text": [
        "5578"
       ]
      }
     ],
     "prompt_number": 75
    },
    {
     "cell_type": "code",
     "collapsed": false,
     "input": [
      "tel.keys()"
     ],
     "language": "python",
     "metadata": {},
     "outputs": [
      {
       "metadata": {},
       "output_type": "pyout",
       "prompt_number": 76,
       "text": [
        "['sebastian', 'francis', 'emmanuelle']"
       ]
      }
     ],
     "prompt_number": 76
    },
    {
     "cell_type": "code",
     "collapsed": false,
     "input": [
      "tel.values()"
     ],
     "language": "python",
     "metadata": {},
     "outputs": [
      {
       "metadata": {},
       "output_type": "pyout",
       "prompt_number": 77,
       "text": [
        "[5578, 5915, 5752]"
       ]
      }
     ],
     "prompt_number": 77
    },
    {
     "cell_type": "markdown",
     "metadata": {},
     "source": [
      "\u5b83\u53ef\u4ee5\u65b9\u4fbf\u7684\u4ee5\u540d\u5b57\uff08\u65e5\u671f\u7684\u5b57\u7b26\u548c\u540d\u79f0\u7b49\uff09\u5b58\u50a8\u548c\u83b7\u53d6\u503c\u3002\u66f4\u591a\u4fe1\u606f\u89c1 http://docs.python.org/tutorial/datastructures.html#dictionaries\u3002\n",
      "\n",
      "\u4e00\u4e2a\u5b57\u5178\u7684\u952e\uff08\u4ee3\u8868\u503c\uff09\u53ef\u4ee5\u6709\u4e0d\u540c\u7684\u7c7b\u578b\uff1a"
     ]
    },
    {
     "cell_type": "code",
     "collapsed": false,
     "input": [
      "d = {'a':1, 'b':2, 3:'hello'}\n",
      "d"
     ],
     "language": "python",
     "metadata": {},
     "outputs": [
      {
       "metadata": {},
       "output_type": "pyout",
       "prompt_number": 78,
       "text": [
        "{3: 'hello', 'a': 1, 'b': 2}"
       ]
      }
     ],
     "prompt_number": 78
    },
    {
     "cell_type": "markdown",
     "metadata": {},
     "source": [
      "#### 1.2.2.2.4. More container types\n",
      "\n",
      "**\u5143\u7ec4**\n",
      "\n",
      "\u5143\u7ec4\u672c\u8d28\u4e0a\u662f\u4e0d\u53ef\u53d8\u5217\u8868\u3002\u5143\u7ec4\u7684\u5143\u7d20\u7528\u62ec\u53f7\u5305\u8d77\u6765\uff0c\u6216\u8005\u53ea\u662f\u7528\u9017\u53f7\u5206\u5272\uff1a"
     ]
    },
    {
     "cell_type": "code",
     "collapsed": false,
     "input": [
      "t = 12345, 54321, 'hello!'\n",
      "t[0]"
     ],
     "language": "python",
     "metadata": {},
     "outputs": [
      {
       "metadata": {},
       "output_type": "pyout",
       "prompt_number": 79,
       "text": [
        "12345"
       ]
      }
     ],
     "prompt_number": 79
    },
    {
     "cell_type": "code",
     "collapsed": false,
     "input": [
      "t"
     ],
     "language": "python",
     "metadata": {},
     "outputs": [
      {
       "metadata": {},
       "output_type": "pyout",
       "prompt_number": 80,
       "text": [
        "(12345, 54321, 'hello!')"
       ]
      }
     ],
     "prompt_number": 80
    },
    {
     "cell_type": "code",
     "collapsed": false,
     "input": [
      "u = (0, 2)"
     ],
     "language": "python",
     "metadata": {},
     "outputs": [],
     "prompt_number": 81
    },
    {
     "cell_type": "markdown",
     "metadata": {},
     "source": [
      "**\u96c6\u5408**\uff1a\u65e0\u5e8f\uff0c\u60df\u4e00\u9879\u76ee\uff1a"
     ]
    },
    {
     "cell_type": "code",
     "collapsed": false,
     "input": [
      "s = set(('a', 'b', 'c', 'a'))\n",
      "s"
     ],
     "language": "python",
     "metadata": {},
     "outputs": [
      {
       "metadata": {},
       "output_type": "pyout",
       "prompt_number": 82,
       "text": [
        "{'a', 'b', 'c'}"
       ]
      }
     ],
     "prompt_number": 82
    },
    {
     "cell_type": "code",
     "collapsed": false,
     "input": [
      "s.difference(('a', 'b'))"
     ],
     "language": "python",
     "metadata": {},
     "outputs": [
      {
       "metadata": {},
       "output_type": "pyout",
       "prompt_number": 83,
       "text": [
        "{'c'}"
       ]
      }
     ],
     "prompt_number": 83
    },
    {
     "cell_type": "markdown",
     "metadata": {},
     "source": [
      "#### 1.2.2.3. \u8d4b\u503c\u8fd0\u7b97"
     ]
    },
    {
     "cell_type": "markdown",
     "metadata": {},
     "source": [
      "[Python\u7c7b\u5e93\u53c2\u8003\uff1a](http://docs.python.org/reference/simple_stmts.html#assignment-statements)\n",
      "\n",
      ">\u8d4b\u503c\u8bed\u53e5\u88ab\u7528\u4e8e\uff08\u91cd\uff09\u7ed1\u5b9a\u540d\u79f0\u4e0e\u503c\uff0c\u4ee5\u53ca\u4fee\u6539\u53ef\u53d8\u5bf9\u8c61\u7684\u9879\u76ee\u6216\u5c5e\u6027\u3002\n",
      "\n",
      "\u7b80\u5355\u6765\u8bf4\uff0c\u5b83\u8fd9\u6837\u5de5\u4f5c\uff08\u7b80\u5355\u8d4b\u503c\uff09\uff1a\n",
      "\n",
      "1. \u53f3\u4fa7\u8868\u8fbe\u5f0f\u88ab\u8bc4\u4f30\uff0c\u521b\u5efa\u6216\u83b7\u5f97\u4ea7\u751f\u7684\u5bf9\u8c61\n",
      "\n",
      "2. \u5de6\u4fa7\u7684\u540d\u5b57\u88ab\u8d4b\u503c\u6216\u7ed1\u5b9a\u5230\u53f3\u4fa7\u7684\u5bf9\u8c61\n",
      "\n",
      "\u9700\u8981\u6ce8\u610f\u7684\u4e8b\u60c5\uff1a\n",
      "\n",
      "- \u5355\u4e2a\u5bf9\u8c61\u53ef\u4ee5\u6709\u591a\u4e2a\u7ed1\u5b9a\u7684\u540d\u79f0\uff1a"
     ]
    },
    {
     "cell_type": "code",
     "collapsed": false,
     "input": [
      "a = [1, 2, 3]\n",
      "b = a\n",
      "a"
     ],
     "language": "python",
     "metadata": {},
     "outputs": [
      {
       "metadata": {},
       "output_type": "pyout",
       "prompt_number": 84,
       "text": [
        "[1, 2, 3]"
       ]
      }
     ],
     "prompt_number": 84
    },
    {
     "cell_type": "code",
     "collapsed": false,
     "input": [
      "b"
     ],
     "language": "python",
     "metadata": {},
     "outputs": [
      {
       "metadata": {},
       "output_type": "pyout",
       "prompt_number": 85,
       "text": [
        "[1, 2, 3]"
       ]
      }
     ],
     "prompt_number": 85
    },
    {
     "cell_type": "code",
     "collapsed": false,
     "input": [
      "a is b"
     ],
     "language": "python",
     "metadata": {},
     "outputs": [
      {
       "metadata": {},
       "output_type": "pyout",
       "prompt_number": 86,
       "text": [
        "True"
       ]
      }
     ],
     "prompt_number": 86
    },
    {
     "cell_type": "code",
     "collapsed": false,
     "input": [
      "b[1] = 'hi!'\n",
      "a"
     ],
     "language": "python",
     "metadata": {},
     "outputs": [
      {
       "metadata": {},
       "output_type": "pyout",
       "prompt_number": 87,
       "text": [
        "[1, 'hi!', 3]"
       ]
      }
     ],
     "prompt_number": 87
    },
    {
     "cell_type": "markdown",
     "metadata": {},
     "source": [
      "- \u8981\u5728**\u539f\u5730**\u6539\u53d8\u5217\u8868\uff0c\u8bf7\u4f7f\u7528\u7d22\u5f15\u6216\u5207\u7247\uff1a"
     ]
    },
    {
     "cell_type": "code",
     "collapsed": false,
     "input": [
      "a = [1, 2, 3]\n",
      "a"
     ],
     "language": "python",
     "metadata": {},
     "outputs": [
      {
       "metadata": {},
       "output_type": "pyout",
       "prompt_number": 88,
       "text": [
        "[1, 2, 3]"
       ]
      }
     ],
     "prompt_number": 88
    },
    {
     "cell_type": "code",
     "collapsed": false,
     "input": [
      "a = ['a', 'b', 'c'] # \u521b\u5efa\u53e6\u4e00\u4e2a\u5bf9\u8c61\n",
      "a"
     ],
     "language": "python",
     "metadata": {},
     "outputs": [
      {
       "metadata": {},
       "output_type": "pyout",
       "prompt_number": 89,
       "text": [
        "['a', 'b', 'c']"
       ]
      }
     ],
     "prompt_number": 89
    },
    {
     "cell_type": "code",
     "collapsed": false,
     "input": [
      "id(a)"
     ],
     "language": "python",
     "metadata": {},
     "outputs": [
      {
       "metadata": {},
       "output_type": "pyout",
       "prompt_number": 90,
       "text": [
        "4394695640"
       ]
      }
     ],
     "prompt_number": 90
    },
    {
     "cell_type": "code",
     "collapsed": false,
     "input": [
      "a[:] = [1, 2, 3] # \u5728\u539f\u5730\u4fee\u6539\u5bf9\u8c61\n",
      "a"
     ],
     "language": "python",
     "metadata": {},
     "outputs": [
      {
       "metadata": {},
       "output_type": "pyout",
       "prompt_number": 91,
       "text": [
        "[1, 2, 3]"
       ]
      }
     ],
     "prompt_number": 91
    },
    {
     "cell_type": "code",
     "collapsed": false,
     "input": [
      "id(a)"
     ],
     "language": "python",
     "metadata": {},
     "outputs": [
      {
       "metadata": {},
       "output_type": "pyout",
       "prompt_number": 92,
       "text": [
        "4394695640"
       ]
      }
     ],
     "prompt_number": 92
    },
    {
     "cell_type": "markdown",
     "metadata": {},
     "source": [
      "\u4e0e\u4e0a\u4e00\u4e2aid\u76f8\u540c\uff0c\u4f60\u7684\u53ef\u80fd\u6709\u6240\u4e0d\u540c..."
     ]
    },
    {
     "cell_type": "markdown",
     "metadata": {},
     "source": [
      "- \u8fd9\u91cc\u7684\u5173\u952e\u89c2\u70b9\u662f\u53ef\u53d8 vs. \u4e0d\u53ef\u53d8\n",
      "\n",
      "    - \u53ef\u53d8\u5bf9\u8c61\u53ef\u4ee5\u5728\u539f\u5730\u4fee\u6539\n",
      "    - \u4e0d\u53ef\u53d8\u5bf9\u8c61\u4e00\u65e6\u88ab\u521b\u5efa\u5c31\u4e0d\u53ef\u4fee\u6539\n",
      "\n",
      "**\u66f4\u591a\u5185\u5bb9**\u5728David M. Beazley\u7684\u6587\u7ae0[Python\u4e2d\u7684\u7c7b\u578b\u548c\u5bf9\u8c61](http://www.informit.com/articles/article.aspx?p=453682)\u4e2d\u4e5f\u53ef\u4ee5\u627e\u5230\u5173\u4e8e\u4ee5\u4e0a\u95ee\u9898\u975e\u5e38\u4e0d\u9519\u7684\u8be6\u5c3d\u89e3\u91ca\u3002\n",
      "## 1.2.3 \u6d41\u7a0b\u63a7\u5236\n",
      "\n",
      "\u63a7\u5236\u4ee3\u7801\u6267\u884c\u987a\u5e8f\u3002\n",
      "\n",
      "### 1.2.3.1 if/elif/else"
     ]
    },
    {
     "cell_type": "code",
     "collapsed": false,
     "input": [
      "if 2**2 == 4:\n",
      "    print 'Obvious!'"
     ],
     "language": "python",
     "metadata": {},
     "outputs": [
      {
       "output_type": "stream",
       "stream": "stdout",
       "text": [
        "Obvious!\n"
       ]
      }
     ],
     "prompt_number": 93
    },
    {
     "cell_type": "markdown",
     "metadata": {},
     "source": [
      "**\u4ee3\u7801\u5757\u7528\u7f29\u8fdb\u9650\u5b9a**\n",
      "\n",
      "---\n",
      "\n",
      "**\u5c0f\u6280\u5de7**\uff1a\u5728\u4f60\u7684Python\u89e3\u91ca\u5668\u5185\u8f93\u5165\u4e0b\u5217\u884c\uff0c\u5e76\u4e14\u6ce8\u610f\u4fdd\u6301\u7f29\u8fdb\u6df1\u5ea6\u3002IPython shell\u4f1a\u5728\u4e00\u884c\u7684 : \u7b26\u53f7\u540e\u81ea\u52a8\u589e\u52a0\u7f29\u8fdb\uff0c\u5982\u679c\u8981\u51cf\u5c11\u7f29\u8fdb\uff0c\u5411\u5de6\u4fa7\u79fb\u52a84\u4e2a\u7a7a\u683c\u4f7f\u7528\u540e\u9000\u952e\u3002\u6309\u4e24\u6b21\u56de\u8f66\u952e\u79bb\u5f00\u903b\u8f91\u5757\u3002\n",
      "\n",
      "---"
     ]
    },
    {
     "cell_type": "code",
     "collapsed": false,
     "input": [
      "a = 10\n",
      "if a == 1:\n",
      "    print(1)\n",
      "elif a == 2:\n",
      "    print(2)\n",
      "else:\n",
      "    print('A lot')"
     ],
     "language": "python",
     "metadata": {},
     "outputs": [
      {
       "output_type": "stream",
       "stream": "stdout",
       "text": [
        "A lot\n"
       ]
      }
     ],
     "prompt_number": 96
    },
    {
     "cell_type": "markdown",
     "metadata": {},
     "source": [
      "\u5728\u811a\u672c\u4e2d\u4e5f\u662f\u5f3a\u5236\u7f29\u8fdb\u7684\u3002\u4f5c\u4e3a\u7ec3\u4e60\uff0c\u5728condition.py\u811a\u672c\u4e2d\u4ee5\u76f8\u540c\u7684\u7f29\u8fdb\u91cd\u65b0\u8f93\u5165\u4e4b\u524d\u51e0\u884c\uff0c\u5e76\u5728IPython\u4e2d\u7528```run condition.py```\u6267\u884c\u811a\u672c\u3002"
     ]
    },
    {
     "cell_type": "markdown",
     "metadata": {},
     "source": [
      "### 1.2.3.2 for/range\n",
      "\n",
      "\u5728\u7d22\u5f15\u4e0a\u8fed\u4ee3\uff1a"
     ]
    },
    {
     "cell_type": "code",
     "collapsed": false,
     "input": [
      "for i in range(4):\n",
      "    print(i)"
     ],
     "language": "python",
     "metadata": {},
     "outputs": [
      {
       "output_type": "stream",
       "stream": "stdout",
       "text": [
        "0\n",
        "1\n",
        "2\n",
        "3\n"
       ]
      }
     ],
     "prompt_number": 97
    },
    {
     "cell_type": "markdown",
     "metadata": {},
     "source": [
      "\u4f46\u662f\u6700\u7ecf\u5e38\u4f7f\u7528\uff0c\u4e5f\u66f4\u6613\u8bfb\u7684\u662f\u5728\u503c\u4e0a\u8fed\u4ee3\uff1a"
     ]
    },
    {
     "cell_type": "code",
     "collapsed": false,
     "input": [
      "for word in ('cool', 'powerful', 'readable'):\n",
      "    print('Python is %s' % word)"
     ],
     "language": "python",
     "metadata": {},
     "outputs": [
      {
       "output_type": "stream",
       "stream": "stdout",
       "text": [
        "Python is cool\n",
        "Python is powerful\n",
        "Python is readable\n"
       ]
      }
     ],
     "prompt_number": 98
    },
    {
     "cell_type": "markdown",
     "metadata": {},
     "source": [
      "### 1.2.3.3 while/break/continue\n",
      "\n",
      "\u5178\u578b\u7684C\u5f0fWhile\u5faa\u73af\uff08Mandelbrot\u95ee\u9898\uff09\uff1a"
     ]
    },
    {
     "cell_type": "code",
     "collapsed": false,
     "input": [
      "z = 1 + 1j\n",
      "while abs(z) < 100: \n",
      "    z = z**2 + 1\n",
      "z"
     ],
     "language": "python",
     "metadata": {},
     "outputs": [
      {
       "metadata": {},
       "output_type": "pyout",
       "prompt_number": 13,
       "text": [
        "(-134+352j)"
       ]
      }
     ],
     "prompt_number": 13
    },
    {
     "cell_type": "markdown",
     "metadata": {},
     "source": [
      "**\u66f4\u9ad8\u7ea7\u7684\u529f\u80fd**\n",
      "\n",
      "bread \u8df3\u51fafor/while\u5faa\u73af\uff1a"
     ]
    },
    {
     "cell_type": "code",
     "collapsed": false,
     "input": [
      "z = 1 + 1j\n",
      "while abs(z) < 100:\n",
      "    if z.imag == 0:\n",
      "        break\n",
      "    z = z**2 + 1\n",
      "    print z"
     ],
     "language": "python",
     "metadata": {},
     "outputs": [
      {
       "output_type": "stream",
       "stream": "stdout",
       "text": [
        "(1+2j)\n",
        "(-2+4j)\n",
        "(-11-16j)\n",
        "(-134+352j)\n"
       ]
      }
     ],
     "prompt_number": 103
    },
    {
     "cell_type": "markdown",
     "metadata": {},
     "source": [
      "continue \u7ee7\u7eed\u4e0b\u4e00\u4e2a\u5faa\u73af\u8fed\u4ee3\uff1a"
     ]
    },
    {
     "cell_type": "code",
     "collapsed": false,
     "input": [
      "a = [1, 0, 2, 4]\n",
      "for element in a:\n",
      "    if element == 0:\n",
      "        continue\n",
      "    print 1. / element"
     ],
     "language": "python",
     "metadata": {},
     "outputs": [
      {
       "output_type": "stream",
       "stream": "stdout",
       "text": [
        "1.0\n",
        "0.5\n",
        "0.25\n"
       ]
      }
     ],
     "prompt_number": 101
    },
    {
     "cell_type": "markdown",
     "metadata": {},
     "source": [
      "### 1.2.3.4 \u6761\u4ef6\u8868\u8fbe\u5f0f\n",
      "\n",
      "**if [OBJECT]\uff1a**\n",
      "\n",
      "\u8bc4\u4f30\u4e3aFalse\uff1a\n",
      "    - \u4efb\u4f55\u7b49\u4e8e0\u7684\u6570\u5b57 (0\u30010.0\u30010+0j)\n",
      "    - \u7a7a\u5bb9\u5668\uff08\u5217\u8868\u3001\u5143\u7ec4\u3001\u96c6\u5408\u3001\u5b57\u5178, ...\uff09\n",
      "    - False\uff0cNone\n",
      "\n",
      "\u8bc4\u4f30\u4e3aTrue\uff1a\n",
      "    - \u4efb\u4f55\u5176\u4ed6\u7684\u4e1c\u897f\n",
      "    \n",
      "**a == b\uff1a**\n",
      "\n",
      "\u5224\u65ad\u903b\u8f91\u662f\u5426\u76f8\u7b49\uff1a"
     ]
    },
    {
     "cell_type": "code",
     "collapsed": false,
     "input": [
      "1 == 1"
     ],
     "language": "python",
     "metadata": {},
     "outputs": [
      {
       "metadata": {},
       "output_type": "pyout",
       "prompt_number": 1,
       "text": [
        "True"
       ]
      }
     ],
     "prompt_number": 1
    },
    {
     "cell_type": "markdown",
     "metadata": {},
     "source": [
      "**a is b\uff1a**\n",
      "\n",
      "\u6d4b\u8bd5\u540c\u4e00\u6027\uff1a\u4e24\u8fb9\u662f\u76f8\u540c\u7684\u5bf9\u8c61\uff1a"
     ]
    },
    {
     "cell_type": "code",
     "collapsed": false,
     "input": [
      "1 is 1"
     ],
     "language": "python",
     "metadata": {},
     "outputs": [
      {
       "metadata": {},
       "output_type": "pyout",
       "prompt_number": 2,
       "text": [
        "True"
       ]
      }
     ],
     "prompt_number": 2
    },
    {
     "cell_type": "code",
     "collapsed": false,
     "input": [
      "a = 1\n",
      "b = 1\n",
      "a is b"
     ],
     "language": "python",
     "metadata": {},
     "outputs": [
      {
       "metadata": {},
       "output_type": "pyout",
       "prompt_number": 3,
       "text": [
        "True"
       ]
      }
     ],
     "prompt_number": 3
    },
    {
     "cell_type": "markdown",
     "metadata": {},
     "source": [
      "**a in b\uff1a**\n",
      "\n",
      "\u5bf9\u4e8e\u4efb\u4f55\u96c6\u5408b\uff1ab\u5305\u542ba"
     ]
    },
    {
     "cell_type": "code",
     "collapsed": false,
     "input": [
      "b = [1, 2, 3]\n",
      "2 in b"
     ],
     "language": "python",
     "metadata": {},
     "outputs": [
      {
       "metadata": {},
       "output_type": "pyout",
       "prompt_number": 11,
       "text": [
        "True"
       ]
      }
     ],
     "prompt_number": 11
    },
    {
     "cell_type": "code",
     "collapsed": false,
     "input": [
      "5 in b"
     ],
     "language": "python",
     "metadata": {},
     "outputs": [
      {
       "metadata": {},
       "output_type": "pyout",
       "prompt_number": 12,
       "text": [
        "False"
       ]
      }
     ],
     "prompt_number": 12
    },
    {
     "cell_type": "markdown",
     "metadata": {},
     "source": [
      "\u5982\u679cb\u662f\u5b57\u5178\uff0c\u8fd9\u4e2a\u8bed\u6cd5\u6d4b\u8bd5a\u662f\u5426\u662fb\u7684\u4e00\u4e2a\u952e\u3002\n",
      "\n",
      "### 1.2.3.5. \u9ad8\u7ea7\u5faa\u73af\n",
      "\n",
      "#### 1.2.3.5.1 \u5e8f\u5217\u5faa\u73af\n",
      "\n",
      "\u4f60\u53ef\u4ee5\u5728\u4efb\u4f55\u5e8f\u5217\u4e0a\u8fdb\u884c\u5faa\u73af\uff08\u5b57\u7b26\u3001\u5217\u8868\u3001\u5b57\u5178\u7684\u952e\uff0c\u6587\u4ef6\u7684\u884c...\uff09\uff1a"
     ]
    },
    {
     "cell_type": "code",
     "collapsed": false,
     "input": [
      "vowels = 'aeiouy'\n",
      "for i in 'powerful':\n",
      "    if i in vowels:\n",
      "        print(i),"
     ],
     "language": "python",
     "metadata": {},
     "outputs": [
      {
       "output_type": "stream",
       "stream": "stdout",
       "text": [
        "o e u\n"
       ]
      }
     ],
     "prompt_number": 14
    },
    {
     "cell_type": "code",
     "collapsed": false,
     "input": [
      "message = \"Hello how are you?\"\n",
      "message.split() # \u8fd4\u56de\u4e00\u4e2a\u5217\u8868"
     ],
     "language": "python",
     "metadata": {},
     "outputs": [
      {
       "metadata": {},
       "output_type": "pyout",
       "prompt_number": 15,
       "text": [
        "['Hello', 'how', 'are', 'you?']"
       ]
      }
     ],
     "prompt_number": 15
    },
    {
     "cell_type": "code",
     "collapsed": false,
     "input": [
      "for word in message.split():\n",
      "    print word"
     ],
     "language": "python",
     "metadata": {},
     "outputs": [
      {
       "output_type": "stream",
       "stream": "stdout",
       "text": [
        "Hello\n",
        "how\n",
        "are\n",
        "you?\n"
       ]
      }
     ],
     "prompt_number": 16
    },
    {
     "cell_type": "markdown",
     "metadata": {},
     "source": [
      "\u5f88\u5c11\u6709\u8bed\u8a00\uff08\u7279\u522b\u662f\u79d1\u5b66\u8ba1\u7b97\u8bed\u8a00\uff09\u5141\u8bb8\u5728\u6574\u6570\u6216\u7d22\u5f15\u4e4b\u5916\u7684\u5faa\u73af\u3002\u5728Python\u4e2d\uff0c\u53ef\u4ee5\u5728\u611f\u5174\u8da3\u7684\u5bf9\u8c61\u4e0a\u5faa\u73af\uff0c\u800c\u4e0d\u7528\u62c5\u5fc3\u4f60\u901a\u5e38\u4e0d\u5173\u5fc3\u7684\u7d22\u5f15\u3002\u8fd9\u4e2a\u529f\u80fd\u901a\u5e38\u7528\u6765\u8ba9\u4ee3\u7801\u66f4\u6613\u8bfb\u3002\n",
      "\n",
      "**\u8b66\u544a**\uff1a\u6539\u53d8\u6b63\u5728\u5faa\u73af\u7684\u5e8f\u5217\u662f\u4e0d\u5b89\u5168\u7684\u3002"
     ]
    },
    {
     "cell_type": "markdown",
     "metadata": {},
     "source": [
      "#### 1.2.3.5.2 \u8ddf\u8e2a\u5217\u4e3e\u6570\n",
      "\n",
      "\u901a\u5e38\u4efb\u52a1\u662f\u5728\u4e00\u4e2a\u5e8f\u5217\u4e0a\u5faa\u73af\uff0c\u540c\u65f6\u8ddf\u8e2a\u9879\u76ee\u6570\u3002\n",
      "    - \u53ef\u4ee5\u50cf\u4e0a\u9762\uff0c\u4f7f\u7528\u5e26\u6709\u8ba1\u6570\u5668\u7684while\u5faa\u73af\u3002\u6216\u8005\u4e00\u4e2afor\u5faa\u73af\uff1a"
     ]
    },
    {
     "cell_type": "code",
     "collapsed": false,
     "input": [
      "words = ('cool', 'powerful', 'readable')\n",
      "for i in range(0, len(words)):\n",
      "    print i, words[i]"
     ],
     "language": "python",
     "metadata": {},
     "outputs": [
      {
       "output_type": "stream",
       "stream": "stdout",
       "text": [
        "0 cool\n",
        "1 powerful\n",
        "2 readable\n"
       ]
      }
     ],
     "prompt_number": 17
    },
    {
     "cell_type": "markdown",
     "metadata": {},
     "source": [
      "\u4f46\u662f\uff0cPython\u4e3a\u8fd9\u79cd\u60c5\u51b5\u63d0\u4f9b\u4e86enumerate\u5173\u952e\u8bcd\uff1a"
     ]
    },
    {
     "cell_type": "code",
     "collapsed": false,
     "input": [
      "for index, item in enumerate(words):\n",
      "    print index, item"
     ],
     "language": "python",
     "metadata": {},
     "outputs": [
      {
       "output_type": "stream",
       "stream": "stdout",
       "text": [
        "0 cool\n",
        "1 powerful\n",
        "2 readable\n"
       ]
      }
     ],
     "prompt_number": 18
    },
    {
     "cell_type": "markdown",
     "metadata": {},
     "source": [
      "#### 1.2.3.5.3 \u5b57\u5178\u5faa\u73af\n",
      "\n",
      "\u4f7f\u7528**iteritems**\uff1a"
     ]
    },
    {
     "cell_type": "code",
     "collapsed": false,
     "input": [
      "d = {'a': 1, 'b':1.2, 'c':1j}\n",
      "for key, val in d.iteritems():\n",
      "    print('Key: %s has value: %s' % (key, val))"
     ],
     "language": "python",
     "metadata": {},
     "outputs": [
      {
       "output_type": "stream",
       "stream": "stdout",
       "text": [
        "Key: a has value: 1\n",
        "Key: c has value: 1j\n",
        "Key: b has value: 1.2\n"
       ]
      }
     ],
     "prompt_number": 19
    },
    {
     "cell_type": "markdown",
     "metadata": {},
     "source": [
      "#### 1.2.3.5.4 \u5217\u8868\u7406\u89e3"
     ]
    },
    {
     "cell_type": "code",
     "collapsed": false,
     "input": [
      "[i**2 for i in range(4)]"
     ],
     "language": "python",
     "metadata": {},
     "outputs": [
      {
       "metadata": {},
       "output_type": "pyout",
       "prompt_number": 20,
       "text": [
        "[0, 1, 4, 9]"
       ]
      }
     ],
     "prompt_number": 20
    },
    {
     "cell_type": "markdown",
     "metadata": {},
     "source": [
      "---\n",
      "**\u7ec3\u4e60**\n",
      "\n",
      "\u7528Wallis\u516c\u5f0f\uff0c\u8ba1\u7b97\u03c0\u7684\u5c0f\u6570\n",
      "\n",
      "![Wallis\u516c\u5f0f](http://scipy-lectures.github.io/_images/math/31913b3982be13ed2063b0ffccbcab9cf4931fdb.png)\n",
      "\n",
      "---\n",
      "\n",
      "## 1.2.4. \u5b9a\u4e49\u51fd\u6570\n",
      "\n",
      "### 1.2.4.1 \u51fd\u6570\u7684\u5b9a\u4e49"
     ]
    },
    {
     "cell_type": "code",
     "collapsed": false,
     "input": [
      "def test():\n",
      "    print('in test function')\n",
      "\n",
      "test()"
     ],
     "language": "python",
     "metadata": {},
     "outputs": [
      {
       "output_type": "stream",
       "stream": "stdout",
       "text": [
        "in test function\n"
       ]
      }
     ],
     "prompt_number": 21
    },
    {
     "cell_type": "markdown",
     "metadata": {},
     "source": [
      "**\u6ce8\u610f**\uff1a\u51fd\u6570\u5757\u5fc5\u987b\u50cf\u5176\u4ed6\u6d41\u7a0b\u63a7\u5236\u5757\u4e00\u6837\u7f29\u8fdb\n",
      "\n",
      "### 1.2.4.2 \u8fd4\u56de\u8bed\u53e5\n",
      "\n",
      "\u51fd\u6570**\u53ef\u4ee5\u9009\u62e9**\u8fd4\u56de\u503c\u3002"
     ]
    },
    {
     "cell_type": "code",
     "collapsed": false,
     "input": [
      "def disk_area(radius):\n",
      "    return 3.14 * radius * radius\n",
      "\n",
      "disk_area(1.5)"
     ],
     "language": "python",
     "metadata": {},
     "outputs": [
      {
       "metadata": {},
       "output_type": "pyout",
       "prompt_number": 22,
       "text": [
        "7.0649999999999995"
       ]
      }
     ],
     "prompt_number": 22
    },
    {
     "cell_type": "markdown",
     "metadata": {},
     "source": [
      "**\u6ce8\u610f**\uff1a\u9ed8\u8ba4\u51fd\u6570\u8fd4\u56de`None`\u3002"
     ]
    },
    {
     "cell_type": "markdown",
     "metadata": {},
     "source": [
      "**\u6ce8\u610f**\uff1a\u6ce8\u610f\u5b9a\u4e49\u51fd\u6570\u7684\u8bed\u6cd5\uff1a\n",
      "\n",
      "- def\u5173\u952e\u5b57\uff1a\n",
      "- \u63a5\u4e0b\u6765\u662f\u51fd\u6570\u7684\u540d\u79f0\uff0c\u7136\u540e\n",
      "- \u5728\u5192\u53f7\u540e\u662f\u5728\u62ec\u53f7\u4e2d\u7684\u51fd\u6570\u7684\u53c2\u6570\u3002\n",
      "- \u51fd\u6570\u4f53\uff1b\n",
      "- \u4ee5\u53ca\u53ef\u9009\u8fd4\u56de\u503c\u7684\u8fd4\u56de\u5bf9\u8c61"
     ]
    },
    {
     "cell_type": "markdown",
     "metadata": {},
     "source": [
      "### 1.2.4.3 \u53c2\u6570\n",
      "\n",
      "\u5fc5\u9009\u53c2\u6570\uff08\u4f4d\u7f6e\u53c2\u6570\uff09"
     ]
    },
    {
     "cell_type": "code",
     "collapsed": false,
     "input": [
      "def double_it(x):\n",
      "    return x * 2\n",
      "\n",
      "double_it(3)"
     ],
     "language": "python",
     "metadata": {},
     "outputs": [
      {
       "metadata": {},
       "output_type": "pyout",
       "prompt_number": 24,
       "text": [
        "6"
       ]
      }
     ],
     "prompt_number": 24
    },
    {
     "cell_type": "code",
     "collapsed": false,
     "input": [
      "double_it()"
     ],
     "language": "python",
     "metadata": {},
     "outputs": [
      {
       "ename": "TypeError",
       "evalue": "double_it() takes exactly 1 argument (0 given)",
       "output_type": "pyerr",
       "traceback": [
        "\u001b[0;31m---------------------------------------------------------------------------\u001b[0m\n\u001b[0;31mTypeError\u001b[0m                                 Traceback (most recent call last)",
        "\u001b[0;32m<ipython-input-25-51cdedbb81b0>\u001b[0m in \u001b[0;36m<module>\u001b[0;34m()\u001b[0m\n\u001b[0;32m----> 1\u001b[0;31m \u001b[0mdouble_it\u001b[0m\u001b[0;34m(\u001b[0m\u001b[0;34m)\u001b[0m\u001b[0;34m\u001b[0m\u001b[0m\n\u001b[0m",
        "\u001b[0;31mTypeError\u001b[0m: double_it() takes exactly 1 argument (0 given)"
       ]
      }
     ],
     "prompt_number": 25
    },
    {
     "cell_type": "markdown",
     "metadata": {},
     "source": [
      "\u53ef\u9009\u53c2\u6570\uff08\u5173\u952e\u8bcd\u548c\u547d\u540d\u53c2\u6570\uff09"
     ]
    },
    {
     "cell_type": "code",
     "collapsed": false,
     "input": [
      "def double_it(x=2):\n",
      "    return x * 2\n",
      "\n",
      "double_it()"
     ],
     "language": "python",
     "metadata": {},
     "outputs": [
      {
       "metadata": {},
       "output_type": "pyout",
       "prompt_number": 26,
       "text": [
        "4"
       ]
      }
     ],
     "prompt_number": 26
    },
    {
     "cell_type": "code",
     "collapsed": false,
     "input": [
      "double_it(3)"
     ],
     "language": "python",
     "metadata": {},
     "outputs": [
      {
       "metadata": {},
       "output_type": "pyout",
       "prompt_number": 27,
       "text": [
        "6"
       ]
      }
     ],
     "prompt_number": 27
    },
    {
     "cell_type": "markdown",
     "metadata": {},
     "source": [
      "\u5173\u952e\u8bcd\u53c2\u6570\u5141\u8bb8\u4f60\u8bbe\u7f6e\u7279\u5b9a\u9ed8\u8ba4\u503c\u3002\n",
      "\n",
      "**\u8b66\u544a\uff1a**\u9ed8\u8ba4\u503c\u5728\u51fd\u6570\u5b9a\u4e49\u65f6\u88ab\u8bc4\u4f30\uff0c\u800c\u4e0d\u662f\u5728\u8c03\u7528\u65f6\u3002\u5982\u679c\u4f7f\u7528\u53ef\u53d8\u7c7b\u578b\uff08\u5373\u5b57\u5178\u6216\u5217\u8868\uff09\u5e76\u5728\u51fd\u6570\u4f53\u5185\u4fee\u6539\u4ed6\u4eec\uff0c\u8fd9\u53ef\u80fd\u4f1a\u4ea7\u751f\u95ee\u9898\uff0c\u56e0\u4e3a\u8fd9\u4e2a\u4fee\u6539\u4f1a\u5728\u51fd\u6570\u88ab\u5f15\u7528\u7684\u65f6\u5019\u4e00\u76f4\u6301\u7eed\u5b58\u5728\u3002\n",
      "\n",
      "\u5728\u5173\u952e\u8bcd\u53c2\u6570\u4e2d\u4f7f\u7528\u4e0d\u53ef\u53d8\u7c7b\u578b\uff1a"
     ]
    },
    {
     "cell_type": "code",
     "collapsed": false,
     "input": [
      "bigx = 10\n",
      "def double_it(x=bigx):\n",
      "    return x * 2\n",
      "bigx = 1e9  # \u73b0\u5728\u771f\u7684\u975e\u5e38\u5927\n",
      "double_it()"
     ],
     "language": "python",
     "metadata": {},
     "outputs": [
      {
       "metadata": {},
       "output_type": "pyout",
       "prompt_number": 2,
       "text": [
        "20"
       ]
      }
     ],
     "prompt_number": 2
    },
    {
     "cell_type": "markdown",
     "metadata": {},
     "source": [
      "\u5728\u5173\u952e\u8bcd\u53c2\u6570\u4e2d\u4f7f\u7528\u53ef\u53d8\u7c7b\u578b\uff08\u5e76\u4e14\u5728\u51fd\u6570\u4f53\u5185\u4fee\u6539\u5b83\uff09\uff1a"
     ]
    },
    {
     "cell_type": "code",
     "collapsed": false,
     "input": [
      "def add_to_dict(args={'a': 1, 'b': 2}):\n",
      "    for i in args.keys():\n",
      "        args[i] += 1\n",
      "    print args\n",
      "\n",
      "add_to_dict"
     ],
     "language": "python",
     "metadata": {},
     "outputs": [
      {
       "metadata": {},
       "output_type": "pyout",
       "prompt_number": 3,
       "text": [
        "<function __main__.add_to_dict>"
       ]
      }
     ],
     "prompt_number": 3
    },
    {
     "cell_type": "code",
     "collapsed": false,
     "input": [
      "add_to_dict()"
     ],
     "language": "python",
     "metadata": {},
     "outputs": [
      {
       "output_type": "stream",
       "stream": "stdout",
       "text": [
        "{'a': 2, 'b': 3}\n"
       ]
      }
     ],
     "prompt_number": 4
    },
    {
     "cell_type": "code",
     "collapsed": false,
     "input": [
      "add_to_dict()"
     ],
     "language": "python",
     "metadata": {},
     "outputs": [
      {
       "output_type": "stream",
       "stream": "stdout",
       "text": [
        "{'a': 3, 'b': 4}\n"
       ]
      }
     ],
     "prompt_number": 5
    },
    {
     "cell_type": "code",
     "collapsed": false,
     "input": [
      "add_to_dict()"
     ],
     "language": "python",
     "metadata": {},
     "outputs": [
      {
       "output_type": "stream",
       "stream": "stdout",
       "text": [
        "{'a': 4, 'b': 5}\n"
       ]
      }
     ],
     "prompt_number": 6
    },
    {
     "cell_type": "markdown",
     "metadata": {},
     "source": [
      "\u66f4\u590d\u6742\u7684\u4f8b\u5b50\uff0c\u5b9e\u73b0Python\u7684\u5207\u7247\uff1a"
     ]
    },
    {
     "cell_type": "code",
     "collapsed": false,
     "input": [
      "def slicer(seq, start=None, stop=None, step=None):\n",
      "    \"\"\"Implement basic python slicing.\"\"\"\n",
      "    return seq[start:stop:step]\n",
      "\n",
      "rhyme = 'one fish, two fish, red fish, blue fish'.split()\n",
      "\n",
      "rhyme"
     ],
     "language": "python",
     "metadata": {},
     "outputs": [
      {
       "metadata": {},
       "output_type": "pyout",
       "prompt_number": 7,
       "text": [
        "['one', 'fish,', 'two', 'fish,', 'red', 'fish,', 'blue', 'fish']"
       ]
      }
     ],
     "prompt_number": 7
    },
    {
     "cell_type": "code",
     "collapsed": false,
     "input": [
      "slicer(rhyme)"
     ],
     "language": "python",
     "metadata": {},
     "outputs": [
      {
       "metadata": {},
       "output_type": "pyout",
       "prompt_number": 8,
       "text": [
        "['one', 'fish,', 'two', 'fish,', 'red', 'fish,', 'blue', 'fish']"
       ]
      }
     ],
     "prompt_number": 8
    },
    {
     "cell_type": "code",
     "collapsed": false,
     "input": [
      "slicer(rhyme, step=2)"
     ],
     "language": "python",
     "metadata": {},
     "outputs": [
      {
       "metadata": {},
       "output_type": "pyout",
       "prompt_number": 9,
       "text": [
        "['one', 'two', 'red', 'blue']"
       ]
      }
     ],
     "prompt_number": 9
    },
    {
     "cell_type": "code",
     "collapsed": false,
     "input": [
      "slicer(rhyme, 1, step=2)"
     ],
     "language": "python",
     "metadata": {},
     "outputs": [
      {
       "metadata": {},
       "output_type": "pyout",
       "prompt_number": 10,
       "text": [
        "['fish,', 'fish,', 'fish,', 'fish']"
       ]
      }
     ],
     "prompt_number": 10
    },
    {
     "cell_type": "code",
     "collapsed": false,
     "input": [
      "slicer(rhyme, start=1, stop=4, step=2)"
     ],
     "language": "python",
     "metadata": {},
     "outputs": [
      {
       "metadata": {},
       "output_type": "pyout",
       "prompt_number": 11,
       "text": [
        "['fish,', 'fish,']"
       ]
      }
     ],
     "prompt_number": 11
    },
    {
     "cell_type": "markdown",
     "metadata": {},
     "source": [
      "\u5173\u952e\u8bcd\u53c2\u6570\u7684\u987a\u5e8f**\u4e0d**\u91cd\u8981\uff1a"
     ]
    },
    {
     "cell_type": "code",
     "collapsed": false,
     "input": [
      "slicer(rhyme, step=2, start=1, stop=4)"
     ],
     "language": "python",
     "metadata": {},
     "outputs": [
      {
       "metadata": {},
       "output_type": "pyout",
       "prompt_number": 12,
       "text": [
        "['fish,', 'fish,']"
       ]
      }
     ],
     "prompt_number": 12
    },
    {
     "cell_type": "markdown",
     "metadata": {},
     "source": [
      "\u4f46\u662f\uff0c\u6700\u597d\u662f\u4f7f\u7528\u4e0e\u51fd\u6570\u5b9a\u4e49\u76f8\u540c\u7684\u987a\u5e8f\u3002\n",
      "\n",
      "*\u5173\u952e\u8bcd\u53c2\u6570*\u662f\u7279\u522b\u65b9\u4fbf\u7684\u529f\u80fd\uff0c\u53ef\u4ee5\u7528\u53ef\u53d8\u6570\u91cf\u7684\u53c2\u6570\u6765\u5b9a\u4e49\u4e00\u4e2a\u51fd\u6570\uff0c\u7279\u522b\u662f\u5f53\u51fd\u6570\u636e\u7edd\u5927\u591a\u6570\u8c03\u7528\u90fd\u4f1a\u4f7f\u7528\u9ed8\u8ba4\u503c\u65f6\u3002\n",
      "\n",
      "### 1.2.4.4 \u503c\u4f20\u9012"
     ]
    },
    {
     "cell_type": "markdown",
     "metadata": {},
     "source": [
      "\u53ef\u4ee5\u5728\u4e00\u4e2a\u51fd\u6570\u5185\u90e8\u6539\u53d8\u53d8\u91cf\u7684\u503c\u5417\uff1f\u5927\u591a\u6570\u8bed\u8a00\uff08C\u3001Java...\uff09\u533a\u5206\u4e86\u201c\u503c\u4f20\u9012\u201c\u548c\u201d\u5f15\u7528\u4f20\u9012\u201c\u3002\u5728Python\u4e2d\uff0c\u6ca1\u6709\u4e25\u683c\u7684\u8fd9\u79cd\u533a\u5206\uff0c\u5e76\u4e14\u89c6\u4f60\u7684\u53d8\u91cf\u662f\u5426\u4f1a\u4fee\u6539\u800c\u6709\u4e00\u4e9b\u4e0d\u540c\u3002\u5e78\u8fd0\u7684\u662f\uff0c\u8fd9\u4e9b\u60c5\u51b5\u5b58\u5728\u660e\u786e\u7684\u89c4\u5219\u3002\n",
      "\n",
      "\u51fd\u6570\u7684\u53c2\u6570\u662f\u5bf9\u8c61\u7684\u5f15\u7528\uff0c\u4f20\u9012\u7684\u662f\u503c\u3002\u5f53\u4f60\u50cf\u4e00\u4e2a\u51fd\u6570\u4f20\u9012\u4e86\u4e00\u4e2a\u53d8\u91cf\uff0cPython\u4f20\u9012\u7684\u662f\u5bf9\u8c61\u7684\u5f15\u7528\uff0c\u8fd9\u4e2a\u5bf9\u8c61\u5f15\u7528\u7684\u53d8\u91cf\uff08\u503c\uff09\u3002\u800c\u4e0d\u662f\u53d8\u91cf\u672c\u8eab\u3002\n",
      "\n",
      "\u5982\u679c**\u503c**\u4f20\u9012\u7ed9\u51fd\u6570\u7684\u503c\u662f\u4e0d\u53ef\u53d8\u7684\uff0c\u90a3\u4e48\u8fd9\u4e2a\u51fd\u6570\u5e76\u4e0d\u4f1a\u6539\u53d8\u8c03\u7528\u8005\u7684\u53d8\u91cf\u3002\u5982\u679c**\u503c**\u662f\u53ef\u53d8\u7684\uff0c\u90a3\u4e48\u51fd\u6570\u5c06\u53ef\u80fd\u5728\u539f\u5730\u4fee\u6539\u8c03\u7528\u8005\u7684\u53d8\u91cf\u3002"
     ]
    },
    {
     "cell_type": "code",
     "collapsed": false,
     "input": [
      "def try_to_modify(x, y, z):\n",
      "    x = 23\n",
      "    y.append(42)\n",
      "    z = [99] # \u65b0\u5f15\u7528\n",
      "    print(x)\n",
      "    print(y)\n",
      "    print(z)\n",
      "\n",
      "a = 77    # \u4e0d\u53ef\u53d8\u53d8\u91cf\n",
      "b = [99]  # \u53ef\u53d8\u53d8\u91cf\n",
      "c = [28]\n",
      "try_to_modify(a, b, c)"
     ],
     "language": "python",
     "metadata": {},
     "outputs": [
      {
       "output_type": "stream",
       "stream": "stdout",
       "text": [
        "23\n",
        "[99, 42]\n",
        "[99]\n"
       ]
      }
     ],
     "prompt_number": 13
    },
    {
     "cell_type": "code",
     "collapsed": false,
     "input": [
      "print(a)"
     ],
     "language": "python",
     "metadata": {},
     "outputs": [
      {
       "output_type": "stream",
       "stream": "stdout",
       "text": [
        "77\n"
       ]
      }
     ],
     "prompt_number": 14
    },
    {
     "cell_type": "code",
     "collapsed": false,
     "input": [
      "print(b)"
     ],
     "language": "python",
     "metadata": {},
     "outputs": [
      {
       "output_type": "stream",
       "stream": "stdout",
       "text": [
        "[99, 42]\n"
       ]
      }
     ],
     "prompt_number": 15
    },
    {
     "cell_type": "code",
     "collapsed": false,
     "input": [
      "print(c)"
     ],
     "language": "python",
     "metadata": {},
     "outputs": [
      {
       "output_type": "stream",
       "stream": "stdout",
       "text": [
        "[28]\n"
       ]
      }
     ],
     "prompt_number": 16
    },
    {
     "cell_type": "markdown",
     "metadata": {},
     "source": [
      "\u51fd\u6570\u6709\u540d\u4e3a*local namespace*\u7684\u672c\u5730\u53d8\u91cf\u8868\u3002\n",
      "\n",
      "\u53d8\u91cfX\u53ea\u5b58\u5728\u4e8e\u51fd\u6570try_to_modify\u5185\u90e8\u3002\n",
      "\n",
      "### 1.2.4.5 \u5168\u5c40\u53d8\u91cf\n",
      "\n",
      "\u5728\u51fd\u6570\u5916\u5b9a\u4e49\u7684\u53d8\u91cf\u53ef\u4ee5\u5728\u51fd\u6570\u5185\u5f15\u7528\uff1a"
     ]
    },
    {
     "cell_type": "code",
     "collapsed": false,
     "input": [
      "x = 5\n",
      "def addx(y):\n",
      "    return x + y\n",
      "\n",
      "addx(10)"
     ],
     "language": "python",
     "metadata": {},
     "outputs": [
      {
       "metadata": {},
       "output_type": "pyout",
       "prompt_number": 18,
       "text": [
        "15"
       ]
      }
     ],
     "prompt_number": 18
    },
    {
     "cell_type": "markdown",
     "metadata": {},
     "source": [
      "\u4f46\u662f\uff0c\u8fd9\u4e9b\u5168\u5c40\u53d8\u91cf\u4e0d\u80fd\u5728\u51fd\u6570\u5185\u4fee\u6539\uff0c\u9664\u975e\u5728\u51fd\u6570\u5185\u58f0\u660e**global**\u3002\n",
      "\n",
      "\u8fd9\u6837\u6ca1\u7528\uff1a"
     ]
    },
    {
     "cell_type": "code",
     "collapsed": false,
     "input": [
      "def setx(y):\n",
      "    x = y\n",
      "    print('x is %d' % x)\n",
      "\n",
      "setx(10)"
     ],
     "language": "python",
     "metadata": {},
     "outputs": [
      {
       "output_type": "stream",
       "stream": "stdout",
       "text": [
        "x is 10\n"
       ]
      }
     ],
     "prompt_number": 19
    },
    {
     "cell_type": "code",
     "collapsed": false,
     "input": [
      "x"
     ],
     "language": "python",
     "metadata": {},
     "outputs": [
      {
       "metadata": {},
       "output_type": "pyout",
       "prompt_number": 20,
       "text": [
        "5"
       ]
      }
     ],
     "prompt_number": 20
    },
    {
     "cell_type": "markdown",
     "metadata": {},
     "source": [
      "\u8fd9\u6837\u53ef\u4ee5\uff1a"
     ]
    },
    {
     "cell_type": "code",
     "collapsed": false,
     "input": [
      "def setx(y):\n",
      "    global x\n",
      "    x = y\n",
      "    print('x is %d' % x)\n",
      "\n",
      "setx(10)"
     ],
     "language": "python",
     "metadata": {},
     "outputs": [
      {
       "output_type": "stream",
       "stream": "stdout",
       "text": [
        "x is 10\n"
       ]
      }
     ],
     "prompt_number": 21
    },
    {
     "cell_type": "code",
     "collapsed": false,
     "input": [
      "x"
     ],
     "language": "python",
     "metadata": {},
     "outputs": [
      {
       "metadata": {},
       "output_type": "pyout",
       "prompt_number": 22,
       "text": [
        "10"
       ]
      }
     ],
     "prompt_number": 22
    },
    {
     "cell_type": "markdown",
     "metadata": {},
     "source": [
      "### 1.2.4.6 \u53ef\u53d8\u6570\u91cf\u53c2\u6570\n",
      "\n",
      "\u51fd\u6570\u7684\u7279\u6b8a\u5f62\u5f0f\uff1a\n",
      "    - *args\uff1a\u5c01\u88c5\u6210\u5143\u7ec4\u7684\u4efb\u610f\u6570\u91cf\u7684\u4f4d\u7f6e\u53c2\u6570\n",
      "    - **kwargs\uff1a\u5c01\u88c5\u6210\u5b57\u5178\u7684\u4efb\u610f\u6570\u91cf\u7684\u5173\u952e\u8bcd\u53c2\u6570"
     ]
    },
    {
     "cell_type": "code",
     "collapsed": false,
     "input": [
      "def variable_args(*args, **kwargs):\n",
      "    print 'args is', args\n",
      "    print 'kwargs is', kwargs\n",
      "\n",
      "variable_args('one', 'two', x=1, y=2, z=3)"
     ],
     "language": "python",
     "metadata": {},
     "outputs": [
      {
       "output_type": "stream",
       "stream": "stdout",
       "text": [
        "args is ('one', 'two')\n",
        "kwargs is {'y': 2, 'x': 1, 'z': 3}\n"
       ]
      }
     ],
     "prompt_number": 23
    },
    {
     "cell_type": "markdown",
     "metadata": {},
     "source": [
      "### 1.2.4.7 Docstrings\n",
      "\n",
      "\u5173\u4e8e\u51fd\u6570\u4f5c\u7528\u53ca\u53c2\u6570\u7684\u6587\u6863\u3002\u901a\u5e38\u60ef\u4f8b\uff1a"
     ]
    },
    {
     "cell_type": "code",
     "collapsed": false,
     "input": [
      "def funcname(params):\n",
      "    \"\"\"Concise one-line sentence describing the function.\n",
      "    Extended summary which can contain multiple paragraphs.\n",
      "    \"\"\"\n",
      "    # \u51fd\u6570\u4f53\n",
      "    pass\n",
      "\n",
      "funcname?"
     ],
     "language": "python",
     "metadata": {},
     "outputs": [],
     "prompt_number": 24
    },
    {
     "cell_type": "markdown",
     "metadata": {},
     "source": [
      "```\n",
      "Type:           function\n",
      "Base Class:     type 'function'>\n",
      "String Form:    <function funcname at 0xeaa0f0>\n",
      "Namespace:      Interactive\n",
      "File:           <ipython console>\n",
      "Definition:     funcname(params)\n",
      "Docstring:\n",
      "    Concise one-line sentence describing the function.\n",
      "\n",
      "    Extended summary which can contain multiple paragraphs.\n",
      "```"
     ]
    },
    {
     "cell_type": "markdown",
     "metadata": {},
     "source": [
      "**\u6ce8 Docstring \u6307\u5bfc**\n",
      "\n",
      "\u4e3a\u4e86\u6807\u51c6\u5316\uff0cDocstring \u60ef\u4f8b\u9875\u9762\u4e3aPython Docstring\u76f8\u5173\u7684\u542b\u4e49\u53ca\u60ef\u4f8b\u63d0\u4f9b\u4e86\u6587\u6863\u3002\n",
      "\n",
      "Numpy\u548cScipy\u6a21\u5757\u4e5f\u4e3a\u79d1\u5b66\u8ba1\u7b97\u51fd\u6570\u5b9a\u4e49\u4e86\u6e05\u6670\u7684\u6807\u51c6\uff0c\u4f60\u53ef\u80fd\u60f3\u8981\u5728\u81ea\u5df1\u7684\u51fd\u6570\u4e2d\u53bb\u9075\u5faa\uff0c\u8fd9\u4e2a\u6807\u51c6\u6709\u53c2\u6570\u90e8\u5206\uff0c\u4f8b\u5b50\u90e8\u5206\u7b49\u3002\u89c1http://projects.scipy.org/numpy/wiki/CodingStyleGuidelines#docstring-standard \u53ca http://projects.scipy.org/numpy/browser/trunk/doc/example.py#L37"
     ]
    },
    {
     "cell_type": "markdown",
     "metadata": {},
     "source": [
      "### 1.2.4.8 \u51fd\u6570\u4f5c\u4e3a\u5bf9\u8c61"
     ]
    },
    {
     "cell_type": "markdown",
     "metadata": {},
     "source": [
      "\u51fd\u6570\u662f\u7b2c\u4e00\u7c7b\u5bf9\u8c61\uff0c\u8fd9\u610f\u5473\u7740\u4ed6\u4eec\u53ef\u4ee5\u662f\uff1a\n",
      "    \n",
      "    - \u53ef\u4ee5\u88ab\u8d4b\u503c\u7ed9\u53d8\u91cf\n",
      "    - \u5217\u8868\u7684\u4e00\u4e2a\u9879\u76ee\uff08\u6216\u4efb\u4f55\u96c6\u5408\uff09\n",
      "    - \u4f5c\u4e3a\u53c2\u6570\u4f20\u9012\u7ed9\u53e6\u4e00\u4e2a\u51fd\u6570\n"
     ]
    },
    {
     "cell_type": "code",
     "collapsed": false,
     "input": [
      "va = variable_args\n",
      "\n",
      "va('three', x=1, y=2)"
     ],
     "language": "python",
     "metadata": {},
     "outputs": [
      {
       "output_type": "stream",
       "stream": "stdout",
       "text": [
        "args is ('three',)\n",
        "kwargs is {'y': 2, 'x': 1}\n"
       ]
      }
     ],
     "prompt_number": 26
    },
    {
     "cell_type": "markdown",
     "metadata": {},
     "source": [
      "### 1.2.4.9 \u65b9\u6cd5\n",
      "\n",
      "\u65b9\u6cd5\u662f\u5bf9\u8c61\u7684\u51fd\u6570\u3002\u4f60\u5df2\u7ecf\u5728\u6211\u4eec\u5173\u4e8e\u5217\u8868\u3001\u5b57\u5178\u548c\u5b57\u7b26\u7b49...\u7684\u4f8b\u5b50\u4e0a\u770b\u5230\u4e86\u3002\n",
      "\n",
      "### 1.2.4.10. \u7ec3\u4e60\n",
      "\n",
      "**\u7ec3\u4e60\uff1a\u6590\u6ce2\u90a3\u5951\u6570\u5217**\n",
      "\n",
      "\u5199\u4e00\u4e2a\u51fd\u6570\u6765\u5c55\u793a\u6590\u6ce2\u90a3\u5951\u6570\u5217\u7684\u524dn\u4e2a\u9879\u76ee\uff0c\u5b9a\u4e49\u5982\u4e0b\uff1a\n",
      "    - u_0 = 1; u_1 = 1\n",
      "    - u_(n+2) = u_(n+1) + u_n\n",
      "   \n",
      "**\u7ec3\u4e60\uff1a\u5feb\u901f\u6392\u5e8f**\n",
      "\n",
      "\u5b9e\u73b0\u5feb\u901f\u6392\u5e8f\u7b97\u6cd5\uff0c\u5b9a\u4e49\u6765\u81eawikipedia\uff1a\n",
      "\n",
      "function quicksort(array)\n",
      "    \n",
      "    var list less, greater if length(array) < 2\n",
      "    \n",
      "        return array\n",
      "    \n",
      "    select and remove a pivot value pivot from array for each x in array\n",
      "\n",
      "        if x < pivot + 1 then append x to less else append x to greater\n",
      "\n",
      "    return concatenate(quicksort(less), pivot, quicksort(greater))"
     ]
    }
   ],
   "metadata": {}
  }
 ]
}